{
 "cells": [
  {
   "cell_type": "code",
   "execution_count": 88,
   "metadata": {
    "ExecuteTime": {
     "end_time": "2021-03-25T08:35:17.671364Z",
     "start_time": "2021-03-25T08:35:17.660375Z"
    }
   },
   "outputs": [],
   "source": [
    "import cv2\n",
    "import numpy as np"
   ]
  },
  {
   "cell_type": "code",
   "execution_count": 89,
   "metadata": {
    "ExecuteTime": {
     "end_time": "2021-03-25T08:35:17.686364Z",
     "start_time": "2021-03-25T08:35:17.672374Z"
    }
   },
   "outputs": [],
   "source": [
    "model_name = 'res10_300x300_ssd_iter_140000.caffemodel'\n",
    "prototxt_name = 'deploy.prototxt.txt'"
   ]
  },
  {
   "cell_type": "code",
   "execution_count": 90,
   "metadata": {
    "ExecuteTime": {
     "end_time": "2021-03-25T08:35:17.702389Z",
     "start_time": "2021-03-25T08:35:17.689366Z"
    }
   },
   "outputs": [],
   "source": [
    "min_confidence = 0.14\n",
    "file_name = 'image/soccer_02.jpg'"
   ]
  },
  {
   "cell_type": "code",
   "execution_count": 91,
   "metadata": {
    "ExecuteTime": {
     "end_time": "2021-03-25T08:35:17.717385Z",
     "start_time": "2021-03-25T08:35:17.704380Z"
    }
   },
   "outputs": [],
   "source": [
    "def detectAndDisplay(frame) :\n",
    "    # caffe model을 읽어와 모델 객체에 저장\n",
    "    model = cv2.dnn.readNetFromCaffe(prototxt_name, model_name)\n",
    "    \n",
    "    # 이미지 사이즈 조정, 노말라이징 실행\n",
    "    blob = cv2.dnn.blobFromImage(cv2.resize(frame, (300, 300)), 1.0, (300, 300), (104.0, 177.0, 123.0))\n",
    "    \n",
    "    # (104.0, 177.0, 123.0) : RGB값이 일부를 제외해서 dnn이 분석하기 쉽게 단순화\n",
    "    # 경험적 최적 수치이므로 사용시 값이 거의 고정된 값으로 사용됨\n",
    "    # 1.0 : 출력 영상의 픽셀값에 곱할 값. 기본값은 1.0\n",
    "    # (300, 300) 출력 영상의 크기\n",
    "    \n",
    "    model.setInput(blob)\n",
    "    detections = model.forward() # 얼굴인식에 의한 리턴값 리스트\n",
    "    \n",
    "    # 얻어온 값을 이용하여 반복 실행\n",
    "    for i in range(0, detections.shape[2]):\n",
    "        # 대상 박스가 얼굴일 확률 추출\n",
    "        confidence = detections[0, 0, i, 2]\n",
    "        # 0.3보다 확률이 높다면 박스 표시 및 확률 표시\n",
    "        if confidence > min_confidence :\n",
    "            box = detections[0, 0, i, 3:7] * np.array([width, height, width, height])\n",
    "            # 3:7 : 3, 4, 5, 6 인덱스 : 박스가 그림상의 위치한 가로세로 상대 위치값\n",
    "            (startX, startY, endX, endY) = box.astype('int')\n",
    "            # print(confidence, startX, startY, endX, endY)\n",
    "            \n",
    "            text = \"{:.2f}%\".format(confidence * 100)\n",
    "            # 박스가 너무 위에 있어서 확률 표시가 어렵다면 박스위 말고 안쪽에 확률표시\n",
    "            y = startY - 10 if startY - 10 > 10 else startY + 10\n",
    "            cv2.rectangle(frame, (startX, startY), (endX, endY), (0, 255, 0), 1)\n",
    "            cv2.putText(frame, text, (startX, y), cv2.FONT_HERSHEY_SIMPLEX, 0.5, (0, 255, 0), 1)\n",
    "            cv2.imshow(\"Face Detection by dnn\", frame)"
   ]
  },
  {
   "cell_type": "code",
   "execution_count": 92,
   "metadata": {
    "ExecuteTime": {
     "end_time": "2021-03-25T08:35:44.216229Z",
     "start_time": "2021-03-25T08:35:17.719385Z"
    }
   },
   "outputs": [
    {
     "name": "stdout",
     "output_type": "stream",
     "text": [
      "width: 580 pixels\n",
      "height: 440 pixels\n",
      "channels: 3\n"
     ]
    }
   ],
   "source": [
    "img = cv2.imread(file_name)\n",
    "print('width: {} pixels'.format(img.shape[1]))\n",
    "print('height: {} pixels'.format(img.shape[0]))\n",
    "print('channels: {}'.format(img.shape[2]))\n",
    "(height, width) = img.shape[:2]\n",
    "\n",
    "# cv2.imshow('Original Image', img)\n",
    "detectAndDisplay(img)\n",
    "\n",
    "cv2.waitKey(0)\n",
    "cv2.destroyAllWindows()"
   ]
  },
  {
   "cell_type": "code",
   "execution_count": null,
   "metadata": {},
   "outputs": [],
   "source": []
  },
  {
   "cell_type": "code",
   "execution_count": null,
   "metadata": {},
   "outputs": [],
   "source": []
  }
 ],
 "metadata": {
  "hide_input": false,
  "kernelspec": {
   "display_name": "Python 3",
   "language": "python",
   "name": "python3"
  },
  "language_info": {
   "codemirror_mode": {
    "name": "ipython",
    "version": 3
   },
   "file_extension": ".py",
   "mimetype": "text/x-python",
   "name": "python",
   "nbconvert_exporter": "python",
   "pygments_lexer": "ipython3",
   "version": "3.8.5"
  },
  "toc": {
   "base_numbering": 1,
   "nav_menu": {},
   "number_sections": true,
   "sideBar": true,
   "skip_h1_title": false,
   "title_cell": "Table of Contents",
   "title_sidebar": "Contents",
   "toc_cell": false,
   "toc_position": {},
   "toc_section_display": true,
   "toc_window_display": true
  },
  "varInspector": {
   "cols": {
    "lenName": 16,
    "lenType": 16,
    "lenVar": 40
   },
   "kernels_config": {
    "python": {
     "delete_cmd_postfix": "",
     "delete_cmd_prefix": "del ",
     "library": "var_list.py",
     "varRefreshCmd": "print(var_dic_list())"
    },
    "r": {
     "delete_cmd_postfix": ") ",
     "delete_cmd_prefix": "rm(",
     "library": "var_list.r",
     "varRefreshCmd": "cat(var_dic_list()) "
    }
   },
   "types_to_exclude": [
    "module",
    "function",
    "builtin_function_or_method",
    "instance",
    "_Feature"
   ],
   "window_display": false
  }
 },
 "nbformat": 4,
 "nbformat_minor": 4
}
