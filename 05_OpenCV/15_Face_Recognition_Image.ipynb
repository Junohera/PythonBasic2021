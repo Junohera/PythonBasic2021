{
 "cells": [
  {
   "cell_type": "code",
   "execution_count": null,
   "metadata": {
    "ExecuteTime": {
     "end_time": "2021-03-29T01:00:59.955307Z",
     "start_time": "2021-03-29T01:00:59.178Z"
    }
   },
   "outputs": [],
   "source": [
    "import cv2\n",
    "import face_recognition\n",
    "import pickle\n",
    "import time"
   ]
  },
  {
   "cell_type": "code",
   "execution_count": null,
   "metadata": {
    "ExecuteTime": {
     "end_time": "2021-03-29T01:00:59.955307Z",
     "start_time": "2021-03-29T01:00:59.180Z"
    }
   },
   "outputs": [],
   "source": [
    "image_file = 'image/soccer_03.jpg'\n",
    "encoding_file = 'encodings.pickle'\n",
    "unknown_name = 'Unknown'\n",
    "model_method = 'cnn'"
   ]
  },
  {
   "cell_type": "code",
   "execution_count": null,
   "metadata": {
    "ExecuteTime": {
     "end_time": "2021-03-29T01:00:59.957309Z",
     "start_time": "2021-03-29T01:00:59.182Z"
    }
   },
   "outputs": [],
   "source": [
    "def detectAndDisplay(image):\n",
    "    # 시작 시간 저장\n",
    "    start_time = time.time()\n",
    "    # 읽어온 이미지은 RGB모드로 변환\n",
    "    rgb = cv2.cvtColor(image, cv2.COLOR_BGR2RGB)\n",
    "    # 이미지에 있는 모든 얼굴을 인식하여 boxes 에 저장\n",
    "    boxes = face_recognition.face_locations(rgb, model=model_method)\n",
    "    # 얼굴인식 형태의 인코딩을 거쳐 encodings 리스트에 저장\n",
    "    encodings = face_recognition.face_encodings(rgb, boxes)\n",
    "    # 표시할 이름들의 리스트 생성\n",
    "    # (Son , Tedy, Unknoen 셋중에 하나의 값들로 저장될 리스트)\n",
    "    names = []\n",
    "    # 읽어온 이미지에서 인식된 얼굴 갯수 만큼 반복 실행\n",
    "    for encoding in encodings:\n",
    "        # 반복실행 중의 현재 얼굴(enconding)과 모듈의 얼굴들(data)과 비교합니다\n",
    "        matches = face_recognition.compare_faces(data[\"encodings\"], encoding)\n",
    "        # matches : True 와  False 중 하나들로 구성된 리스트\n",
    "        # 현재얼굴의 최초 이름은 \"Unknown\" 으로 저장\n",
    "        name = unknown_name\n",
    "        # 얼굴이 매칭(True가 있다면)되었다면 \n",
    "        if True in matches:\n",
    "            # True 자리의 인덱스값들 저장\n",
    "            matchedidxs = [i for (i, b) in enumerate(matches) if b]\n",
    "            counts = {}\n",
    "            # 매칭된 얼굴의 이름을 추출 저장\n",
    "            for i in matchedidxs:\n",
    "                #  True 였던 자리의 인덱스를 이용하여 이름 추출 \n",
    "                name = data[\"names\"][i]\n",
    "                # 현재이름의 출현 횟수를 counts 라는 딕셔너리에 각 name을 키값으로\n",
    "                # 횟수를 카운트 합니다\n",
    "                counts[name] = counts.get(name, 0) + 1\n",
    "            # 위에서 집계한 True 값의 갯수가 가장 많았던 이름을 name 에 업데이트\n",
    "            name = max(counts, key=counts.get)\n",
    "        # 결정된 \"Unknwn\" 또는 \"Son\" 또는 \"Tedy\" 를 어팬드\n",
    "        names.append(name)\n",
    "    # 박스데이터와 해당 이름들을 조합한 데이터 갯수만큼 반복실행\n",
    "    for ((top, right, bottom, left), name) in zip(boxes, names):\n",
    "        # 텍스트 입력될 자리 y 좌표 계산\n",
    "        y = top - 15 if top - 15 > 15 else top + 15\n",
    "        # 색지정(녹색), 라인 굵기 2\n",
    "        color = (0, 255, 0)\n",
    "        line = 2\n",
    "        # 이름이 Unknow 과 같다면\n",
    "        if(name == unknown_name):\n",
    "            color = (0, 255, 255)  # 빨간색\n",
    "            line = 1  # 라인굵기 1\n",
    "            name = ''  # 이름 : 빈칸으로\n",
    "        # 사각형과 이름 표시\n",
    "        cv2.rectangle(image, (left, top), (right, bottom), color, line)\n",
    "        cv2.putText(image,name,(left, y),cv2.FONT_HERSHEY_SIMPLEX, 0.75, color, line)\n",
    "    # 종료 시간 저장\n",
    "    end_time = time.time()\n",
    "    # 경과 시간 계산 & 출력\n",
    "    process_time = end_time - start_time\n",
    "    print(\"=== A frame took {:.3f} seconds\".format(process_time))\n",
    "    cv2.imshow(\"Recognition\", image)"
   ]
  },
  {
   "cell_type": "code",
   "execution_count": null,
   "metadata": {
    "ExecuteTime": {
     "end_time": "2021-03-29T01:00:59.958309Z",
     "start_time": "2021-03-29T01:00:59.183Z"
    }
   },
   "outputs": [],
   "source": [
    "data = pickle.loads(open(encoding_file, \"rb\").read())\n",
    "image = cv2.imread(image_file)\n",
    "detectAndDisplay(image)\n",
    "\n",
    "cv2.waitKey(0)\n",
    "cv2.destroyAllWindows()"
   ]
  },
  {
   "cell_type": "code",
   "execution_count": null,
   "metadata": {},
   "outputs": [],
   "source": []
  },
  {
   "cell_type": "code",
   "execution_count": null,
   "metadata": {},
   "outputs": [],
   "source": []
  }
 ],
 "metadata": {
  "hide_input": false,
  "kernelspec": {
   "display_name": "Python 3",
   "language": "python",
   "name": "python3"
  },
  "language_info": {
   "codemirror_mode": {
    "name": "ipython",
    "version": 3
   },
   "file_extension": ".py",
   "mimetype": "text/x-python",
   "name": "python",
   "nbconvert_exporter": "python",
   "pygments_lexer": "ipython3",
   "version": "3.8.5"
  },
  "toc": {
   "base_numbering": 1,
   "nav_menu": {},
   "number_sections": true,
   "sideBar": true,
   "skip_h1_title": false,
   "title_cell": "Table of Contents",
   "title_sidebar": "Contents",
   "toc_cell": false,
   "toc_position": {},
   "toc_section_display": true,
   "toc_window_display": true
  },
  "varInspector": {
   "cols": {
    "lenName": 16,
    "lenType": 16,
    "lenVar": 40
   },
   "kernels_config": {
    "python": {
     "delete_cmd_postfix": "",
     "delete_cmd_prefix": "del ",
     "library": "var_list.py",
     "varRefreshCmd": "print(var_dic_list())"
    },
    "r": {
     "delete_cmd_postfix": ") ",
     "delete_cmd_prefix": "rm(",
     "library": "var_list.r",
     "varRefreshCmd": "cat(var_dic_list()) "
    }
   },
   "types_to_exclude": [
    "module",
    "function",
    "builtin_function_or_method",
    "instance",
    "_Feature"
   ],
   "window_display": false
  }
 },
 "nbformat": 4,
 "nbformat_minor": 4
}
