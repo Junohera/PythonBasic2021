{
 "cells": [
  {
   "cell_type": "code",
   "execution_count": 8,
   "metadata": {
    "ExecuteTime": {
     "end_time": "2021-03-25T03:01:49.171081Z",
     "start_time": "2021-03-25T03:01:49.153073Z"
    }
   },
   "outputs": [],
   "source": [
    "import cv2\n",
    "import numpy as np"
   ]
  },
  {
   "cell_type": "code",
   "execution_count": 9,
   "metadata": {
    "ExecuteTime": {
     "end_time": "2021-03-25T03:01:49.187080Z",
     "start_time": "2021-03-25T03:01:49.173073Z"
    }
   },
   "outputs": [],
   "source": [
    "def readimg():\n",
    "    image = cv2.imread('./image/20200526.png')\n",
    "    return image\n",
    "\n",
    "def showimg(image):\n",
    "    cv2.imshow('shinchon20200526', image)\n",
    "    cv2.waitKey(0)\n",
    "    cv2.destroyAllWindows()"
   ]
  },
  {
   "cell_type": "code",
   "execution_count": 10,
   "metadata": {
    "ExecuteTime": {
     "end_time": "2021-03-25T03:01:51.171660Z",
     "start_time": "2021-03-25T03:01:49.189072Z"
    }
   },
   "outputs": [],
   "source": [
    "showimg(readimg())"
   ]
  },
  {
   "cell_type": "code",
   "execution_count": 11,
   "metadata": {
    "ExecuteTime": {
     "end_time": "2021-03-25T03:01:51.187524Z",
     "start_time": "2021-03-25T03:01:51.171660Z"
    }
   },
   "outputs": [
    {
     "name": "stdout",
     "output_type": "stream",
     "text": [
      "600 600 (300, 300)\n"
     ]
    }
   ],
   "source": [
    "# 이미지의 높이와 넓이 추출\n",
    "(height, width) = img.shape[:2]\n",
    "# 중점 좌표 계산\n",
    "center = (width // 2, height //2)\n",
    "print(height, width, center)"
   ]
  },
  {
   "cell_type": "code",
   "execution_count": 12,
   "metadata": {
    "ExecuteTime": {
     "end_time": "2021-03-25T03:01:51.928713Z",
     "start_time": "2021-03-25T03:01:51.190523Z"
    }
   },
   "outputs": [],
   "source": [
    "# 좌우로 100 (우로 100, -100이면 좌로 100) 이동 설정\n",
    "# move 변수에 설정값 저장\n",
    "move = np.float32([\n",
    "    [1, 0, 100],\n",
    "    [0, 1, 100]\n",
    "])\n",
    "\n",
    "# 이미지 이동\n",
    "moved = cv2.warpAffine(img, move, (width, height))\n",
    "# 이동한 이미지 출력\n",
    "showimg(moved)"
   ]
  },
  {
   "cell_type": "code",
   "execution_count": 16,
   "metadata": {
    "ExecuteTime": {
     "end_time": "2021-03-25T03:07:37.376343Z",
     "start_time": "2021-03-25T03:07:33.138057Z"
    }
   },
   "outputs": [],
   "source": [
    "# 중심좌표를 기준으로 90도 회전설정\n",
    "# rotate 변수에 저장 - 마지막 1.0은 확대 축소 배율\n",
    "rotate = cv2.getRotationMatrix2D(center, 90, 1.0)\n",
    "showimg(rotate)"
   ]
  },
  {
   "cell_type": "code",
   "execution_count": null,
   "metadata": {},
   "outputs": [],
   "source": []
  }
 ],
 "metadata": {
  "hide_input": false,
  "kernelspec": {
   "display_name": "Python 3",
   "language": "python",
   "name": "python3"
  },
  "language_info": {
   "codemirror_mode": {
    "name": "ipython",
    "version": 3
   },
   "file_extension": ".py",
   "mimetype": "text/x-python",
   "name": "python",
   "nbconvert_exporter": "python",
   "pygments_lexer": "ipython3",
   "version": "3.8.5"
  },
  "toc": {
   "base_numbering": 1,
   "nav_menu": {},
   "number_sections": true,
   "sideBar": true,
   "skip_h1_title": false,
   "title_cell": "Table of Contents",
   "title_sidebar": "Contents",
   "toc_cell": false,
   "toc_position": {},
   "toc_section_display": true,
   "toc_window_display": true
  },
  "varInspector": {
   "cols": {
    "lenName": 16,
    "lenType": 16,
    "lenVar": 40
   },
   "kernels_config": {
    "python": {
     "delete_cmd_postfix": "",
     "delete_cmd_prefix": "del ",
     "library": "var_list.py",
     "varRefreshCmd": "print(var_dic_list())"
    },
    "r": {
     "delete_cmd_postfix": ") ",
     "delete_cmd_prefix": "rm(",
     "library": "var_list.r",
     "varRefreshCmd": "cat(var_dic_list()) "
    }
   },
   "types_to_exclude": [
    "module",
    "function",
    "builtin_function_or_method",
    "instance",
    "_Feature"
   ],
   "window_display": false
  }
 },
 "nbformat": 4,
 "nbformat_minor": 4
}
