{
 "cells": [
  {
   "cell_type": "markdown",
   "metadata": {},
   "source": [
    "#### DNN 모델을 이용하여 동영상 파일에 얼굴에 사각형 및 confidense 표시를 추가하여 display하세요"
   ]
  },
  {
   "cell_type": "code",
   "execution_count": 5,
   "metadata": {
    "ExecuteTime": {
     "end_time": "2021-03-29T01:16:54.778274Z",
     "start_time": "2021-03-29T01:16:54.770265Z"
    }
   },
   "outputs": [],
   "source": [
    "# 필요모듈 import\n",
    "import cv2\n",
    "import numpy as np"
   ]
  },
  {
   "cell_type": "code",
   "execution_count": 6,
   "metadata": {
    "ExecuteTime": {
     "end_time": "2021-03-29T01:16:54.794262Z",
     "start_time": "2021-03-29T01:16:54.780265Z"
    }
   },
   "outputs": [],
   "source": [
    "# 얼굴인식 모델 경로 및 min_confidense 설정 (동영상 파일 경로 및 파일명 저장)\n",
    "model_name = 'res10_300x300_ssd_iter_140000.caffemodel'\n",
    "prototxt_name = 'deploy.prototxt.txt'\n",
    "min_confidence = 0.5\n",
    "file_name = 'video/obama_01.mp4'"
   ]
  },
  {
   "cell_type": "code",
   "execution_count": 7,
   "metadata": {
    "ExecuteTime": {
     "end_time": "2021-03-29T01:16:54.810263Z",
     "start_time": "2021-03-29T01:16:54.797264Z"
    }
   },
   "outputs": [],
   "source": [
    "# detectAndDisplay 함수 제작 \n",
    "# 이미지 형식 변환 및 얼굴 인식 표시 추가 , confidense 표시 추가 & display)\n",
    "def detectAndDisplay(frame):\n",
    "    # 모델 생성\n",
    "    model = cv2.dnn.readNetFromCaffe(prototxt_name, model_name)\n",
    "    # 형식 변환\n",
    "    blob = cv2.dnn.blobFromImage(cv2.resize(frame, (300, 300)), 1.0,\n",
    "            (300, 300), (104.0, 177.0, 123.0))\n",
    "    # 모델에 이미지 세트\n",
    "    model.setInput(blob)\n",
    "    # 얼굴인식 자료 추출\n",
    "    detections = model.forward()\n",
    "    # 추출한 자료 갯수 만큼 반복실행\n",
    "    for i in range(0, detections.shape[2]):\n",
    "        # 얼굴로 인식된 자료가 진짜 얼굴인지를 표시한 확율 추출\n",
    "        confidence = detections[0, 0, i, 2]\n",
    "        # 확율이 50%(0.5) 초과인 데이터에 대해서 해당위치에 네모, 확율 표시\n",
    "        if confidence > min_confidence:\n",
    "            # 이미지 세로 가로 크기 추출\n",
    "            (height, width) = frame.shape[:2]\n",
    "            # 얼굴 위치의 좌표(0.0~1.0 사아의 상대적 좌표)와 세로 가로 길이를 곱해서\n",
    "            # 얼굴 위치의 좌료를  픽셀 값으로 계산\n",
    "            box = detections[0, 0, i, 3:7] * np.array([width, height, width, height])\n",
    "            # 최종 정수로 변환해서 좌축 위 꼭지점과 우측아래 꼭지점 좌표로 \n",
    "            # 사각형의 위치 확정\n",
    "            (startX, startY, endX, endY) = box.astype(\"int\")\n",
    "            # 표시한 확율 제작\n",
    "            text = \"{:.2f}%\".format(confidence * 100)\n",
    "            # 확율 표시할 위치 선정\n",
    "            # 표시할 위아래 위치가 이미지를 벗어나는 경우  y좌표에 +10 위치로 조정\n",
    "            # 이미지를 벋어 나지 않는 경우는 얼굴 사각형의 바로 위(startY-10)로 설정\n",
    "            y = startY - 10 if startY - 10 > 10 else startY + 10\n",
    "            # 사각형 표시\n",
    "            cv2.rectangle(frame, (startX, startY), (endX, endY), (0, 255, 0), 2)\n",
    "            # 확율 표시\n",
    "            cv2.putText(frame,text,(startX,y),cv2.FONT_HERSHEY_SIMPLEX,0.5, \\\n",
    "                                                             (0, 255, 0), 1)\n",
    "    #  완성된 이미지 화면 표시\n",
    "    cv2.imshow(\"Face Detection by dnn\", frame)  "
   ]
  },
  {
   "cell_type": "code",
   "execution_count": 8,
   "metadata": {
    "ExecuteTime": {
     "end_time": "2021-03-29T01:16:56.679698Z",
     "start_time": "2021-03-29T01:16:54.811263Z"
    }
   },
   "outputs": [],
   "source": [
    "# 동영상 캡쳐 화면을 이용한 detectAndDisplay 함수 호출\n",
    "cap = cv2.VideoCapture(file_name)\n",
    "if not cap.isOpened:\n",
    "    print('--(!)Error opening video capture')\n",
    "    exit(0)\n",
    "while True:\n",
    "    ret, frame = cap.read()\n",
    "    if frame is None:\n",
    "        print('--(!) No captured frame -- Break!')\n",
    "        break\n",
    "    detectAndDisplay(frame)\n",
    "    # Hit 'q' on the keyboard to quit!\n",
    "    if cv2.waitKey(1) & 0xFF == ord('q'):\n",
    "        break\n",
    "cv2.destroyAllWindows()"
   ]
  },
  {
   "cell_type": "code",
   "execution_count": null,
   "metadata": {},
   "outputs": [],
   "source": []
  }
 ],
 "metadata": {
  "hide_input": false,
  "kernelspec": {
   "display_name": "Python 3",
   "language": "python",
   "name": "python3"
  },
  "language_info": {
   "codemirror_mode": {
    "name": "ipython",
    "version": 3
   },
   "file_extension": ".py",
   "mimetype": "text/x-python",
   "name": "python",
   "nbconvert_exporter": "python",
   "pygments_lexer": "ipython3",
   "version": "3.8.5"
  },
  "toc": {
   "base_numbering": 1,
   "nav_menu": {},
   "number_sections": true,
   "sideBar": true,
   "skip_h1_title": false,
   "title_cell": "Table of Contents",
   "title_sidebar": "Contents",
   "toc_cell": false,
   "toc_position": {},
   "toc_section_display": true,
   "toc_window_display": true
  },
  "varInspector": {
   "cols": {
    "lenName": 16,
    "lenType": 16,
    "lenVar": 40
   },
   "kernels_config": {
    "python": {
     "delete_cmd_postfix": "",
     "delete_cmd_prefix": "del ",
     "library": "var_list.py",
     "varRefreshCmd": "print(var_dic_list())"
    },
    "r": {
     "delete_cmd_postfix": ") ",
     "delete_cmd_prefix": "rm(",
     "library": "var_list.r",
     "varRefreshCmd": "cat(var_dic_list()) "
    }
   },
   "types_to_exclude": [
    "module",
    "function",
    "builtin_function_or_method",
    "instance",
    "_Feature"
   ],
   "window_display": false
  }
 },
 "nbformat": 4,
 "nbformat_minor": 4
}
