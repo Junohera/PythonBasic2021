{
 "cells": [
  {
   "cell_type": "code",
   "execution_count": 36,
   "metadata": {
    "ExecuteTime": {
     "end_time": "2021-03-25T02:37:39.221092Z",
     "start_time": "2021-03-25T02:37:39.203030Z"
    }
   },
   "outputs": [
    {
     "name": "stdout",
     "output_type": "stream",
     "text": [
      "pixels: (600, 600, 3)\n",
      "width : 600 pixels\n",
      "height : 600 pixels\n",
      "channels : 3 pixels\n"
     ]
    }
   ],
   "source": [
    "import cv2\n",
    "img = cv2.imread('./image/20200526.png')\n",
    "print('pixels: {}'.format(img.shape))\n",
    "print('width : {} pixels'.format(img.shape[1]))\n",
    "print('height : {} pixels'.format(img.shape[0]))\n",
    "print('channels : {} pixels'.format(img.shape[2]))"
   ]
  },
  {
   "cell_type": "code",
   "execution_count": 37,
   "metadata": {
    "ExecuteTime": {
     "end_time": "2021-03-25T02:37:39.892417Z",
     "start_time": "2021-03-25T02:37:39.223077Z"
    }
   },
   "outputs": [],
   "source": [
    "# img.shape의 마지막 값(img.shape[2])은 색상값(0~255, 0~255, 0~255) 입니다.\n",
    "img[100, 100] = (255, 255, 255)\n",
    "cv2.imshow('shinchon20200526.jpg', img)\n",
    "cv2.waitKey(0)\n",
    "cv2.destroyAllWindows()"
   ]
  },
  {
   "cell_type": "code",
   "execution_count": 38,
   "metadata": {
    "ExecuteTime": {
     "end_time": "2021-03-25T02:37:40.286954Z",
     "start_time": "2021-03-25T02:37:39.897417Z"
    }
   },
   "outputs": [],
   "source": [
    "img[350:400, 250:300] = (0, 0, 255)\n",
    "cv2.imshow('shinchon20200526', img)\n",
    "cv2.waitKey(0)\n",
    "cv2.destroyAllWindows()"
   ]
  },
  {
   "cell_type": "code",
   "execution_count": 40,
   "metadata": {
    "ExecuteTime": {
     "end_time": "2021-03-25T02:37:40.317076Z",
     "start_time": "2021-03-25T02:37:40.305076Z"
    }
   },
   "outputs": [],
   "source": [
    "def readimg():\n",
    "    image = cv2.imread('./image/20200526.png')\n",
    "    return image\n",
    "\n",
    "def showimg(image):\n",
    "    cv2.imshow('shinchon20200526', image)\n",
    "    cv2.waitKey(0)\n",
    "    cv2.destroyAllWindows()"
   ]
  },
  {
   "cell_type": "code",
   "execution_count": 41,
   "metadata": {
    "ExecuteTime": {
     "end_time": "2021-03-25T02:37:40.971971Z",
     "start_time": "2021-03-25T02:37:40.319076Z"
    }
   },
   "outputs": [],
   "source": [
    "img = readimg()\n",
    "img[550:599, 0:49] = (0, 0, 255)\n",
    "showimg(img)"
   ]
  },
  {
   "cell_type": "markdown",
   "metadata": {},
   "source": [
    "#### 사각형 그리기\n",
    "- (150, 50) : 왼쪽 위모서리 좌표, (200, 100): 오른쪽 아래 모서리 좌표\n",
    "- (0, 255, 0) : 색깔, 5: 굵기"
   ]
  },
  {
   "cell_type": "code",
   "execution_count": null,
   "metadata": {},
   "outputs": [],
   "source": []
  },
  {
   "cell_type": "markdown",
   "metadata": {},
   "source": [
    "#### 원 그리기\n",
    "- 중점좌표(275, 75), 반지름 25, 색(0, 255, 255), 선굵기 -1\n",
    "- 선굵기가 -1이면 선없이 내부를 채움"
   ]
  },
  {
   "cell_type": "code",
   "execution_count": 43,
   "metadata": {
    "ExecuteTime": {
     "end_time": "2021-03-25T02:44:43.451953Z",
     "start_time": "2021-03-25T02:44:42.212720Z"
    }
   },
   "outputs": [],
   "source": [
    "img = readimg()\n",
    "cv2.circle(img, (275, 75), 30, (0, 255, 255), -1)\n",
    "showimg(img)"
   ]
  },
  {
   "cell_type": "code",
   "execution_count": null,
   "metadata": {},
   "outputs": [],
   "source": [
    "V"
   ]
  },
  {
   "cell_type": "markdown",
   "metadata": {},
   "source": [
    "#### 선 그리기\n",
    "- 한쪽끝 좌표 (350, 100), 반대쪽 좌표(400, 100), 선색(255, 255, 0), 굵기 5\n"
   ]
  },
  {
   "cell_type": "code",
   "execution_count": 45,
   "metadata": {
    "ExecuteTime": {
     "end_time": "2021-03-25T02:48:22.360783Z",
     "start_time": "2021-03-25T02:48:20.697942Z"
    }
   },
   "outputs": [],
   "source": [
    "img = readimg()\n",
    "cv2.line(img, (350, 100), (400, 100), (255, 255, 0), 5)\n",
    "showimg(img)"
   ]
  },
  {
   "cell_type": "code",
   "execution_count": null,
   "metadata": {},
   "outputs": [],
   "source": []
  },
  {
   "cell_type": "markdown",
   "metadata": {},
   "source": [
    "#### 텍스트 넣기\n",
    "- 위치(450, 100), 폰트, cv2.FONT_HERSHEY_SIMPLEX(cv2내장웹폰트),\n",
    "- 글자 크기 1, 글자색 (255, 255, 255), 굵기 4\n"
   ]
  },
  {
   "cell_type": "code",
   "execution_count": 46,
   "metadata": {
    "ExecuteTime": {
     "end_time": "2021-03-25T02:52:35.540268Z",
     "start_time": "2021-03-25T02:52:34.062625Z"
    }
   },
   "outputs": [],
   "source": [
    "img = readimg()\n",
    "cv2.putText(img, 'Raining Sinchon', (150, 150), cv2.FONT_HERSHEY_SIMPLEX, 1, (255, 255, 255), 4)\n",
    "showimg(img)"
   ]
  },
  {
   "cell_type": "code",
   "execution_count": null,
   "metadata": {},
   "outputs": [],
   "source": []
  }
 ],
 "metadata": {
  "hide_input": false,
  "kernelspec": {
   "display_name": "Python 3",
   "language": "python",
   "name": "python3"
  },
  "language_info": {
   "codemirror_mode": {
    "name": "ipython",
    "version": 3
   },
   "file_extension": ".py",
   "mimetype": "text/x-python",
   "name": "python",
   "nbconvert_exporter": "python",
   "pygments_lexer": "ipython3",
   "version": "3.8.5"
  },
  "toc": {
   "base_numbering": 1,
   "nav_menu": {},
   "number_sections": true,
   "sideBar": true,
   "skip_h1_title": false,
   "title_cell": "Table of Contents",
   "title_sidebar": "Contents",
   "toc_cell": false,
   "toc_position": {},
   "toc_section_display": true,
   "toc_window_display": true
  },
  "varInspector": {
   "cols": {
    "lenName": 16,
    "lenType": 16,
    "lenVar": 40
   },
   "kernels_config": {
    "python": {
     "delete_cmd_postfix": "",
     "delete_cmd_prefix": "del ",
     "library": "var_list.py",
     "varRefreshCmd": "print(var_dic_list())"
    },
    "r": {
     "delete_cmd_postfix": ") ",
     "delete_cmd_prefix": "rm(",
     "library": "var_list.r",
     "varRefreshCmd": "cat(var_dic_list()) "
    }
   },
   "types_to_exclude": [
    "module",
    "function",
    "builtin_function_or_method",
    "instance",
    "_Feature"
   ],
   "window_display": false
  }
 },
 "nbformat": 4,
 "nbformat_minor": 4
}
