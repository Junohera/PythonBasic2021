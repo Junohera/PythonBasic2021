{
 "cells": [
  {
   "cell_type": "code",
   "execution_count": 67,
   "metadata": {
    "ExecuteTime": {
     "end_time": "2021-03-25T05:53:08.419656Z",
     "start_time": "2021-03-25T05:53:08.405050Z"
    }
   },
   "outputs": [],
   "source": [
    "import cv2\n",
    "import numpy as np\n",
    "img = cv2.imread('./image/marathon_02.jpg')\n",
    "(height, width) = img.shape[:2]"
   ]
  },
  {
   "cell_type": "code",
   "execution_count": 68,
   "metadata": {
    "ExecuteTime": {
     "end_time": "2021-03-25T05:53:08.435523Z",
     "start_time": "2021-03-25T05:53:08.421295Z"
    }
   },
   "outputs": [],
   "source": [
    "# ?/anaconda3\\Lib\\site-packages\\cv2\\data\n",
    "face_cascade_name = './data/haarcascade_frontalface_alt.xml'\n",
    "eyes_cascade_name = './data/haarcascade_eye_tree_eyeglasses.xml'"
   ]
  },
  {
   "cell_type": "code",
   "execution_count": 69,
   "metadata": {
    "ExecuteTime": {
     "end_time": "2021-03-25T05:53:08.452204Z",
     "start_time": "2021-03-25T05:53:08.436526Z"
    }
   },
   "outputs": [],
   "source": [
    "# 얼굴과 눈 분류 모델 객체 생성\n",
    "face_cascade = cv2.CascadeClassifier()\n",
    "eyes_cascade = cv2.CascadeClassifier()"
   ]
  },
  {
   "cell_type": "code",
   "execution_count": 70,
   "metadata": {
    "ExecuteTime": {
     "end_time": "2021-03-25T05:53:08.500484Z",
     "start_time": "2021-03-25T05:53:08.453206Z"
    }
   },
   "outputs": [],
   "source": [
    "if not face_cascade.load(cv2.samples.findFile(face_cascade_name)) :\n",
    "    print('--(!)Error loading face cascade')\n",
    "    exit(0)\n",
    "if not eyes_cascade.load(cv2.samples.findFile(eyes_cascade_name)) :\n",
    "    print('--(!)Error loading eyes cascade')\n",
    "    exit(0)"
   ]
  },
  {
   "cell_type": "code",
   "execution_count": 71,
   "metadata": {
    "ExecuteTime": {
     "end_time": "2021-03-25T05:53:08.515739Z",
     "start_time": "2021-03-25T05:53:08.501471Z"
    }
   },
   "outputs": [],
   "source": [
    "def showimg(image) :\n",
    "    cv2.imshow(\"Face Detect\", image)\n",
    "    cv2.waitKey(0)\n",
    "    cv2.destroyAllWindows()"
   ]
  },
  {
   "cell_type": "code",
   "execution_count": 72,
   "metadata": {
    "ExecuteTime": {
     "end_time": "2021-03-25T05:53:09.844345Z",
     "start_time": "2021-03-25T05:53:08.516726Z"
    }
   },
   "outputs": [],
   "source": [
    "showimg(img)"
   ]
  },
  {
   "cell_type": "code",
   "execution_count": 73,
   "metadata": {
    "ExecuteTime": {
     "end_time": "2021-03-25T05:53:10.378432Z",
     "start_time": "2021-03-25T05:53:09.846345Z"
    }
   },
   "outputs": [],
   "source": [
    "# Gray scale\n",
    "frame_gray = cv2.cvtColor(img, cv2.COLOR_BGR2GRAY)\n",
    "showimg(frame_gray)"
   ]
  },
  {
   "cell_type": "code",
   "execution_count": 74,
   "metadata": {
    "ExecuteTime": {
     "end_time": "2021-03-25T05:53:10.914153Z",
     "start_time": "2021-03-25T05:53:10.380439Z"
    }
   },
   "outputs": [],
   "source": [
    "# 색상 간격(채도 수치 간격)을 넓혀줍니다.\n",
    "frame_gray = cv2.equalizeHist(frame_gray)\n",
    "showimg(frame_gray)"
   ]
  },
  {
   "cell_type": "code",
   "execution_count": 75,
   "metadata": {
    "ExecuteTime": {
     "end_time": "2021-03-25T05:53:10.945642Z",
     "start_time": "2021-03-25T05:53:10.916145Z"
    }
   },
   "outputs": [
    {
     "name": "stdout",
     "output_type": "stream",
     "text": [
      "[[ 82  41 106 106]]\n"
     ]
    }
   ],
   "source": [
    "# 얼굴인식 실행 (결과 : 인식된 얼굴의 좌표들의 리스트)\n",
    "faces = face_cascade.detectMultiScale(frame_gray)\n",
    "print(faces)\n",
    "# X좌표, Y좌표, 가로길이 ,세로길이"
   ]
  },
  {
   "cell_type": "code",
   "execution_count": 76,
   "metadata": {
    "ExecuteTime": {
     "end_time": "2021-03-25T05:53:10.977677Z",
     "start_time": "2021-03-25T05:53:10.947633Z"
    }
   },
   "outputs": [
    {
     "data": {
      "text/plain": [
       "(1, 4)"
      ]
     },
     "execution_count": 76,
     "metadata": {},
     "output_type": "execute_result"
    }
   ],
   "source": [
    "faces.shape"
   ]
  },
  {
   "cell_type": "code",
   "execution_count": 79,
   "metadata": {
    "ExecuteTime": {
     "end_time": "2021-03-25T06:54:52.804482Z",
     "start_time": "2021-03-25T06:54:52.784066Z"
    }
   },
   "outputs": [],
   "source": [
    "def detectAndDisplay(img) :\n",
    "    \n",
    "    for (x, y, w, h) in faces :\n",
    "        # 인식된 얼굴영역을 하나씩 반복 실행문에서 전달받아 사각형을 그립니다.\n",
    "        frame = cv2.rectangle(frame, (x, y), (x+w, y+h), (0, 255, 0), 2)\n",
    "        # frame_gray에서 인식한 얼굴의 좌표와 크기로 img에 사각형을 그립니다.\n",
    "\n",
    "        faceROI = frame_gray[y:y+h, x:x+w]\n",
    "\n",
    "        eyes = eyes_cascade.detectMultiScale(faceROI)\n",
    "        \n",
    "        for (x2, y2, w2, h2) in eyes :\n",
    "            # 그려넣을 원의 중점 계산\n",
    "            eye_center = (x + x2 + w2//2 + y2 + h2//2)\n",
    "\n",
    "            radius = int(round((w2 + h2)*0.25))\n",
    "\n",
    "            frame = cv2.circle(frame, eye_center, radius, (255, 255, 0), 2)\n",
    "            \n",
    "    showimg(frame)"
   ]
  },
  {
   "cell_type": "code",
   "execution_count": 78,
   "metadata": {
    "ExecuteTime": {
     "end_time": "2021-03-25T05:53:11.009675Z",
     "start_time": "2021-03-25T05:53:10.995686Z"
    }
   },
   "outputs": [
    {
     "ename": "UnboundLocalError",
     "evalue": "local variable 'frame' referenced before assignment",
     "output_type": "error",
     "traceback": [
      "\u001b[1;31m---------------------------------------------------------------------------\u001b[0m",
      "\u001b[1;31mUnboundLocalError\u001b[0m                         Traceback (most recent call last)",
      "\u001b[1;32m<ipython-input-78-0714310a27e1>\u001b[0m in \u001b[0;36m<module>\u001b[1;34m\u001b[0m\n\u001b[1;32m----> 1\u001b[1;33m \u001b[0mdetectAndDisplay\u001b[0m\u001b[1;33m(\u001b[0m\u001b[0mimg\u001b[0m\u001b[1;33m)\u001b[0m\u001b[1;33m\u001b[0m\u001b[1;33m\u001b[0m\u001b[0m\n\u001b[0m",
      "\u001b[1;32m<ipython-input-77-e9fec1454240>\u001b[0m in \u001b[0;36mdetectAndDisplay\u001b[1;34m(img)\u001b[0m\n\u001b[0;32m      3\u001b[0m     \u001b[1;32mfor\u001b[0m \u001b[1;33m(\u001b[0m\u001b[0mx\u001b[0m\u001b[1;33m,\u001b[0m \u001b[0my\u001b[0m\u001b[1;33m,\u001b[0m \u001b[0mw\u001b[0m\u001b[1;33m,\u001b[0m \u001b[0mh\u001b[0m\u001b[1;33m)\u001b[0m \u001b[1;32min\u001b[0m \u001b[0mfaces\u001b[0m \u001b[1;33m:\u001b[0m\u001b[1;33m\u001b[0m\u001b[1;33m\u001b[0m\u001b[0m\n\u001b[0;32m      4\u001b[0m         \u001b[1;31m# 인식된 얼굴영역을 하나씩 반복 실행문에서 전달받아 사각형을 그립니다.\u001b[0m\u001b[1;33m\u001b[0m\u001b[1;33m\u001b[0m\u001b[1;33m\u001b[0m\u001b[0m\n\u001b[1;32m----> 5\u001b[1;33m         \u001b[0mframe\u001b[0m \u001b[1;33m=\u001b[0m \u001b[0mcv2\u001b[0m\u001b[1;33m.\u001b[0m\u001b[0mrectangle\u001b[0m\u001b[1;33m(\u001b[0m\u001b[0mframe\u001b[0m\u001b[1;33m,\u001b[0m \u001b[1;33m(\u001b[0m\u001b[0mx\u001b[0m\u001b[1;33m,\u001b[0m \u001b[0my\u001b[0m\u001b[1;33m)\u001b[0m\u001b[1;33m,\u001b[0m \u001b[1;33m(\u001b[0m\u001b[0mx\u001b[0m\u001b[1;33m+\u001b[0m\u001b[0mw\u001b[0m\u001b[1;33m,\u001b[0m \u001b[0my\u001b[0m\u001b[1;33m+\u001b[0m\u001b[0mh\u001b[0m\u001b[1;33m)\u001b[0m\u001b[1;33m,\u001b[0m \u001b[1;33m(\u001b[0m\u001b[1;36m0\u001b[0m\u001b[1;33m,\u001b[0m \u001b[1;36m255\u001b[0m\u001b[1;33m,\u001b[0m \u001b[1;36m0\u001b[0m\u001b[1;33m)\u001b[0m\u001b[1;33m,\u001b[0m \u001b[1;36m2\u001b[0m\u001b[1;33m)\u001b[0m\u001b[1;33m\u001b[0m\u001b[1;33m\u001b[0m\u001b[0m\n\u001b[0m\u001b[0;32m      6\u001b[0m         \u001b[1;31m# frame_gray에서 인식한 얼굴의 좌표와 크기로 img에 사각형을 그립니다.\u001b[0m\u001b[1;33m\u001b[0m\u001b[1;33m\u001b[0m\u001b[1;33m\u001b[0m\u001b[0m\n\u001b[0;32m      7\u001b[0m \u001b[1;33m\u001b[0m\u001b[0m\n",
      "\u001b[1;31mUnboundLocalError\u001b[0m: local variable 'frame' referenced before assignment"
     ]
    }
   ],
   "source": [
    "detectAndDisplay(img)"
   ]
  },
  {
   "cell_type": "code",
   "execution_count": null,
   "metadata": {},
   "outputs": [],
   "source": []
  }
 ],
 "metadata": {
  "hide_input": false,
  "kernelspec": {
   "display_name": "Python 3",
   "language": "python",
   "name": "python3"
  },
  "language_info": {
   "codemirror_mode": {
    "name": "ipython",
    "version": 3
   },
   "file_extension": ".py",
   "mimetype": "text/x-python",
   "name": "python",
   "nbconvert_exporter": "python",
   "pygments_lexer": "ipython3",
   "version": "3.8.5"
  },
  "toc": {
   "base_numbering": 1,
   "nav_menu": {},
   "number_sections": true,
   "sideBar": true,
   "skip_h1_title": false,
   "title_cell": "Table of Contents",
   "title_sidebar": "Contents",
   "toc_cell": false,
   "toc_position": {},
   "toc_section_display": true,
   "toc_window_display": true
  },
  "varInspector": {
   "cols": {
    "lenName": 16,
    "lenType": 16,
    "lenVar": 40
   },
   "kernels_config": {
    "python": {
     "delete_cmd_postfix": "",
     "delete_cmd_prefix": "del ",
     "library": "var_list.py",
     "varRefreshCmd": "print(var_dic_list())"
    },
    "r": {
     "delete_cmd_postfix": ") ",
     "delete_cmd_prefix": "rm(",
     "library": "var_list.r",
     "varRefreshCmd": "cat(var_dic_list()) "
    }
   },
   "types_to_exclude": [
    "module",
    "function",
    "builtin_function_or_method",
    "instance",
    "_Feature"
   ],
   "window_display": false
  }
 },
 "nbformat": 4,
 "nbformat_minor": 4
}
