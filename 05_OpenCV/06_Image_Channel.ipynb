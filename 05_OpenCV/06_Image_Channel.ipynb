{
 "cells": [
  {
   "cell_type": "code",
   "execution_count": 1,
   "metadata": {
    "ExecuteTime": {
     "end_time": "2021-03-25T04:51:12.801709Z",
     "start_time": "2021-03-25T04:51:10.906452Z"
    }
   },
   "outputs": [],
   "source": [
    "import cv2\n",
    "import numpy as np\n",
    "\n",
    "def readimg():\n",
    "    image = cv2.imread('./image/20200526.png')\n",
    "    return image\n",
    "\n",
    "def showimg(image):\n",
    "    cv2.imshow('shinchon20200526', image)\n",
    "    cv2.waitKey(0)\n",
    "    cv2.destroyAllWindows()\n",
    "img = readimg()\n",
    "showimg(img)"
   ]
  },
  {
   "cell_type": "code",
   "execution_count": 2,
   "metadata": {
    "ExecuteTime": {
     "end_time": "2021-03-25T04:51:18.879384Z",
     "start_time": "2021-03-25T04:51:18.873394Z"
    }
   },
   "outputs": [],
   "source": [
    "(height, width) = img.shape[:2]\n",
    "center = (width // 2, height // 2)\n",
    "\n",
    "(Blue, Green, Red) = cv2.split(img)"
   ]
  },
  {
   "cell_type": "code",
   "execution_count": 3,
   "metadata": {
    "ExecuteTime": {
     "end_time": "2021-03-25T04:51:21.132855Z",
     "start_time": "2021-03-25T04:51:20.192723Z"
    }
   },
   "outputs": [],
   "source": [
    "showimg(Blue)"
   ]
  },
  {
   "cell_type": "code",
   "execution_count": 4,
   "metadata": {
    "ExecuteTime": {
     "end_time": "2021-03-25T04:51:23.425279Z",
     "start_time": "2021-03-25T04:51:22.640570Z"
    }
   },
   "outputs": [],
   "source": [
    "showimg(Green)"
   ]
  },
  {
   "cell_type": "code",
   "execution_count": null,
   "metadata": {
    "ExecuteTime": {
     "end_time": "2021-03-25T04:50:36.578538Z",
     "start_time": "2021-03-25T04:50:04.347Z"
    }
   },
   "outputs": [],
   "source": [
    "print(Blue)"
   ]
  },
  {
   "cell_type": "code",
   "execution_count": null,
   "metadata": {
    "ExecuteTime": {
     "end_time": "2021-03-25T04:50:36.578538Z",
     "start_time": "2021-03-25T04:50:04.349Z"
    }
   },
   "outputs": [],
   "source": [
    "zeros = np.zeros(img.shape[:2], dtype='uint8')\n",
    "RedImg = cv2.merge([zeros, zeros, Red])\n",
    "showimg(RedImg)"
   ]
  },
  {
   "cell_type": "code",
   "execution_count": 5,
   "metadata": {
    "ExecuteTime": {
     "end_time": "2021-03-25T04:54:16.996340Z",
     "start_time": "2021-03-25T04:54:15.685399Z"
    }
   },
   "outputs": [],
   "source": [
    "BGR = cv2.merge([Blue, Green, Red])\n",
    "showimg(BGR)"
   ]
  },
  {
   "cell_type": "code",
   "execution_count": null,
   "metadata": {},
   "outputs": [],
   "source": []
  }
 ],
 "metadata": {
  "hide_input": false,
  "kernelspec": {
   "display_name": "Python 3",
   "language": "python",
   "name": "python3"
  },
  "language_info": {
   "codemirror_mode": {
    "name": "ipython",
    "version": 3
   },
   "file_extension": ".py",
   "mimetype": "text/x-python",
   "name": "python",
   "nbconvert_exporter": "python",
   "pygments_lexer": "ipython3",
   "version": "3.8.5"
  },
  "toc": {
   "base_numbering": 1,
   "nav_menu": {},
   "number_sections": true,
   "sideBar": true,
   "skip_h1_title": false,
   "title_cell": "Table of Contents",
   "title_sidebar": "Contents",
   "toc_cell": false,
   "toc_position": {},
   "toc_section_display": true,
   "toc_window_display": true
  },
  "varInspector": {
   "cols": {
    "lenName": 16,
    "lenType": 16,
    "lenVar": 40
   },
   "kernels_config": {
    "python": {
     "delete_cmd_postfix": "",
     "delete_cmd_prefix": "del ",
     "library": "var_list.py",
     "varRefreshCmd": "print(var_dic_list())"
    },
    "r": {
     "delete_cmd_postfix": ") ",
     "delete_cmd_prefix": "rm(",
     "library": "var_list.r",
     "varRefreshCmd": "cat(var_dic_list()) "
    }
   },
   "types_to_exclude": [
    "module",
    "function",
    "builtin_function_or_method",
    "instance",
    "_Feature"
   ],
   "window_display": false
  }
 },
 "nbformat": 4,
 "nbformat_minor": 4
}
