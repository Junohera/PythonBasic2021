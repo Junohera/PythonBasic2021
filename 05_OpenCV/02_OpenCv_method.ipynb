{
 "cells": [
  {
   "cell_type": "code",
   "execution_count": 1,
   "metadata": {
    "ExecuteTime": {
     "end_time": "2021-03-25T01:50:21.600100Z",
     "start_time": "2021-03-25T01:50:21.488993Z"
    }
   },
   "outputs": [],
   "source": [
    "import cv2"
   ]
  },
  {
   "cell_type": "code",
   "execution_count": 2,
   "metadata": {
    "ExecuteTime": {
     "end_time": "2021-03-25T01:50:38.431649Z",
     "start_time": "2021-03-25T01:50:38.420640Z"
    }
   },
   "outputs": [
    {
     "name": "stdout",
     "output_type": "stream",
     "text": [
      "OpenCV version:4.5.1\n"
     ]
    }
   ],
   "source": [
    "print('OpenCV version:', end=\"\")\n",
    "print(cv2.__version__)"
   ]
  },
  {
   "cell_type": "code",
   "execution_count": 3,
   "metadata": {
    "ExecuteTime": {
     "end_time": "2021-03-25T01:51:41.088319Z",
     "start_time": "2021-03-25T01:51:41.044537Z"
    }
   },
   "outputs": [],
   "source": [
    "img = cv2.imread('./image/20200526.png')"
   ]
  },
  {
   "cell_type": "code",
   "execution_count": 6,
   "metadata": {
    "ExecuteTime": {
     "end_time": "2021-03-25T01:55:04.756024Z",
     "start_time": "2021-03-25T01:54:11.107421Z"
    }
   },
   "outputs": [],
   "source": [
    "cv2.imshow('shinchone2020200526', img) # 화면 출력\n",
    "cv2.waitKey(0) # 이미지 show 종료 키 설정\n",
    "cv2.destroyAllWindows() # 이미지 show 윈도우 종료 설정\n",
    "# 종료키 설정이 없으면 이미지 창 종료가 어려워집니다."
   ]
  },
  {
   "cell_type": "markdown",
   "metadata": {},
   "source": [
    "#### Image Color Mode\n",
    "* BGR : 일반 RGB 모드를 파이썬 Opencv에서는 BGR로 부름\n",
    "* GRAY : gray 스케일의 색상 모드"
   ]
  },
  {
   "cell_type": "code",
   "execution_count": 7,
   "metadata": {
    "ExecuteTime": {
     "end_time": "2021-03-25T02:00:11.747715Z",
     "start_time": "2021-03-25T02:00:09.892215Z"
    }
   },
   "outputs": [],
   "source": [
    "gray = cv2.cvtColor(img, cv2.COLOR_BGR2GRAY)\n",
    "cv2.imshow('shinchon20200526_gray', gray)\n",
    "cv2.waitKey(0)\n",
    "cv2.destroyAllWindows()"
   ]
  },
  {
   "cell_type": "markdown",
   "metadata": {},
   "source": [
    "#### 이미지를 구성하는 픽셀 행의 갯수와 열의 갯수 그리고 채널의 갯수"
   ]
  },
  {
   "cell_type": "code",
   "execution_count": 8,
   "metadata": {
    "ExecuteTime": {
     "end_time": "2021-03-25T02:03:13.331754Z",
     "start_time": "2021-03-25T02:03:13.312760Z"
    }
   },
   "outputs": [
    {
     "name": "stdout",
     "output_type": "stream",
     "text": [
      "pixels의 구성 : (600, 600, 3)\n",
      "가로: 600\n",
      "세로: 600\n",
      "채널: 3\n"
     ]
    }
   ],
   "source": [
    "print('pixels의 구성 : {}'.format(img.shape))\n",
    "print('가로: {}'.format(img.shape[1]))\n",
    "print('세로: {}'.format(img.shape[0]))\n",
    "print('채널: {}'.format(img.shape[2]))"
   ]
  },
  {
   "cell_type": "code",
   "execution_count": 9,
   "metadata": {
    "ExecuteTime": {
     "end_time": "2021-03-25T02:07:07.473623Z",
     "start_time": "2021-03-25T02:07:05.839296Z"
    }
   },
   "outputs": [],
   "source": [
    "# 이미지 파일의 복사 저장\n",
    "cv2.imwrite('./image/shinchon_copy.jpg', img)\n",
    "img_copy = cv2.imread('./image/shinchon_copy.jpg')\n",
    "cv2.imshow('shinchon_copy', img_copy)\n",
    "cv2.waitKey(0)\n",
    "cv2.destroyAllWindows()"
   ]
  },
  {
   "cell_type": "code",
   "execution_count": 10,
   "metadata": {
    "ExecuteTime": {
     "end_time": "2021-03-25T02:08:56.535545Z",
     "start_time": "2021-03-25T02:08:56.527541Z"
    }
   },
   "outputs": [
    {
     "name": "stdout",
     "output_type": "stream",
     "text": [
      "Pixel at (0, 0) - Red: 121, Green: 116, Blue: 117\n"
     ]
    }
   ],
   "source": [
    "# 특정행과 열의 픽셀 생상채널값\n",
    "(b, g, r) =  img[300, 300]\n",
    "print('Pixel at (0, 0) - Red: {}, Green: {}, Blue: {}'.format(r, g, b))"
   ]
  },
  {
   "cell_type": "code",
   "execution_count": null,
   "metadata": {},
   "outputs": [],
   "source": []
  }
 ],
 "metadata": {
  "hide_input": false,
  "kernelspec": {
   "display_name": "Python 3",
   "language": "python",
   "name": "python3"
  },
  "language_info": {
   "codemirror_mode": {
    "name": "ipython",
    "version": 3
   },
   "file_extension": ".py",
   "mimetype": "text/x-python",
   "name": "python",
   "nbconvert_exporter": "python",
   "pygments_lexer": "ipython3",
   "version": "3.8.5"
  },
  "toc": {
   "base_numbering": 1,
   "nav_menu": {},
   "number_sections": true,
   "sideBar": true,
   "skip_h1_title": false,
   "title_cell": "Table of Contents",
   "title_sidebar": "Contents",
   "toc_cell": false,
   "toc_position": {},
   "toc_section_display": true,
   "toc_window_display": true
  },
  "varInspector": {
   "cols": {
    "lenName": 16,
    "lenType": 16,
    "lenVar": 40
   },
   "kernels_config": {
    "python": {
     "delete_cmd_postfix": "",
     "delete_cmd_prefix": "del ",
     "library": "var_list.py",
     "varRefreshCmd": "print(var_dic_list())"
    },
    "r": {
     "delete_cmd_postfix": ") ",
     "delete_cmd_prefix": "rm(",
     "library": "var_list.r",
     "varRefreshCmd": "cat(var_dic_list()) "
    }
   },
   "types_to_exclude": [
    "module",
    "function",
    "builtin_function_or_method",
    "instance",
    "_Feature"
   ],
   "window_display": false
  }
 },
 "nbformat": 4,
 "nbformat_minor": 4
}
