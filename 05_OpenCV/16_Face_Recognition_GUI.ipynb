{
 "cells": [
  {
   "cell_type": "code",
   "execution_count": 1,
   "metadata": {
    "ExecuteTime": {
     "end_time": "2021-03-29T01:09:11.052539Z",
     "start_time": "2021-03-29T01:09:09.115944Z"
    }
   },
   "outputs": [],
   "source": [
    "import cv2\n",
    "import face_recognition\n",
    "import pickle\n",
    "import time\n",
    "from tkinter import *\n",
    "from PIL import Image\n",
    "from PIL import ImageTk\n",
    "from tkinter import filedialog"
   ]
  },
  {
   "cell_type": "code",
   "execution_count": 2,
   "metadata": {
    "ExecuteTime": {
     "end_time": "2021-03-29T01:09:11.068299Z",
     "start_time": "2021-03-29T01:09:11.053541Z"
    }
   },
   "outputs": [],
   "source": [
    "image_file = 'image/marathon_01.jpg'\n",
    "encoding_file = 'encodings.pickle'\n",
    "unknown_name = 'Unknown'\n",
    "title_name = 'Face Recognition'\n",
    "model_method = 'cnn'"
   ]
  },
  {
   "cell_type": "code",
   "execution_count": 3,
   "metadata": {
    "ExecuteTime": {
     "end_time": "2021-03-29T01:09:11.084284Z",
     "start_time": "2021-03-29T01:09:11.069282Z"
    }
   },
   "outputs": [],
   "source": [
    "def selectFile():\n",
    "    file_name = filedialog.askopenfilename(initialdir=\"./image\",title=\"Select file\",\\\n",
    "                        filetypes = ((\"jpeg files\", \"*.jpg\"),(\"all files\", \"*.*\")))\n",
    "    print('File name : ' , file_name)\n",
    "    read_image = cv2.imread(file_name)\n",
    "    image = cv2.cvtColor(read_image, cv2.COLOR_BGR2RGB)\n",
    "    image = Image.fromarray(image)\n",
    "    imgtk = ImageTk.PhotoImage(image=image)\n",
    "    (height, width) = read_image.shape[:2]\n",
    "    detectAndDisplay(read_image)"
   ]
  },
  {
   "cell_type": "code",
   "execution_count": 4,
   "metadata": {
    "ExecuteTime": {
     "end_time": "2021-03-29T01:09:11.100285Z",
     "start_time": "2021-03-29T01:09:11.085281Z"
    }
   },
   "outputs": [],
   "source": [
    "def detectAndDisplay(image):\n",
    "    rgb = cv2.cvtColor(image, cv2.COLOR_BGR2RGB)\n",
    "    boxes = face_recognition.face_locations(rgb, model=model_method)\n",
    "    encodings = face_recognition.face_encodings(rgb, boxes)\n",
    "    names = []\n",
    "    for encoding in encodings:\n",
    "        matches = face_recognition.compare_faces(data[\"encodings\"], encoding)\n",
    "        name = unknown_name\n",
    "        if True in matches:\n",
    "            matchedIdxs = [i for (i, b) in enumerate(matches) if b]\n",
    "            counts = {}  \n",
    "            for i in matchedIdxs:  \n",
    "                name = data[\"names\"][i]\n",
    "                counts[name] = counts.get(name, 0) + 1\n",
    "            name = max(counts, key=counts.get) \n",
    "        names.append(name)\n",
    "    for ((top, right, bottom, left), name) in zip(boxes, names):\n",
    "        y = top - 15 if top - 15 > 15 else top + 15\n",
    "        color = (0, 255, 0)\n",
    "        if(name == unknown_name):\n",
    "            color = (0, 0, 255)\n",
    "            name = ''\n",
    "        cv2.rectangle(image, (left, top), (right, bottom), color, 2)\n",
    "        y = top - 15 if top - 15 > 15 else top + 15\n",
    "        cv2.putText(image,name,(left, y),cv2.FONT_HERSHEY_SIMPLEX, 0.75, color, 2)\n",
    "    image = cv2.cvtColor(image, cv2.COLOR_BGR2RGB)\n",
    "    image = Image.fromarray(image)\n",
    "    imgtk = ImageTk.PhotoImage(image=image)\n",
    "    detection.config(image=imgtk)\n",
    "    detection.image = imgtk"
   ]
  },
  {
   "cell_type": "code",
   "execution_count": 5,
   "metadata": {
    "ExecuteTime": {
     "end_time": "2021-03-29T01:12:53.491540Z",
     "start_time": "2021-03-29T01:09:11.101281Z"
    }
   },
   "outputs": [],
   "source": [
    "main = Tk()\n",
    "main.title(title_name)\n",
    "main.geometry()\n",
    "data = pickle.loads(open(encoding_file, \"rb\").read())\n",
    "# 이미지 로딩\n",
    "read_image = cv2.imread(image_file )\n",
    "# RGB로 변환\n",
    "image = cv2.cvtColor(read_image, cv2.COLOR_BGR2RGB)\n",
    "# fromarray 사용\n",
    "image = Image.fromarray(image)\n",
    "# PhotoImage 사용\n",
    "imgtk = ImageTk.PhotoImage(image=image)\n",
    "# 윈도우에 제목라벨, \n",
    "label=Label(main, text=title_name)\n",
    "label.config(font=(\"Courier\", 18))\n",
    "label.grid(row=0,column=0,columnspan=4)\n",
    "#파일선택 버튼 (sticky : 상하좌우 경계선 확장 맞춤)\n",
    "btn=Button(main,text=\"File Select\", height=2, command=lambda:selectFile())\n",
    "btn.grid(row=1, column=0, columnspan=4, sticky=(W, E)) \n",
    "# 그림 들어갈 라벨  각 한줄씩 차지하여 생성\n",
    "detection=Label(main, image=imgtk)\n",
    "detection.grid(row=2,column=0,columnspan=4)\n",
    "# detectAndDisplay 호출\n",
    "detectAndDisplay(read_image)\n",
    "main.mainloop()"
   ]
  },
  {
   "cell_type": "code",
   "execution_count": null,
   "metadata": {},
   "outputs": [],
   "source": []
  }
 ],
 "metadata": {
  "hide_input": false,
  "kernelspec": {
   "display_name": "Python 3",
   "language": "python",
   "name": "python3"
  },
  "language_info": {
   "codemirror_mode": {
    "name": "ipython",
    "version": 3
   },
   "file_extension": ".py",
   "mimetype": "text/x-python",
   "name": "python",
   "nbconvert_exporter": "python",
   "pygments_lexer": "ipython3",
   "version": "3.8.5"
  },
  "toc": {
   "base_numbering": 1,
   "nav_menu": {},
   "number_sections": true,
   "sideBar": true,
   "skip_h1_title": false,
   "title_cell": "Table of Contents",
   "title_sidebar": "Contents",
   "toc_cell": false,
   "toc_position": {},
   "toc_section_display": true,
   "toc_window_display": true
  },
  "varInspector": {
   "cols": {
    "lenName": 16,
    "lenType": 16,
    "lenVar": 40
   },
   "kernels_config": {
    "python": {
     "delete_cmd_postfix": "",
     "delete_cmd_prefix": "del ",
     "library": "var_list.py",
     "varRefreshCmd": "print(var_dic_list())"
    },
    "r": {
     "delete_cmd_postfix": ") ",
     "delete_cmd_prefix": "rm(",
     "library": "var_list.r",
     "varRefreshCmd": "cat(var_dic_list()) "
    }
   },
   "types_to_exclude": [
    "module",
    "function",
    "builtin_function_or_method",
    "instance",
    "_Feature"
   ],
   "window_display": false
  }
 },
 "nbformat": 4,
 "nbformat_minor": 4
}
