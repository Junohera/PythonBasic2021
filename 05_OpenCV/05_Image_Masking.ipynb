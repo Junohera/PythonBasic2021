{
 "cells": [
  {
   "cell_type": "code",
   "execution_count": 11,
   "metadata": {
    "ExecuteTime": {
     "end_time": "2021-03-25T04:22:55.063187Z",
     "start_time": "2021-03-25T04:22:55.047197Z"
    }
   },
   "outputs": [],
   "source": [
    "import cv2\n",
    "import numpy as np"
   ]
  },
  {
   "cell_type": "code",
   "execution_count": 12,
   "metadata": {
    "ExecuteTime": {
     "end_time": "2021-03-25T04:22:56.625236Z",
     "start_time": "2021-03-25T04:22:55.065187Z"
    }
   },
   "outputs": [],
   "source": [
    "def readimg():\n",
    "    image = cv2.imread('./image/20200526.png')\n",
    "    return image\n",
    "\n",
    "def showimg(image):\n",
    "    cv2.imshow('shinchon20200526', image)\n",
    "    cv2.waitKey(0)\n",
    "    cv2.destroyAllWindows()\n",
    "img = readimg()\n",
    "showimg(img)"
   ]
  },
  {
   "cell_type": "code",
   "execution_count": 13,
   "metadata": {
    "ExecuteTime": {
     "end_time": "2021-03-25T04:22:56.640559Z",
     "start_time": "2021-03-25T04:22:56.629234Z"
    }
   },
   "outputs": [],
   "source": [
    "(height, width) = img.shape[:2]\n",
    "center = (width // 2, height // 2)"
   ]
  },
  {
   "cell_type": "code",
   "execution_count": 14,
   "metadata": {
    "ExecuteTime": {
     "end_time": "2021-03-25T04:22:56.671599Z",
     "start_time": "2021-03-25T04:22:56.645028Z"
    }
   },
   "outputs": [],
   "source": [
    "# 원본과 동일하고, 모두 0으로 채워진 배열(이미지) 생성\n",
    "mask = np.zeros(img.shape[:2], dtype='uint8')"
   ]
  },
  {
   "cell_type": "code",
   "execution_count": 16,
   "metadata": {
    "ExecuteTime": {
     "end_time": "2021-03-25T04:23:17.820910Z",
     "start_time": "2021-03-25T04:23:17.815921Z"
    }
   },
   "outputs": [
    {
     "name": "stdout",
     "output_type": "stream",
     "text": [
      "(600, 600)\n"
     ]
    }
   ],
   "source": [
    "print(mask.shape)"
   ]
  },
  {
   "cell_type": "code",
   "execution_count": 17,
   "metadata": {
    "ExecuteTime": {
     "end_time": "2021-03-25T04:24:17.945865Z",
     "start_time": "2021-03-25T04:24:15.440326Z"
    }
   },
   "outputs": [],
   "source": [
    "showimg(mask)"
   ]
  },
  {
   "cell_type": "code",
   "execution_count": 18,
   "metadata": {
    "ExecuteTime": {
     "end_time": "2021-03-25T04:25:41.125720Z",
     "start_time": "2021-03-25T04:25:39.728403Z"
    }
   },
   "outputs": [],
   "source": [
    "# 중점좌표 center, 반지름 300짜리 원을 흰색으로 채워서 mask 이미지에 그림\n",
    "cv2.circle(mask, center, 300, (255, 255, 255), -1)\n",
    "showimg(mask)"
   ]
  },
  {
   "cell_type": "code",
   "execution_count": 19,
   "metadata": {
    "ExecuteTime": {
     "end_time": "2021-03-25T04:29:47.715765Z",
     "start_time": "2021-03-25T04:29:47.708775Z"
    }
   },
   "outputs": [],
   "source": [
    "#img와 mask이미지를 mask방식으로 합칩니다.(& : 둘다 1이면 1, 나머지 0"
   ]
  },
  {
   "cell_type": "code",
   "execution_count": 20,
   "metadata": {
    "ExecuteTime": {
     "end_time": "2021-03-25T04:32:17.123536Z",
     "start_time": "2021-03-25T04:32:16.140841Z"
    }
   },
   "outputs": [],
   "source": [
    "# mask 이미지의 원은 모두 1, 나머지는 0이므로 원내에만 합쳐지는 img 이미지가 표시되고\n",
    "# 이미 모두 0인 mask의 원의 외부영역은 img이미지에 무엇이 있든 계산 실행\n",
    "masked = cv2.bitwise_and(img, img, mask=mask)\n",
    "showimg(masked)"
   ]
  },
  {
   "cell_type": "code",
   "execution_count": 21,
   "metadata": {
    "ExecuteTime": {
     "end_time": "2021-03-25T04:36:13.408887Z",
     "start_time": "2021-03-25T04:36:13.404896Z"
    }
   },
   "outputs": [],
   "source": [
    "# 111111 and 101011\n",
    "#0과 and 연산된 A --> A\n",
    "#1과 and 연산된 (4 -> A)"
   ]
  },
  {
   "cell_type": "code",
   "execution_count": null,
   "metadata": {},
   "outputs": [],
   "source": []
  }
 ],
 "metadata": {
  "hide_input": false,
  "kernelspec": {
   "display_name": "Python 3",
   "language": "python",
   "name": "python3"
  },
  "language_info": {
   "codemirror_mode": {
    "name": "ipython",
    "version": 3
   },
   "file_extension": ".py",
   "mimetype": "text/x-python",
   "name": "python",
   "nbconvert_exporter": "python",
   "pygments_lexer": "ipython3",
   "version": "3.8.5"
  },
  "toc": {
   "base_numbering": 1,
   "nav_menu": {},
   "number_sections": true,
   "sideBar": true,
   "skip_h1_title": false,
   "title_cell": "Table of Contents",
   "title_sidebar": "Contents",
   "toc_cell": false,
   "toc_position": {},
   "toc_section_display": true,
   "toc_window_display": true
  },
  "varInspector": {
   "cols": {
    "lenName": 16,
    "lenType": 16,
    "lenVar": 40
   },
   "kernels_config": {
    "python": {
     "delete_cmd_postfix": "",
     "delete_cmd_prefix": "del ",
     "library": "var_list.py",
     "varRefreshCmd": "print(var_dic_list())"
    },
    "r": {
     "delete_cmd_postfix": ") ",
     "delete_cmd_prefix": "rm(",
     "library": "var_list.r",
     "varRefreshCmd": "cat(var_dic_list()) "
    }
   },
   "types_to_exclude": [
    "module",
    "function",
    "builtin_function_or_method",
    "instance",
    "_Feature"
   ],
   "window_display": false
  }
 },
 "nbformat": 4,
 "nbformat_minor": 4
}
