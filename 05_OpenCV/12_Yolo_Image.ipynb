{
 "cells": [
  {
   "cell_type": "code",
   "execution_count": 1,
   "metadata": {
    "ExecuteTime": {
     "end_time": "2021-03-29T01:29:04.988153Z",
     "start_time": "2021-03-29T01:29:04.957153Z"
    }
   },
   "outputs": [],
   "source": [
    "import cv2\n",
    "import numpy as np\n",
    "min_confidence = 0.5"
   ]
  },
  {
   "cell_type": "code",
   "execution_count": 2,
   "metadata": {
    "ExecuteTime": {
     "end_time": "2021-03-29T01:29:05.830795Z",
     "start_time": "2021-03-29T01:29:04.990152Z"
    }
   },
   "outputs": [],
   "source": [
    "# 모델 로딩\n",
    "net = cv2.dnn.readNet(\"yolo/yolov3.weights\", \"yolo/yolov3.cfg\")"
   ]
  },
  {
   "cell_type": "code",
   "execution_count": 3,
   "metadata": {
    "ExecuteTime": {
     "end_time": "2021-03-29T01:29:05.846801Z",
     "start_time": "2021-03-29T01:29:05.832797Z"
    },
    "scrolled": false
   },
   "outputs": [
    {
     "name": "stdout",
     "output_type": "stream",
     "text": [
      "['person', 'bicycle', 'car', 'motorbike', 'aeroplane', 'bus', 'train', 'truck', 'boat', 'traffic light', 'fire hydrant', 'stop sign', 'parking meter', 'bench', 'bird', 'cat', 'dog', 'horse', 'sheep', 'cow', 'elephant', 'bear', 'zebra', 'giraffe', 'backpack', 'umbrella', 'handbag', 'tie', 'suitcase', 'frisbee', 'skis', 'snowboard', 'sports ball', 'kite', 'baseball bat', 'baseball glove', 'skateboard', 'surfboard', 'tennis racket', 'bottle', 'wine glass', 'cup', 'fork', 'knife', 'spoon', 'bowl', 'banana', 'apple', 'sandwich', 'orange', 'broccoli', 'carrot', 'hot dog', 'pizza', 'donut', 'cake', 'chair', 'sofa', 'pottedplant', 'bed', 'diningtable', 'toilet', 'tvmonitor', 'laptop', 'mouse', 'remote', 'keyboard', 'cell phone', 'microwave', 'oven', 'toaster', 'sink', 'refrigerator', 'book', 'clock', 'vase', 'scissors', 'teddy bear', 'hair drier', 'toothbrush']\n"
     ]
    }
   ],
   "source": [
    "# 화면에 표시될 사물의 이름들을 기록한 파일을 열어서 로딩저장해둡니다\n",
    "with open(\"yolo/coco.names\", \"r\") as f:\n",
    "    classes = [line.strip() for line in f.readlines()]\n",
    "    print(classes)"
   ]
  },
  {
   "cell_type": "code",
   "execution_count": 4,
   "metadata": {
    "ExecuteTime": {
     "end_time": "2021-03-29T01:29:05.862796Z",
     "start_time": "2021-03-29T01:29:05.848797Z"
    }
   },
   "outputs": [],
   "source": [
    "#  랜덤 색 설정\n",
    "colors = np.random.uniform(0, 255, size=(len(classes), 3))\n",
    "# print(colors)"
   ]
  },
  {
   "cell_type": "code",
   "execution_count": 5,
   "metadata": {
    "ExecuteTime": {
     "end_time": "2021-03-29T01:29:05.878796Z",
     "start_time": "2021-03-29T01:29:05.863806Z"
    }
   },
   "outputs": [],
   "source": [
    "# net 변수에 로딩된 모델에서 출력양식(인식된 사물의 추가 정보) 설정 내용을 추출합니다\n",
    "layer_names = net.getLayerNames()\n",
    "output_layers = [layer_names[i[0] - 1] for i in net.getUnconnectedOutLayers()]"
   ]
  },
  {
   "cell_type": "code",
   "execution_count": 6,
   "metadata": {
    "ExecuteTime": {
     "end_time": "2021-03-29T01:29:06.054609Z",
     "start_time": "2021-03-29T01:29:05.880797Z"
    }
   },
   "outputs": [
    {
     "ename": "AttributeError",
     "evalue": "'NoneType' object has no attribute 'shape'",
     "output_type": "error",
     "traceback": [
      "\u001b[1;31m---------------------------------------------------------------------------\u001b[0m",
      "\u001b[1;31mAttributeError\u001b[0m                            Traceback (most recent call last)",
      "\u001b[1;32m<ipython-input-6-7e78a4ff2d65>\u001b[0m in \u001b[0;36m<module>\u001b[1;34m\u001b[0m\n\u001b[0;32m      1\u001b[0m \u001b[1;31m# 이미지 로딩 & 크기 추출\u001b[0m\u001b[1;33m\u001b[0m\u001b[1;33m\u001b[0m\u001b[1;33m\u001b[0m\u001b[0m\n\u001b[0;32m      2\u001b[0m \u001b[0mimg\u001b[0m \u001b[1;33m=\u001b[0m \u001b[0mcv2\u001b[0m\u001b[1;33m.\u001b[0m\u001b[0mimread\u001b[0m\u001b[1;33m(\u001b[0m\u001b[1;34m\"image/abcd2.png\"\u001b[0m\u001b[1;33m)\u001b[0m\u001b[1;33m\u001b[0m\u001b[1;33m\u001b[0m\u001b[0m\n\u001b[1;32m----> 3\u001b[1;33m \u001b[0mheight\u001b[0m\u001b[1;33m,\u001b[0m \u001b[0mwidth\u001b[0m\u001b[1;33m,\u001b[0m \u001b[0mchannels\u001b[0m \u001b[1;33m=\u001b[0m \u001b[0mimg\u001b[0m\u001b[1;33m.\u001b[0m\u001b[0mshape\u001b[0m\u001b[1;33m\u001b[0m\u001b[1;33m\u001b[0m\u001b[0m\n\u001b[0m",
      "\u001b[1;31mAttributeError\u001b[0m: 'NoneType' object has no attribute 'shape'"
     ]
    }
   ],
   "source": [
    "# 이미지 로딩 & 크기 추출\n",
    "img = cv2.imread(\"image/soccer_01.jpg\")\n",
    "height, width, channels = img.shape"
   ]
  },
  {
   "cell_type": "code",
   "execution_count": null,
   "metadata": {
    "ExecuteTime": {
     "end_time": "2021-03-29T01:29:06.057608Z",
     "start_time": "2021-03-29T01:29:04.966Z"
    }
   },
   "outputs": [],
   "source": [
    "#  이미지 형식 변환\n",
    "blob = cv2.dnn.blobFromImage(img, 0.00392, (416, 416), (0, 0, 0), True, crop=False)\n",
    "# 모델에 이미지 세트\n",
    "net.setInput(blob)\n",
    "#  이미지 내부에 있는 사물 인식 실행\n",
    "outs = net.forward(output_layers)\n",
    "#  표시할 사물의 사각형 및 확율 등을 저장할 리스트 생성\n",
    "class_ids = []\n",
    "confidences = []\n",
    "boxes = []"
   ]
  },
  {
   "cell_type": "code",
   "execution_count": null,
   "metadata": {
    "ExecuteTime": {
     "end_time": "2021-03-29T01:29:06.057608Z",
     "start_time": "2021-03-29T01:29:04.967Z"
    }
   },
   "outputs": [],
   "source": [
    "print(outs[0].shape)"
   ]
  },
  {
   "cell_type": "code",
   "execution_count": null,
   "metadata": {
    "ExecuteTime": {
     "end_time": "2021-03-29T01:29:06.059608Z",
     "start_time": "2021-03-29T01:29:04.968Z"
    }
   },
   "outputs": [],
   "source": [
    "# 인식된 사물의 갯수 만큼 반복 실행\n",
    "for out in outs:\n",
    "    # 인식된 사물의 판별 장보 별로 반복실행\n",
    "    for detection in out:\n",
    "        # 인식 가능한 사물일 가능성이 담긴 확율들을 먼저 추출\n",
    "        scores = detection[5:]\n",
    "        # 확율들을 정렬하고 가장 높은 확율의 인덱스 추출\n",
    "        class_id = np.argmax(scores)\n",
    "        # 해당 인덱스의 확율 추출\n",
    "        confidence = scores[class_id]\n",
    "        # 추출한 확율이 50%(0.5 이상인 경우)\n",
    "        if confidence > min_confidence:\n",
    "            # 해당 사물의 중점 좌표 계산\n",
    "            center_x = int(detection[0] * width)\n",
    "            center_y = int(detection[1] * height)\n",
    "            # 가로세로길이 및 시작 좌표 계산\n",
    "            w = int(detection[2] * width)\n",
    "            h = int(detection[3] * height)\n",
    "            x = int(center_x - w / 2)\n",
    "            y = int(center_y - h / 2)\n",
    "            # 계산된 좌표 정보 및 확율 그리고 사물 이름(class_id)정보를 각리스트에\n",
    "            # 저장합니다\n",
    "            boxes.append([x, y, w, h])\n",
    "            confidences.append(float(confidence))\n",
    "            class_ids.append(class_id)"
   ]
  },
  {
   "cell_type": "code",
   "execution_count": null,
   "metadata": {
    "ExecuteTime": {
     "end_time": "2021-03-29T01:29:06.060618Z",
     "start_time": "2021-03-29T01:29:04.969Z"
    }
   },
   "outputs": [],
   "source": [
    "#class_ids"
   ]
  },
  {
   "cell_type": "code",
   "execution_count": null,
   "metadata": {
    "ExecuteTime": {
     "end_time": "2021-03-29T01:29:06.061608Z",
     "start_time": "2021-03-29T01:29:04.970Z"
    }
   },
   "outputs": [],
   "source": [
    "# 작성할 텍스트의 포트 설정\n",
    "font = cv2.FONT_HERSHEY_PLAIN\n",
    "\n",
    "# 인식된 사물에 대한 노이즈 제거작업(중복 박스 제거)\n",
    "indexes = cv2.dnn.NMSBoxes(boxes, confidences, min_confidence, 0.4)\n",
    "# boxes : 사각형 정보들\n",
    "# confidences : 모든 박스들의 확율값들\n",
    "# min_confidence : 1 차 임계 값\n",
    "# 0.4 : 동일 박스들에서 실제 사물에 해당되는 것을 제외한 나머지를 제거할 2차 임계값\n",
    "# (표시할   box 의 내용이 담긴 인덱스만 추출)\n",
    "\n",
    "for i in range(len(boxes)):\n",
    "    if i in indexes:\n",
    "        x, y, w, h = boxes[i]\n",
    "        label = str(classes[class_ids[i]])\n",
    "        print(i, label)\n",
    "        color = colors[i]\n",
    "        cv2.rectangle(img, (x, y), (x + w, y + h), color, 2)\n",
    "        cv2.putText(img, label, (x, y + 30), font, 2, (0, 255, 0), 1)\n",
    "cv2.imshow(\"YOLO Image\", img)\n",
    "cv2.waitKey(0)\n",
    "cv2.destroyAllWindows()"
   ]
  },
  {
   "cell_type": "code",
   "execution_count": null,
   "metadata": {},
   "outputs": [],
   "source": []
  },
  {
   "cell_type": "code",
   "execution_count": null,
   "metadata": {},
   "outputs": [],
   "source": []
  }
 ],
 "metadata": {
  "hide_input": false,
  "kernelspec": {
   "display_name": "Python 3",
   "language": "python",
   "name": "python3"
  },
  "language_info": {
   "codemirror_mode": {
    "name": "ipython",
    "version": 3
   },
   "file_extension": ".py",
   "mimetype": "text/x-python",
   "name": "python",
   "nbconvert_exporter": "python",
   "pygments_lexer": "ipython3",
   "version": "3.8.5"
  },
  "toc": {
   "base_numbering": 1,
   "nav_menu": {},
   "number_sections": true,
   "sideBar": true,
   "skip_h1_title": false,
   "title_cell": "Table of Contents",
   "title_sidebar": "Contents",
   "toc_cell": false,
   "toc_position": {},
   "toc_section_display": true,
   "toc_window_display": false
  },
  "varInspector": {
   "cols": {
    "lenName": 16,
    "lenType": 16,
    "lenVar": 40
   },
   "kernels_config": {
    "python": {
     "delete_cmd_postfix": "",
     "delete_cmd_prefix": "del ",
     "library": "var_list.py",
     "varRefreshCmd": "print(var_dic_list())"
    },
    "r": {
     "delete_cmd_postfix": ") ",
     "delete_cmd_prefix": "rm(",
     "library": "var_list.r",
     "varRefreshCmd": "cat(var_dic_list()) "
    }
   },
   "types_to_exclude": [
    "module",
    "function",
    "builtin_function_or_method",
    "instance",
    "_Feature"
   ],
   "window_display": false
  }
 },
 "nbformat": 4,
 "nbformat_minor": 4
}
