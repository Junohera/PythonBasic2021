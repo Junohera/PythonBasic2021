{
 "cells": [
  {
   "cell_type": "markdown",
   "metadata": {},
   "source": [
    "### if 문\n",
    "\n",
    "* 조건(a>10과 같은 True/False가 결과인 수식)을 기술하고 조건이 True이면 해당 문단을 실행, 아니면 실행하지않고 뛰어넘는 형식의 순서제어문입니다.\n",
    "* 타프로그래밍에서 표시하는 실행영역 표시가 따로 없습니다.\n",
    "* 파이썬에서는 실행영역의 구분으로 'tab'- 들여쓰기가 사용됩니다.\n",
    "* if 조건문 :\n",
    "* ....실행문1\n",
    "* ....실행문2\n",
    "* 실행문3\n",
    "*\n",
    "* 실행문 1 ~ 2 이 조건문 참일때 실행할 명령. 거짓일때 1~2를 건너뛰고 3실행\n",
    "* 조건문 뒤에는 반드시 \":\"를 써야합니다.\n",
    "* 들여쓰기에 대부분 tab을 사용하기 때문에 간격이 일정하게 맞춰지긴 하지만, 혹 간격이 안맞으면 에러가 발생합니다.\n",
    "* 스페이스바를 사용할 때 오류가 많이 발생함. 세칸 들여쓰기와 네칸 들여쓰기가 섞여도 오류입니다."
   ]
  },
  {
   "cell_type": "code",
   "execution_count": 1,
   "metadata": {},
   "outputs": [
    {
     "name": "stdout",
     "output_type": "stream",
     "text": [
      "정수입력 : -50\n",
      "음수입니다\n"
     ]
    }
   ],
   "source": [
    "a = int(input(\"정수입력 : \"))\n",
    "a = int(a)\n",
    "if a > 0 :\n",
    "    print(\"양수입니다\")\n",
    "\n",
    "if a < 0 :\n",
    "    print(\"음수입니다\")"
   ]
  },
  {
   "cell_type": "code",
   "execution_count": 2,
   "metadata": {},
   "outputs": [
    {
     "name": "stdout",
     "output_type": "stream",
     "text": [
      "정수입력 : 80\n",
      "짝수\n"
     ]
    }
   ],
   "source": [
    "a = input(\"정수입력 : \")\n",
    "a = int(a)\n",
    "b = a % 2\n",
    "if b == 0 :\n",
    "    print(\"짝수\")\n",
    "if b == 1 :\n",
    "    print(\"홀수\")"
   ]
  },
  {
   "cell_type": "code",
   "execution_count": 7,
   "metadata": {},
   "outputs": [
    {
     "name": "stdout",
     "output_type": "stream",
     "text": [
      "정수 입력 : -20\n",
      "음수\n"
     ]
    }
   ],
   "source": [
    "a = int(input(\"정수 입력 : \"))\n",
    "if a > 0 :\n",
    "    print(\"양수\")\n",
    "else :\n",
    "    if a < 0 :\n",
    "        print(\"음수\")\n",
    "    else :\n",
    "        print(\"0\")"
   ]
  },
  {
   "cell_type": "code",
   "execution_count": 8,
   "metadata": {},
   "outputs": [
    {
     "name": "stdout",
     "output_type": "stream",
     "text": [
      "정수 입력 : 70\n",
      "양\n"
     ]
    }
   ],
   "source": [
    "a = int(input(\"정수 입력 : \"))\n",
    "if a > 0 :\n",
    "    print(\"양\")\n",
    "elif a < 0 :\n",
    "    print(\"음\")\n",
    "else :\n",
    "    print(\"0\")"
   ]
  },
  {
   "cell_type": "code",
   "execution_count": 11,
   "metadata": {},
   "outputs": [
    {
     "name": "stdout",
     "output_type": "stream",
     "text": [
      "점수 입력 : 100\n",
      "A\n"
     ]
    }
   ],
   "source": [
    "a = int(input(\"점수 입력 : \"))\n",
    "\n",
    "if a >= 90 :\n",
    "    print(\"A\")\n",
    "elif a >= 80 and a < 90:\n",
    "    print(\"B\")\n",
    "elif a >= 70 and a < 80 :\n",
    "    print(\"C\")\n",
    "elif a >= 60 and a < 70 :\n",
    "    print(\"D\")\n",
    "else :\n",
    "    print(\"F\")"
   ]
  },
  {
   "cell_type": "code",
   "execution_count": 14,
   "metadata": {},
   "outputs": [
    {
     "name": "stdout",
     "output_type": "stream",
     "text": [
      "점수 입력 : 85\n",
      "A\n"
     ]
    }
   ],
   "source": [
    "a = int(input(\"점수 입력 : \"))\n",
    "if a < 60 :\n",
    "    print(\"F\")\n",
    "elif a <= 60 :\n",
    "    print(\"D\")\n",
    "elif a <= 70 :\n",
    "    print(\"C\")\n",
    "elif a <= 80 :\n",
    "    print(\"B\")\n",
    "else :\n",
    "    print(\"A\")"
   ]
  },
  {
   "cell_type": "markdown",
   "metadata": {},
   "source": [
    "### 연습문제\n",
    "- 출생년도를 입력받아 나이를 계산하고\n",
    "- 1~12 : 어린이\n",
    "- 13~19 : 청소년\n",
    "- 20~35 : 청년\n",
    "- 36~59 : 중년\n",
    "- 60 ~ : 노년\n",
    "- 나이계산 : 2020 - 출생년도 + 1"
   ]
  },
  {
   "cell_type": "code",
   "execution_count": 18,
   "metadata": {},
   "outputs": [
    {
     "name": "stdout",
     "output_type": "stream",
     "text": [
      "출생년도를 입력하세요 : 1994\n",
      "청년\n"
     ]
    }
   ],
   "source": [
    "age = int(input(\"출생년도를 입력하세요 : \"))\n",
    "age = 2020 - age + 1\n",
    "if age >= 60 :\n",
    "    print(\"노년\")\n",
    "elif age > 35 :\n",
    "    print(\"중년\")\n",
    "elif age > 19 :\n",
    "    print(\"청년\")\n",
    "elif age > 12 :\n",
    "    print(\"청소년\")\n",
    "else :\n",
    "    print(\"어린이\")"
   ]
  },
  {
   "cell_type": "markdown",
   "metadata": {},
   "source": [
    "### 연습문제2\n",
    "- 직급(사원, 주임, 대리, 과장, 부장)과 기본급을 입력받고,\n",
    "- 상여금을 계산하여, 기본급 + 상여급을 출력하세요\n",
    "- 상여금 비율\n",
    "- 사원 : 기본급의 50%\n",
    "- 주임 : 기본급의 60%\n",
    "- 대리 : 기본급의 70%\n",
    "- 과장 : 기본급의 80%\n",
    "- 부장 : 기본급의 90%"
   ]
  },
  {
   "cell_type": "code",
   "execution_count": 21,
   "metadata": {},
   "outputs": [
    {
     "name": "stdout",
     "output_type": "stream",
     "text": [
      "직급을 입력하세요 : (사원-1, 주임-2, 대리-3, 과장-4, 부장-5)1\n",
      "기본급을 입력하세요 : 100\n",
      "총 급여 :  150.0\n"
     ]
    }
   ],
   "source": [
    "grade = int(input(\"직급을 입력하세요 : (사원-1, 주임-2, 대리-3, 과장-4, 부장-5)\"))\n",
    "pay = int(input(\"기본급을 입력하세요 : \"))\n",
    "if grade == 1 :\n",
    "    ratio = 0.5\n",
    "elif grade == 2 :\n",
    "    ratio = 0.6\n",
    "elif grade == 3 :\n",
    "    ratio = 0.7\n",
    "elif grade == 4 :\n",
    "    ratio = 0.8\n",
    "elif grade == 5 :\n",
    "    ratio = 0.9\n",
    "else :\n",
    "    print(\"존재하지않는 직급입니다.\")\n",
    "    \n",
    "pay = pay + (pay * ratio)\n",
    "\n",
    "print(\"총 급여 : \", pay)"
   ]
  },
  {
   "cell_type": "markdown",
   "metadata": {},
   "source": [
    "### 연습문제3\n",
    "* 2021년 1월 1일은 금요일입니다.\n",
    "* 2021년 한해서 월과 일을 입력받고, 그날짜가 무슨 요일인지 출력합니다."
   ]
  },
  {
   "cell_type": "code",
   "execution_count": 32,
   "metadata": {},
   "outputs": [
    {
     "name": "stdout",
     "output_type": "stream",
     "text": [
      "월 : 3\n",
      "일 : 1\n",
      "월\n"
     ]
    }
   ],
   "source": [
    "month = int(input(\"월 : \"))\n",
    "day = int(input(\"일 : \"))\n",
    "pastDay = 0\n",
    "\n",
    "\n",
    "    \n",
    "if month >= 2 :\n",
    "    pastDay += 31\n",
    "if month >= 3 :\n",
    "    pastDay += 28 # 2021년의 2월달은 28일\n",
    "if month >= 4 :\n",
    "    pastDay += 31\n",
    "if month >= 5 :\n",
    "    pastDay += 30\n",
    "if month >= 6 :\n",
    "    pastDay += 31\n",
    "if month >= 7 :\n",
    "    pastDay += 30\n",
    "if month >= 8 :\n",
    "    pastDay += 31\n",
    "if month >= 9 :\n",
    "    pastDay += 31\n",
    "if month >= 10 :\n",
    "    pastDay += 30\n",
    "if month >= 11 :\n",
    "    pastDay += 31\n",
    "if month >= 12 :\n",
    "    pastDay += 30\n",
    "\n",
    "pastDay += day\n",
    "\n",
    "remain = pastDay % 7\n",
    "\n",
    "if remain == 1 :\n",
    "    print(\"금\")\n",
    "elif remain == 2 :\n",
    "    print(\"토\")    \n",
    "elif remain == 3 :\n",
    "    print(\"일\")\n",
    "elif remain == 4 :\n",
    "    print(\"월\")\n",
    "elif remain == 5 :\n",
    "    print(\"화\")\n",
    "elif remain == 6 :\n",
    "    print(\"수\")\n",
    "elif remain == 7 :\n",
    "    print(\"목\")\n"
   ]
  },
  {
   "cell_type": "markdown",
   "metadata": {},
   "source": [
    "### 연습문제 4\n",
    "- 년도를 입력받고, 그 해가 윤년인지 평년인지 출력하세요\n",
    "- 윤년의 조건\n",
    "   - 4의 배수이면서, 100의 배수가 아니거나, 400의 배수인 해\n"
   ]
  },
  {
   "cell_type": "code",
   "execution_count": 40,
   "metadata": {},
   "outputs": [
    {
     "name": "stdout",
     "output_type": "stream",
     "text": [
      "년도를 입력하세요2020\n",
      "윤년O\n",
      "윤년O\n"
     ]
    }
   ],
   "source": [
    "year = int(input(\"년도를 입력하세요\"))\n",
    "\n",
    "# 대부분의 언어는 연산자 실행 순서가 (산술연산 > 관계연산 > 논리연산)이지만,\n",
    "# 파이썬의 경우는 그저 순서대로 실행되므로 괄호로 우선순위를 직접 부여해야한다.\n",
    "\n",
    "# asis\n",
    "if ((year % 4) == 0) and (((year % 100) != 0) or ((year % 400) == 0)) :\n",
    "    print(\"윤년O\")\n",
    "else :\n",
    "    print(\"윤년X\")\n",
    "    \n",
    "# tobe\n",
    "ex1 = year % 4\n",
    "ex2 = year % 100\n",
    "ex3 = year % 400\n",
    "\n",
    "if (ex1 == 0) and (not ex2 == 0) or (ex3 == 0) :\n",
    "    print(\"윤년O\")\n",
    "else :\n",
    "    print(\"윤년X\")"
   ]
  },
  {
   "cell_type": "code",
   "execution_count": null,
   "metadata": {},
   "outputs": [],
   "source": []
  }
 ],
 "metadata": {
  "kernelspec": {
   "display_name": "Python 3",
   "language": "python",
   "name": "python3"
  },
  "language_info": {
   "codemirror_mode": {
    "name": "ipython",
    "version": 3
   },
   "file_extension": ".py",
   "mimetype": "text/x-python",
   "name": "python",
   "nbconvert_exporter": "python",
   "pygments_lexer": "ipython3",
   "version": "3.8.5"
  }
 },
 "nbformat": 4,
 "nbformat_minor": 4
}
