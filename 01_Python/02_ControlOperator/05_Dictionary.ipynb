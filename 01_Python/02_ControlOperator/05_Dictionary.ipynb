{
 "cells": [
  {
   "cell_type": "markdown",
   "metadata": {},
   "source": [
    "## Dictionary\n",
    "- 자바의 hash map과 비슷한 구조\n",
    "- 리스트와 튜플처럼 항목들이 저장되는 구조이되, key와 value로 짝지워진 쌍이\n",
    "- 하나의 데이터로 저장\n",
    "- 키와 밸류로 구성되어 있기때문에, 인덱스와 순서가 없음\n",
    "- 키값을 제시하여 밸류값을 저장하거나 얻어내는 구조"
   ]
  },
  {
   "cell_type": "code",
   "execution_count": 5,
   "metadata": {},
   "outputs": [
    {
     "name": "stdout",
     "output_type": "stream",
     "text": [
      "{'name': 'hong', 'phone': '01012341234', 'birth': '901010'}\n"
     ]
    }
   ],
   "source": [
    "dic = { 'name' : 'hong', 'phone' : '01012341234', 'birth' : '901010'}\n",
    "print(dic)"
   ]
  },
  {
   "cell_type": "code",
   "execution_count": 6,
   "metadata": {},
   "outputs": [
    {
     "name": "stdout",
     "output_type": "stream",
     "text": [
      "{1: 'hi', 2: 'hello', 3: 'how are you'}\n",
      "{'hi': [1, 2, 3], 'hello': [2, 3, 4], 'how are you': (3, 4, 5)}\n"
     ]
    }
   ],
   "source": [
    "a = {1: 'hi', 2: 'hello', 3: 'how are you'}\n",
    "b = {'hi': [1, 2, 3], 'hello': [2, 3, 4], 'how are you': (3, 4, 5)}\n",
    "print(a)\n",
    "print(b)"
   ]
  },
  {
   "cell_type": "code",
   "execution_count": 7,
   "metadata": {},
   "outputs": [
    {
     "ename": "TypeError",
     "evalue": "unhashable type: 'list'",
     "output_type": "error",
     "traceback": [
      "\u001b[1;31m---------------------------------------------------------------------------\u001b[0m",
      "\u001b[1;31mTypeError\u001b[0m                                 Traceback (most recent call last)",
      "\u001b[1;32m<ipython-input-7-0007a4508c31>\u001b[0m in \u001b[0;36m<module>\u001b[1;34m\u001b[0m\n\u001b[1;32m----> 1\u001b[1;33m \u001b[0mc\u001b[0m \u001b[1;33m=\u001b[0m \u001b[1;33m{\u001b[0m\u001b[1;33m[\u001b[0m\u001b[1;36m1\u001b[0m\u001b[1;33m,\u001b[0m \u001b[1;36m2\u001b[0m\u001b[1;33m,\u001b[0m \u001b[1;36m3\u001b[0m\u001b[1;33m]\u001b[0m \u001b[1;33m:\u001b[0m \u001b[1;34m'1'\u001b[0m\u001b[1;33m,\u001b[0m \u001b[1;33m[\u001b[0m\u001b[1;36m2\u001b[0m\u001b[1;33m,\u001b[0m \u001b[1;36m3\u001b[0m\u001b[1;33m,\u001b[0m \u001b[1;36m4\u001b[0m\u001b[1;33m]\u001b[0m \u001b[1;33m:\u001b[0m \u001b[1;34m'2'\u001b[0m\u001b[1;33m}\u001b[0m \u001b[1;31m# 에러\u001b[0m\u001b[1;33m\u001b[0m\u001b[1;33m\u001b[0m\u001b[0m\n\u001b[0m",
      "\u001b[1;31mTypeError\u001b[0m: unhashable type: 'list'"
     ]
    }
   ],
   "source": [
    "c = {[1, 2, 3] : '1', [2, 3, 4] : '2'} # 에러"
   ]
  },
  {
   "cell_type": "markdown",
   "metadata": {},
   "source": [
    "### dictionary 데이터 추가 삭제\n",
    "- 딕셔너리의 데이터 추가 삭제는\n",
    "    - 딕셔너리이름 = {[키값]:밸류값} -> 생성\n",
    "    - 딕셔너리이름[키값] = 밸류값 -> 추가"
   ]
  },
  {
   "cell_type": "code",
   "execution_count": 8,
   "metadata": {},
   "outputs": [
    {
     "name": "stdout",
     "output_type": "stream",
     "text": [
      "{2: 'b', 'name': 'HongGildong', 3: [1, 2, 3, 4]}\n"
     ]
    }
   ],
   "source": [
    "# 생성\n",
    "a = {1: 'a'}\n",
    "\n",
    "# 추가 - 인덱스 자리에 key 값을 정하여 놓고, value값을 '='연산자와 함께 대입합니다\n",
    "a[2] = 'b'\n",
    "a['name'] = 'HongGildong'\n",
    "a[3] = [1, 2, 3, 4]\n",
    "\n",
    "# 삭제\n",
    "del a[1]\n",
    "\n",
    "print(a)"
   ]
  },
  {
   "cell_type": "markdown",
   "metadata": {},
   "source": [
    "### dictionary 사용 및 특징\n",
    "- 키값을 제시하고 밸류값을 얻어 사용\n",
    "- 밸류값은 중복가능하지만, 키는 불가\n",
    "- keys()와 values()를 이용해 따로 얻을 수 있고\n",
    "- items()라는 함수로 모든 데이터를 얻어내 사용 가능"
   ]
  },
  {
   "cell_type": "code",
   "execution_count": 9,
   "metadata": {},
   "outputs": [
    {
     "name": "stdout",
     "output_type": "stream",
     "text": [
      "피겨\n",
      "야구\n",
      "축구\n",
      "파이썬\n"
     ]
    }
   ],
   "source": [
    "# 키값을 이용해 value얻기\n",
    "a = {\"김연아\" : \"피겨\", \"류현진\": \"야구\", \"박지성\":\"축구\", \"홍길동\":\"파이썬\"}\n",
    "\n",
    "print(a[\"김연아\"])\n",
    "print(a['류현진'])\n",
    "print(a['박지성'])\n",
    "print(a[\"홍길동\"])"
   ]
  },
  {
   "cell_type": "code",
   "execution_count": 10,
   "metadata": {},
   "outputs": [
    {
     "name": "stdout",
     "output_type": "stream",
     "text": [
      "{1: 'k', 2: 'b', 3: 'c'}\n",
      "{'김연아': '피겨', '류현진': '야구', '박지성': '축구', '홍길동': '싱크로나이즈스위밍'}\n"
     ]
    }
   ],
   "source": [
    "# 중복된 키값은 새로운 밸류 값으로 수정\n",
    "b = {1: 'a', 2: 'b', 3: 'c', 1: 'k'}\n",
    "print(b)\n",
    "# 중복된 키값으로 데이터를 추가 - 해당 키값의 밸류를 수정하는 행위\n",
    "a['홍길동'] = '싱크로나이즈스위밍'\n",
    "print(a)"
   ]
  },
  {
   "cell_type": "code",
   "execution_count": 11,
   "metadata": {},
   "outputs": [
    {
     "name": "stdout",
     "output_type": "stream",
     "text": [
      "dict_keys(['김연아', '류현진', '박지성', '홍길동'])\n",
      "dict_values(['피겨', '야구', '축구', '싱크로나이즈스위밍'])\n",
      "dict_items([('김연아', '피겨'), ('류현진', '야구'), ('박지성', '축구'), ('홍길동', '싱크로나이즈스위밍')])\n"
     ]
    }
   ],
   "source": [
    "# keys()\n",
    "print(a.keys())\n",
    "# values()\n",
    "print(a.values())\n",
    "# items()\n",
    "print(a.items())"
   ]
  },
  {
   "cell_type": "code",
   "execution_count": 12,
   "metadata": {},
   "outputs": [
    {
     "name": "stdout",
     "output_type": "stream",
     "text": [
      "피겨 야구 축구 싱크로나이즈스위밍 "
     ]
    }
   ],
   "source": [
    "# keys()함수의 활용한 반복문\n",
    "# 키값들을 하나씩 번갈아가며 k변수에 전달하며 반복실행\n",
    "for k in a.keys():\n",
    "    # 반복 실행이 되는 동안 k변수에 전달된 키값으로 밸류값을 얻어냅니다.\n",
    "    print(a[k], end = \" \")"
   ]
  },
  {
   "cell_type": "code",
   "execution_count": 14,
   "metadata": {},
   "outputs": [
    {
     "name": "stdout",
     "output_type": "stream",
     "text": [
      "총점 : 259, 평균 : 86.33\n"
     ]
    }
   ],
   "source": [
    "# dictionary 키값에 의한 반복실행\n",
    "score = { 'kor': 89, 'eng': 87, 'mat': 83}\n",
    "sum = 0\n",
    "for i in score.keys() :\n",
    "    sum += score[i]\n",
    "# sum = k['kor'] + k['eng'] + k['mat']\n",
    "print(\"총점 : %d, 평균 : %0.2f\" % (sum, sum/3))"
   ]
  },
  {
   "cell_type": "code",
   "execution_count": 16,
   "metadata": {},
   "outputs": [
    {
     "ename": "SyntaxError",
     "evalue": "invalid syntax (<ipython-input-16-fcdb3119f192>, line 1)",
     "output_type": "error",
     "traceback": [
      "\u001b[1;36m  File \u001b[1;32m\"<ipython-input-16-fcdb3119f192>\"\u001b[1;36m, line \u001b[1;32m1\u001b[0m\n\u001b[1;33m    a = {'김연아' : '피겨', '류현진';'야구', '박지성':'축구', '홍길동':'파이썬'}\u001b[0m\n\u001b[1;37m                            ^\u001b[0m\n\u001b[1;31mSyntaxError\u001b[0m\u001b[1;31m:\u001b[0m invalid syntax\n"
     ]
    }
   ],
   "source": [
    "a = {'김연아' : '피겨', '류현진';'야구', '박지성':'축구', '홍길동':'파이썬'}\n",
    "# [] 를 이용해 값을 얻고자할때 - 키가없으면 오류\n",
    "print(a['홍길서']) # 없는 키 -> 에러"
   ]
  },
  {
   "cell_type": "code",
   "execution_count": 17,
   "metadata": {},
   "outputs": [
    {
     "name": "stdout",
     "output_type": "stream",
     "text": [
      "싱크로나이즈스위밍\n",
      "None\n"
     ]
    }
   ],
   "source": [
    "# 찾고자하는 키가 없어도 오류없이 None값을 얻어 사용하는 함수 .get(키)\n",
    "print( a.get(\"홍길동\") )\n",
    "print( a.get(\"홍길남\") )"
   ]
  },
  {
   "cell_type": "code",
   "execution_count": 18,
   "metadata": {},
   "outputs": [
    {
     "name": "stdout",
     "output_type": "stream",
     "text": [
      "싱크로나이즈스위밍\n",
      "t\n"
     ]
    }
   ],
   "source": [
    "# 찾고자하는 키가 없을때 None이 아니라 내가 지목한 데이터를 표시(defaultValue)\n",
    "print( a.get(\"홍길동\", \"t\") )\n",
    "print( a.get(\"홍길남\", \"t\") )"
   ]
  },
  {
   "cell_type": "code",
   "execution_count": 20,
   "metadata": {},
   "outputs": [
    {
     "name": "stdout",
     "output_type": "stream",
     "text": [
      "True\n",
      "False\n"
     ]
    }
   ],
   "source": [
    "# 방어코드 \n",
    "print( \"홍길동\" in a )\n",
    "print( \"홍길남\" in a )"
   ]
  },
  {
   "cell_type": "code",
   "execution_count": null,
   "metadata": {},
   "outputs": [],
   "source": []
  }
 ],
 "metadata": {
  "kernelspec": {
   "display_name": "Python 3",
   "language": "python",
   "name": "python3"
  },
  "language_info": {
   "codemirror_mode": {
    "name": "ipython",
    "version": 3
   },
   "file_extension": ".py",
   "mimetype": "text/x-python",
   "name": "python",
   "nbconvert_exporter": "python",
   "pygments_lexer": "ipython3",
   "version": "3.8.5"
  }
 },
 "nbformat": 4,
 "nbformat_minor": 4
}
