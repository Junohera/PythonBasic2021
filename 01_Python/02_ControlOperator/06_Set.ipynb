{
 "cells": [
  {
   "cell_type": "markdown",
   "metadata": {},
   "source": [
    "## 집합(Set)\n",
    "- set([]) 명령으로 생성하는 데이터\n",
    "- 순서없고, 중복불가"
   ]
  },
  {
   "cell_type": "code",
   "execution_count": 7,
   "metadata": {},
   "outputs": [
    {
     "name": "stdout",
     "output_type": "stream",
     "text": [
      "{1, 2, 3}\n",
      "{'o', 'l', 'e', 'H'}\n"
     ]
    }
   ],
   "source": [
    "s1 = set([1, 2, 3])\n",
    "print(s1)\n",
    "s2 = set(\"Hello\")\n",
    "print(s2)"
   ]
  },
  {
   "cell_type": "code",
   "execution_count": 12,
   "metadata": {},
   "outputs": [
    {
     "name": "stdout",
     "output_type": "stream",
     "text": [
      "[1, 2, 3] 1\n",
      "(1, 2, 3) 1\n"
     ]
    }
   ],
   "source": [
    "# Set을 순서(인덱스 사용이 가능한)를 부여한 리스트나 튜플로 변환하여 사용하기도합니다.\n",
    "s1 = set([1, 2, 3])\n",
    "\n",
    "l1 = list(s1)\n",
    "print(l1, l1[0])\n",
    "\n",
    "t1 = tuple(s1)\n",
    "print(t1, t1[0])"
   ]
  },
  {
   "cell_type": "markdown",
   "metadata": {},
   "source": [
    "## Set의 활용 및 연산"
   ]
  },
  {
   "cell_type": "code",
   "execution_count": 13,
   "metadata": {},
   "outputs": [
    {
     "name": "stdout",
     "output_type": "stream",
     "text": [
      "{4, 5, 6}\n"
     ]
    }
   ],
   "source": [
    "# 교집합\n",
    "# a.intersection(b) 또는 a & b\n",
    "a = set([1, 2, 3, 4, 5, 6])\n",
    "b = set([4, 5, 6, 7, 8, 9])\n",
    "print(a.intersection(b))"
   ]
  },
  {
   "cell_type": "code",
   "execution_count": 14,
   "metadata": {},
   "outputs": [
    {
     "name": "stdout",
     "output_type": "stream",
     "text": [
      "{1, 2, 3, 4, 5, 6, 7, 8, 9}\n",
      "{1, 2, 3}\n"
     ]
    }
   ],
   "source": [
    "# 합집합\n",
    "# a.union(b) 또는 a | b\n",
    "print(a.union(b))\n",
    "\n",
    "# 차집합\n",
    "# a.difference(b) 또는 a - b\n",
    "print(a.difference(b))"
   ]
  },
  {
   "cell_type": "code",
   "execution_count": 15,
   "metadata": {},
   "outputs": [
    {
     "name": "stdout",
     "output_type": "stream",
     "text": [
      "{1, 2, 3, 4, 5, 6, 9}\n",
      "{1, 2, 3, 4, 5, 6, 7, 8, 9}\n",
      "{1, 2, 3, 4, 6, 7, 8, 9}\n"
     ]
    }
   ],
   "source": [
    "# 관련함수\n",
    "# 값추가\n",
    "a.add(9)\n",
    "print(a)\n",
    "\n",
    "# 여러개 추가\n",
    "a.update([7, 8])\n",
    "print(a)\n",
    "\n",
    "# 특정값 제거\n",
    "a.remove(5)\n",
    "print(a)"
   ]
  },
  {
   "cell_type": "code",
   "execution_count": null,
   "metadata": {},
   "outputs": [],
   "source": []
  }
 ],
 "metadata": {
  "kernelspec": {
   "display_name": "Python 3",
   "language": "python",
   "name": "python3"
  },
  "language_info": {
   "codemirror_mode": {
    "name": "ipython",
    "version": 3
   },
   "file_extension": ".py",
   "mimetype": "text/x-python",
   "name": "python",
   "nbconvert_exporter": "python",
   "pygments_lexer": "ipython3",
   "version": "3.8.5"
  }
 },
 "nbformat": 4,
 "nbformat_minor": 4
}
