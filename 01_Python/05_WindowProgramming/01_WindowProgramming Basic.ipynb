{
 "cells": [
  {
   "cell_type": "markdown",
   "metadata": {},
   "source": [
    "### 윈도우 프로그램의 기본\n",
    "- 파이썬에서 필요한 외부 모듈을 import하면 윈도우프로그램이 가능합니다\n",
    "- 필요한 구성요소들을 위젯이라고 부르며 ,필요한 위젯을 위해 tkinter 모듈을 import합니다."
   ]
  },
  {
   "cell_type": "code",
   "execution_count": 1,
   "metadata": {},
   "outputs": [],
   "source": [
    "# tkinter 모듈의 모든 구성요소(하위 모듈 제외)\n",
    "from tkinter import *"
   ]
  },
  {
   "cell_type": "code",
   "execution_count": 2,
   "metadata": {},
   "outputs": [],
   "source": [
    "# tkinter 모듈내 하위 모듈중 messagebox 모듈\n",
    "from tkinter import messagebox\n",
    "\n",
    "def func():\n",
    "    messagebox.showinfo(\"alert title\", \"button clicked\")"
   ]
  },
  {
   "cell_type": "code",
   "execution_count": 3,
   "metadata": {},
   "outputs": [
    {
     "data": {
      "text/plain": [
       "'1x1+0+0'"
      ]
     },
     "execution_count": 3,
     "metadata": {},
     "output_type": "execute_result"
    }
   ],
   "source": [
    "# 윈도우 객체를 생성 -> 그 레퍼런스 값을 main변수로 저장 ->\n",
    "# 생성된 윈도우의 컨트롤 변수로 사용합니다\n",
    "main = Tk()\n",
    "\n",
    "# 1. 윈도우의 타이틀\n",
    "main.title(\"윈도우 프로그램의 시작\")\n",
    "\n",
    "# label\n",
    "label = Label(main, text=\"start window program\")\n",
    "\n",
    "# label config\n",
    "label.config(font=('굴림', 18))\n",
    "\n",
    "# layout grid mode\n",
    "label.grid(row = 0, column = 0, columnspan = 4)\n",
    "# grid : 격자 형식의 화면분할\n",
    "# row = 0, column = 0 : 첫번째열 첫번째 행\n",
    "# columnspan=4 : column을 4개 차지하면 위치\n",
    "\n",
    "# button\n",
    "btn = Button(main, text=\"if click then message\", command=lambda:func())\n",
    "btn.grid(row = 1, column = 0, columnspan=4)\n",
    "\n",
    "main.geometry()\n",
    "# 괄호안에 넣을 수 있는 항목\n",
    "# '300x300-300+300' - 가로x세로 + 가로위치 + 세로 위치\n",
    "# 위와 같이 값을 넣지 않으면 기본 크기 윈도우가 설정"
   ]
  },
  {
   "cell_type": "code",
   "execution_count": 4,
   "metadata": {},
   "outputs": [],
   "source": [
    "# 생성한 윈도우를 화면에 나타냅니다.\n",
    "main.mainloop()"
   ]
  },
  {
   "cell_type": "code",
   "execution_count": null,
   "metadata": {},
   "outputs": [],
   "source": []
  },
  {
   "cell_type": "code",
   "execution_count": null,
   "metadata": {},
   "outputs": [],
   "source": []
  }
 ],
 "metadata": {
  "kernelspec": {
   "display_name": "Python 3",
   "language": "python",
   "name": "python3"
  },
  "language_info": {
   "codemirror_mode": {
    "name": "ipython",
    "version": 3
   },
   "file_extension": ".py",
   "mimetype": "text/x-python",
   "name": "python",
   "nbconvert_exporter": "python",
   "pygments_lexer": "ipython3",
   "version": "3.8.5"
  }
 },
 "nbformat": 4,
 "nbformat_minor": 4
}
