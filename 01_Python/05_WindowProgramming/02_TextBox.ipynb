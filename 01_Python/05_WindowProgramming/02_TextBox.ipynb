{
 "cells": [
  {
   "cell_type": "code",
   "execution_count": 57,
   "metadata": {},
   "outputs": [],
   "source": [
    "from tkinter import *\n",
    "from tkinter import ttk # 텍스트 상자를 사용하기 위한 모듈\n",
    "from tkinter import messagebox"
   ]
  },
  {
   "cell_type": "code",
   "execution_count": 67,
   "metadata": {},
   "outputs": [],
   "source": [
    "def btn1Click(text):\n",
    "    messagebox.showinfo(\"Button Clicked\", text)\n",
    "    \n",
    "    # \"Button Clicked\" : 메시지 상자의 타이틀\n",
    "    # str1.get(): 텍스트상자에 있던 변수값\n",
    "    \n",
    "def btn2Click():\n",
    "    textbox.delete(0, \"\")\n",
    "    textbox.insert(0, \"안녕하세요\")"
   ]
  },
  {
   "cell_type": "code",
   "execution_count": 68,
   "metadata": {},
   "outputs": [],
   "source": [
    "main = Tk()\n",
    "main.title(\"Text box usage\")\n",
    "main.geometry()\n",
    "label = Label(main, text=\"텍스트 상자에 입력후 버튼1을 클릭하세요\")\n",
    "label.config(font=('굴림', 18))\n",
    "label.grid(row=0, column=0, columnspan=4)"
   ]
  },
  {
   "cell_type": "markdown",
   "metadata": {},
   "source": [
    "- 텍스트 상자하나 버튼하나를 만들고 텍스트상자에 키보드로 입력한 텍스트를 버튼이 클릭될 때 메시지상자로 표현합니다"
   ]
  },
  {
   "cell_type": "code",
   "execution_count": 69,
   "metadata": {},
   "outputs": [],
   "source": [
    "# 텍스트상자의 생성\n",
    "# 텍스트상자는 일반적으로 텍스트 변수하나를 연결하고 텍스트상자에 담긴 내용을 연결된 변수에 저장합니다.\n",
    "\n",
    "# 문자형 변수 선언 : 값은 넣지않고, 자료형만 지정하여 변수를 만들어 둘때\n",
    "# 아래와 같이 생성합니다.\n",
    "str1 = StringVar() \n",
    "\n",
    "# 텍스트상자 생성\n",
    "textbox = ttk.Entry(main, width=20, textvariable=str1)\n",
    "# 폰트와 위치\n",
    "textbox.config(font=('굴림', 18))\n",
    "textbox.grid(row=1, column=0, columnspan=2)\n",
    "\n",
    "btn1 = Button(main, text='메시지상자로', command=lambda:btn1Click(str1.get()))\n",
    "btn1.config(font=('굴림', 15))\n",
    "btn1.grid(row=1, column = 2, columnspan=2)\n",
    "\n",
    "btn2 = Button(main, text='기존텍스트 삭제 - \"안녕하세요\"삽입', width= 70, height= 2, command=lambda:btn2Click())\n",
    "btn2.config(font=('굴림', 13))\n",
    "btn2.grid(row=2, column=0, columnspan=4)"
   ]
  },
  {
   "cell_type": "code",
   "execution_count": 70,
   "metadata": {},
   "outputs": [],
   "source": [
    "main.mainloop()"
   ]
  },
  {
   "cell_type": "code",
   "execution_count": null,
   "metadata": {},
   "outputs": [],
   "source": []
  },
  {
   "cell_type": "code",
   "execution_count": null,
   "metadata": {},
   "outputs": [],
   "source": []
  },
  {
   "cell_type": "code",
   "execution_count": null,
   "metadata": {},
   "outputs": [],
   "source": []
  },
  {
   "cell_type": "code",
   "execution_count": null,
   "metadata": {},
   "outputs": [],
   "source": []
  },
  {
   "cell_type": "code",
   "execution_count": 127,
   "metadata": {},
   "outputs": [],
   "source": [
    "from tkinter import *\n",
    "from tkinter import ttk # 텍스트 상자를 사용하기 위한 모듈\n",
    "from tkinter import messagebox"
   ]
  },
  {
   "cell_type": "code",
   "execution_count": 131,
   "metadata": {},
   "outputs": [],
   "source": [
    "def toRight():\n",
    "    if (str1.get() == \"\"):\n",
    "        messagebox.showinfo(\"alarm\", \"left is empty.\")\n",
    "    else :\n",
    "        textbox2.delete(0, \"\")\n",
    "        textbox2.insert(0, str1.get())\n",
    "        textbox.delete(0, \"\")\n",
    "    \n",
    "def toLeft():\n",
    "    if (str2.get() == \"\"):\n",
    "        messagebox.showinfo(\"alarm\", \"right is empty.\")\n",
    "    else :\n",
    "        textbox.delete(0, \"\")\n",
    "        textbox.insert(0, str2.get())\n",
    "        textbox2.delete(0, \"\")\n",
    "    "
   ]
  },
  {
   "cell_type": "code",
   "execution_count": 132,
   "metadata": {},
   "outputs": [],
   "source": [
    "main = Tk()\n",
    "main.title(\"Text box usage\")\n",
    "main.geometry()\n",
    "label = Label(main, text=\"클릭된 버튼에 따라 텍스트가 이동합니다\")\n",
    "label.config(font=('굴림', 18))\n",
    "label.grid(row=0, column=0, columnspan=4)\n",
    "\n",
    "str1 = StringVar() \n",
    "textbox = ttk.Entry(main, width=20, textvariable=str1)\n",
    "textbox.config(font=('나눔', 18))\n",
    "textbox.grid(row=1, column=0, columnspan=1)\n",
    "\n",
    "str2 = StringVar() \n",
    "textbox2 = ttk.Entry(main, width=20, textvariable=str2)\n",
    "textbox2.config(font=('나눔', 18))\n",
    "textbox2.grid(row=1, column=4, columnspan=1)\n",
    "\n",
    "btn1 = Button(main, text='- >', command=lambda:toRight())\n",
    "btn1.config(font=('나눔', 15))\n",
    "btn1.grid(row=1, column = 1, columnspan=1)\n",
    "\n",
    "btn2 = Button(main, text='< -', command=lambda:toLeft())\n",
    "btn2.config(font=('나눔', 13))\n",
    "btn2.grid(row=1, column=3, columnspan=1)"
   ]
  },
  {
   "cell_type": "code",
   "execution_count": 133,
   "metadata": {},
   "outputs": [],
   "source": [
    "main.mainloop()"
   ]
  },
  {
   "cell_type": "code",
   "execution_count": null,
   "metadata": {},
   "outputs": [],
   "source": []
  },
  {
   "cell_type": "code",
   "execution_count": null,
   "metadata": {},
   "outputs": [],
   "source": []
  },
  {
   "cell_type": "code",
   "execution_count": null,
   "metadata": {},
   "outputs": [],
   "source": []
  }
 ],
 "metadata": {
  "kernelspec": {
   "display_name": "Python 3",
   "language": "python",
   "name": "python3"
  },
  "language_info": {
   "codemirror_mode": {
    "name": "ipython",
    "version": 3
   },
   "file_extension": ".py",
   "mimetype": "text/x-python",
   "name": "python",
   "nbconvert_exporter": "python",
   "pygments_lexer": "ipython3",
   "version": "3.8.5"
  }
 },
 "nbformat": 4,
 "nbformat_minor": 4
}
