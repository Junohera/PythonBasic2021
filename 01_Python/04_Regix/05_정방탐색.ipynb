{
 "cells": [
  {
   "cell_type": "markdown",
   "metadata": {},
   "source": [
    "### 정방탐색\n",
    "- 정규표현식으로 구분해내고 매칭한 결과내용중, 정규표현식에 사용되었던 글자를 제외한 나머지를 결과로 얻고자 할때\n",
    "- 예를 들어 http://www.naver.com 에서 '글자들이 반복되고 : 으로 끝남'이라는 정규식이 있다면 결과는 http:가 될테지만\n",
    "- 원하는 결과가 ':'을 제외한 'http'만을 목적으로 할 때 사용하는 방식입니다"
   ]
  },
  {
   "cell_type": "code",
   "execution_count": 2,
   "metadata": {},
   "outputs": [
    {
     "name": "stdout",
     "output_type": "stream",
     "text": [
      "http:\n"
     ]
    }
   ],
   "source": [
    "# 정방 탐색을 사용하지 않는 예\n",
    "import re\n",
    "p = re.compile(\".+:\") # \\n이 아닌 모든 글자가 1회 이상 반복하다가 :로 끝나는 글자\n",
    "m = p.search(\"http://www.naver.com\")\n",
    "print(m.group())"
   ]
  },
  {
   "cell_type": "code",
   "execution_count": 3,
   "metadata": {},
   "outputs": [
    {
     "name": "stdout",
     "output_type": "stream",
     "text": [
      "http\n"
     ]
    }
   ],
   "source": [
    "# 정방탐색을 사용한 예\n",
    "# 정규식 : (?=정규식 또는 글자)\n",
    "# 조건에 매칭이 된 후, 해당(?= 뒤로 이어진) 정규식에 있는 글자는\n",
    "# 소모하지 않는다(취하지 않는다)\n",
    "p = re.compile(\".+(?=:)\")\n",
    "m = p.search(\"http://www.naver.com\")\n",
    "print(m.group())"
   ]
  },
  {
   "cell_type": "markdown",
   "metadata": {},
   "source": [
    "### 긍정형 전방위 탐색\n",
    "- (?=정규식 또는 글자) -> 정규식 또는 글자와 매칭되는 패턴 검색\n",
    "\n",
    "### 부정형 전방위 탐색\n",
    "- (?!정규식 또는 글자) -> 정규식 또는 글자를 제외한 매칭 검색\n",
    "\n",
    "### 긍정형, 부정형 모두 검색 결과에서 검색된 내용을 취하지 않습니다.\n",
    "- 위 예제는 마지막 글자가 ':'인 결과를 검색하되 ':'는 검색결과로 취하지 않은 결과입니다."
   ]
  },
  {
   "cell_type": "code",
   "execution_count": 5,
   "metadata": {},
   "outputs": [
    {
     "name": "stdout",
     "output_type": "stream",
     "text": [
      "['웹사이트에서 내용을 발췌합니다']\n",
      "['안녕ㄴ하세요 반갑']\n"
     ]
    }
   ],
   "source": [
    "html = \"\"\"\n",
    "<html>\n",
    "\t<head>\n",
    "\t\t<title>안녕ㄴ하세요 반갑</title>\n",
    "\t</head>\n",
    "\t<body>\n",
    "\t\t<div>웹사이트에서 내용을 발췌합니다</div>\n",
    "\t</body>\n",
    "</html>\n",
    "\"\"\"\n",
    "\n",
    "import re\n",
    "p = re.compile('(?<=<div>).*(?=</div>)', re.M)\n",
    "m = p.findall(html)\n",
    "print(m)\n",
    "\n",
    "p = re.compile('(?<=<title>).*(?=</title>)', re.M)\n",
    "m = p.findall(html)\n",
    "print(m)"
   ]
  },
  {
   "cell_type": "markdown",
   "metadata": {},
   "source": [
    "### 종합 : 여러가지 정규 표현식의 예"
   ]
  },
  {
   "cell_type": "code",
   "execution_count": 4,
   "metadata": {},
   "outputs": [
    {
     "name": "stdout",
     "output_type": "stream",
     "text": [
      "abc.txt\n",
      "autoexe.bat\n",
      "bigdata.ai\n",
      "korea.bar\n",
      "None\n"
     ]
    }
   ],
   "source": [
    "# 파일의 이름. 확장자를 나타내는 정규식\n",
    "# 글자반복 + '.' + 글자반복으로 종료되는 패턴\n",
    "p = re.compile('.*[.].*$')\n",
    "print(p.search('abc.txt').group())\n",
    "print(p.search('autoexe.bat').group())\n",
    "print(p.search('bigdata.ai').group())\n",
    "print(p.search('korea.bar').group())\n",
    "print(p.search('abcdefg'))"
   ]
  },
  {
   "cell_type": "code",
   "execution_count": 26,
   "metadata": {},
   "outputs": [
    {
     "name": "stdout",
     "output_type": "stream",
     "text": [
      "<re.Match object; span=(0, 7), match='abc.txt'>\n",
      "None\n",
      "<re.Match object; span=(0, 10), match='bigdata.ai'>\n",
      "None\n",
      "None\n",
      "<re.Match object; span=(0, 11), match='abcdefg.png'>\n",
      "----------------------------------------------------------------------\n",
      "<re.Match object; span=(0, 7), match='abc.txt'>\n",
      "None\n",
      "<re.Match object; span=(0, 10), match='bigdata.ai'>\n",
      "None\n",
      "None\n",
      "<re.Match object; span=(0, 11), match='abcdefg.png'>\n"
     ]
    }
   ],
   "source": [
    "# 파일의 확장자 중 'b'로 시작하지 않는 파일을 매칭하세요\n",
    "p = re.compile('.*[.](?!b).*')\n",
    "print(p.search('abc.txt'))\n",
    "print(p.search('autoexe.bat'))\n",
    "print(p.search('bigdata.ai'))\n",
    "print(p.search('korea.bar'))\n",
    "print(p.search('abcdefg'))\n",
    "print(p.search('abcdefg.png'))\n",
    "\n",
    "print(\"-\"*70)\n",
    "\n",
    "p2 = re.compile('.*[.][^b].*')\n",
    "print(p2.search('abc.txt'))\n",
    "print(p2.search('autoexe.bat'))\n",
    "print(p2.search('bigdata.ai'))\n",
    "print(p2.search('korea.bar'))\n",
    "print(p2.search('abcdefg'))\n",
    "print(p2.search('abcdefg.png'))"
   ]
  },
  {
   "cell_type": "code",
   "execution_count": 33,
   "metadata": {},
   "outputs": [
    {
     "name": "stdout",
     "output_type": "stream",
     "text": [
      "<re.Match object; span=(0, 7), match='abc.txt'>\n",
      "None\n",
      "<re.Match object; span=(0, 10), match='bigdata.ai'>\n",
      "None\n",
      "None\n",
      "<re.Match object; span=(0, 11), match='zbcdefg.png'>\n"
     ]
    }
   ],
   "source": [
    "# 파일이름 형식이면서,\n",
    "# b로 시작하지않거나 a로 시작하는 파일 검색\n",
    "\n",
    "p = re.compile('.*[.]([^b]|[a]).*')\n",
    "\n",
    "print(p.search('abc.txt'))\n",
    "print(p.search('autoexe.bat'))\n",
    "print(p.search('bigdata.ai'))\n",
    "print(p.search('korea.bar'))\n",
    "print(p.search('abcdefg'))\n",
    "print(p.search('zbcdefg.png'))"
   ]
  },
  {
   "cell_type": "code",
   "execution_count": 34,
   "metadata": {},
   "outputs": [
    {
     "name": "stdout",
     "output_type": "stream",
     "text": [
      "<re.Match object; span=(0, 7), match='abc.txt'>\n",
      "None\n",
      "<re.Match object; span=(0, 10), match='bigdata.ai'>\n",
      "<re.Match object; span=(0, 9), match='korea.bar'>\n",
      "None\n"
     ]
    }
   ],
   "source": [
    "p = re.compile('.*[.](?!bat$|exe$).*$')\n",
    "# '.' 뒤로 문자반복으로 끝나지만 bat 또는 exe로 끝나지 않는 부정형 정방 탐색\n",
    "print(p.search('abc.txt'))\n",
    "print(p.search('autoexe.bat'))\n",
    "print(p.search('bigdata.ai'))\n",
    "print(p.search('korea.bar'))\n",
    "print(p.search('abcdefg.exe'))"
   ]
  },
  {
   "cell_type": "code",
   "execution_count": 39,
   "metadata": {},
   "outputs": [
    {
     "name": "stdout",
     "output_type": "stream",
     "text": [
      "<re.Match object; span=(0, 7), match='abc.txt'>\n",
      "None\n",
      "<re.Match object; span=(0, 10), match='bigdata.ai'>\n",
      "<re.Match object; span=(0, 9), match='korea.bar'>\n",
      "None\n"
     ]
    }
   ],
   "source": [
    "p = re.compile('.*[.]([^b].?.?|.[^a]?.?|..?[^t])$')\n",
    "# [^b].?.? : b로 시작하지 않는 1~3글자 (메타문자 ? : 없거나 1번 반복)\n",
    "# .[^a]?.? : 두번째 글자가 a가 아닌 1~3글자\n",
    "# ..?[^t] : 마지막이 t로 끝나지 않는 1~3글자\n",
    "print(p.search('abc.txt')) # b로 시작하지않는 세글자\n",
    "print(p.search('autoexe.bat')) # b로 시작, 두번째글자 a, 마지막 t\n",
    "print(p.search('bigdata.ai')) # b로 시작하지 않는 두글자\n",
    "print(p.search('korea.bar')) # b로 시작, 두번째글자 a이지만 마지막 글자가 t가 아님\n",
    "print(p.search('abcdefg')) # 파일형식이 아님 abc.abc"
   ]
  },
  {
   "cell_type": "code",
   "execution_count": 52,
   "metadata": {},
   "outputs": [
    {
     "name": "stdout",
     "output_type": "stream",
     "text": [
      "<re.Match object; span=(0, 14), match='park@naver.com'>\n",
      "<re.Match object; span=(0, 13), match='park@daum.net'>\n",
      "<re.Match object; span=(0, 13), match='kim@gmail.com'>\n",
      "<re.Match object; span=(0, 16), match='choi@yahoo.co.kr'>\n",
      "<re.Match object; span=(0, 16), match='lee@myhome.co.kr'>\n",
      "<re.Match object; span=(0, 19), match='lee@myhome.co.kr.to'>\n",
      "None\n"
     ]
    }
   ],
   "source": [
    "# 이메일 주소만 검색\n",
    "p = re.compile(\".*[@].*[.].*\")\n",
    "print(p.match(\"park@naver.com\"))\n",
    "print(p.match(\"park@daum.net\"))\n",
    "print(p.match(\"kim@gmail.com\"))\n",
    "print(p.match(\"choi@yahoo.co.kr\"))\n",
    "print(p.match(\"lee@myhome.co.kr\"))\n",
    "print(p.match(\"lee@myhome.co.kr.to\"))\n",
    "print(p.match(\"http://abcdefg.co.kr\"))"
   ]
  },
  {
   "cell_type": "code",
   "execution_count": 57,
   "metadata": {},
   "outputs": [
    {
     "name": "stdout",
     "output_type": "stream",
     "text": [
      "<re.Match object; span=(0, 14), match='park@naver.com'>\n",
      "<re.Match object; span=(0, 13), match='park@daum.net'>\n",
      "<re.Match object; span=(0, 13), match='kim@gmail.com'>\n",
      "None\n",
      "None\n",
      "None\n",
      "None\n"
     ]
    }
   ],
   "source": [
    "# 이메일 주소만 검색 (.com과 .net만 검색)\n",
    "p = re.compile(\".*[@].*[.](com$|net$)\")\n",
    "print(p.match(\"park@naver.com\"))\n",
    "print(p.match(\"park@daum.net\"))\n",
    "print(p.match(\"kim@gmail.com\"))\n",
    "print(p.match(\"choi@yahoo.co.kr\"))\n",
    "print(p.match(\"lee@myhome.co.kr\"))\n",
    "print(p.match(\"lee@myhome.co.kr.to\"))\n",
    "print(p.match(\"http://abcdefg.co.kr\"))"
   ]
  },
  {
   "cell_type": "code",
   "execution_count": 148,
   "metadata": {},
   "outputs": [
    {
     "name": "stdout",
     "output_type": "stream",
     "text": [
      "['121.66.42.195', '192.168.0.2']\n",
      "--------------------------------------------------\n",
      "['121.66.42.195', '192.168.0.2']\n",
      "--------------------------------------------------\n",
      "['121.66.42.195', '192.168.0.2']\n"
     ]
    }
   ],
   "source": [
    "# 아래 텍스트에서 아이피 주소만 정규식으로 매칭하여 출력하시오\n",
    "text = \"\"\"\n",
    "    현재 접속중인 외부 아이피는 121.66.42.195 이며,\n",
    "    내부아이피는 192.168.0.2 입니다 \n",
    "    집주소 : 1111.1111.22.3\n",
    "\"\"\"\n",
    "p = re.compile(\"[0-9]{1,3}[.][0-9]{1,3}[.][0-9]{1,3}[.][0-9]{1,3}\", re.M)\n",
    "m = p.findall(text)\n",
    "print(m)\n",
    "print(\"-\"*50)\n",
    "p = re.compile(\"\\d{1,3}[.]\\d{1,3}[.]\\d{1,3}[.]\\d{1,3}\", re.M) \n",
    "m = p.findall(text)\n",
    "print(m)\n",
    "print(\"-\"*50)\n",
    "p = re.compile(\"[0-2]?[0-9]?[0-9][.][0-2]?[0-9]?[0-9][.][0-2]?[0-9]?[0-9][.][0-2]?[0-9]?[0-9]\", re.M) \n",
    "m = p.findall(text)\n",
    "print(m)"
   ]
  },
  {
   "cell_type": "code",
   "execution_count": 131,
   "metadata": {},
   "outputs": [
    {
     "name": "stdout",
     "output_type": "stream",
     "text": [
      "['http://www.naver.com', 'https://www.daum.net', 'https://github.io']\n"
     ]
    }
   ],
   "source": [
    "# 아래 텍스트에서 웹사이트 URL만 매칭하여 출력하시오\n",
    "text = \"\"\"\n",
    "http://www.naver.com\n",
    "https://www.daum.net\n",
    "https://github.io\n",
    "park@naver.com\n",
    "\"\"\"\n",
    "\n",
    "p = re.compile('https?:\\/\\/.*[.].*', re.M)\n",
    "m = p.findall(text)\n",
    "print(m)"
   ]
  },
  {
   "cell_type": "code",
   "execution_count": null,
   "metadata": {},
   "outputs": [],
   "source": []
  }
 ],
 "metadata": {
  "kernelspec": {
   "display_name": "Python 3",
   "language": "python",
   "name": "python3"
  },
  "language_info": {
   "codemirror_mode": {
    "name": "ipython",
    "version": 3
   },
   "file_extension": ".py",
   "mimetype": "text/x-python",
   "name": "python",
   "nbconvert_exporter": "python",
   "pygments_lexer": "ipython3",
   "version": "3.8.5"
  }
 },
 "nbformat": 4,
 "nbformat_minor": 4
}
