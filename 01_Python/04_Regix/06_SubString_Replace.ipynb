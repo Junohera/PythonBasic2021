{
 "cells": [
  {
   "cell_type": "markdown",
   "metadata": {},
   "source": [
    "### 정규표현식을 지원하는 re모듈에 글자를 대체 치환하는 함수를 사용하여 일부 글자를 바꿀 수 있습니다.\n",
    "\n",
    "- sub 함수를 위하여 바꾸려는 문자열들을 compile에 정규식으로 넣어 저장\n",
    "- sub(바꾸려는 문자, 대상 문자): 대상문자열에 정규식을 매칭하여 매칭되는 문자열을 바꾸려는 문자열로 교체\n",
    "- 문자 함수 중 replace가 1:1치환 방식이라면 sub는 정규표현식으로 매칭된 특정 다수의 스트링과 치환하는 방식입니다"
   ]
  },
  {
   "cell_type": "code",
   "execution_count": 4,
   "metadata": {},
   "outputs": [
    {
     "name": "stdout",
     "output_type": "stream",
     "text": [
      "color socks and color socks\n"
     ]
    }
   ],
   "source": [
    "import re\n",
    "# 문장내 blue or white or red 셋중에 하나 매칭검색\n",
    "p = re.compile('blue|white|red')\n",
    "# 매칭 결과에 color라는 String으로 대체\n",
    "print(p.sub('color', 'blue socks and red socks'))"
   ]
  },
  {
   "cell_type": "code",
   "execution_count": 6,
   "metadata": {},
   "outputs": [
    {
     "name": "stdout",
     "output_type": "stream",
     "text": [
      "color socks and red socks\n"
     ]
    }
   ],
   "source": [
    "# 대상문자열에서 매치대상을 모두치환하지 않고\n",
    "# 지정한 횟수로만 치환가능\n",
    "print(p.sub('color', 'blue socks and red socks', count = 1))"
   ]
  },
  {
   "cell_type": "code",
   "execution_count": 7,
   "metadata": {},
   "outputs": [
    {
     "name": "stdout",
     "output_type": "stream",
     "text": [
      "('color socks and color socks and color socks', 3)\n",
      "변경 결과 :  color socks and color socks and color socks\n",
      "변경 횟수 :  3\n"
     ]
    }
   ],
   "source": [
    "# sub 함수와 유사한 subn함수\n",
    "# 동일한 기능이지만 리턴되는결과가 튜플\n",
    "# 리턴된 첫번째 요소는 변경된 문자열, 두번째요소는 바꾸기 실행횟수\n",
    "print(p.subn('color', 'blue socks and red socks and white socks'))\n",
    "\n",
    "a, b = p.subn('color', 'blue socks and red socks and white socks')\n",
    "print(\"변경 결과 : \", a)\n",
    "print(\"변경 횟수 : \", b)"
   ]
  },
  {
   "cell_type": "code",
   "execution_count": 29,
   "metadata": {},
   "outputs": [
    {
     "name": "stdout",
     "output_type": "stream",
     "text": [
      "park 010-2172-7798\n",
      "park 010-2172-7798\n",
      "park 010-2172-7798\n"
     ]
    }
   ],
   "source": [
    "# sub함수 사용시 그룹네임 사용하여 위치조정\n",
    "p = re.compile(r\"(?P<name>\\w+)(?P<phone>(\\d+)[0]\\d+[-](\\d+))\")\n",
    "print(p.sub(\"\\g<phone> \\g<name>\", \"park 010-2172-7798\"))\n",
    "\n",
    "# 그룹의 인덱스로도 조정이 가능\n",
    "p = re.compile(r\"(?P<name>\\w+)(?P<phone>(\\d+)[0]\\d+[-](\\d+))\")\n",
    "print(p.sub(\"\\g<2> \\g<1>\", \"park 010-2172-7798\"))\n",
    "print(p.sub(\"\\g<2> \\g<1> \\g<0>\", \"park 010-2172-7798\"))"
   ]
  },
  {
   "cell_type": "code",
   "execution_count": 33,
   "metadata": {},
   "outputs": [
    {
     "name": "stdout",
     "output_type": "stream",
     "text": [
      "원본Text : Call 65985 for printing, 415685 for user code\n",
      "다음 십진수를 16진수로 변형하여 리턴합니다 :  65985\n",
      "다음 십진수를 16진수로 변형하여 리턴합니다 :  415685\n",
      "Call 0x101c1 for printing, 0x657c5 for user code\n"
     ]
    }
   ],
   "source": [
    "# sub 함수의 입력 인수로 함수이름을 넣고 이를 활용할 수 있습니다\n",
    "# sub 함수에 첫번째 인수로 함수를 넣음으로서 \n",
    "# 정규식으로 매칭된 객체들을 첫번째 인수로 입력한 함수읜 인수로 전달합니다.\n",
    "# 리턴 값으로 되돌아온 값이 매칭된 문자열과 치환되어 최종 결과를 완성합니다\n",
    "\n",
    "def hexrep(m):\n",
    "    print(\"다음 십진수를 16진수로 변형하여 리턴합니다 : \", m.group())\n",
    "    value = int(m.group()) # text -> int(=10)\n",
    "    return hex(value) # int(=10) -> 16\n",
    "\n",
    "print(\"원본Text : Call 65985 for printing, 415685 for user code\")\n",
    "p = re.compile(r'\\d+')\n",
    "print(p.sub(hexrep, 'Call 65985 for printing, 415685 for user code'))"
   ]
  },
  {
   "cell_type": "code",
   "execution_count": 35,
   "metadata": {},
   "outputs": [],
   "source": [
    "a = \"\"\"\n",
    "park 010-1234-6789\n",
    "juno 010-2172-7798\n",
    "lee 010-111-1234\n",
    "\"\"\""
   ]
  },
  {
   "cell_type": "markdown",
   "metadata": {},
   "source": [
    "- 위 문자열을 정규표현식을 사용하여\n",
    "- park 010-1234-****\n",
    "- juno 010-2172-****\n",
    "- lee 010-111-****\n",
    "- 위와같이 출력"
   ]
  },
  {
   "cell_type": "code",
   "execution_count": 58,
   "metadata": {},
   "outputs": [
    {
     "name": "stdout",
     "output_type": "stream",
     "text": [
      "\n",
      "park 010-1234-****\n",
      "juno 010-2172-****\n",
      "lee 010-111-****\n",
      "\n"
     ]
    }
   ],
   "source": [
    "p = re.compile(\"[-]\\d{4}\\n\") # - 숫자 4개 - 줄바꿈\n",
    "# sub함수에 multiline 옵션은 생략가능\n",
    "print(p.sub('-****\\n', a))"
   ]
  },
  {
   "cell_type": "code",
   "execution_count": null,
   "metadata": {},
   "outputs": [],
   "source": []
  }
 ],
 "metadata": {
  "kernelspec": {
   "display_name": "Python 3",
   "language": "python",
   "name": "python3"
  },
  "language_info": {
   "codemirror_mode": {
    "name": "ipython",
    "version": 3
   },
   "file_extension": ".py",
   "mimetype": "text/x-python",
   "name": "python",
   "nbconvert_exporter": "python",
   "pygments_lexer": "ipython3",
   "version": "3.8.5"
  }
 },
 "nbformat": 4,
 "nbformat_minor": 4
}
