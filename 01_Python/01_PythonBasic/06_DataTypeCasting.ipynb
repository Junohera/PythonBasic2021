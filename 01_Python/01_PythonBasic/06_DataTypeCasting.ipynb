{
 "cells": [
  {
   "cell_type": "markdown",
   "metadata": {},
   "source": [
    "### Type\n",
    "- int\n",
    "- float\n",
    "- str\n",
    "- bool\n",
    "\n",
    "### type()\n",
    "\n",
    "- how to use: type(Data || Variable)\n",
    "- result : return Type"
   ]
  },
  {
   "cell_type": "code",
   "execution_count": 3,
   "metadata": {},
   "outputs": [
    {
     "name": "stdout",
     "output_type": "stream",
     "text": [
      "a변수의 자료형(Data Type) :  <class 'int'>\n",
      "b변수의 자료형(Data Type) :  <class 'float'>\n",
      "c변수의 자료형(Data Type) :  <class 'str'>\n",
      "d변수의 자료형(Data Type) :  <class 'bool'>\n"
     ]
    }
   ],
   "source": [
    "# 현재 자료의 자료형을 확인하는 도구\n",
    "\n",
    "a = 123\n",
    "b = 123.45\n",
    "c = \"123\"\n",
    "d = True\n",
    "\n",
    "print(\"a변수의 자료형(Data Type) : \", type(a))\n",
    "print(\"b변수의 자료형(Data Type) : \", type(b))\n",
    "print(\"c변수의 자료형(Data Type) : \", type(c))\n",
    "print(\"d변수의 자료형(Data Type) : \", type(d))"
   ]
  },
  {
   "cell_type": "code",
   "execution_count": 4,
   "metadata": {},
   "outputs": [
    {
     "name": "stdout",
     "output_type": "stream",
     "text": [
      "a: 10.0 b: 10 c: 76.23 d: 123 e: 123 f: 123.456\n",
      "a:  <class 'float'> b:  <class 'int'> c:  <class 'float'> d:  <class 'int'> e:  <class 'str'> f:  <class 'str'>\n"
     ]
    }
   ],
   "source": [
    "a = float(10)\n",
    "b = int(10.6)\n",
    "c = float(\"76.23\")\n",
    "d = int(\"123\")\n",
    "e = str(123)\n",
    "f = str(123.456)\n",
    "\n",
    "print(\"a:\", a, \"b:\", b, \"c:\", c, \"d:\", d, \"e:\", e, \"f:\", f)\n",
    "print(\"a: \", type(a), \"b: \", type(b), \"c: \", type(c), \"d: \", type(d), \"e: \", type(e), \"f: \", type(f))"
   ]
  },
  {
   "cell_type": "markdown",
   "metadata": {},
   "source": [
    "### 사용자 입력\n",
    "- 콘솔화면에서 사용자에게 입력을 받아 변수에 저장하는 함수\n",
    "- a = input()\n",
    "- 입력받는 값은 기본적으로 String형으로 받아지며, 다른 형으로 변경이 필요한 경우 캐스팅연산을 통해 변환하여 사용"
   ]
  },
  {
   "cell_type": "code",
   "execution_count": 5,
   "metadata": {},
   "outputs": [
    {
     "name": "stdout",
     "output_type": "stream",
     "text": [
      "50\n",
      "입력값 :  50  자료형 :  <class 'str'>\n",
      "변환값 :  50  자료형 :  <class 'int'>\n"
     ]
    }
   ],
   "source": [
    "a = input()\n",
    "b = int(a)\n",
    "print(\"입력값 : \" , a , \" 자료형 : \", type(a))\n",
    "print(\"변환값 : \" , b , \" 자료형 : \", type(b))"
   ]
  },
  {
   "cell_type": "code",
   "execution_count": 6,
   "metadata": {},
   "outputs": [
    {
     "name": "stdout",
     "output_type": "stream",
     "text": [
      "정수를 입력하세요\n",
      "1234\n"
     ]
    }
   ],
   "source": [
    "print(\"정수를 입력하세요\")\n",
    "a = int(input())"
   ]
  },
  {
   "cell_type": "code",
   "execution_count": 7,
   "metadata": {},
   "outputs": [
    {
     "name": "stdout",
     "output_type": "stream",
     "text": [
      "정수를 입력하세요 : 50\n",
      "입력값 :  50  자료형 :  <class 'str'>\n",
      "변환값 :  50  자료형 :  <class 'int'>\n"
     ]
    }
   ],
   "source": [
    "# input() 함수 안에 안내문구를 같이 넣어서 안내한 후 입력 받을 수 있다.\n",
    "a = input(\"정수를 입력하세요 : \" )\n",
    "b = int(a)\n",
    "print(\"입력값 : \" , a , \" 자료형 : \", type(a))\n",
    "print(\"변환값 : \" , b , \" 자료형 : \", type(b))"
   ]
  },
  {
   "cell_type": "code",
   "execution_count": 9,
   "metadata": {},
   "outputs": [
    {
     "name": "stdout",
     "output_type": "stream",
     "text": [
      "첫번째 정수를 입력하세요 : 10\n",
      "두번째 정수를 입력하세요 : 20\n",
      "10  +  20  =  30\n",
      "10  -  20  =  -10\n",
      "10  *  20  =  200\n",
      "10  /  20  =  0.5\n"
     ]
    }
   ],
   "source": [
    "# 두개의 정수를 입력받아서 두수의 + - * / 의 결과를 출력하세요\n",
    "\n",
    "a = input(\"첫번째 정수를 입력하세요 : \")\n",
    "b = input(\"두번째 정수를 입력하세요 : \")\n",
    "c = int(a)\n",
    "d = int(b)\n",
    "\n",
    "print(c , \" + \", d, \" = \" , c+d)\n",
    "print(c , \" - \", d, \" = \" , c-d)\n",
    "print(c , \" * \", d, \" = \" , c*d)\n",
    "print(c , \" / \", d, \" = \" , c/d)"
   ]
  },
  {
   "cell_type": "code",
   "execution_count": null,
   "metadata": {},
   "outputs": [],
   "source": []
  },
  {
   "cell_type": "markdown",
   "metadata": {},
   "source": [
    "# 연습문제\n",
    "\n",
    "## 삼각형의 밑변과 높이를 입력받아서 삼각형의 넓이를 출력합니다.\n",
    "- 밑변 : a\n",
    "- 높이 : b\n",
    "- 넓이 : n\n",
    "- 공식 : 밑변 * 높이 * 0.5\n",
    "\n",
    "# 연습문제\n",
    "\n",
    "## 원의 반지름을 입력받아서 넓이와 둘레를 출력하는 프로그램\n",
    "- 반지름 : ban\n",
    "- 넓이 : n (공식: 반지름*반지름*3.141592)\n",
    "- 둘레 : d (공식 : 2* 반지름 * 3.141592)"
   ]
  },
  {
   "cell_type": "code",
   "execution_count": 13,
   "metadata": {},
   "outputs": [
    {
     "name": "stdout",
     "output_type": "stream",
     "text": [
      "밑변 : 10\n",
      "높이 : 20\n",
      "넓이 :  100.0\n"
     ]
    }
   ],
   "source": [
    "a = int(input(\"밑변 : \"))\n",
    "b = int(input(\"높이 : \"))\n",
    "n = a * b * 0.5\n",
    "\n",
    "print(\"넓이 : \", n)"
   ]
  },
  {
   "cell_type": "code",
   "execution_count": 14,
   "metadata": {},
   "outputs": [
    {
     "name": "stdout",
     "output_type": "stream",
     "text": [
      "반지름 : 10\n",
      "넓이 :  314.1592\n",
      "둘레 :  62.83184\n"
     ]
    }
   ],
   "source": [
    "ban = int(input(\"반지름 : \"))\n",
    "n = ban * ban * 3.141592\n",
    "d = 2 * ban * 3.141592\n",
    "\n",
    "print(\"넓이 : \", n)\n",
    "print(\"둘레 : \", d)"
   ]
  },
  {
   "cell_type": "markdown",
   "metadata": {},
   "source": []
  }
 ],
 "metadata": {
  "kernelspec": {
   "display_name": "Python 3",
   "language": "python",
   "name": "python3"
  },
  "language_info": {
   "codemirror_mode": {
    "name": "ipython",
    "version": 3
   },
   "file_extension": ".py",
   "mimetype": "text/x-python",
   "name": "python",
   "nbconvert_exporter": "python",
   "pygments_lexer": "ipython3",
   "version": "3.8.5"
  }
 },
 "nbformat": 4,
 "nbformat_minor": 4
}
