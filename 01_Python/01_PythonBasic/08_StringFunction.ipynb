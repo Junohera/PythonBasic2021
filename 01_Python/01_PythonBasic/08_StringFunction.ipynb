{
 "cells": [
  {
   "cell_type": "markdown",
   "metadata": {},
   "source": [
    "### 문자열 관련 활용 가능한 함수들\n",
    "- 문자열 대상 도구이므로, 대상 문자열의 뒤에 (.)을 찍고 이어서 함수의 이름을 써서 실행합니다."
   ]
  },
  {
   "cell_type": "code",
   "execution_count": 2,
   "metadata": {},
   "outputs": [
    {
     "name": "stdout",
     "output_type": "stream",
     "text": [
      "2\n",
      "2\n"
     ]
    }
   ],
   "source": [
    "# 문자열 내에 특정 문자 갯수를 카운트\n",
    "a = \"hobby\"\n",
    "print(a.count(\"b\"))\n",
    "print(\"hobby\".count(\"b\"))"
   ]
  },
  {
   "cell_type": "code",
   "execution_count": 3,
   "metadata": {},
   "outputs": [
    {
     "name": "stdout",
     "output_type": "stream",
     "text": [
      "10\n",
      "-1\n"
     ]
    }
   ],
   "source": [
    "# 문자 위치정보 1 - 문자가 있으면 위치값, 없으면 -1리턴\n",
    "# 위치 정보는 0부터 시작하며 공백(' ')도 하나의 글자로 인식\n",
    "# 검색시 대소문자는 철저히 구분\n",
    "a = \"Python is best choice\"\n",
    "print(a.find(\"b\"))\n",
    "print(\"Python is best choice\".find(\"k\"))"
   ]
  },
  {
   "cell_type": "code",
   "execution_count": 4,
   "metadata": {},
   "outputs": [
    {
     "name": "stdout",
     "output_type": "stream",
     "text": [
      "10\n"
     ]
    },
    {
     "ename": "ValueError",
     "evalue": "substring not found",
     "output_type": "error",
     "traceback": [
      "\u001b[0;31m---------------------------------------------------------------------------\u001b[0m",
      "\u001b[0;31mValueError\u001b[0m                                Traceback (most recent call last)",
      "\u001b[0;32m<ipython-input-4-d1554d29bc55>\u001b[0m in \u001b[0;36m<module>\u001b[0;34m\u001b[0m\n\u001b[1;32m      2\u001b[0m \u001b[0ma\u001b[0m \u001b[0;34m=\u001b[0m \u001b[0;34m\"Python is best choice\"\u001b[0m\u001b[0;34m\u001b[0m\u001b[0;34m\u001b[0m\u001b[0m\n\u001b[1;32m      3\u001b[0m \u001b[0mprint\u001b[0m\u001b[0;34m(\u001b[0m\u001b[0ma\u001b[0m\u001b[0;34m.\u001b[0m\u001b[0mindex\u001b[0m\u001b[0;34m(\u001b[0m\u001b[0;34m\"b\"\u001b[0m\u001b[0;34m)\u001b[0m\u001b[0;34m)\u001b[0m\u001b[0;34m\u001b[0m\u001b[0;34m\u001b[0m\u001b[0m\n\u001b[0;32m----> 4\u001b[0;31m \u001b[0mprint\u001b[0m\u001b[0;34m(\u001b[0m\u001b[0ma\u001b[0m\u001b[0;34m.\u001b[0m\u001b[0mindex\u001b[0m\u001b[0;34m(\u001b[0m\u001b[0;34m\"k\"\u001b[0m\u001b[0;34m)\u001b[0m\u001b[0;34m)\u001b[0m\u001b[0;34m\u001b[0m\u001b[0;34m\u001b[0m\u001b[0m\n\u001b[0m",
      "\u001b[0;31mValueError\u001b[0m: substring not found"
     ]
    }
   ],
   "source": [
    "# 문자 위치정보 2 - 문자가 있으면 위치값, 없으면 오류발생\n",
    "a = \"Python is best choice\"\n",
    "print(a.index(\"b\"))\n",
    "print(a.index(\"k\"))"
   ]
  },
  {
   "cell_type": "code",
   "execution_count": 5,
   "metadata": {},
   "outputs": [
    {
     "name": "stdout",
     "output_type": "stream",
     "text": [
      "a,b,c,d\n",
      "a-b-c-d\n"
     ]
    }
   ],
   "source": [
    "# 문자열 삽입 join\n",
    "a = \",\"\n",
    "print(a.join(\"abcd\"))\n",
    "a = \"-\"\n",
    "print(a.join(\"abcd\"))"
   ]
  },
  {
   "cell_type": "code",
   "execution_count": 6,
   "metadata": {},
   "outputs": [
    {
     "name": "stdout",
     "output_type": "stream",
     "text": [
      "HELLO\n",
      "hello\n"
     ]
    }
   ],
   "source": [
    "# upper\n",
    "a = \"hello\"\n",
    "print(a.upper())\n",
    "\n",
    "# lower\n",
    "a = \"HELLO\"\n",
    "print(a.lower())"
   ]
  },
  {
   "cell_type": "code",
   "execution_count": 11,
   "metadata": {},
   "outputs": [
    {
     "name": "stdout",
     "output_type": "stream",
     "text": [
      "before :      hi!\n",
      "result : hi!\n",
      "before :  hi    !\n",
      "result : hi!\n",
      "before :      hi    !\n",
      "result : hi!\n"
     ]
    }
   ],
   "source": [
    "# 왼쪽 공백 지우기\n",
    "a = \"    hi\"\n",
    "print(\"before : \" , a + \"!\")\n",
    "print(\"result : \" + a.lstrip() + \"!\")\n",
    "\n",
    "# 오른쪽 공백 지우기\n",
    "a = \"hi    \"\n",
    "print(\"before : \" , a + \"!\")\n",
    "print(\"result : \" + a.rstrip() + \"!\")\n",
    "\n",
    "# 양쪽 공백 지우기\n",
    "a = \"    hi    \"\n",
    "print(\"before : \" , a + \"!\")\n",
    "print(\"result : \" + a.strip() + \"!\")"
   ]
  },
  {
   "cell_type": "code",
   "execution_count": 12,
   "metadata": {},
   "outputs": [
    {
     "name": "stdout",
     "output_type": "stream",
     "text": [
      "My Leg is too short\n"
     ]
    }
   ],
   "source": [
    "# 문자열 대체 (replace) : replace() 괄호 안에 나열된 두개의 문자열을 이용\n",
    "# 앞에 문자열을 뒤에 문자열로 대체\n",
    "a = \"Life is too short\"\n",
    "print(a.replace(\"Life\", \"My Leg\"))"
   ]
  },
  {
   "cell_type": "code",
   "execution_count": 13,
   "metadata": {},
   "outputs": [
    {
     "name": "stdout",
     "output_type": "stream",
     "text": [
      "['Life', 'is', 'too', 'short']\n",
      "['a', 'b', 'c', 'd']\n"
     ]
    }
   ],
   "source": [
    "# 문자열 분리(split) : 전달인수가 아무것도 없는 split도구(함수)는 문자열안에 있는 공백을 기준으로 분리\n",
    "a = \"Life is too short\"\n",
    "print(a.split())\n",
    "# 문자열 분리(split) : 전달인수를 지정하면 그 문자를 기준으로 분리\n",
    "a = \"a:b:c:d\"\n",
    "print(a.split(\":\"))\n",
    "# split의 결과 자료형은 배열과 비슷한 구조를 갖는 \"List\"이며 이는 다음 단원에서 "
   ]
  },
  {
   "cell_type": "markdown",
   "metadata": {},
   "source": [
    "### 연습문제\n",
    "- 번호, 이름, 국어, 영어, 수학을 입력받고\n",
    "- 총점 평균을 계산하여 성적표 형식으로 출력하세요\n",
    "- 평균점수는 소수점 두자리까지만\n",
    "- 문자열 포맷은 %, 또는 {} 중 편한것을 선택"
   ]
  },
  {
   "cell_type": "code",
   "execution_count": 41,
   "metadata": {},
   "outputs": [
    {
     "name": "stdout",
     "output_type": "stream",
     "text": [
      "\t\t\t###성적표###\n",
      "--------------------------------------------------------------\n",
      "번호\t성명\t\t국어\t영어\t수학\t총점\t평균\n",
      "--------------------------------------------------------------\n",
      "1 \t홍 길 동 \t\t91 \t86 \t94 \t271 \t90.33\n",
      "1 \t홍 길 동 \t\t91 \t86 \t94 \t271 \t90.33\n",
      "--------------------------------------------------------------\n"
     ]
    }
   ],
   "source": [
    "# num = int(input(\"num : \"))\n",
    "# name = input(\"name : \")\n",
    "# kor = int(input(\"kor : \"))\n",
    "# eng = int(input(\"eng : \"))\n",
    "# mat = int(input(\"mat : \"))\n",
    "# tot = kor + eng + mat\n",
    "# avg = tot / 3\n",
    "\n",
    "num = 1\n",
    "name = \"홍길동\"\n",
    "kor = 91\n",
    "eng = 86\n",
    "mat = 94\n",
    "tot = kor + eng + mat\n",
    "avg = tot / 3\n",
    "\n",
    "name = \" \".join(name)\n",
    "\n",
    "print(\"\\t\\t\\t###성적표###\")\n",
    "print(\"-\" * 62)\n",
    "print(\"번호\\t성명\\t\\t국어\\t영어\\t수학\\t총점\\t평균\")\n",
    "print(\"-\" * 62)\n",
    "print(\"%d \\t%s \\t\\t%d \\t%d \\t%d \\t%d \\t%.2f\" % (num, name, kor, eng, mat, tot, avg))\n",
    "print(\"{0} \\t{1} \\t\\t{2} \\t{3} \\t{4} \\t{5} \\t{6:0.2f}\".format(num, name, kor, eng, mat, tot, avg))\n",
    "print(\"-\" * 62)"
   ]
  },
  {
   "cell_type": "code",
   "execution_count": null,
   "metadata": {},
   "outputs": [],
   "source": []
  },
  {
   "cell_type": "code",
   "execution_count": null,
   "metadata": {},
   "outputs": [],
   "source": []
  }
 ],
 "metadata": {
  "kernelspec": {
   "display_name": "Python 3",
   "language": "python",
   "name": "python3"
  },
  "language_info": {
   "codemirror_mode": {
    "name": "ipython",
    "version": 3
   },
   "file_extension": ".py",
   "mimetype": "text/x-python",
   "name": "python",
   "nbconvert_exporter": "python",
   "pygments_lexer": "ipython3",
   "version": "3.8.5"
  }
 },
 "nbformat": 4,
 "nbformat_minor": 4
}
