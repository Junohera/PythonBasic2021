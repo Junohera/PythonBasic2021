{
 "cells": [
  {
   "cell_type": "markdown",
   "metadata": {},
   "source": [
    "#### 파이썬의 문자 데이터\n",
    "* 큰따옴표로 묶거나 작은 따옴표로 묶어서 사용합니다. - 자바스크립트처럼 필요에 의한 경우를 빼곤 작은,큰 구분없이 사용\n",
    "* 한글, 영문, 아라비아기호, 특수문자 등 모두가 문자 대상\n",
    "* 1, 2, 3 은 정수 '1', '2', '3'은 문자"
   ]
  },
  {
   "cell_type": "code",
   "execution_count": null,
   "metadata": {},
   "outputs": [],
   "source": [
    "print(1234) # 정수\n",
    "print(\"1234\") # 문자 출력 \"1234\"\n",
    "# 큰 따옴표, 작은 따옴표\n",
    "print(\"Python is Fun\")\n",
    "print('Hello World')"
   ]
  },
  {
   "cell_type": "code",
   "execution_count": 3,
   "metadata": {},
   "outputs": [
    {
     "name": "stdout",
     "output_type": "stream",
     "text": [
      "Life is short\n",
      "You need happiness\n",
      "Life is short\n",
      "You need happiness\n"
     ]
    }
   ],
   "source": [
    "# 작은, 큰 따옴표 세개로 멀티라인 문자열 가능\n",
    "print('''Life is short\n",
    "You need happiness''')\n",
    "print(\"\"\"Life is short\n",
    "You need happiness\"\"\")\n",
    "# 파이선의 print는 자바의 System.out.println처럼 출력하는 함수\n",
    "# 출력후 라인을 바꾸는 기능이 포함되어있음."
   ]
  },
  {
   "cell_type": "code",
   "execution_count": 1,
   "metadata": {},
   "outputs": [
    {
     "name": "stdout",
     "output_type": "stream",
     "text": [
      "Life is short\n",
      "You need happiness\n"
     ]
    }
   ],
   "source": [
    "# 멀티라인 저장의 또다른 예 - '\\n' : 다음 라인 이동 표식\n",
    "print(\"Life is short\\nYou need happiness\")"
   ]
  },
  {
   "cell_type": "code",
   "execution_count": 4,
   "metadata": {},
   "outputs": [
    {
     "name": "stdout",
     "output_type": "stream",
     "text": [
      "He said 'Python is very easy'\n",
      "He said \"Python is very easy\"\n",
      "He said 'Python is very easy'\n",
      "He said \"Python is very easy\"\n"
     ]
    }
   ],
   "source": [
    "# 문자열 안에 작은따옴표 포함\n",
    "print(\"He said 'Python is very easy'\")\n",
    "\n",
    "# 문자열 안에 큰따옴표 포함\n",
    "print('He said \"Python is very easy\"')\n",
    "\n",
    "# 문자열 안에 작은따옴표 포함\n",
    "print(\"He said \\'Python is very easy\\'\")\n",
    "\n",
    "# 문자열 안에 큰따옴표 포함\n",
    "print('He said \\\"Python is very easy\\\"')"
   ]
  },
  {
   "cell_type": "markdown",
   "metadata": {},
   "source": [
    "#### 파이선에서 사용되는 '\\\\'로 표현되는 이스케이프 문자\n",
    "* \\n : 줄바꿈\n",
    "* \\t : 탭\n",
    "* \\\\ : \\ 글자\n",
    "* \\' : ' 글자\n",
    "* \\\" : \" 글자\n",
    "* \\b : 백스페이스"
   ]
  },
  {
   "cell_type": "code",
   "execution_count": 5,
   "metadata": {},
   "outputs": [
    {
     "name": "stdout",
     "output_type": "stream",
     "text": [
      "겁나 쉬운 파이썬 프로그래밍\n",
      "파이썬 프로그래밍 핛급 성공가능성90\b\b100%\n",
      "\t\t ★ \\b : 백그페이스 키와 같은 역할\n",
      "\t\t ★ \\t : Tab 키와 같은 역할\n"
     ]
    }
   ],
   "source": [
    "print(\"겁나 쉬운 파이썬 프로그래밍\")\n",
    "print(\"파이썬 프로그래밍 핛급 성공가능성90\\b\\b100%\")\n",
    "print(\"\\t\\t ★ \\\\b : 백그페이스 키와 같은 역할\")\n",
    "print(\"\\t\\t ★ \\\\t : Tab 키와 같은 역할\")"
   ]
  },
  {
   "cell_type": "code",
   "execution_count": 13,
   "metadata": {},
   "outputs": [
    {
     "name": "stdout",
     "output_type": "stream",
     "text": [
      "\n",
      "\t\t\t ###성적표###\n",
      "\n",
      "----------------------------------------------------------------\n",
      "번호\t성명\t\t국어\t영어\t수학\t총점\t평균\n",
      "----------------------------------------------------------------\n",
      "1\t홍길동\t\t85\t56\t78\t250\t75.3\n",
      "2\tGildong\t\t75\t56\t68\t230\t71.8\n",
      "----------------------------------------------------------------\n",
      "\n",
      "\n"
     ]
    }
   ],
   "source": [
    "print(\"\"\"\n",
    "\\t\\t\\t ###성적표###\n",
    "\n",
    "----------------------------------------------------------------\n",
    "번호\\t성명\\t\\t국어\\t영어\\t수학\\t총점\\t평균\n",
    "----------------------------------------------------------------\n",
    "1\\t홍길동\\t\\t85\\t56\\t78\\t250\\t75.3\n",
    "2\\tGildong\\t\\t75\\t56\\t68\\t230\\t71.8\n",
    "----------------------------------------------------------------\n",
    "\n",
    "\"\"\")"
   ]
  },
  {
   "cell_type": "code",
   "execution_count": null,
   "metadata": {},
   "outputs": [],
   "source": []
  }
 ],
 "metadata": {
  "kernelspec": {
   "display_name": "Python 3",
   "language": "python",
   "name": "python3"
  },
  "language_info": {
   "codemirror_mode": {
    "name": "ipython",
    "version": 3
   },
   "file_extension": ".py",
   "mimetype": "text/x-python",
   "name": "python",
   "nbconvert_exporter": "python",
   "pygments_lexer": "ipython3",
   "version": "3.8.5"
  }
 },
 "nbformat": 4,
 "nbformat_minor": 4
}
