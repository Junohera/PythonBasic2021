{
 "cells": [
  {
   "cell_type": "code",
   "execution_count": 1,
   "metadata": {},
   "outputs": [
    {
     "name": "stdout",
     "output_type": "stream",
     "text": [
      " Python  is easy\n",
      " is easy Python \n"
     ]
    }
   ],
   "source": [
    "# 문자열의 덧셈연산 : 연결(Concatenation)\n",
    "a = \" Python \"\n",
    "b = \" is easy\"\n",
    "print( a + b )\n",
    "c = b + a\n",
    "print(c)"
   ]
  },
  {
   "cell_type": "code",
   "execution_count": 3,
   "metadata": {},
   "outputs": [
    {
     "ename": "TypeError",
     "evalue": "can only concatenate str (not \"int\") to str",
     "output_type": "error",
     "traceback": [
      "\u001b[1;31m---------------------------------------------------------------------------\u001b[0m",
      "\u001b[1;31mTypeError\u001b[0m                                 Traceback (most recent call last)",
      "\u001b[1;32m<ipython-input-3-8884a8e4e3f1>\u001b[0m in \u001b[0;36m<module>\u001b[1;34m\u001b[0m\n\u001b[0;32m      1\u001b[0m \u001b[1;31m# 문자열과 숫자의 덧셈연산은 에러발생\u001b[0m\u001b[1;33m\u001b[0m\u001b[1;33m\u001b[0m\u001b[1;33m\u001b[0m\u001b[0m\n\u001b[1;32m----> 2\u001b[1;33m \u001b[0mprint\u001b[0m\u001b[1;33m(\u001b[0m \u001b[0ma\u001b[0m \u001b[1;33m+\u001b[0m \u001b[1;36m10\u001b[0m \u001b[1;33m)\u001b[0m\u001b[1;33m\u001b[0m\u001b[1;33m\u001b[0m\u001b[0m\n\u001b[0m",
      "\u001b[1;31mTypeError\u001b[0m: can only concatenate str (not \"int\") to str"
     ]
    }
   ],
   "source": [
    "# 문자열과 숫자의 덧셈연산은 에러발생\n",
    "print( a + 10 )"
   ]
  },
  {
   "cell_type": "code",
   "execution_count": 4,
   "metadata": {},
   "outputs": [
    {
     "name": "stdout",
     "output_type": "stream",
     "text": [
      "PythonPythonPythonPythonPython\n"
     ]
    }
   ],
   "source": [
    "# 문자열의 곱셈 연산 : 피승수데이터가 승수만큼 반복\n",
    "a = \"Python\"\n",
    "print ( a * 5 )"
   ]
  },
  {
   "cell_type": "code",
   "execution_count": 6,
   "metadata": {},
   "outputs": [
    {
     "name": "stdout",
     "output_type": "stream",
     "text": [
      "-------------------------------------------------------\n",
      "번호\t이름\t국어\t영어\t수학\t총점\t평균\n",
      "-------------------------------------------------------\n"
     ]
    }
   ],
   "source": [
    "print(\"-\" * 55)\n",
    "print(\"번호\\t이름\\t국어\\t영어\\t수학\\t총점\\t평균\")\n",
    "print(\"-\" * 55)"
   ]
  },
  {
   "cell_type": "code",
   "execution_count": 9,
   "metadata": {},
   "outputs": [
    {
     "name": "stdout",
     "output_type": "stream",
     "text": [
      "L\n",
      "i\n",
      "f\n",
      " \n",
      "y\n",
      "e\n",
      "L\n"
     ]
    }
   ],
   "source": [
    "a = \"Life is too short. You need Money\"\n",
    "print( a[0] )\n",
    "print( a[1] )\n",
    "print( a[2] )\n",
    "print( a[4] )\n",
    "print( a[-1] ) # 음수는 뒤에서부터\n",
    "print( a[-2] ) \n",
    "print( a[-0] ) # 0과 -0은 동일한 인덱스. 첫번째 글자"
   ]
  },
  {
   "cell_type": "markdown",
   "metadata": {},
   "source": [
    "### 문자열 슬라이싱\n",
    "- 인덱싱이 문자열 안의 하나의 글자들을 추출하는 작업이라면\n",
    "- 슬라이싱은 문자열중 단어들을 추출하기 위한 작업\n",
    "- a[시작문자인덱스:끝문자 인덱스 + 1]"
   ]
  },
  {
   "cell_type": "code",
   "execution_count": 10,
   "metadata": {},
   "outputs": [
    {
     "name": "stdout",
     "output_type": "stream",
     "text": [
      "Life i\n",
      "Life i\n"
     ]
    }
   ],
   "source": [
    "a = \"Life is too short. You need Money\"\n",
    "b = a[0] + a[1] + a[2] + a[3] + a[4] + a[5]\n",
    "print(b)\n",
    "b = a[0:6]\n",
    "print(b)"
   ]
  },
  {
   "cell_type": "markdown",
   "metadata": {},
   "source": [
    "### 연습문제\n",
    "- 다음 단어들을 슬라이싱하여 변수a에서 추출하고 출력하시오\n",
    "- short, you, need\n",
    "- 다음 단어는 음수 인덱스를 이용하여 추출하고 출력하시오\n",
    "- Money"
   ]
  },
  {
   "cell_type": "code",
   "execution_count": 40,
   "metadata": {},
   "outputs": [
    {
     "name": "stdout",
     "output_type": "stream",
     "text": [
      "short, You, need \n",
      "Money\n"
     ]
    }
   ],
   "source": [
    "a = \"Life is too short. You need Money!\"\n",
    "\n",
    "short = a[12:17]\n",
    "you = a[19:22]\n",
    "need = a[23:28]\n",
    "money = a[-6:-1]\n",
    "\n",
    "print(short + \", \" + you + \", \" + need)\n",
    "print(money)"
   ]
  },
  {
   "cell_type": "markdown",
   "metadata": {},
   "source": [
    "- 시작문자 인덱스가 생략된 경우 : 처음부터\n",
    "- 끝문자 인덱스가 생략된 경우 : 끝까지"
   ]
  },
  {
   "cell_type": "code",
   "execution_count": 41,
   "metadata": {},
   "outputs": [
    {
     "name": "stdout",
     "output_type": "stream",
     "text": [
      "Life is \n",
      "shortr. You need Money\n"
     ]
    }
   ],
   "source": [
    "a = \"Life is too shortr. You need Money\"\n",
    "print( a[:8] )\n",
    "print( a[12:] )"
   ]
  },
  {
   "cell_type": "code",
   "execution_count": 43,
   "metadata": {},
   "outputs": [
    {
     "ename": "TypeError",
     "evalue": "'str' object does not support item assignment",
     "output_type": "error",
     "traceback": [
      "\u001b[1;31m---------------------------------------------------------------------------\u001b[0m",
      "\u001b[1;31mTypeError\u001b[0m                                 Traceback (most recent call last)",
      "\u001b[1;32m<ipython-input-43-44c58bf7c68b>\u001b[0m in \u001b[0;36m<module>\u001b[1;34m\u001b[0m\n\u001b[0;32m      1\u001b[0m \u001b[0ma\u001b[0m \u001b[1;33m=\u001b[0m \u001b[1;34m\"Pithon\"\u001b[0m\u001b[1;33m\u001b[0m\u001b[1;33m\u001b[0m\u001b[0m\n\u001b[1;32m----> 2\u001b[1;33m \u001b[0ma\u001b[0m\u001b[1;33m[\u001b[0m\u001b[1;36m1\u001b[0m\u001b[1;33m]\u001b[0m \u001b[1;33m=\u001b[0m \u001b[1;34m'y'\u001b[0m \u001b[1;31m# 인덱싱으로는 수정이 불가능\u001b[0m\u001b[1;33m\u001b[0m\u001b[1;33m\u001b[0m\u001b[0m\n\u001b[0m",
      "\u001b[1;31mTypeError\u001b[0m: 'str' object does not support item assignment"
     ]
    }
   ],
   "source": [
    "a = \"Pithon\"\n",
    "a[1] = 'y' # 인덱싱으로는 수정이 불가능"
   ]
  },
  {
   "cell_type": "code",
   "execution_count": null,
   "metadata": {},
   "outputs": [],
   "source": []
  }
 ],
 "metadata": {
  "kernelspec": {
   "display_name": "Python 3",
   "language": "python",
   "name": "python3"
  },
  "language_info": {
   "codemirror_mode": {
    "name": "ipython",
    "version": 3
   },
   "file_extension": ".py",
   "mimetype": "text/x-python",
   "name": "python",
   "nbconvert_exporter": "python",
   "pygments_lexer": "ipython3",
   "version": "3.8.5"
  }
 },
 "nbformat": 4,
 "nbformat_minor": 4
}
