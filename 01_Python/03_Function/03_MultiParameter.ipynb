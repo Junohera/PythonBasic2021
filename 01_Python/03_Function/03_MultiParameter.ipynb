{
 "cells": [
  {
   "cell_type": "markdown",
   "metadata": {},
   "source": [
    "### 전달인수(매개변수)의 갯수가 정해지지 않은 함수\n",
    "- *args라는 이름으로 매개변수를 작성\n",
    "- 전달인수의 갯수와 상관없이 전달된 모든 데이터를 튜플로 저장\n",
    "- 아래와 같이 반복 실행의 요소로 사용"
   ]
  },
  {
   "cell_type": "code",
   "execution_count": 3,
   "metadata": {},
   "outputs": [],
   "source": [
    "def sum_many(*args):\n",
    "    print(args) # 튜플로 받아옴\n",
    "    sum = 0\n",
    "    for k in args:\n",
    "        sum += k\n",
    "    return sum"
   ]
  },
  {
   "cell_type": "code",
   "execution_count": 4,
   "metadata": {},
   "outputs": [
    {
     "name": "stdout",
     "output_type": "stream",
     "text": [
      "(2, 3)\n",
      "5\n",
      "(2, 3, 4, 5, 6, 7)\n",
      "27\n"
     ]
    }
   ],
   "source": [
    "s = sum_many(2, 3)\n",
    "print(s)\n",
    "s = sum_many(2, 3, 4, 5, 6, 7)\n",
    "print(s)"
   ]
  },
  {
   "cell_type": "code",
   "execution_count": 5,
   "metadata": {},
   "outputs": [
    {
     "name": "stdout",
     "output_type": "stream",
     "text": [
      "(3, 5, 7, '4')\n"
     ]
    },
    {
     "ename": "TypeError",
     "evalue": "unsupported operand type(s) for +=: 'int' and 'str'",
     "output_type": "error",
     "traceback": [
      "\u001b[1;31m---------------------------------------------------------------------------\u001b[0m",
      "\u001b[1;31mTypeError\u001b[0m                                 Traceback (most recent call last)",
      "\u001b[1;32m<ipython-input-5-27956a761140>\u001b[0m in \u001b[0;36m<module>\u001b[1;34m\u001b[0m\n\u001b[0;32m      1\u001b[0m \u001b[1;31m# 갯수가 정해지지않은 전달인수로 서로 다른 자료형의 데이터를 전달하는 경우\u001b[0m\u001b[1;33m\u001b[0m\u001b[1;33m\u001b[0m\u001b[1;33m\u001b[0m\u001b[0m\n\u001b[0;32m      2\u001b[0m \u001b[1;31m# 함수실행문까지는 정상적으로 되지만, 다만 함수내부에서 타입별 방어를 생각해야한다.\u001b[0m\u001b[1;33m\u001b[0m\u001b[1;33m\u001b[0m\u001b[1;33m\u001b[0m\u001b[0m\n\u001b[1;32m----> 3\u001b[1;33m \u001b[0ms\u001b[0m \u001b[1;33m=\u001b[0m \u001b[0msum_many\u001b[0m\u001b[1;33m(\u001b[0m\u001b[1;36m3\u001b[0m\u001b[1;33m,\u001b[0m \u001b[1;36m5\u001b[0m\u001b[1;33m,\u001b[0m \u001b[1;36m7\u001b[0m\u001b[1;33m,\u001b[0m \u001b[1;34m'4'\u001b[0m\u001b[1;33m)\u001b[0m\u001b[1;33m\u001b[0m\u001b[1;33m\u001b[0m\u001b[0m\n\u001b[0m",
      "\u001b[1;32m<ipython-input-3-98afd03fd38f>\u001b[0m in \u001b[0;36msum_many\u001b[1;34m(*args)\u001b[0m\n\u001b[0;32m      3\u001b[0m     \u001b[0msum\u001b[0m \u001b[1;33m=\u001b[0m \u001b[1;36m0\u001b[0m\u001b[1;33m\u001b[0m\u001b[1;33m\u001b[0m\u001b[0m\n\u001b[0;32m      4\u001b[0m     \u001b[1;32mfor\u001b[0m \u001b[0mk\u001b[0m \u001b[1;32min\u001b[0m \u001b[0margs\u001b[0m\u001b[1;33m:\u001b[0m\u001b[1;33m\u001b[0m\u001b[1;33m\u001b[0m\u001b[0m\n\u001b[1;32m----> 5\u001b[1;33m         \u001b[0msum\u001b[0m \u001b[1;33m+=\u001b[0m \u001b[0mk\u001b[0m\u001b[1;33m\u001b[0m\u001b[1;33m\u001b[0m\u001b[0m\n\u001b[0m\u001b[0;32m      6\u001b[0m     \u001b[1;32mreturn\u001b[0m \u001b[0msum\u001b[0m\u001b[1;33m\u001b[0m\u001b[1;33m\u001b[0m\u001b[0m\n",
      "\u001b[1;31mTypeError\u001b[0m: unsupported operand type(s) for +=: 'int' and 'str'"
     ]
    }
   ],
   "source": [
    "# 갯수가 정해지지않은 전달인수로 서로 다른 자료형의 데이터를 전달하는 경우\n",
    "# 함수실행문까지는 정상적으로 되지만, 다만 함수내부에서 타입별 방어를 생각해야한다.\n",
    "s = sum_many(3, 5, 7, '4')"
   ]
  },
  {
   "cell_type": "markdown",
   "metadata": {},
   "source": [
    "### *args와 함께 사용하는 별도의 전달인수\n",
    "- 반드시 args보다 왼쪽에 있어야합니다.(args가 가장 마지막)\n",
    "- 만약 위치가 틀리면 (*args의 오른쪽의 다른 매개변수가 있다면)함수 호출 시 별도의 변수에 전달되는 값과 *args에 전달되는 값들의 경계를 구분할 수 없습니다.\n",
    "- 왼쪽에 매개변수가 하나라면, 전달된 인수중 하나만 그 변수에 전달되고 나머지는 튜플로 *args에 전달됩니다"
   ]
  },
  {
   "cell_type": "markdown",
   "metadata": {},
   "source": [
    "### 관련 예제\n",
    "- *args를 이용하여 데이터를 전달해주되, op 매개변수를 만들고, 연산자를 전달하여 연산자별 계산의 결과를 리턴해서 출력\n",
    "- 연산자는 +-*/"
   ]
  },
  {
   "cell_type": "code",
   "execution_count": 16,
   "metadata": {},
   "outputs": [],
   "source": [
    "def cal_number(op, *args) :\n",
    "    result = 0\n",
    "    \n",
    "    if (op == \"+\"):\n",
    "        for i in args :\n",
    "            result += i\n",
    "    elif (op == \"-\"):\n",
    "        for i in args :\n",
    "            result -= i\n",
    "    elif (op == \"*\"):\n",
    "        for i in args :\n",
    "            result *= i\n",
    "    elif (op == \"/\"):\n",
    "        for i in args :\n",
    "            result /= i\n",
    "            \n",
    "    return result\n"
   ]
  },
  {
   "cell_type": "code",
   "execution_count": 17,
   "metadata": {},
   "outputs": [
    {
     "name": "stdout",
     "output_type": "stream",
     "text": [
      "80\n",
      "-80\n",
      "0\n",
      "0.0\n"
     ]
    }
   ],
   "source": [
    "print(cal_number('+', 5, 6, 9, 8, 7, 45))\n",
    "print(cal_number('-', 5, 6, 9, 8, 7, 45))\n",
    "print(cal_number('*', 5, 6, 9, 8, 7, 45))\n",
    "print(cal_number('/', 5, 6, 9, 8, 7, 45))"
   ]
  },
  {
   "cell_type": "markdown",
   "metadata": {},
   "source": [
    "### 연습문제\n",
    "- 아래의 함수 호출이 에러없이 실행되도록 사용자 정의 함수를 만드세요"
   ]
  },
  {
   "cell_type": "code",
   "execution_count": 16,
   "metadata": {},
   "outputs": [],
   "source": [
    "def cal_tot_ave(action, *numbers):\n",
    "    res = 0;\n",
    "    \n",
    "    # 합\n",
    "    for i in numbers:\n",
    "        res += i\n",
    "    \n",
    "    # 평균\n",
    "    if (action == \"average\"):\n",
    "        res /= len(numbers)\n",
    "        \n",
    "    return res"
   ]
  },
  {
   "cell_type": "code",
   "execution_count": 18,
   "metadata": {},
   "outputs": [
    {
     "name": "stdout",
     "output_type": "stream",
     "text": [
      "total: 437\t, average: 87.40\n",
      "total: 221\t, average: 73.67\n"
     ]
    }
   ],
   "source": [
    "t = cal_tot_ave(\"total\", 98, 87, 58, 96, 98)\n",
    "a = cal_tot_ave(\"average\", 98, 87, 58, 96, 98)\n",
    "print(\"total: %d\\t, average: %0.2f\" % (t, a))\n",
    "\n",
    "t = cal_tot_ave(\"total\", 87, 45, 89)\n",
    "a = cal_tot_ave(\"average\", 87, 45, 89)\n",
    "print(\"total: %d\\t, average: %0.2f\" % (t, a))"
   ]
  },
  {
   "cell_type": "code",
   "execution_count": null,
   "metadata": {},
   "outputs": [],
   "source": []
  }
 ],
 "metadata": {
  "kernelspec": {
   "display_name": "Python 3",
   "language": "python",
   "name": "python3"
  },
  "language_info": {
   "codemirror_mode": {
    "name": "ipython",
    "version": 3
   },
   "file_extension": ".py",
   "mimetype": "text/x-python",
   "name": "python",
   "nbconvert_exporter": "python",
   "pygments_lexer": "ipython3",
   "version": "3.8.5"
  }
 },
 "nbformat": 4,
 "nbformat_minor": 4
}
