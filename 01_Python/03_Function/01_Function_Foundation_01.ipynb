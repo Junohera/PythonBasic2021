{
 "cells": [
  {
   "cell_type": "markdown",
   "metadata": {},
   "source": [
    "### Function\n",
    "- 입력 - 연산 - 출력"
   ]
  },
  {
   "cell_type": "markdown",
   "metadata": {},
   "source": [
    "* 함수의 생성\n",
    "* def ${name}():\n",
    " "
   ]
  },
  {
   "cell_type": "code",
   "execution_count": 27,
   "metadata": {},
   "outputs": [],
   "source": [
    "def prnTitle():\n",
    "    print(\"\\t\\t### 성적표 ###\")\n",
    "    print(\"-\" * 50)\n",
    "    print(\"번호\\t국어\\t영어\\t수학\\t총점\\t평균\")\n",
    "    print(\"-\" * 50)"
   ]
  },
  {
   "cell_type": "code",
   "execution_count": 31,
   "metadata": {},
   "outputs": [],
   "source": [
    "def inputData():\n",
    "#     # 점수 입력후 입력된 점수들을 리스트에 저장\n",
    "#     s = [] # 비어있는 데이터 생성 - 3의학생, 3과목의 점수들이 저장될 리스트\n",
    "#     for i in range(0, 3): #3명의 학생점수를 입력받기위한 반복실행문\n",
    "#         t = []\n",
    "#         for j in range(0, 3):\n",
    "#             # 점수 입력\n",
    "#             print(\"%d번 학생의 %d번째 과목 정수 입력 : \"% (i + 1, j + 1), end = \"\")\n",
    "#             score = int(input(\"입력 : \"))\n",
    "#             t.append(score)\n",
    "#         s.append(t)\n",
    "    \n",
    "    s = [[100, 100, 100], [100, 90, 90], [50, 50, 50]]\n",
    "    return s"
   ]
  },
  {
   "cell_type": "code",
   "execution_count": 34,
   "metadata": {},
   "outputs": [],
   "source": [
    "def calTot(score):\n",
    "    total = []\n",
    "    for sc in score:\n",
    "        sum = 0\n",
    "        for s in sc:\n",
    "            sum += s\n",
    "        total.append(sum)\n",
    "    return total"
   ]
  },
  {
   "cell_type": "code",
   "execution_count": 38,
   "metadata": {},
   "outputs": [],
   "source": [
    "def calAvg(total) :\n",
    "    average = []\n",
    "    for t in total:\n",
    "        average.append(t/3)\n",
    "    \n",
    "    return average"
   ]
  },
  {
   "cell_type": "code",
   "execution_count": 40,
   "metadata": {},
   "outputs": [],
   "source": [
    "def prn(score, total, average):\n",
    "    for i in range(0, 3):\n",
    "        print(\"%d\\t\" % (i + 1), end=\"\")\n",
    "        for j in range(0, 3):\n",
    "            print(\"%d\\t\" % (score[i][j]), end=\"\")\n",
    "        print(\"%d\\t%0.2f\" % (total[i], average[i]))\n",
    "    print(\"-\" * 50)"
   ]
  },
  {
   "cell_type": "code",
   "execution_count": 42,
   "metadata": {},
   "outputs": [
    {
     "name": "stdout",
     "output_type": "stream",
     "text": [
      "\t\t### 성적표 ###\n",
      "--------------------------------------------------\n",
      "번호\t국어\t영어\t수학\t총점\t평균\n",
      "--------------------------------------------------\n",
      "1\t100\t100\t100\t300\t100.00\n",
      "2\t100\t90\t90\t280\t93.33\n",
      "3\t50\t50\t50\t150\t50.00\n",
      "--------------------------------------------------\n"
     ]
    }
   ],
   "source": [
    "score = inputData()\n",
    "\n",
    "total = calTot(score)\n",
    "    \n",
    "average = calAvg(total)\n",
    "    \n",
    "prnTitle()\n",
    "\n",
    "prn(score, total, average)"
   ]
  },
  {
   "cell_type": "code",
   "execution_count": null,
   "metadata": {},
   "outputs": [],
   "source": []
  }
 ],
 "metadata": {
  "kernelspec": {
   "display_name": "Python 3",
   "language": "python",
   "name": "python3"
  },
  "language_info": {
   "codemirror_mode": {
    "name": "ipython",
    "version": 3
   },
   "file_extension": ".py",
   "mimetype": "text/x-python",
   "name": "python",
   "nbconvert_exporter": "python",
   "pygments_lexer": "ipython3",
   "version": "3.8.5"
  }
 },
 "nbformat": 4,
 "nbformat_minor": 4
}
