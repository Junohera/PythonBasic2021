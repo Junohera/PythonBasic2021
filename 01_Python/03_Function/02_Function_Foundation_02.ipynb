{
 "cells": [
  {
   "cell_type": "markdown",
   "metadata": {},
   "source": [
    "### 반지름 입력받아 넓이와 둘레를 계산하여 출력"
   ]
  },
  {
   "cell_type": "code",
   "execution_count": 5,
   "metadata": {},
   "outputs": [],
   "source": [
    "def inputData() :\n",
    "    return int(input(\"반지름을 입력하세요 : \"))"
   ]
  },
  {
   "cell_type": "code",
   "execution_count": 6,
   "metadata": {},
   "outputs": [],
   "source": [
    "def calcN(ban) :\n",
    "    return ban * ban * 3.14"
   ]
  },
  {
   "cell_type": "code",
   "execution_count": 10,
   "metadata": {},
   "outputs": [],
   "source": [
    "def calcD(ban) :\n",
    "    return ban * 2 * 3.14"
   ]
  },
  {
   "cell_type": "code",
   "execution_count": 13,
   "metadata": {},
   "outputs": [],
   "source": [
    "def prnResult(n, d):\n",
    "    print(\"넓이 : %0.2f\" % n)\n",
    "    print(\"둘레 : %0.2f\" % d)"
   ]
  },
  {
   "cell_type": "code",
   "execution_count": 14,
   "metadata": {},
   "outputs": [
    {
     "name": "stdout",
     "output_type": "stream",
     "text": [
      "반지름을 입력하세요 : 10\n",
      "넓이 : 314.00\n",
      "둘레 : 62.80\n"
     ]
    }
   ],
   "source": [
    "ban = inputData()\n",
    "n = calcN(ban)\n",
    "d = calcD(ban)\n",
    "prnResult(n, d)"
   ]
  },
  {
   "cell_type": "markdown",
   "metadata": {},
   "source": [
    "### factorial 함수"
   ]
  },
  {
   "cell_type": "code",
   "execution_count": 24,
   "metadata": {},
   "outputs": [],
   "source": [
    "def factorial(n):\n",
    "    f = 1\n",
    "    for i in range(1, n + 1):\n",
    "        f *= i\n",
    "        print(f)\n",
    "    return f"
   ]
  },
  {
   "cell_type": "code",
   "execution_count": 25,
   "metadata": {},
   "outputs": [
    {
     "name": "stdout",
     "output_type": "stream",
     "text": [
      "정수 입력: 6\n",
      "1\n",
      "2\n",
      "6\n",
      "24\n",
      "120\n",
      "720\n",
      "6! = 720"
     ]
    }
   ],
   "source": [
    "n = int(input(\"정수 입력: \"))\n",
    "f = factorial(n)\n",
    "print(\"%d! = %d\" % (n, f), end=\"\")"
   ]
  },
  {
   "cell_type": "code",
   "execution_count": null,
   "metadata": {},
   "outputs": [],
   "source": []
  }
 ],
 "metadata": {
  "kernelspec": {
   "display_name": "Python 3",
   "language": "python",
   "name": "python3"
  },
  "language_info": {
   "codemirror_mode": {
    "name": "ipython",
    "version": 3
   },
   "file_extension": ".py",
   "mimetype": "text/x-python",
   "name": "python",
   "nbconvert_exporter": "python",
   "pygments_lexer": "ipython3",
   "version": "3.8.5"
  }
 },
 "nbformat": 4,
 "nbformat_minor": 4
}
