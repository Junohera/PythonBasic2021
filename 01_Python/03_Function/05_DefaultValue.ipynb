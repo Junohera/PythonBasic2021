{
 "cells": [
  {
   "cell_type": "code",
   "execution_count": 1,
   "metadata": {},
   "outputs": [],
   "source": [
    "# 함수의 전달인수에 기본값을 저장해두고, 전달값이 없을 때 사용\n",
    "def say_myself(name, age, man=True):\n",
    "    print(\"나의 이름은 %s 입니다\" % (name))\n",
    "    print(\"나의 나이는 %d 입니다\" % (age))\n",
    "    if man:\n",
    "        print(\"남자입니다\")\n",
    "    else:\n",
    "        print(\"여자입니다\")"
   ]
  },
  {
   "cell_type": "code",
   "execution_count": 2,
   "metadata": {},
   "outputs": [
    {
     "name": "stdout",
     "output_type": "stream",
     "text": [
      "나의 이름은 홍길동 입니다\n",
      "나의 나이는 120 입니다\n",
      "남자입니다\n"
     ]
    }
   ],
   "source": [
    "say_myself(\"홍길동\", 120)"
   ]
  },
  {
   "cell_type": "markdown",
   "metadata": {},
   "source": [
    "- 함수의 매개변수들을 위한 디폴트값들은 오른쪽부터 왼쪽으로 순서에 맞춰 지정할 수 있습니다.\n",
    "- 세개의 매개변수가 있을 때 그 중 가운데 매개변수에는 디폴트지정을 하지않고 왼쪽 오른쪽을 디폴트값으로 지정한다거나 오른쪽 두개를 생략하고 왼쪽 하나만 지정할 수 없습니다.\n",
    "- 그 경우 함수의 호출시 적용한 디폴트 값의 인식이 모호해져서 오류가 발생합니다.\n",
    "- def say_myself(name=\"홍길남\", age, main=True): 오류\n",
    "- def say_myself(name=\"홍길남\", age, main): 오류"
   ]
  },
  {
   "cell_type": "markdown",
   "metadata": {},
   "source": [
    "- 매개변수의 전달인수로 줄 데이터를 매개변수이름을 함수 호출할 때 명시하여 순서에 상관없이 전달할 수 있습니다.\n",
    "- 함수 호출시 괄호안에 전달인수만 기술하지 않고, 매개변수의 이름까지 기술하여 전달될 목적지 매개변수를 지정해줍니다."
   ]
  },
  {
   "cell_type": "code",
   "execution_count": 7,
   "metadata": {},
   "outputs": [],
   "source": [
    "def cal_number(op, num1, num2):\n",
    "    if op == \"+\": return num1 + num2\n",
    "    elif op == \"-\": return num1 - num2\n",
    "    elif op == \"*\": return num1 * num2\n",
    "    elif op == \"/\": return num1 / num2"
   ]
  },
  {
   "cell_type": "code",
   "execution_count": 8,
   "metadata": {},
   "outputs": [
    {
     "name": "stdout",
     "output_type": "stream",
     "text": [
      "141\n",
      "1551\n"
     ]
    }
   ],
   "source": [
    "print(cal_number(\"+\", 87, 54)) # 매개변수 순서에 맞춰 호출\n",
    "print(cal_number(num1 = 47, op = \"*\", num2 = 33)) # 매개변수 이름시 순서 불필요"
   ]
  },
  {
   "cell_type": "code",
   "execution_count": null,
   "metadata": {},
   "outputs": [],
   "source": []
  }
 ],
 "metadata": {
  "kernelspec": {
   "display_name": "Python 3",
   "language": "python",
   "name": "python3"
  },
  "language_info": {
   "codemirror_mode": {
    "name": "ipython",
    "version": 3
   },
   "file_extension": ".py",
   "mimetype": "text/x-python",
   "name": "python",
   "nbconvert_exporter": "python",
   "pygments_lexer": "ipython3",
   "version": "3.8.5"
  }
 },
 "nbformat": 4,
 "nbformat_minor": 4
}
