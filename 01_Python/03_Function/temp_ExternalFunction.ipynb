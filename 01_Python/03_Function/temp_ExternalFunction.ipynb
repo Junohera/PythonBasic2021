{
 "cells": [
  {
   "cell_type": "code",
   "execution_count": 1,
   "metadata": {},
   "outputs": [],
   "source": [
    "import random"
   ]
  },
  {
   "cell_type": "code",
   "execution_count": 2,
   "metadata": {},
   "outputs": [
    {
     "name": "stdout",
     "output_type": "stream",
     "text": [
      "99 95 6 20 10 30 12 73 15 30 100 59 65 96 50 24 68 73 73 61 50 57 49 28 68 11 15 13 36 33 "
     ]
    }
   ],
   "source": [
    "for i in range(0, 30):\n",
    "    a = random.randint(1, 100)\n",
    "    print(a, end = \" \")"
   ]
  },
  {
   "cell_type": "markdown",
   "metadata": {},
   "source": [
    "## 1부터 45 사이의 숫자 6개를 뽑아서 오름차순 정렬한 후 출력하세요"
   ]
  },
  {
   "cell_type": "code",
   "execution_count": 17,
   "metadata": {},
   "outputs": [
    {
     "name": "stdout",
     "output_type": "stream",
     "text": [
      "[2, 15, 25, 25, 32, 37]\n"
     ]
    }
   ],
   "source": [
    "import random\n",
    "lotto = []\n",
    "for i in range(6):\n",
    "    a = random.randint(1, 45)\n",
    "    lotto.append(a)\n",
    "lotto.sort()\n",
    "print(lotto)"
   ]
  },
  {
   "cell_type": "code",
   "execution_count": 80,
   "metadata": {},
   "outputs": [
    {
     "name": "stdout",
     "output_type": "stream",
     "text": [
      "[7, 9, 22, 30, 34, 39]\n"
     ]
    }
   ],
   "source": [
    "# 중복을 제거한 로또 번호 발생 #1\n",
    "# 집합(Set) 발생 - 6개 숫자랜덤 생성 - set에 추가 (lotto.add())\n",
    "# set를 list로 ㅂ면환\n",
    "import random\n",
    "lotto = set()\n",
    "\n",
    "while (len(lotto) < 6) :\n",
    "    lotto.add(random.randint(1, 45))\n",
    "    \n",
    "lotto = list(lotto)\n",
    "lotto.sort()\n",
    "print(lotto)"
   ]
  },
  {
   "cell_type": "code",
   "execution_count": 122,
   "metadata": {},
   "outputs": [],
   "source": [
    "# 중복을 제거한 로또 번호 발생\n",
    "# 리스트 생성 - 6번 반복에 의해 6개의 랜덤숫자 생성\n",
    "# 기존발생숫자와 같은값이 나오면 다시 생성\n",
    "\n",
    "def getLotto():\n",
    "    \n",
    "    lotto = []\n",
    "    for i in range(6):\n",
    "        num = random.randint(1, 45)\n",
    "        while num in lotto:\n",
    "            num = random.randint(1, 45)\n",
    "        lotto.append(num)\n",
    "\n",
    "    lotto.sort()\n",
    "    \n",
    "    return lotto;"
   ]
  },
  {
   "cell_type": "code",
   "execution_count": 125,
   "metadata": {},
   "outputs": [
    {
     "name": "stdout",
     "output_type": "stream",
     "text": [
      "[4, 17, 26, 31, 35, 43]\n",
      "[1, 7, 14, 30, 37, 38]\n",
      "[1, 6, 9, 30, 33, 42]\n",
      "[7, 12, 39, 43, 44, 45]\n",
      "[19, 23, 26, 30, 35, 43]\n"
     ]
    }
   ],
   "source": [
    "# 방법 1, 2 중 하나를 선택해 5세트를 출력\n",
    "for i in range(5):\n",
    "    print(getLotto())\n",
    "    \n"
   ]
  },
  {
   "cell_type": "code",
   "execution_count": null,
   "metadata": {},
   "outputs": [],
   "source": []
  }
 ],
 "metadata": {
  "kernelspec": {
   "display_name": "Python 3",
   "language": "python",
   "name": "python3"
  },
  "language_info": {
   "codemirror_mode": {
    "name": "ipython",
    "version": 3
   },
   "file_extension": ".py",
   "mimetype": "text/x-python",
   "name": "python",
   "nbconvert_exporter": "python",
   "pygments_lexer": "ipython3",
   "version": "3.8.5"
  }
 },
 "nbformat": 4,
 "nbformat_minor": 4
}
