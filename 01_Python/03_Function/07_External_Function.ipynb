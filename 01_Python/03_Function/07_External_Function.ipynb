{
 "cells": [
  {
   "cell_type": "markdown",
   "metadata": {},
   "source": [
    "- Internal Function이 이미 내장된 함수를 이름불러 사용되는 것이라면 External Function은 외부에 준비된 함수들의 그룹(모듈)을 import하여 사용하는 것을 말합니다.\n",
    "\n",
    "- External Function은 외부에 있는 모듈을 불러와야하기때문에 해당 함수가 포함된 모듈을 import해야 사용할 수 있으며, 필요에 따라 추가로 설치(install)작업을 실행해야 할 때도 있습니다."
   ]
  },
  {
   "cell_type": "code",
   "execution_count": 1,
   "metadata": {},
   "outputs": [],
   "source": [
    "# random module\n",
    "import random"
   ]
  },
  {
   "cell_type": "code",
   "execution_count": 2,
   "metadata": {},
   "outputs": [
    {
     "name": "stdout",
     "output_type": "stream",
     "text": [
      "10 27 35 14 34 48 29 19 63 81 96 21 46 77 7 63 62 35 25 41 85 5 33 20 93 46 29 32 59 78 "
     ]
    }
   ],
   "source": [
    "# 1 부터 100 사이의 숫자중 랜덤숫자를 30번 출력\n",
    "for i in range(0, 30):\n",
    "    a = random.randint(1, 100)\n",
    "    print(a, end = \" \")"
   ]
  },
  {
   "cell_type": "code",
   "execution_count": null,
   "metadata": {},
   "outputs": [],
   "source": []
  }
 ],
 "metadata": {
  "kernelspec": {
   "display_name": "Python 3",
   "language": "python",
   "name": "python3"
  },
  "language_info": {
   "codemirror_mode": {
    "name": "ipython",
    "version": 3
   },
   "file_extension": ".py",
   "mimetype": "text/x-python",
   "name": "python",
   "nbconvert_exporter": "python",
   "pygments_lexer": "ipython3",
   "version": "3.8.5"
  }
 },
 "nbformat": 4,
 "nbformat_minor": 4
}
