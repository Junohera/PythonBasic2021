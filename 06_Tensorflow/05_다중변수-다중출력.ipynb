{
 "cells": [
  {
   "cell_type": "code",
   "execution_count": 3,
   "metadata": {
    "ExecuteTime": {
     "end_time": "2021-03-30T04:23:07.065415Z",
     "start_time": "2021-03-30T04:23:06.857667Z"
    }
   },
   "outputs": [],
   "source": [
    "import numpy as np\n",
    "from tkinter import *\n",
    "from tkinter import ttk\n",
    "import tkinter.scrolledtext as tkst\n",
    "from matplotlib.figure import Figure\n",
    "from matplotlib.backends.backend_tkagg import FigureCanvasTkAgg\n",
    "from matplotlib.animation import FuncAnimation\n",
    "import math\n",
    "import pandas as pd\n",
    "\n",
    "marathon_2015_2017 = pd.read_csv('./marathon_merge[2015~2017].csv')"
   ]
  },
  {
   "cell_type": "code",
   "execution_count": 4,
   "metadata": {
    "ExecuteTime": {
     "end_time": "2021-03-30T04:23:07.080114Z",
     "start_time": "2021-03-30T04:23:07.065415Z"
    }
   },
   "outputs": [],
   "source": [
    "def histogram():\n",
    "    t_a = int(t_aSpbox.get()) -1 \n",
    "    runner = x_test[t_a]\n",
    "    t_g = int(runner[0])\n",
    "    t_a = int(runner[1])\n",
    "    t_p = int(runner[2])\n",
    "    if (t_g) :\n",
    "        gender_color = 'b'\n",
    "    else :\n",
    "        gender_color = 'r'\n",
    "        \n",
    "    gender_record = df_2017[df_2017['M/F'] == t_g]\n",
    "    gender_age_record = gender_record[gender_record.Age == t_a]\n",
    "    gender_age_record_list = gender_age_record.values.tolist()\n",
    "    ax.plot(gender_record.Age, gender_record.Page, ',', color=gender_color, alpha=0.3)\n",
    "    ax.plot(t_a, t_p, 'yd')\n",
    "    stat = gender_age_record['Pace'].describe()\n",
    "    title = 'Gender : ' + gender_list[t_g] + ', Age : ' + str(t_a) + ', Page : ' + str(t_p)\n",
    "    ax.set_title(title)\n",
    "    ax.annotate('[' + gender_list[t_g] +', ' + str(t_a) +']', (75, 1200), fontsize=10)\n",
    "    ax.annotate('%10s %7i' % ('Count : ', stat[0]), (75, 1150), fontsize=10)\n",
    "    ax.annotate('%10s %7.3f' % ('Mean : ', stat[1]), (75, 1100), fontsize=10)\n",
    "    ax.annotate('%10s %7.3f' % ('25% : ', stat[3]), (75, 1050), fontsize=10)\n",
    "    ax.annotate('%10s %7.3f' % ('75% : ', stat[5]), (75, 1000), fontsize=10)\n",
    "    fig.canvas.draw()"
   ]
  }
 ],
 "metadata": {
  "hide_input": false,
  "kernelspec": {
   "display_name": "Python 3",
   "language": "python",
   "name": "python3"
  },
  "language_info": {
   "codemirror_mode": {
    "name": "ipython",
    "version": 3
   },
   "file_extension": ".py",
   "mimetype": "text/x-python",
   "name": "python",
   "nbconvert_exporter": "python",
   "pygments_lexer": "ipython3",
   "version": "3.8.5"
  },
  "toc": {
   "base_numbering": 1,
   "nav_menu": {},
   "number_sections": true,
   "sideBar": true,
   "skip_h1_title": false,
   "title_cell": "Table of Contents",
   "title_sidebar": "Contents",
   "toc_cell": false,
   "toc_position": {},
   "toc_section_display": true,
   "toc_window_display": true
  },
  "varInspector": {
   "cols": {
    "lenName": 16,
    "lenType": 16,
    "lenVar": 40
   },
   "kernels_config": {
    "python": {
     "delete_cmd_postfix": "",
     "delete_cmd_prefix": "del ",
     "library": "var_list.py",
     "varRefreshCmd": "print(var_dic_list())"
    },
    "r": {
     "delete_cmd_postfix": ") ",
     "delete_cmd_prefix": "rm(",
     "library": "var_list.r",
     "varRefreshCmd": "cat(var_dic_list()) "
    }
   },
   "types_to_exclude": [
    "module",
    "function",
    "builtin_function_or_method",
    "instance",
    "_Feature"
   ],
   "window_display": false
  }
 },
 "nbformat": 4,
 "nbformat_minor": 4
}
