{
 "cells": [
  {
   "cell_type": "code",
   "execution_count": 70,
   "metadata": {
    "ExecuteTime": {
     "end_time": "2021-03-29T02:58:51.803611Z",
     "start_time": "2021-03-29T02:58:51.790609Z"
    }
   },
   "outputs": [],
   "source": [
    "import numpy as np\n",
    "\n",
    "from tkinter import *\n",
    "from matplotlib.figure import Figure\n",
    "from matplotlib.backends.backend_tkagg import FigureCanvasTkAgg\n",
    "\n",
    "import math"
   ]
  },
  {
   "cell_type": "code",
   "execution_count": 71,
   "metadata": {
    "ExecuteTime": {
     "end_time": "2021-03-29T02:58:51.851604Z",
     "start_time": "2021-03-29T02:58:51.808608Z"
    }
   },
   "outputs": [],
   "source": [
    "fig = Figure(figsize=(5,4), dpi=100)\n",
    "ax = fig.add_subplot(111)\n",
    "t_xdata, t_ydata, h_xdata, h_ydata = [], [], [], []"
   ]
  },
  {
   "cell_type": "code",
   "execution_count": 72,
   "metadata": {
    "ExecuteTime": {
     "end_time": "2021-03-29T02:58:51.867602Z",
     "start_time": "2021-03-29T02:58:51.853607Z"
    }
   },
   "outputs": [],
   "source": [
    "def update() :\n",
    "    \n",
    "    # 각 스핀박스의 값들을 얻어와 저장\n",
    "    t_a = float(t_aSpbox.get()) # 거북이의 시속\n",
    "    t_b = float(t_bSpbox.get()) # 거북이의 출발위치\n",
    "    h_a = float(h_aSpbox.get()) # 토끼의 시속(토끼의 출발위치는 0)\n",
    "    # 위 값들로만 알 수 있는 건 거북이가 속도가 느려 앞에서 출발\n",
    "    \n",
    "    # 뒤에서 출발한 토끼가 거북이와 만나는 지점 그래프상에서 확인\n",
    "    \n",
    "    # 토끼 거북이가 이동하면서 만나는 지점 이후.. 만났다는 상태를 저장할 변수를 초기화\n",
    "    doMeet = False\n",
    "    \n",
    "     # 첫번째 인수부터 두번째인수까지 세번째 인수의 수만큼 균일한 숫자 발생\n",
    "    for t in np.linspace(0, 10, 101) :\n",
    "        # 토끼 & 거북이의 X축 데이터를 해당 리스트에 append\n",
    "        t_xdata.append(t)\n",
    "        h_xdata.append(t)\n",
    "        # 토끼의 시속, 거북이의 시속으로 계산된 각 구간별 위치(y축 데이터)를\n",
    "        # 해당 리스트에 저장\n",
    "        t_y = t_a * t + t_b\n",
    "        h_y = h_a * t\n",
    "        t_ydata.append(t_y)\n",
    "        h_ydata.append(h_y)\n",
    "        \n",
    "        if (h_y >= t_y and (doMeet==False)) :\n",
    "            doMeet = True\n",
    "            # 당시의 시간과 거리를 별도의 변수에 저장\n",
    "            meetTime = t # 만난 지점의 x 좌표 - 이는 곧 만난 시간\n",
    "            meetDistance = t_y # 만난 지점의 y 좌표 - 이는 곧 만난 거리\n",
    "            \n",
    "        # 축 제목\n",
    "        ax.set_xlabel('Time(h)')\n",
    "        ax.set_ylabel('Distance(km)')\n",
    "        \n",
    "        # 라인 차트 표시 2개\n",
    "        ax.plot(t_xdata, t_ydata)\n",
    "        ax.plot(h_xdata, h_ydata)\n",
    "        \n",
    "        if (doMeet) :\n",
    "            ax.set_title('The Turtle overcome from ' + str(meetTime) + 'Times(s), ' + str(meetDistance) + 'Dist(km)')\n",
    "            ax.plot(meetTime, meetDistance, 'ro')\n",
    "            \n",
    "        else :\n",
    "            ax.set_title('They will not meet T.T')\n",
    "        \n",
    "        fig.canvas.draw()"
   ]
  },
  {
   "cell_type": "code",
   "execution_count": 73,
   "metadata": {
    "ExecuteTime": {
     "end_time": "2021-03-29T02:58:51.962095Z",
     "start_time": "2021-03-29T02:58:51.869606Z"
    }
   },
   "outputs": [],
   "source": [
    "main = Tk()\n",
    "\n",
    "main.title(\"토끼와 거북이\")\n",
    "main.geometry() # 윈도우의 크기와 위치를 설정\n",
    "\n",
    "label = Label(main, text='토끼와 거북이의 달리기 기록')\n",
    "label.config(font=('굴림', 18))\n",
    "label.grid(row=0, column=0, columnspan=4)\n",
    "\n",
    "t_aVal = DoubleVar(value=1.0)\n",
    "t_aSpbox = Spinbox(main, textvariable=t_aVal, from_=0, to=10, increment=1, justify=RIGHT)\n",
    "\n",
    "t_aSpbox.config(state='readonly')\n",
    "t_aSpbox.grid(row=1, column=1)\n",
    "t_aLabel = Label(main, text='거북이 시속(km/h) :')\n",
    "t_aLabel.grid(row=1, column=0)\n",
    "\n",
    "t_bVal = DoubleVar(value=4.0)\n",
    "h_aVal = DoubleVar(value=2.0)\n",
    "t_bSpbox = Spinbox(main, textvariable=t_bVal, from_=0, to=10, increment=1, justify=RIGHT)\n",
    "\n",
    "t_bSpbox.config(state='readonly')\n",
    "t_bSpbox.grid(row=2, column=1)\n",
    "t_bLabel = Label(main, text='거북이 시작위치(km) : ')\n",
    "t_bLabel.grid(row=2, column=0)\n",
    "h_aSpbox = Spinbox(main, textvariable=h_aVal, from_=0, to=10, increment=1, justify=RIGHT)\n",
    "\n",
    "h_aSpbox.config(state='readonly')\n",
    "h_aSpbox.grid(row=3, column=1)\n",
    "h_aLabel = Label(main, text='토끼 시속(km/h) : ')\n",
    "h_aLabel.grid(row=3, column=0)\n",
    "\n",
    "btn = Button(main, text='Run', width=20, height=5, command=lambda:update())\n",
    "btn.grid(row=1, column=2, columnspan=2, rowspan=3)\n",
    "\n",
    "canvas = FigureCanvasTkAgg(fig, main)\n",
    "canvas.get_tk_widget().grid(row=4, column=0, columnspan=3)"
   ]
  },
  {
   "cell_type": "code",
   "execution_count": 74,
   "metadata": {
    "ExecuteTime": {
     "end_time": "2021-03-29T02:59:02.282427Z",
     "start_time": "2021-03-29T02:58:51.963096Z"
    }
   },
   "outputs": [],
   "source": [
    "main.mainloop()"
   ]
  },
  {
   "cell_type": "code",
   "execution_count": null,
   "metadata": {},
   "outputs": [],
   "source": []
  }
 ],
 "metadata": {
  "hide_input": false,
  "kernelspec": {
   "display_name": "Python 3",
   "language": "python",
   "name": "python3"
  },
  "language_info": {
   "codemirror_mode": {
    "name": "ipython",
    "version": 3
   },
   "file_extension": ".py",
   "mimetype": "text/x-python",
   "name": "python",
   "nbconvert_exporter": "python",
   "pygments_lexer": "ipython3",
   "version": "3.8.5"
  },
  "toc": {
   "base_numbering": 1,
   "nav_menu": {},
   "number_sections": true,
   "sideBar": true,
   "skip_h1_title": false,
   "title_cell": "Table of Contents",
   "title_sidebar": "Contents",
   "toc_cell": false,
   "toc_position": {},
   "toc_section_display": true,
   "toc_window_display": false
  },
  "varInspector": {
   "cols": {
    "lenName": 16,
    "lenType": 16,
    "lenVar": 40
   },
   "kernels_config": {
    "python": {
     "delete_cmd_postfix": "",
     "delete_cmd_prefix": "del ",
     "library": "var_list.py",
     "varRefreshCmd": "print(var_dic_list())"
    },
    "r": {
     "delete_cmd_postfix": ") ",
     "delete_cmd_prefix": "rm(",
     "library": "var_list.r",
     "varRefreshCmd": "cat(var_dic_list()) "
    }
   },
   "types_to_exclude": [
    "module",
    "function",
    "builtin_function_or_method",
    "instance",
    "_Feature"
   ],
   "window_display": false
  }
 },
 "nbformat": 4,
 "nbformat_minor": 4
}
