{
 "cells": [
  {
   "cell_type": "code",
   "execution_count": 128,
   "metadata": {
    "ExecuteTime": {
     "end_time": "2021-03-30T08:36:33.833268Z",
     "start_time": "2021-03-30T08:36:33.812271Z"
    }
   },
   "outputs": [],
   "source": [
    "import numpy as np\n",
    "from tkinter import *\n",
    "import tkinter.scrolledtext as tkst\n",
    "from matplotlib.figure import Figure\n",
    "from matplotlib.backends.backend_tkagg import FigureCanvasTkAgg\n",
    "import numpy as np\n",
    "from keras import optimizers\n",
    "from keras.layers import Dense\n",
    "from keras.models import Sequential\n",
    "from keras.datasets import mnist"
   ]
  },
  {
   "cell_type": "code",
   "execution_count": 129,
   "metadata": {
    "ExecuteTime": {
     "end_time": "2021-03-30T08:36:33.975483Z",
     "start_time": "2021-03-30T08:36:33.840263Z"
    }
   },
   "outputs": [],
   "source": [
    "digit_fig = Figure(figsize=(4,4), dpi=100)\n",
    "digit_ax = digit_fig.add_subplot(111)\n",
    "digit_ax.set_title('Selected Digit Image')\n",
    "\n",
    "major_ticks = np.arange(0, 29, 5)\n",
    "minor_ticks = np.arange(0, 29, 1)\n",
    "\n",
    "digit_ax.set_xticks(major_ticks)\n",
    "digit_ax.set_xticks(minor_ticks, minor=True)\n",
    "digit_ax.set_yticks(major_ticks)\n",
    "digit_ax.set_yticks(minor_ticks, minor=True)\n",
    "digit_ax.grid(which='both')\n",
    "digit_ax.grid(which='minor', alpha=0.2)\n",
    "digit_ax.grid(which='major', alpha=0.5)"
   ]
  },
  {
   "cell_type": "code",
   "execution_count": 130,
   "metadata": {
    "ExecuteTime": {
     "end_time": "2021-03-30T08:36:34.006155Z",
     "start_time": "2021-03-30T08:36:33.976495Z"
    }
   },
   "outputs": [
    {
     "data": {
      "text/plain": [
       "Text(0.5, 1.0, 'History of loss')"
      ]
     },
     "execution_count": 130,
     "metadata": {},
     "output_type": "execute_result"
    }
   ],
   "source": [
    "loss_fig = Figure(figsize=(4,4), dpi=100)\n",
    "loss_ax = loss_fig.add_subplot(111)\n",
    "loss_ax.set_xlabel('Epochs')\n",
    "loss_ax.set_ylabel('Loss')\n",
    "loss_ax.set_title('History of loss')"
   ]
  },
  {
   "cell_type": "code",
   "execution_count": 131,
   "metadata": {
    "ExecuteTime": {
     "end_time": "2021-03-30T08:36:34.038145Z",
     "start_time": "2021-03-30T08:36:34.007156Z"
    }
   },
   "outputs": [
    {
     "data": {
      "text/plain": [
       "Text(0.5, 1.0, 'History of accuracy')"
      ]
     },
     "execution_count": 131,
     "metadata": {},
     "output_type": "execute_result"
    }
   ],
   "source": [
    "acc_fig = Figure(figsize=(4,4), dpi=100)\n",
    "acc_ax = acc_fig.add_subplot(111)\n",
    "acc_ax.set_xlabel('Epochs')\n",
    "acc_ax.set_ylabel('Accuracy')\n",
    "acc_ax.set_title('History of accuracy')"
   ]
  },
  {
   "cell_type": "code",
   "execution_count": 132,
   "metadata": {
    "ExecuteTime": {
     "end_time": "2021-03-30T08:36:34.070194Z",
     "start_time": "2021-03-30T08:36:34.040145Z"
    }
   },
   "outputs": [
    {
     "data": {
      "text/plain": [
       "Text(0.5, 1.0, 'Probability Chart')"
      ]
     },
     "execution_count": 132,
     "metadata": {},
     "output_type": "execute_result"
    }
   ],
   "source": [
    "number_fig = Figure(figsize=(4,4), dpi=100)\n",
    "number_ax = number_fig.add_subplot(111)\n",
    "number_ax.set_title('Probability Chart')"
   ]
  },
  {
   "cell_type": "code",
   "execution_count": 133,
   "metadata": {
    "ExecuteTime": {
     "end_time": "2021-03-30T08:36:34.086203Z",
     "start_time": "2021-03-30T08:36:34.072194Z"
    }
   },
   "outputs": [],
   "source": [
    "# (x_train, y_train), (x_test, y_test) = mnist.load_data()\n",
    "# print(x_train.shape)\n",
    "# print(x_test.shape)"
   ]
  },
  {
   "cell_type": "code",
   "execution_count": 134,
   "metadata": {
    "ExecuteTime": {
     "end_time": "2021-03-30T08:36:34.101398Z",
     "start_time": "2021-03-30T08:36:34.088193Z"
    }
   },
   "outputs": [],
   "source": [
    "# x_train[0]"
   ]
  },
  {
   "cell_type": "code",
   "execution_count": 135,
   "metadata": {
    "ExecuteTime": {
     "end_time": "2021-03-30T08:36:34.116662Z",
     "start_time": "2021-03-30T08:36:34.104390Z"
    }
   },
   "outputs": [],
   "source": [
    "def viewImage() :\n",
    "    (x_train, y_train), (x_test, y_test) = mnist.load_data()\n",
    "    x_test_original = x_test\n",
    "    \n",
    "    t_a = int(t_aSpbox.get()) - 1\n",
    "    \n",
    "    selected_image = t_a\n",
    "    digit_ax.imshow(x_test_original[selected_image])\n",
    "    digit_fig.canvas.draw()"
   ]
  },
  {
   "cell_type": "code",
   "execution_count": 136,
   "metadata": {
    "ExecuteTime": {
     "end_time": "2021-03-30T08:36:34.134482Z",
     "start_time": "2021-03-30T08:36:34.118873Z"
    }
   },
   "outputs": [],
   "source": [
    "def learning() :\n",
    "    import numpy as np\n",
    "    from keras import optimizers\n",
    "    from keras.layers import Dense\n",
    "    from keras.models import Sequential\n",
    "    \n",
    "    (x_train, y_train), (x_test, y_test) = mnist.load_data()\n",
    "    x_test_original = x_test\n",
    "    \n",
    "    t_a = int(t_aSpbox.get()) - 1\n",
    "    t_t = int(t_tSpbox.get())\n",
    "    selected_image = t_a\n",
    "    \n",
    "    model = Sequential()\n",
    "    \n",
    "    model.add(Dense(512, activation='relu', input_shape=(28,28)))\n",
    "    \n",
    "    model.add(Dense(10, activation='softmax'))\n",
    "    model.compile(optimizer='rmsprop', loss='categorical_crossentropy', metrics=['accuracy'])\n",
    "    \n",
    "    x_train = x_train.reshape((60000, 28 * 28))\n",
    "    x_train = x_train.astype('float32') / 255\n",
    "    x_test = x_test.reshape((10000, 28 * 28))\n",
    "    x_test = x_test.astype('float32') / 255\n",
    "    \n",
    "    from keras.utils import to_categorical\n",
    "    y_train = to_categorical(y_train)\n",
    "    y_test = to_categorical(y_test)\n",
    "    \n",
    "    from keras.callbacks import EarlyStopping, ModelCheckpoint\n",
    "    \n",
    "    modelCheckpoint = ModelCheckpoint('best_digits_model.hdf5', save_best_only=True)\n",
    "    monitor_val_acc = EarlyStopping(monitor='val_accuracy', patience=5)\n",
    "    \n",
    "    history = model.fit(x_train, y_train, validation_data=(x_test, y_test), epochs=t_t, batch_size=128, callbacks=[monitor_val_acc, modelCheckpoint])\n",
    "    \n",
    "    result = model.predict(np.array([x_test[selected_image]]))\n",
    "    result_number = np.argmax(result)\n",
    "    \n",
    "    loss_ax.plot(history.history['loss'], 'ro', label='train loss')\n",
    "    loss_fig.canvas.draw()\n",
    "    \n",
    "    acc_ax.plot(history.history['accuracy'], 'bo', label='train acc')\n",
    "    acc_fig.canvas.draw()\n",
    "    \n",
    "    digits=('0', '1', '2', '3', '4', '5', '6', '7', '8', '9')    \n",
    "    x_pos = np.arange(len(digits))\n",
    "    performance = [ val for val in result[0] ]\n",
    "    \n",
    "    result_probability = performance[result_number]\n",
    "    \n",
    "    number_ax.bar(x_pos, performance, align='center', alpha=0.5)\n",
    "    \n",
    "    number_ax.set_title('Number is %2i (probability %7.4f)' % (result_number, result_probability * 100))\n",
    "    \n",
    "    number_fig.canvas.draw()\n",
    "    \n",
    "    print(performance) "
   ]
  },
  {
   "cell_type": "code",
   "execution_count": null,
   "metadata": {
    "ExecuteTime": {
     "start_time": "2021-03-30T08:36:33.849Z"
    }
   },
   "outputs": [
    {
     "name": "stdout",
     "output_type": "stream",
     "text": [
      "Epoch 1/100\n"
     ]
    },
    {
     "name": "stderr",
     "output_type": "stream",
     "text": [
      "Exception in Tkinter callback\n",
      "Traceback (most recent call last):\n",
      "  File \"C:\\Users\\JAVA01\\anaconda3\\lib\\tkinter\\__init__.py\", line 1883, in __call__\n",
      "    return self.func(*args)\n",
      "  File \"<ipython-input-137-01bb0c7511af>\", line 24, in <lambda>\n",
      "    btn2 = Button(main, text='Deep Learning', height=1, command=lambda:learning())\n",
      "  File \"<ipython-input-136-6161e5b6d2a8>\", line 35, in learning\n",
      "    history = model.fit(x_train, y_train, validation_data=(x_test, y_test), epochs=t_t, batch_size=128, callbacks=[monitor_val_acc, modelCheckpoint])\n",
      "  File \"C:\\Users\\JAVA01\\anaconda3\\lib\\site-packages\\tensorflow\\python\\keras\\engine\\training.py\", line 1100, in fit\n",
      "    tmp_logs = self.train_function(iterator)\n",
      "  File \"C:\\Users\\JAVA01\\anaconda3\\lib\\site-packages\\tensorflow\\python\\eager\\def_function.py\", line 828, in __call__\n",
      "    result = self._call(*args, **kwds)\n",
      "  File \"C:\\Users\\JAVA01\\anaconda3\\lib\\site-packages\\tensorflow\\python\\eager\\def_function.py\", line 871, in _call\n",
      "    self._initialize(args, kwds, add_initializers_to=initializers)\n",
      "  File \"C:\\Users\\JAVA01\\anaconda3\\lib\\site-packages\\tensorflow\\python\\eager\\def_function.py\", line 725, in _initialize\n",
      "    self._stateful_fn._get_concrete_function_internal_garbage_collected(  # pylint: disable=protected-access\n",
      "  File \"C:\\Users\\JAVA01\\anaconda3\\lib\\site-packages\\tensorflow\\python\\eager\\function.py\", line 2969, in _get_concrete_function_internal_garbage_collected\n",
      "    graph_function, _ = self._maybe_define_function(args, kwargs)\n",
      "  File \"C:\\Users\\JAVA01\\anaconda3\\lib\\site-packages\\tensorflow\\python\\eager\\function.py\", line 3361, in _maybe_define_function\n",
      "    graph_function = self._create_graph_function(args, kwargs)\n",
      "  File \"C:\\Users\\JAVA01\\anaconda3\\lib\\site-packages\\tensorflow\\python\\eager\\function.py\", line 3196, in _create_graph_function\n",
      "    func_graph_module.func_graph_from_py_func(\n",
      "  File \"C:\\Users\\JAVA01\\anaconda3\\lib\\site-packages\\tensorflow\\python\\framework\\func_graph.py\", line 990, in func_graph_from_py_func\n",
      "    func_outputs = python_func(*func_args, **func_kwargs)\n",
      "  File \"C:\\Users\\JAVA01\\anaconda3\\lib\\site-packages\\tensorflow\\python\\eager\\def_function.py\", line 634, in wrapped_fn\n",
      "    out = weak_wrapped_fn().__wrapped__(*args, **kwds)\n",
      "  File \"C:\\Users\\JAVA01\\anaconda3\\lib\\site-packages\\tensorflow\\python\\framework\\func_graph.py\", line 977, in wrapper\n",
      "    raise e.ag_error_metadata.to_exception(e)\n",
      "ValueError: in user code:\n",
      "\n",
      "    C:\\Users\\JAVA01\\anaconda3\\lib\\site-packages\\tensorflow\\python\\keras\\engine\\training.py:805 train_function  *\n",
      "        return step_function(self, iterator)\n",
      "    C:\\Users\\JAVA01\\anaconda3\\lib\\site-packages\\tensorflow\\python\\keras\\engine\\training.py:795 step_function  **\n",
      "        outputs = model.distribute_strategy.run(run_step, args=(data,))\n",
      "    C:\\Users\\JAVA01\\anaconda3\\lib\\site-packages\\tensorflow\\python\\distribute\\distribute_lib.py:1259 run\n",
      "        return self._extended.call_for_each_replica(fn, args=args, kwargs=kwargs)\n",
      "    C:\\Users\\JAVA01\\anaconda3\\lib\\site-packages\\tensorflow\\python\\distribute\\distribute_lib.py:2730 call_for_each_replica\n",
      "        return self._call_for_each_replica(fn, args, kwargs)\n",
      "    C:\\Users\\JAVA01\\anaconda3\\lib\\site-packages\\tensorflow\\python\\distribute\\distribute_lib.py:3417 _call_for_each_replica\n",
      "        return fn(*args, **kwargs)\n",
      "    C:\\Users\\JAVA01\\anaconda3\\lib\\site-packages\\tensorflow\\python\\keras\\engine\\training.py:788 run_step  **\n",
      "        outputs = model.train_step(data)\n",
      "    C:\\Users\\JAVA01\\anaconda3\\lib\\site-packages\\tensorflow\\python\\keras\\engine\\training.py:754 train_step\n",
      "        y_pred = self(x, training=True)\n",
      "    C:\\Users\\JAVA01\\anaconda3\\lib\\site-packages\\tensorflow\\python\\keras\\engine\\base_layer.py:998 __call__\n",
      "        input_spec.assert_input_compatibility(self.input_spec, inputs, self.name)\n",
      "    C:\\Users\\JAVA01\\anaconda3\\lib\\site-packages\\tensorflow\\python\\keras\\engine\\input_spec.py:255 assert_input_compatibility\n",
      "        raise ValueError(\n",
      "\n",
      "    ValueError: Input 0 of layer sequential_6 is incompatible with the layer: expected axis -1 of input shape to have value 28 but received input with shape (None, 784)\n",
      "\n"
     ]
    }
   ],
   "source": [
    "main = Tk()\n",
    "main.title('MNIST Digits, Neural Network')\n",
    "main.geometry()\n",
    "\n",
    "t_aVal = IntVar(value=1)\n",
    "t_aSpbox = Spinbox(main, textvariable=t_aVal, from_=0, to=10000, increment=1)\n",
    "t_aSpbox.grid(row=0, column=1)\n",
    "t_aLabel=Label(main, text='Number of Digits : ')\n",
    "t_aLabel.grid(row=0, column=0)\n",
    "\n",
    "btn1 = Button(main, text='viewImage', height=1, command=lambda:viewImage())\n",
    "btn1.grid(row=0, column=2, sticky=(W, E))\n",
    "\n",
    "t_tVal = IntVar(value=100)\n",
    "t_tSpbox = Spinbox(main, textvariable=t_tVal, from_=0, to=100000, increment=100, )\n",
    "t_tSpbox.config(state='readonly')\n",
    "t_tSpbox.grid(row=0, column=4)\n",
    "t_tLabel=Label(main, text='Number of trains : ')\n",
    "t_tLabel.grid(row=0, column=3)\n",
    "\n",
    "digit_canvas = FigureCanvasTkAgg(digit_fig, main)\n",
    "digit_canvas.get_tk_widget().grid(row=1, column=0, columnspan=3)\n",
    "\n",
    "btn2 = Button(main, text='Deep Learning', height=1, command=lambda:learning())\n",
    "btn2.grid(row=0, column=5, sticky=(W, E))\n",
    "\n",
    "loss_canvas = FigureCanvasTkAgg(loss_fig, main)\n",
    "loss_canvas.get_tk_widget().grid(row=1, column=3, columnspan=3)\n",
    "\n",
    "acc_canvas = FigureCanvasTkAgg(acc_fig, main)\n",
    "acc_canvas.get_tk_widget().grid(row=2, column=0, columnspan=3)\n",
    "\n",
    "number_canvas = FigureCanvasTkAgg(number_fig, main)\n",
    "number_canvas.get_tk_widget().grid(row=2, column=3, columnspan=3)\n",
    "\n",
    "main.mainloop()"
   ]
  }
 ],
 "metadata": {
  "hide_input": false,
  "kernelspec": {
   "display_name": "Python 3",
   "language": "python",
   "name": "python3"
  },
  "language_info": {
   "codemirror_mode": {
    "name": "ipython",
    "version": 3
   },
   "file_extension": ".py",
   "mimetype": "text/x-python",
   "name": "python",
   "nbconvert_exporter": "python",
   "pygments_lexer": "ipython3",
   "version": "3.8.5"
  },
  "toc": {
   "base_numbering": 1,
   "nav_menu": {},
   "number_sections": true,
   "sideBar": true,
   "skip_h1_title": false,
   "title_cell": "Table of Contents",
   "title_sidebar": "Contents",
   "toc_cell": false,
   "toc_position": {},
   "toc_section_display": true,
   "toc_window_display": true
  },
  "varInspector": {
   "cols": {
    "lenName": 16,
    "lenType": 16,
    "lenVar": 40
   },
   "kernels_config": {
    "python": {
     "delete_cmd_postfix": "",
     "delete_cmd_prefix": "del ",
     "library": "var_list.py",
     "varRefreshCmd": "print(var_dic_list())"
    },
    "r": {
     "delete_cmd_postfix": ") ",
     "delete_cmd_prefix": "rm(",
     "library": "var_list.r",
     "varRefreshCmd": "cat(var_dic_list()) "
    }
   },
   "types_to_exclude": [
    "module",
    "function",
    "builtin_function_or_method",
    "instance",
    "_Feature"
   ],
   "window_display": false
  }
 },
 "nbformat": 4,
 "nbformat_minor": 4
}
