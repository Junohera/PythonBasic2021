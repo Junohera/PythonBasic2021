{
 "cells": [
  {
   "cell_type": "code",
   "execution_count": 44,
   "metadata": {
    "ExecuteTime": {
     "end_time": "2021-03-30T05:40:07.592974Z",
     "start_time": "2021-03-30T05:40:07.574970Z"
    }
   },
   "outputs": [],
   "source": [
    "import numpy as np\n",
    "from tkinter import *\n",
    "from tkinter import ttk\n",
    "import tkinter.scrolledtext as tkst\n",
    "from matplotlib.figure import Figure\n",
    "from matplotlib.backends.backend_tkagg import FigureCanvasTkAgg\n",
    "from matplotlib.animation import FuncAnimation\n",
    "import math\n",
    "import pandas as pd\n",
    "\n",
    "marathon_qualifying_time = pd.read_csv('./marathon_qualifying_time.csv')"
   ]
  },
  {
   "cell_type": "code",
   "execution_count": 45,
   "metadata": {
    "ExecuteTime": {
     "end_time": "2021-03-30T05:40:07.911735Z",
     "start_time": "2021-03-30T05:40:07.595968Z"
    }
   },
   "outputs": [
    {
     "data": {
      "text/html": [
       "<div>\n",
       "<style scoped>\n",
       "    .dataframe tbody tr th:only-of-type {\n",
       "        vertical-align: middle;\n",
       "    }\n",
       "\n",
       "    .dataframe tbody tr th {\n",
       "        vertical-align: top;\n",
       "    }\n",
       "\n",
       "    .dataframe thead th {\n",
       "        text-align: right;\n",
       "    }\n",
       "</style>\n",
       "<table border=\"1\" class=\"dataframe\">\n",
       "  <thead>\n",
       "    <tr style=\"text-align: right;\">\n",
       "      <th></th>\n",
       "      <th>F</th>\n",
       "      <th>M</th>\n",
       "    </tr>\n",
       "  </thead>\n",
       "  <tbody>\n",
       "    <tr>\n",
       "      <th>0</th>\n",
       "      <td>3:30:00</td>\n",
       "      <td>3:00:00</td>\n",
       "    </tr>\n",
       "    <tr>\n",
       "      <th>1</th>\n",
       "      <td>3:30:00</td>\n",
       "      <td>3:00:00</td>\n",
       "    </tr>\n",
       "    <tr>\n",
       "      <th>2</th>\n",
       "      <td>3:30:00</td>\n",
       "      <td>3:00:00</td>\n",
       "    </tr>\n",
       "    <tr>\n",
       "      <th>3</th>\n",
       "      <td>3:30:00</td>\n",
       "      <td>3:00:00</td>\n",
       "    </tr>\n",
       "    <tr>\n",
       "      <th>4</th>\n",
       "      <td>3:30:00</td>\n",
       "      <td>3:00:00</td>\n",
       "    </tr>\n",
       "  </tbody>\n",
       "</table>\n",
       "</div>"
      ],
      "text/plain": [
       "         F        M\n",
       "0  3:30:00  3:00:00\n",
       "1  3:30:00  3:00:00\n",
       "2  3:30:00  3:00:00\n",
       "3  3:30:00  3:00:00\n",
       "4  3:30:00  3:00:00"
      ]
     },
     "execution_count": 45,
     "metadata": {},
     "output_type": "execute_result"
    }
   ],
   "source": [
    "qualifying_time = pd.DataFrame(marathon_qualifying_time, columns=['F', 'M'])\n",
    "qualifying_time.head()"
   ]
  },
  {
   "cell_type": "code",
   "execution_count": 46,
   "metadata": {
    "ExecuteTime": {
     "end_time": "2021-03-30T05:40:07.927734Z",
     "start_time": "2021-03-30T05:40:07.914735Z"
    }
   },
   "outputs": [],
   "source": [
    "qualifying_time['F'] = pd.to_timedelta(qualifying_time['F'])\n",
    "qualifying_time['M'] = pd.to_timedelta(qualifying_time['M'])\n",
    "qualifying_time['F'] = qualifying_time['F'].astype('m8[s]').astype(np.int64)\n",
    "qualifying_time['M'] = qualifying_time['M'].astype('m8[s]').astype(np.int64)"
   ]
  },
  {
   "cell_type": "code",
   "execution_count": 47,
   "metadata": {
    "ExecuteTime": {
     "end_time": "2021-03-30T05:40:08.285652Z",
     "start_time": "2021-03-30T05:40:07.929735Z"
    }
   },
   "outputs": [],
   "source": [
    "# qualifying_time.head()"
   ]
  },
  {
   "cell_type": "code",
   "execution_count": 48,
   "metadata": {
    "ExecuteTime": {
     "end_time": "2021-03-30T05:40:08.517631Z",
     "start_time": "2021-03-30T05:40:08.288638Z"
    }
   },
   "outputs": [],
   "source": [
    "marathon_2015_2017 = pd.read_csv('./marathon_merge[2015~2017].csv')\n",
    "marathon_2015_2017['M/F'] = marathon_2015_2017['M/F'].map({'M': 1, 'F': 0})\n",
    "marathon_2015_2017_qualifying = pd.DataFrame(columns=['M/F', 'Age', 'Pace', 'Official Time', 'Year', 'qualifying'])"
   ]
  },
  {
   "cell_type": "code",
   "execution_count": 49,
   "metadata": {
    "ExecuteTime": {
     "end_time": "2021-03-30T05:40:08.674900Z",
     "start_time": "2021-03-30T05:40:08.519632Z"
    }
   },
   "outputs": [],
   "source": [
    "qualifying_time_list = qualifying_time.values.tolist()"
   ]
  },
  {
   "cell_type": "code",
   "execution_count": 50,
   "metadata": {
    "ExecuteTime": {
     "end_time": "2021-03-30T05:44:34.240076Z",
     "start_time": "2021-03-30T05:40:08.675900Z"
    }
   },
   "outputs": [],
   "source": [
    "for index, record in marathon_2015_2017.iterrows():\n",
    "    # qualifying_time_list[record.Age][record['M/F']]\n",
    "    qualifying_standard = qualifying_time_list[record.Age-18][record['M/F']]\n",
    "    \n",
    "    qualifying_status = 1\n",
    "    if (record['Official Time'] > qualifying_standard) :\n",
    "        qualifying_status = 0\n",
    "        \n",
    "    marathon_2015_2017_qualifying = marathon_2015_2017_qualifying.append(\n",
    "        {\n",
    "            'M/F': record['M/F'],\n",
    "            'Age': record['Age'],\n",
    "            'Pace': record['Pace'],\n",
    "            'Official Time': record['Official Time'],\n",
    "            'Year': record['Year'],\n",
    "            'qualifying': qualifying_status\n",
    "        }, ignore_index=True\n",
    "    )\n",
    "    \n",
    "marathon_2015_2017_qualifying.to_csv('./marathon_2015_2017_qualifying.csv', index = None, header = True)"
   ]
  }
 ],
 "metadata": {
  "hide_input": false,
  "kernelspec": {
   "display_name": "Python 3",
   "language": "python",
   "name": "python3"
  },
  "language_info": {
   "codemirror_mode": {
    "name": "ipython",
    "version": 3
   },
   "file_extension": ".py",
   "mimetype": "text/x-python",
   "name": "python",
   "nbconvert_exporter": "python",
   "pygments_lexer": "ipython3",
   "version": "3.8.5"
  },
  "toc": {
   "base_numbering": 1,
   "nav_menu": {},
   "number_sections": true,
   "sideBar": true,
   "skip_h1_title": false,
   "title_cell": "Table of Contents",
   "title_sidebar": "Contents",
   "toc_cell": false,
   "toc_position": {},
   "toc_section_display": true,
   "toc_window_display": true
  },
  "varInspector": {
   "cols": {
    "lenName": 16,
    "lenType": 16,
    "lenVar": 40
   },
   "kernels_config": {
    "python": {
     "delete_cmd_postfix": "",
     "delete_cmd_prefix": "del ",
     "library": "var_list.py",
     "varRefreshCmd": "print(var_dic_list())"
    },
    "r": {
     "delete_cmd_postfix": ") ",
     "delete_cmd_prefix": "rm(",
     "library": "var_list.r",
     "varRefreshCmd": "cat(var_dic_list()) "
    }
   },
   "types_to_exclude": [
    "module",
    "function",
    "builtin_function_or_method",
    "instance",
    "_Feature"
   ],
   "window_display": false
  }
 },
 "nbformat": 4,
 "nbformat_minor": 4
}
