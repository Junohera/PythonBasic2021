{
 "cells": [
  {
   "cell_type": "code",
   "execution_count": 111,
   "metadata": {
    "ExecuteTime": {
     "end_time": "2021-03-30T02:42:36.377017Z",
     "start_time": "2021-03-30T02:42:36.157339Z"
    }
   },
   "outputs": [],
   "source": [
    "import numpy as np\n",
    "from tkinter import *\n",
    "from tkinter import ttk\n",
    "import tkinter.scrolledtext as tkst\n",
    "from matplotlib.figure import Figure\n",
    "from matplotlib.backends.backend_tkagg import FigureCanvasTkAgg\n",
    "from matplotlib.animation import FuncAnimation\n",
    "import math\n",
    "import pandas as pd\n",
    "\n",
    "marathon_2015_2017 = pd.read_csv('./marathon_merge[2015~2017].csv')"
   ]
  },
  {
   "cell_type": "code",
   "execution_count": 112,
   "metadata": {
    "ExecuteTime": {
     "end_time": "2021-03-30T02:42:36.409045Z",
     "start_time": "2021-03-30T02:42:36.379004Z"
    }
   },
   "outputs": [],
   "source": [
    "record = pd.DataFrame(marathon_2015_2017, columns = ['M/F', 'Age', 'Pace', '10K', '20K', '30K', 'Official Time']).sort_values(by=['Official Time'])"
   ]
  },
  {
   "cell_type": "code",
   "execution_count": 113,
   "metadata": {
    "ExecuteTime": {
     "end_time": "2021-03-30T02:42:36.425044Z",
     "start_time": "2021-03-30T02:42:36.411043Z"
    }
   },
   "outputs": [],
   "source": [
    "record['M/F'] = record['M/F'].map({'M': 1, 'F': 0})"
   ]
  },
  {
   "cell_type": "code",
   "execution_count": 114,
   "metadata": {
    "ExecuteTime": {
     "end_time": "2021-03-30T02:42:36.473064Z",
     "start_time": "2021-03-30T02:42:36.428043Z"
    }
   },
   "outputs": [],
   "source": [
    "record_list = record.values.tolist()\n",
    "\n",
    "gender_list = ['Female', 'Male']"
   ]
  },
  {
   "cell_type": "code",
   "execution_count": 115,
   "metadata": {
    "ExecuteTime": {
     "end_time": "2021-03-30T02:42:36.505046Z",
     "start_time": "2021-03-30T02:42:36.474064Z"
    }
   },
   "outputs": [],
   "source": [
    "grad_fig = Figure(figsize=(10, 4), dpi=100)\n",
    "grad_ax = grad_fig.add_subplot(111)\n",
    "grad_ax.set_xlim(15, 88)\n",
    "grad_ax.set_ylim(0, 1300)\n",
    "grad_ax.set_ylabel('Pace : Runner\\'s overall minute per mile pace')\n",
    "grad_ax.set_xlabel('Age : Age on race day')\n",
    "\n",
    "g_xdata, g_ydata = [], []\n",
    "gn, = grad_ax.plot([], [], 'ro')"
   ]
  },
  {
   "cell_type": "code",
   "execution_count": 116,
   "metadata": {
    "ExecuteTime": {
     "end_time": "2021-03-30T02:42:36.521010Z",
     "start_time": "2021-03-30T02:42:36.507019Z"
    }
   },
   "outputs": [],
   "source": [
    "def histogram() :\n",
    "    # t_gCbbox.get()의 값은 선택된 'Male', 'Female'\n",
    "    gender = t_gCbbox.get()\n",
    "    t_g = int(gender_list.index(gender))\n",
    "    \n",
    "    t_a = int(t_aSpbox.get())\n",
    "    t_p = int(t_pSpbox.get())\n",
    "    \n",
    "    if (t_g) :\n",
    "        gender_color = 'b'\n",
    "    else :\n",
    "        gender_color = 'r'\n",
    "        \n",
    "    gender_record = record[record['M/F'] == t_g]\n",
    "    gender_age_record = gender_record[gender_record.Age == t_a]\n",
    "    gender_age_record_list = gender_age_record.values.tolist()\n",
    "    \n",
    "    grad_ax.plot(gender_record.Age, gender_record.Pace, '.', color=gender_color, alpha=0.3)\n",
    "    grad_ax.plot(t_a, t_p, 'yd')\n",
    "    stat = gender_age_record['Pace'].describe()\n",
    "    \n",
    "    title = 'Gender : ' + gender_list[t_g] + ', Age : ' + str(t_a)\n",
    "    grad_ax.set_title(title)\n",
    "    \n",
    "    grad_ax.annotate('%10s %7i' % ('Count : ', stat[0]), (75, 1200), fontsize=10)\n",
    "    grad_ax.annotate('%10s %7.3f' % ('Mean : ', stat[1]), (75, 1150), fontsize=10)\n",
    "    grad_ax.annotate('%10s %7.3f' % ('25% : ', stat[3]), (75, 1100), fontsize=10)\n",
    "    grad_ax.annotate('%10s %7.3f' % ('75% : ', stat[5]), (75, 1050), fontsize=10)\n",
    "    \n",
    "    grad_fig.canvas.draw()"
   ]
  },
  {
   "cell_type": "code",
   "execution_count": 117,
   "metadata": {
    "ExecuteTime": {
     "end_time": "2021-03-30T02:42:36.537016Z",
     "start_time": "2021-03-30T02:42:36.523000Z"
    }
   },
   "outputs": [],
   "source": [
    "def seconds_to_hhmmss(seconds) :\n",
    "    hours = seconds // (60*60)\n",
    "    seconds %= (60*60)\n",
    "    minutes = seconds // 60\n",
    "    seconds %= 60\n",
    "    return '%02i:%02i:%02i' % (hours, minutes, seconds)"
   ]
  },
  {
   "cell_type": "code",
   "execution_count": 118,
   "metadata": {
    "ExecuteTime": {
     "end_time": "2021-03-30T02:42:36.553013Z",
     "start_time": "2021-03-30T02:42:36.539003Z"
    }
   },
   "outputs": [],
   "source": [
    "def learning() :\n",
    "    import tensorflow as tf\n",
    "    import numpy as np\n",
    "    \n",
    "    gender = t_gCbbox.get()\n",
    "    t_g = int(gender_list.index(gender))\n",
    "    t_a = int(t_aSpbox.get())\n",
    "    t_p = int(t_pSpbox.get())\n",
    "    \n",
    "    t_t = int(t_tSpbox.get())\n",
    "    t_r = float(t_rSpbox.get())\n",
    "    \n",
    "    x_train = [r[0:3] for r in record_list]\n",
    "    y_train = [ [r[-1]] for r in record_list]\n",
    "    \n",
    "    model = tf.keras.models.Sequential()\n",
    "    model.add(tf.keras.layers.Dense(1, input_shape=(3,)))\n",
    "    sgd = tf.keras.optimizers.SGD(lr=t_r)\n",
    "    model.compile(loss='mse', optimizer=sgd)\n",
    "    model.summary()\n",
    "    history = model.fit(np.array(x_train), np.array(y_train), epochs=t_t)\n",
    "    \n",
    "    log_ScrolledText.insert(END, '\\nGender: ' + gender_list[t_g] + ', Age : ' + str(t_a) + ', Pace: ' + str(t_p) + '\\n', 'TITLE')\n",
    "    log_ScrolledText.insert(END, '\\n\\nCost Decent\\n\\n', 'HEADER')\n",
    "    log_ScrolledText.insert(END, '%20s %20s' % ('Step', 'Cost') + '\\n\\n')\n",
    "    \n",
    "    for step in range(t_t):\n",
    "        if step % 100 == 0:\n",
    "            cost_val = history.history['loss'][step]\n",
    "            log_ScrolledText.insert(END, '%20i %20.5f' % (step, cost_val) + '\\n')\n",
    "            \n",
    "    winner = [t_g, t_a, t_p]\n",
    "    time = model.predict(np.array([winner]))\n",
    "    ml_time = seconds_to_hhmmss(time[0][0]) + '(' + str(time[0][0]) + ')'\n",
    "    \n",
    "    log_ScrolledText.insert(END, '%20s' % ('\\n\\nThe Prediction Records\\n\\n'), 'HEADER')\n",
    "    log_ScrolledText.insert(END, '%10s %10s %10s %50s' % ('Gender', 'Age', 'Page', 'Record Prediction(Second) at 42.195km') + '\\n\\n')\n",
    "    log_ScrolledText.insert(END, '%10s %10s %10s %50s' % (gender_list[t_g], str(t_a), str(t_p), ml_time) + '\\n')   "
   ]
  },
  {
   "cell_type": "code",
   "execution_count": 119,
   "metadata": {
    "ExecuteTime": {
     "end_time": "2021-03-30T02:42:36.662582Z",
     "start_time": "2021-03-30T02:42:36.554003Z"
    }
   },
   "outputs": [],
   "source": [
    "main = Tk()\n",
    "main.title('Multi Variable Matrix Linear Regression')\n",
    "main.geometry()\n",
    "\n",
    "label = Label(main, text='Multi Variable Matrix Linear Regression')\n",
    "label.config(font=('굴림', 18))\n",
    "label.grid(row=0, column=0, columnspan=6)\n",
    "\n",
    "t_gVal = StringVar(value=gender_list[0])\n",
    "t_gCbbox = ttk.Combobox(main, textvariable=t_gVal)\n",
    "t_gCbbox['values'] = gender_list\n",
    "t_gCbbox.config(state='readonly')\n",
    "t_gCbbox.grid(row=1, column=1)\n",
    "\n",
    "t_gLabel = Label(main, text='Gender : ')\n",
    "t_gLabel.grid(row=1, column=0)\n",
    "\n",
    "t_aVal = IntVar(value=500)\n",
    "t_aSpbox = Spinbox(main, textvariable=t_pVal, from_=0, to=1500, increment=1, justify=RIGHT)\n",
    "t_aSpbox.grid(row=1, column=5)\n",
    "\n",
    "t_pVal = IntVar(value=500)\n",
    "t_pSpbox = Spinbox(main, textvariable=t_pVal, from_=0, to=1500, increment=1, justify=RIGHT)\n",
    "t_pSpbox.grid(row=1, column=5)\n",
    "t_pLabel = Label(main, text='Pace : ')\n",
    "t_pLabel.grid(row=1, column=4)\n",
    "t_tVal = IntVar(value=2000)\n",
    "t_tSpbox=Spinbox(main, textvariable=t_tVal, from_=0, to=100000, increment=1000, justify=RIGHT)\n",
    "t_tSpbox.grid(row=2, column=1)\n",
    "t_tLabel = Label(main, text='Number of train : ')\n",
    "t_tLabel.grid(row=2, column=0)\n",
    "\n",
    "t_rVal = DoubleVar(value=1e-6)\n",
    "t_rSpbox=Spinbox(main,textvariable=t_rVal,from_=0,to=1,increment=1e-6,justify=RIGHT)\n",
    "t_rSpbox.grid(row=2,column=3)\n",
    "t_rLabel=Label(main, text='Learning rate : ')\n",
    "t_rLabel.grid(row=2,column=2)\n",
    "\n",
    "btn1 = Button(main, text='Histogram', height=2, command=lambda:histogram())\n",
    "btn1.grid(row=2, column=4, columnspan=1, sticky=(W,E))\n",
    "btn2 = Button(main, text='Prediction', height=2, command=lambda:learning())\n",
    "btn2.grid(row=2, column=5, columnspan=1, sticky=(W,E))\n",
    "\n",
    "grad_canvas = FigureCanvasTkAgg(grad_fig, main)\n",
    "grad_canvas.get_tk_widget().grid(row=3, column=0, columnspan=6)\n",
    "\n",
    "log_ScrolledText = tkst.ScrolledText(main, height=15)\n",
    "log_ScrolledText.grid(row=4, column=0, columnspan=6,  sticky=(N, S, W, E))\n",
    "log_ScrolledText.configure(font='굴림')\n",
    "log_ScrolledText.tag_config('RESULT', foreground='blue', font=('굴림', 12))\n",
    "log_ScrolledText.tag_config('HEADER', foreground='black', font=('굴림', 14))\n",
    "log_ScrolledText.tag_config('TITLE', foreground='red', font=('굴림', 18))"
   ]
  },
  {
   "cell_type": "code",
   "execution_count": 120,
   "metadata": {
    "ExecuteTime": {
     "end_time": "2021-03-30T02:44:25.315913Z",
     "start_time": "2021-03-30T02:42:36.664585Z"
    },
    "scrolled": false
   },
   "outputs": [
    {
     "name": "stdout",
     "output_type": "stream",
     "text": [
      "Model: \"sequential\"\n",
      "_________________________________________________________________\n",
      "Layer (type)                 Output Shape              Param #   \n",
      "=================================================================\n",
      "dense (Dense)                (None, 1)                 4         \n",
      "=================================================================\n",
      "Total params: 4\n",
      "Trainable params: 4\n",
      "Non-trainable params: 0\n",
      "_________________________________________________________________\n",
      "Epoch 1/2000\n",
      "2489/2489 [==============================] - 2s 493us/step - loss: 803266.6706\n",
      "Epoch 2/2000\n",
      "2489/2489 [==============================] - 1s 496us/step - loss: 9214.5765\n",
      "Epoch 3/2000\n",
      "2489/2489 [==============================] - 1s 492us/step - loss: 6964.5984\n",
      "Epoch 4/2000\n",
      "2489/2489 [==============================] - 1s 493us/step - loss: 1907.9445\n",
      "Epoch 5/2000\n",
      "2489/2489 [==============================] - 1s 494us/step - loss: 4998.1311\n",
      "Epoch 6/2000\n",
      "2489/2489 [==============================] - 1s 496us/step - loss: 842.8498\n",
      "Epoch 7/2000\n",
      "2489/2489 [==============================] - 1s 497us/step - loss: 715.5304\n",
      "Epoch 8/2000\n",
      "2489/2489 [==============================] - 1s 494us/step - loss: 8597.2902\n",
      "Epoch 9/2000\n",
      "2489/2489 [==============================] - 1s 492us/step - loss: 6402.1075\n",
      "Epoch 10/2000\n",
      "2489/2489 [==============================] - 1s 497us/step - loss: 2594.6671\n",
      "Epoch 11/2000\n",
      "2489/2489 [==============================] - 1s 496us/step - loss: 6602.1920\n",
      "Epoch 12/2000\n",
      "2489/2489 [==============================] - 1s 510us/step - loss: 3560.8333\n",
      "Epoch 13/2000\n",
      "2489/2489 [==============================] - 1s 494us/step - loss: 11887.0279\n",
      "Epoch 14/2000\n",
      "2489/2489 [==============================] - 1s 514us/step - loss: 852.9300\n",
      "Epoch 15/2000\n",
      "2489/2489 [==============================] - 1s 490us/step - loss: 2740.2850\n",
      "Epoch 16/2000\n",
      "2489/2489 [==============================] - 1s 488us/step - loss: 419.8594\n",
      "Epoch 17/2000\n",
      "2489/2489 [==============================] - 1s 486us/step - loss: 4316.8854\n",
      "Epoch 18/2000\n",
      "2489/2489 [==============================] - 1s 491us/step - loss: 1695.9476\n",
      "Epoch 19/2000\n",
      "2489/2489 [==============================] - 1s 493us/step - loss: 8492.6119\n",
      "Epoch 20/2000\n",
      "2489/2489 [==============================] - 1s 489us/step - loss: 802.4440\n",
      "Epoch 21/2000\n",
      "2489/2489 [==============================] - 1s 496us/step - loss: 3233.8828\n",
      "Epoch 22/2000\n",
      "2489/2489 [==============================] - 1s 505us/step - loss: 158.6077\n",
      "Epoch 23/2000\n",
      "2489/2489 [==============================] - 1s 491us/step - loss: 4938.3474\n",
      "Epoch 24/2000\n",
      "2489/2489 [==============================] - 1s 505us/step - loss: 2470.0548\n",
      "Epoch 25/2000\n",
      "2489/2489 [==============================] - 1s 497us/step - loss: 509.3218\n",
      "Epoch 26/2000\n",
      "2489/2489 [==============================] - 1s 515us/step - loss: 2243.4715\n",
      "Epoch 27/2000\n",
      "2489/2489 [==============================] - 1s 499us/step - loss: 5956.2602\n",
      "Epoch 28/2000\n",
      "2489/2489 [==============================] - 1s 493us/step - loss: 2455.5611\n",
      "Epoch 29/2000\n",
      "2489/2489 [==============================] - 1s 489us/step - loss: 1428.4565\n",
      "Epoch 30/2000\n",
      "2489/2489 [==============================] - 1s 485us/step - loss: 4505.5946\n",
      "Epoch 31/2000\n",
      "2489/2489 [==============================] - 1s 487us/step - loss: 1512.7109\n",
      "Epoch 32/2000\n",
      "2489/2489 [==============================] - 1s 490us/step - loss: 1029.3701\n",
      "Epoch 33/2000\n",
      "2489/2489 [==============================] - 1s 491us/step - loss: 6613.7072\n",
      "Epoch 34/2000\n",
      "2489/2489 [==============================] - 1s 497us/step - loss: 6628.1044\n",
      "Epoch 35/2000\n",
      "2489/2489 [==============================] - 1s 489us/step - loss: 5403.0039\n",
      "Epoch 36/2000\n",
      "2489/2489 [==============================] - 1s 494us/step - loss: 6319.6644\n",
      "Epoch 37/2000\n",
      "2489/2489 [==============================] - 1s 502us/step - loss: 5161.5842\n",
      "Epoch 38/2000\n",
      "2489/2489 [==============================] - 1s 497us/step - loss: 571.9809\n",
      "Epoch 39/2000\n",
      "2489/2489 [==============================] - 1s 495us/step - loss: 1989.8359\n",
      "Epoch 40/2000\n",
      "2489/2489 [==============================] - 1s 490us/step - loss: 563.8709\n",
      "Epoch 41/2000\n",
      "2489/2489 [==============================] - 1s 492us/step - loss: 15838.2608\n",
      "Epoch 42/2000\n",
      "2489/2489 [==============================] - 1s 492us/step - loss: 1274.4810\n",
      "Epoch 43/2000\n",
      "2489/2489 [==============================] - 1s 495us/step - loss: 5318.0659\n",
      "Epoch 44/2000\n",
      "2489/2489 [==============================] - 1s 496us/step - loss: 824.0129\n",
      "Epoch 45/2000\n",
      "2489/2489 [==============================] - 1s 487us/step - loss: 9746.3186\n",
      "Epoch 46/2000\n",
      "2489/2489 [==============================] - 1s 491us/step - loss: 10988.0198\n",
      "Epoch 47/2000\n",
      "2489/2489 [==============================] - 1s 485us/step - loss: 3517.1974\n",
      "Epoch 48/2000\n",
      "2489/2489 [==============================] - 1s 496us/step - loss: 4690.8162\n",
      "Epoch 49/2000\n",
      "2489/2489 [==============================] - 1s 495us/step - loss: 16186.3560\n",
      "Epoch 50/2000\n",
      "2489/2489 [==============================] - 1s 492us/step - loss: 5013.1886\n",
      "Epoch 51/2000\n",
      "2489/2489 [==============================] - 1s 497us/step - loss: 2301.5449\n",
      "Epoch 52/2000\n",
      "2489/2489 [==============================] - 1s 498us/step - loss: 1171.7551\n",
      "Epoch 53/2000\n",
      "2489/2489 [==============================] - 1s 494us/step - loss: 11106.5999\n",
      "Epoch 54/2000\n",
      "2489/2489 [==============================] - 1s 492us/step - loss: 1621.8143\n",
      "Epoch 55/2000\n",
      "2489/2489 [==============================] - 1s 489us/step - loss: 5920.9829\n",
      "Epoch 56/2000\n",
      "2489/2489 [==============================] - 1s 491us/step - loss: 1251.6555\n",
      "Epoch 57/2000\n",
      "2489/2489 [==============================] - 1s 486us/step - loss: 3435.8577\n",
      "Epoch 58/2000\n",
      "2489/2489 [==============================] - 1s 491us/step - loss: 3539.3301\n",
      "Epoch 59/2000\n",
      "2489/2489 [==============================] - 1s 494us/step - loss: 272.9745\n",
      "Epoch 60/2000\n",
      "2489/2489 [==============================] - 1s 494us/step - loss: 1210.7493\n",
      "Epoch 61/2000\n",
      "2489/2489 [==============================] - 1s 489us/step - loss: 6074.0767\n",
      "Epoch 62/2000\n",
      "2489/2489 [==============================] - 1s 493us/step - loss: 299.1035\n",
      "Epoch 63/2000\n",
      "2489/2489 [==============================] - 1s 495us/step - loss: 6689.8280\n",
      "Epoch 64/2000\n",
      "2489/2489 [==============================] - 1s 492us/step - loss: 2843.7844\n",
      "Epoch 65/2000\n",
      "2489/2489 [==============================] - 1s 492us/step - loss: 3163.9712\n",
      "Epoch 66/2000\n",
      "2489/2489 [==============================] - 1s 497us/step - loss: 2951.8639\n",
      "Epoch 67/2000\n",
      "2489/2489 [==============================] - 1s 497us/step - loss: 3676.7487\n",
      "Epoch 68/2000\n",
      "2489/2489 [==============================] - 1s 494us/step - loss: 5318.3036\n",
      "Epoch 69/2000\n",
      "2489/2489 [==============================] - 1s 498us/step - loss: 3835.8801\n",
      "Epoch 70/2000\n",
      "2489/2489 [==============================] - 1s 494us/step - loss: 5270.8527\n",
      "Epoch 71/2000\n",
      "2489/2489 [==============================] - 1s 488us/step - loss: 3726.7149\n",
      "Epoch 72/2000\n",
      "2489/2489 [==============================] - 1s 490us/step - loss: 6407.6466\n",
      "Epoch 73/2000\n",
      "2489/2489 [==============================] - 1s 489us/step - loss: 4162.7671\n",
      "Epoch 74/2000\n",
      "2489/2489 [==============================] - 1s 490us/step - loss: 957.3259\n",
      "Epoch 75/2000\n",
      "2489/2489 [==============================] - 1s 489us/step - loss: 13964.6698\n",
      "Epoch 76/2000\n",
      "2489/2489 [==============================] - 1s 486us/step - loss: 1415.6363\n",
      "Epoch 77/2000\n",
      "2489/2489 [==============================] - 1s 495us/step - loss: 1220.6813\n",
      "Epoch 78/2000\n",
      "2489/2489 [==============================] - 1s 490us/step - loss: 13985.8612\n",
      "Epoch 79/2000\n",
      "2489/2489 [==============================] - 1s 486us/step - loss: 4157.7670\n",
      "Epoch 80/2000\n",
      "2489/2489 [==============================] - 1s 493us/step - loss: 6737.4150\n",
      "Epoch 81/2000\n",
      "2489/2489 [==============================] - 1s 499us/step - loss: 8389.6661\n",
      "Epoch 82/2000\n",
      "1732/2489 [===================>..........] - ETA: 0s - loss: 14044.6263"
     ]
    },
    {
     "name": "stderr",
     "output_type": "stream",
     "text": [
      "Exception in Tkinter callback\n",
      "Traceback (most recent call last):\n",
      "  File \"C:\\Users\\JAVA01\\anaconda3\\lib\\tkinter\\__init__.py\", line 1883, in __call__\n",
      "    return self.func(*args)\n",
      "  File \"<ipython-input-119-c8aea686ba39>\", line 41, in <lambda>\n",
      "    btn2 = Button(main, text='Prediction', height=2, command=lambda:learning())\n",
      "  File \"<ipython-input-118-a6ca1776d71c>\", line 21, in learning\n",
      "    history = model.fit(np.array(x_train), np.array(y_train), epochs=t_t)\n",
      "  File \"C:\\Users\\JAVA01\\anaconda3\\lib\\site-packages\\tensorflow\\python\\keras\\engine\\training.py\", line 1100, in fit\n",
      "    tmp_logs = self.train_function(iterator)\n",
      "  File \"C:\\Users\\JAVA01\\anaconda3\\lib\\site-packages\\tensorflow\\python\\eager\\def_function.py\", line 828, in __call__\n",
      "    result = self._call(*args, **kwds)\n",
      "  File \"C:\\Users\\JAVA01\\anaconda3\\lib\\site-packages\\tensorflow\\python\\eager\\def_function.py\", line 855, in _call\n",
      "    return self._stateless_fn(*args, **kwds)  # pylint: disable=not-callable\n",
      "  File \"C:\\Users\\JAVA01\\anaconda3\\lib\\site-packages\\tensorflow\\python\\eager\\function.py\", line 2942, in __call__\n",
      "    return graph_function._call_flat(\n",
      "  File \"C:\\Users\\JAVA01\\anaconda3\\lib\\site-packages\\tensorflow\\python\\eager\\function.py\", line 1918, in _call_flat\n",
      "    return self._build_call_outputs(self._inference_function.call(\n",
      "  File \"C:\\Users\\JAVA01\\anaconda3\\lib\\site-packages\\tensorflow\\python\\eager\\function.py\", line 555, in call\n",
      "    outputs = execute.execute(\n",
      "  File \"C:\\Users\\JAVA01\\anaconda3\\lib\\site-packages\\tensorflow\\python\\eager\\execute.py\", line 59, in quick_execute\n",
      "    tensors = pywrap_tfe.TFE_Py_Execute(ctx._handle, device_name, op_name,\n",
      "KeyboardInterrupt\n"
     ]
    }
   ],
   "source": [
    "main.mainloop()"
   ]
  }
 ],
 "metadata": {
  "hide_input": false,
  "kernelspec": {
   "display_name": "Python 3",
   "language": "python",
   "name": "python3"
  },
  "language_info": {
   "codemirror_mode": {
    "name": "ipython",
    "version": 3
   },
   "file_extension": ".py",
   "mimetype": "text/x-python",
   "name": "python",
   "nbconvert_exporter": "python",
   "pygments_lexer": "ipython3",
   "version": "3.8.5"
  },
  "toc": {
   "base_numbering": 1,
   "nav_menu": {},
   "number_sections": true,
   "sideBar": true,
   "skip_h1_title": false,
   "title_cell": "Table of Contents",
   "title_sidebar": "Contents",
   "toc_cell": false,
   "toc_position": {},
   "toc_section_display": true,
   "toc_window_display": true
  },
  "varInspector": {
   "cols": {
    "lenName": 16,
    "lenType": 16,
    "lenVar": 40
   },
   "kernels_config": {
    "python": {
     "delete_cmd_postfix": "",
     "delete_cmd_prefix": "del ",
     "library": "var_list.py",
     "varRefreshCmd": "print(var_dic_list())"
    },
    "r": {
     "delete_cmd_postfix": ") ",
     "delete_cmd_prefix": "rm(",
     "library": "var_list.r",
     "varRefreshCmd": "cat(var_dic_list()) "
    }
   },
   "types_to_exclude": [
    "module",
    "function",
    "builtin_function_or_method",
    "instance",
    "_Feature"
   ],
   "window_display": false
  }
 },
 "nbformat": 4,
 "nbformat_minor": 4
}
