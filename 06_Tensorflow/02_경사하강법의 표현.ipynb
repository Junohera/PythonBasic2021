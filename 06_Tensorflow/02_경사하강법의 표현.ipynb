{
 "cells": [
  {
   "cell_type": "code",
   "execution_count": 86,
   "metadata": {
    "ExecuteTime": {
     "end_time": "2021-03-29T04:59:00.901542Z",
     "start_time": "2021-03-29T04:59:00.879544Z"
    }
   },
   "outputs": [],
   "source": [
    "import numpy as np\n",
    "from tkinter import *\n",
    "from matplotlib.figure import Figure\n",
    "from matplotlib.backends.backend_tkagg import FigureCanvasTkAgg\n",
    "\n",
    "from matplotlib.animation import FuncAnimation\n",
    "import math"
   ]
  },
  {
   "cell_type": "code",
   "execution_count": 87,
   "metadata": {
    "ExecuteTime": {
     "end_time": "2021-03-29T04:59:00.933532Z",
     "start_time": "2021-03-29T04:59:00.904543Z"
    }
   },
   "outputs": [],
   "source": [
    "# 토끼의 그래프를 그리기위한 차트 준비\n",
    "fig = Figure(figsize=(5,3), dpi=100)\n",
    "ax = fig.add_subplot(111)\n",
    "ax.set_xlim(0, 11)\n",
    "ax.set_ylim(0, 11)\n",
    "# h_xdata, h_ydata : 토끼의 구간별 거리 데이터\n",
    "# x_list, y_list : 토끼 그래프 주변에 회귀선을 찾기 위한 가상의 그래프가 그려질 데이터\n",
    "h_xdata, h_ydata, x_list, y_list = [], [], [], []"
   ]
  },
  {
   "cell_type": "code",
   "execution_count": 88,
   "metadata": {
    "ExecuteTime": {
     "end_time": "2021-03-29T04:59:00.964914Z",
     "start_time": "2021-03-29T04:59:00.936546Z"
    }
   },
   "outputs": [],
   "source": [
    "grad_fig = Figure(figsize=(5,3), dpi=100)\n",
    "grad_ax = grad_fig.add_subplot(111)\n",
    "grad_ax.set_xlim(-0.1, 1.1)\n",
    "grad_ax.set_ylim(0, 100)\n",
    "t_xdata, t_ydata = [], []"
   ]
  },
  {
   "cell_type": "code",
   "execution_count": 89,
   "metadata": {
    "ExecuteTime": {
     "end_time": "2021-03-29T04:59:00.980915Z",
     "start_time": "2021-03-29T04:59:00.966917Z"
    }
   },
   "outputs": [],
   "source": [
    "def update():\n",
    "    # 토끼의 속도를 표시하고 있는 스핀 박스 값 추출\n",
    "    h_a = float(h_aSpbox.get())\n",
    "    # 0부터 10까지 11개의 타임데이터(x 축데이터) 생성 후 그 수 만큼 반복실행\n",
    "    for t in np.linspace(0, 10, 11) :\n",
    "        # 시간에 속도를 곱해서 y축 데이터 계산 & x, y 축데이터를 리스트에 저장\n",
    "        h_y = h_a * t\n",
    "        h_xdata.append(t)\n",
    "        h_ydata.append(h_y)\n",
    "    ax.set_xlabel('Time(hour)')\n",
    "    ax.set_ylabel('Distance(km)')\n",
    "    ax.set_title('Linear Regression')\n",
    "    ax.plot(h_xdata, h_ydata, 'ro', label='Rabbit')\n",
    "    ax.legend()\n",
    "    fig.canvas.draw()\n",
    "\n",
    "def showLines():\n",
    "    # 스핀 박스 값들을 추출\n",
    "    h_a = float(h_aSpbox.get()) # 토끼의 속도\n",
    "    h_s = float(h_sSpbox.get()) # 회귀선의 간격\n",
    "    \n",
    "    # 속도 + 회귀선 간격(0.1) * 5를 저장\n",
    "    a_val = h_a + (h_s * 5) # 저장값 1.5  - 1.5~0.5 0.1씩 줄이며 반복\n",
    "    \n",
    "    for i in np.linspace(0, 10, 11) :\n",
    "        h_xdata = []\n",
    "        h_ydata = []\n",
    "    \n",
    "        a = a_val - (i*h_s) # a_val 값 1.5부터 0.1씩 뺀값 - 1.5~0.5값 발생\n",
    "        \n",
    "        for t in np.linspace(0, 10, 11) :\n",
    "            h_y = a*t\n",
    "            h_xdata.append(t)\n",
    "            h_ydata.append(h_y)\n",
    "        \n",
    "        ax.plot(h_xdata, h_ydata, alpha=0.2)\n",
    "    fig.canvas.draw()\n",
    "\n",
    "# 기준속도(기울기 : 1)과 다른 기울기(매개변수로 전달) 간의 코스트값 계산 함수\n",
    "def gradient():\n",
    "    ani = FuncAnimation(grad_fig, animateFrame, frames=np.linspace(0, 10, 11), init_func=init)\n",
    "    grad_ax.get_title('Gradient descent')\n",
    "    grad_ax.set_ylabel('Total Cost')\n",
    "    prad_ax.set_xlabel('Variance')\n",
    "    grad_fig.canvas.draw()\n",
    "    \n",
    "def get_cost(a_val):\n",
    "    h_a = float(h_aSpbox.get())\n",
    "    cost = 0\n",
    "    for i in range(0, 11, 1) :\n",
    "        cost += pow( (a_val * i - h_a * i), 2)\n",
    "    return cost\n",
    "\n",
    "# 애니메이션 동작에 관련하고 있는 함수 (dn을 이용하여 점(scatter)을 찍는 동작)\n",
    "def animateFrame(frame) :\n",
    "    h_a = float(h_aSpbox.get())\n",
    "    h_s = float(h_sSpbox.get())\n",
    "    a_val = h_a + (h_s * 5)\n",
    "    i = frame * h_s\n",
    "    a = a_val - i\n",
    "    \n",
    "    t_xdata.append(i)\n",
    "    t_ydata.append(get_cost(a))\n",
    "    dn.set_data(t_xdataa, t_ydata)\n",
    "    return dn, ln,\n",
    "    "
   ]
  },
  {
   "cell_type": "code",
   "execution_count": 90,
   "metadata": {
    "ExecuteTime": {
     "end_time": "2021-03-29T04:59:00.996914Z",
     "start_time": "2021-03-29T04:59:00.981915Z"
    }
   },
   "outputs": [],
   "source": [
    "# 애니메이션 적용을 위한 차트의 최초 설정\n",
    "# 이름 부여(ln, dn, : 튜플 형식의 변수)\n",
    "ln, = grad_ax.plot(0, 0) # 라인\n",
    "dn, = grad_ax.plot([], [], 'ro') # 스케터\n",
    "# 위 동작에서 차트가 그려지지는 않습니다. 이는 차트의 종류와 형식을 초기화하는 동작\n",
    "# 차트가 1회에 한번씩 덧그려지면서 위동작와 현재 데이터 표시동작을 반복하며,\n",
    "# 애니메이션 효과를 낼 예정입니다."
   ]
  },
  {
   "cell_type": "code",
   "execution_count": 91,
   "metadata": {
    "ExecuteTime": {
     "end_time": "2021-03-29T04:59:01.012914Z",
     "start_time": "2021-03-29T04:59:00.997914Z"
    }
   },
   "outputs": [],
   "source": [
    "# 애니메이션 차트 초기화 함수 - animate 함수의 일부요소로 사용됩니다.\n",
    "def init():\n",
    "    grad_ax.set_xlim(-0.1, 1.1)\n",
    "    grad_ax.set_ylim(0, 100)\n",
    "    return dn, ln,"
   ]
  },
  {
   "cell_type": "code",
   "execution_count": 92,
   "metadata": {
    "ExecuteTime": {
     "end_time": "2021-03-29T04:59:05.834463Z",
     "start_time": "2021-03-29T04:59:01.013920Z"
    }
   },
   "outputs": [
    {
     "name": "stderr",
     "output_type": "stream",
     "text": [
      "Exception in Tkinter callback\n",
      "Traceback (most recent call last):\n",
      "  File \"C:\\Users\\JAVA01\\anaconda3\\lib\\tkinter\\__init__.py\", line 1883, in __call__\n",
      "    return self.func(*args)\n",
      "  File \"<ipython-input-92-3b1c1ea3992c>\", line 26, in <lambda>\n",
      "    btn3 = Button(main, text='Gradient', width=20, height=3, command=lambda:gradient())\n",
      "  File \"<ipython-input-89-cbb92fa045e0>\", line 42, in gradient\n",
      "    grad_ax.get_title('Gradient descent')\n",
      "  File \"C:\\Users\\JAVA01\\anaconda3\\lib\\site-packages\\matplotlib\\axes\\_axes.py\", line 114, in get_title\n",
      "    title = cbook._check_getitem(titles, loc=loc.lower())\n",
      "  File \"C:\\Users\\JAVA01\\anaconda3\\lib\\site-packages\\matplotlib\\cbook\\__init__.py\", line 2327, in _check_getitem\n",
      "    raise ValueError(\n",
      "ValueError: 'gradient descent' is not a valid value for loc; supported values are 'left', 'center', 'right'\n"
     ]
    }
   ],
   "source": [
    "main = Tk()\n",
    "main.title('토끼의 선형회귀')\n",
    "main.geometry()\n",
    "\n",
    "label = Label(main, text='토끼의 선형회귀')\n",
    "label.config(font=('굴림', 18))\n",
    "label.grid(row=0, column=0, columnspan=4)\n",
    "\n",
    "h_aVal = DoubleVar(value=1.0)\n",
    "h_aSpbox = Spinbox(main, textvariable=h_aVal, from_=0, to=10, increment=1)\n",
    "h_aSpbox.config(state='readonly')\n",
    "h_aSpbox.grid(row=1, column=2)\n",
    "h_aLabel = Label(main, text='토끼의 시속 (km/h) : ')\n",
    "h_aLabel.grid(row=1, column=0, columnspan=2)\n",
    "h_sVal = DoubleVar(value=0.1)\n",
    "h_sSpbox = Spinbox(main, textvariable=h_sVal, from_=0, to=2, increment=0.01)\n",
    "h_sSpbox.config(state='readonly')\n",
    "h_sSpbox.grid(row=2, column=2)\n",
    "h_sLabel = Label(main, text='회귀선 간격 (km/h) : ')\n",
    "h_sLabel.grid(row=2, column=0, columnspan=2)\n",
    "\n",
    "btn1 = Button(main, text='Run', width=20, height=3, command=lambda:update())\n",
    "btn1.grid(row=3, column=0)\n",
    "btn2 = Button(main, text='Lines', width=20, height=3, command=lambda:showLines())\n",
    "btn2.grid(row=3, column=1)\n",
    "btn3 = Button(main, text='Gradient', width=20, height=3, command=lambda:gradient())\n",
    "btn3.grid(row=3, column=2)\n",
    "\n",
    "canvas = FigureCanvasTkAgg(fig, main)\n",
    "canvas.get_tk_widget().grid(row=4, column=0, columnspan=4)\n",
    "\n",
    "grad_canvas = FigureCanvasTkAgg(grad_fig, main)\n",
    "grad_canvas.get_tk_widget().grid(row=5, column=0, columnspan=4)\n",
    "\n",
    "main.mainloop()"
   ]
  },
  {
   "cell_type": "code",
   "execution_count": null,
   "metadata": {},
   "outputs": [],
   "source": []
  }
 ],
 "metadata": {
  "hide_input": false,
  "kernelspec": {
   "display_name": "Python 3",
   "language": "python",
   "name": "python3"
  },
  "language_info": {
   "codemirror_mode": {
    "name": "ipython",
    "version": 3
   },
   "file_extension": ".py",
   "mimetype": "text/x-python",
   "name": "python",
   "nbconvert_exporter": "python",
   "pygments_lexer": "ipython3",
   "version": "3.8.5"
  },
  "toc": {
   "base_numbering": 1,
   "nav_menu": {},
   "number_sections": true,
   "sideBar": true,
   "skip_h1_title": false,
   "title_cell": "Table of Contents",
   "title_sidebar": "Contents",
   "toc_cell": false,
   "toc_position": {},
   "toc_section_display": true,
   "toc_window_display": true
  },
  "varInspector": {
   "cols": {
    "lenName": 16,
    "lenType": 16,
    "lenVar": 40
   },
   "kernels_config": {
    "python": {
     "delete_cmd_postfix": "",
     "delete_cmd_prefix": "del ",
     "library": "var_list.py",
     "varRefreshCmd": "print(var_dic_list())"
    },
    "r": {
     "delete_cmd_postfix": ") ",
     "delete_cmd_prefix": "rm(",
     "library": "var_list.r",
     "varRefreshCmd": "cat(var_dic_list()) "
    }
   },
   "types_to_exclude": [
    "module",
    "function",
    "builtin_function_or_method",
    "instance",
    "_Feature"
   ],
   "window_display": false
  }
 },
 "nbformat": 4,
 "nbformat_minor": 4
}
