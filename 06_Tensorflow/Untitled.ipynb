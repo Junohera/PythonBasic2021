{
 "cells": [
  {
   "cell_type": "code",
   "execution_count": 4,
   "metadata": {
    "ExecuteTime": {
     "end_time": "2021-03-30T05:49:33.089455Z",
     "start_time": "2021-03-30T05:49:32.877412Z"
    }
   },
   "outputs": [
    {
     "ename": "NameError",
     "evalue": "name 'marathon_2015_2017_qualifing' is not defined",
     "output_type": "error",
     "traceback": [
      "\u001b[1;31m---------------------------------------------------------------------------\u001b[0m",
      "\u001b[1;31mNameError\u001b[0m                                 Traceback (most recent call last)",
      "\u001b[1;32m<ipython-input-4-e674f7da059c>\u001b[0m in \u001b[0;36m<module>\u001b[1;34m\u001b[0m\n\u001b[0;32m     10\u001b[0m \u001b[1;33m\u001b[0m\u001b[0m\n\u001b[0;32m     11\u001b[0m \u001b[0mmarathon_2015_2017\u001b[0m \u001b[1;33m=\u001b[0m \u001b[0mpd\u001b[0m\u001b[1;33m.\u001b[0m\u001b[0mread_csv\u001b[0m\u001b[1;33m(\u001b[0m\u001b[1;34m'./marathon_merge[2015~2017].csv'\u001b[0m\u001b[1;33m)\u001b[0m\u001b[1;33m\u001b[0m\u001b[1;33m\u001b[0m\u001b[0m\n\u001b[1;32m---> 12\u001b[1;33m \u001b[0mmarathon_2015\u001b[0m \u001b[1;33m=\u001b[0m \u001b[0mmarathon_2015_2017_qualifing\u001b[0m\u001b[1;33m[\u001b[0m\u001b[0mmarathon_2015_2017\u001b[0m\u001b[1;33m[\u001b[0m\u001b[1;34m'Year'\u001b[0m\u001b[1;33m]\u001b[0m \u001b[1;33m!=\u001b[0m \u001b[1;36m2017\u001b[0m\u001b[1;33m]\u001b[0m\u001b[1;33m\u001b[0m\u001b[1;33m\u001b[0m\u001b[0m\n\u001b[0m\u001b[0;32m     13\u001b[0m \u001b[0mmarathon_2017\u001b[0m \u001b[1;33m=\u001b[0m \u001b[0mmarathon_2015_2017_qualifing\u001b[0m\u001b[1;33m[\u001b[0m\u001b[0mmarathon_2015_2017\u001b[0m\u001b[1;33m[\u001b[0m\u001b[1;34m'Year'\u001b[0m\u001b[1;33m]\u001b[0m \u001b[1;33m==\u001b[0m \u001b[1;36m2017\u001b[0m\u001b[1;33m]\u001b[0m\u001b[1;33m\u001b[0m\u001b[1;33m\u001b[0m\u001b[0m\n\u001b[0;32m     14\u001b[0m \u001b[1;33m\u001b[0m\u001b[0m\n",
      "\u001b[1;31mNameError\u001b[0m: name 'marathon_2015_2017_qualifing' is not defined"
     ]
    }
   ],
   "source": [
    "import numpy as np\n",
    "from tkinter import *\n",
    "from tkinter import ttk\n",
    "import tkinter.scrolledtext as tkst\n",
    "from matplotlib.figure import Figure\n",
    "from matplotlib.backends.backend_tkagg import FigureCanvasTkAgg\n",
    "from matplotlib.animation import FuncAnimation\n",
    "import math\n",
    "import pandas as pd\n",
    "\n",
    "marathon_2015_2017 = pd.read_csv('./marathon_merge[2015~2017].csv')\n",
    "marathon_2015 = marathon_2015_2017_qualifing[marathon_2015_2017['Year'] != 2017]\n",
    "marathon_2017 = marathon_2015_2017_qualifing[marathon_2015_2017['Year'] == 2017]\n",
    "\n",
    "df_2015_2016 = pd.DataFrame(marathon_2015_2017, columns=['M/F', 'Age', 'Pace', 'qualifying',])\n",
    "df_2017 = pd.DataFrame(marathon_2017, columns=['M/F', 'Age', 'Pace', 'qualifying'])\n",
    "\n",
    "record_2015_2016 = df_2015_2016.values.tolist()\n",
    "record_2017 = df_2017.values.tolist()\n",
    "gender_list = ['Female', 'Male']\n",
    "\n",
    "fig = Figure(figsize=(10, 6), dpi=100)\n",
    "ax = fig.add_subplot(111)\n",
    "ax.set_xlim(15, 88)\n",
    "ax.set_ylim(0, 1300)\n",
    "ax.set_xlabel('Pace : Runner\\'s overrall minute per mile pace')\n",
    "ax.set_ylabel('Age : Age on Race day')\n"
   ]
  },
  {
   "cell_type": "code",
   "execution_count": null,
   "metadata": {
    "ExecuteTime": {
     "end_time": "2021-03-30T05:49:33.091772Z",
     "start_time": "2021-03-30T05:49:32.883Z"
    }
   },
   "outputs": [],
   "source": [
    "x_train = [r[0:3] for r in record_2015_2016]\n",
    "y_train = [r[-1] for r in record_2015_2016]\n",
    "x_test = [r[0:3] for r in record_2015_2016]\n",
    "y_test = [r[-1] for r in record_2015_2016]\n",
    "print(x_train[0], y_train[0])"
   ]
  },
  {
   "cell_type": "code",
   "execution_count": 5,
   "metadata": {
    "ExecuteTime": {
     "end_time": "2021-03-30T05:50:05.361546Z",
     "start_time": "2021-03-30T05:50:05.358546Z"
    }
   },
   "outputs": [],
   "source": [
    "def histogram() :\n",
    "    pass"
   ]
  },
  {
   "cell_type": "code",
   "execution_count": null,
   "metadata": {},
   "outputs": [],
   "source": [
    "def learning() :\n",
    "    import tensorflow as tf\n",
    "    import numpy as np\n",
    "    t_a = int(t_aSpbox.get()) - 1\n",
    "    runner = x_test[t_a]\n",
    "    t_g = int(runner[0])\n",
    "    t_y = int(runner[1])\n",
    "    t_p = int(runner[2])\n",
    "    t_t = int(t_tSpbox.get())\n",
    "    t_r = float(t_rSpbox.get())\n",
    "    \n",
    "    model = tf.keras.models.Sequential()\n",
    "    \n",
    "    model.add(tf.keras.layers.Dense(1, input_shape=(3,), activation='sigmoid'))\n",
    "    sgd = tf.keras.optimizers.SGD(lr=t_r)\n",
    "    model.compile(loss='binary_crossentropy', optimizers=sgd, metrics=['accuracy'])\n",
    "    model.summary()\n",
    "    history = model.fit(np.array(x_train), np.array(y_train), epochs=t_t)"
   ]
  }
 ],
 "metadata": {
  "hide_input": false,
  "kernelspec": {
   "display_name": "Python 3",
   "language": "python",
   "name": "python3"
  },
  "language_info": {
   "codemirror_mode": {
    "name": "ipython",
    "version": 3
   },
   "file_extension": ".py",
   "mimetype": "text/x-python",
   "name": "python",
   "nbconvert_exporter": "python",
   "pygments_lexer": "ipython3",
   "version": "3.8.5"
  },
  "toc": {
   "base_numbering": 1,
   "nav_menu": {},
   "number_sections": true,
   "sideBar": true,
   "skip_h1_title": false,
   "title_cell": "Table of Contents",
   "title_sidebar": "Contents",
   "toc_cell": false,
   "toc_position": {},
   "toc_section_display": true,
   "toc_window_display": true
  },
  "varInspector": {
   "cols": {
    "lenName": 16,
    "lenType": 16,
    "lenVar": 40
   },
   "kernels_config": {
    "python": {
     "delete_cmd_postfix": "",
     "delete_cmd_prefix": "del ",
     "library": "var_list.py",
     "varRefreshCmd": "print(var_dic_list())"
    },
    "r": {
     "delete_cmd_postfix": ") ",
     "delete_cmd_prefix": "rm(",
     "library": "var_list.r",
     "varRefreshCmd": "cat(var_dic_list()) "
    }
   },
   "types_to_exclude": [
    "module",
    "function",
    "builtin_function_or_method",
    "instance",
    "_Feature"
   ],
   "window_display": false
  }
 },
 "nbformat": 4,
 "nbformat_minor": 4
}
