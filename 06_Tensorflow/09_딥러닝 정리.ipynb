{
 "cells": [
  {
   "cell_type": "markdown",
   "metadata": {},
   "source": [
    "### Deep Learning 정리\n",
    "1. 인간의 뇌에 각각 가장 작은 단위로 존재하는 뉴럴을 모방하여 만든 인공지능 구조\n",
    "1. 간단한 개념의 인공 뉴런을 충분히 많이 연결하여 놓아, 인간이 인지하기 어려운 매우 복잡한 패턴을 스스로 학습하게 합니다.\n",
    "1. 수천, 수만개의 W값과 b값의 조합을 변경해가면서 계산합니다.\n",
    "1. 하지만 이는 매우 오랜시간이 걸려서 신경망 훈련은 초반에 많은 어려움이 있었습니다.\n",
    "1. 신경망의 층이 깊어질수록 시도해봐야하는 조합이 기하급수로 늘어나서 과거에는 유의미한 신경망 제작은 거의 불가능했었습니다.\n",
    "1. 이후 끊임없는 연구를 통해 신경망 학습 알고리즘이 개발되었고, 심층 신경망 학습을 증명하면서 다시 신경망이 화자되기 시작했습니다.\n",
    "1. 드롭아웃, ReLU 등의 액티베이션 함수 개방로 급속 발전, 또한 수치계산과 병렬 처리에 쓰이는 GPU 발전으로 더욱 딥러닝발전에 기여하였습니다.\n",
    "1. 이 발전의 중심에 역전파(BackPropagation)이 있습니다.\n",
    "1. 출력층이 내놓은 결과의 오차를 입력층까지 역으로 전파해서 계산해 나가는 방식으로 기존 방식보다 최적화 과정이 빠르고 정확해 집니다.\n",
    "1. 역전파는 신경망 사용시 항상 적용해야 하는 알고리즘이지만 구현이 어려움. 다만 텐서플로에서 역전파 기법을 기본으로 제공하므로 간단히 사용할 수 있습니다."
   ]
  },
  {
   "cell_type": "code",
   "execution_count": null,
   "metadata": {},
   "outputs": [],
   "source": []
  }
 ],
 "metadata": {
  "hide_input": false,
  "kernelspec": {
   "display_name": "Python 3",
   "language": "python",
   "name": "python3"
  },
  "language_info": {
   "codemirror_mode": {
    "name": "ipython",
    "version": 3
   },
   "file_extension": ".py",
   "mimetype": "text/x-python",
   "name": "python",
   "nbconvert_exporter": "python",
   "pygments_lexer": "ipython3",
   "version": "3.8.5"
  },
  "toc": {
   "base_numbering": 1,
   "nav_menu": {},
   "number_sections": true,
   "sideBar": true,
   "skip_h1_title": false,
   "title_cell": "Table of Contents",
   "title_sidebar": "Contents",
   "toc_cell": false,
   "toc_position": {},
   "toc_section_display": true,
   "toc_window_display": true
  },
  "varInspector": {
   "cols": {
    "lenName": 16,
    "lenType": 16,
    "lenVar": 40
   },
   "kernels_config": {
    "python": {
     "delete_cmd_postfix": "",
     "delete_cmd_prefix": "del ",
     "library": "var_list.py",
     "varRefreshCmd": "print(var_dic_list())"
    },
    "r": {
     "delete_cmd_postfix": ") ",
     "delete_cmd_prefix": "rm(",
     "library": "var_list.r",
     "varRefreshCmd": "cat(var_dic_list()) "
    }
   },
   "types_to_exclude": [
    "module",
    "function",
    "builtin_function_or_method",
    "instance",
    "_Feature"
   ],
   "window_display": false
  }
 },
 "nbformat": 4,
 "nbformat_minor": 4
}
