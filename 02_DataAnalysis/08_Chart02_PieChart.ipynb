{
 "cells": [
  {
   "cell_type": "code",
   "execution_count": 9,
   "id": "rocky-burning",
   "metadata": {},
   "outputs": [
    {
     "data": {
      "text/html": [
       "<div>\n",
       "<style scoped>\n",
       "    .dataframe tbody tr th:only-of-type {\n",
       "        vertical-align: middle;\n",
       "    }\n",
       "\n",
       "    .dataframe tbody tr th {\n",
       "        vertical-align: top;\n",
       "    }\n",
       "\n",
       "    .dataframe thead th {\n",
       "        text-align: right;\n",
       "    }\n",
       "</style>\n",
       "<table border=\"1\" class=\"dataframe\">\n",
       "  <thead>\n",
       "    <tr style=\"text-align: right;\">\n",
       "      <th></th>\n",
       "      <th>Name</th>\n",
       "      <th>Age</th>\n",
       "      <th>M/F</th>\n",
       "      <th>City</th>\n",
       "      <th>State</th>\n",
       "      <th>Country</th>\n",
       "      <th>5K</th>\n",
       "      <th>10K</th>\n",
       "      <th>15K</th>\n",
       "      <th>20K</th>\n",
       "      <th>Half</th>\n",
       "      <th>25K</th>\n",
       "      <th>30K</th>\n",
       "      <th>35K</th>\n",
       "      <th>40K</th>\n",
       "      <th>Pace</th>\n",
       "      <th>Official Time</th>\n",
       "      <th>Overall</th>\n",
       "      <th>Gender</th>\n",
       "      <th>Division</th>\n",
       "      <th>Year</th>\n",
       "    </tr>\n",
       "  </thead>\n",
       "  <tbody>\n",
       "    <tr>\n",
       "      <th>0</th>\n",
       "      <td>Desisa, Lelisa</td>\n",
       "      <td>25</td>\n",
       "      <td>M</td>\n",
       "      <td>Ambo</td>\n",
       "      <td>NaN</td>\n",
       "      <td>ETH</td>\n",
       "      <td>883</td>\n",
       "      <td>1783</td>\n",
       "      <td>2697</td>\n",
       "      <td>3629</td>\n",
       "      <td>3842</td>\n",
       "      <td>4567</td>\n",
       "      <td>5520</td>\n",
       "      <td>6479</td>\n",
       "      <td>7359</td>\n",
       "      <td>296</td>\n",
       "      <td>7757</td>\n",
       "      <td>1</td>\n",
       "      <td>1</td>\n",
       "      <td>1</td>\n",
       "      <td>2015</td>\n",
       "    </tr>\n",
       "    <tr>\n",
       "      <th>1</th>\n",
       "      <td>Tsegay, Yemane Adhane</td>\n",
       "      <td>30</td>\n",
       "      <td>M</td>\n",
       "      <td>Addis Ababa</td>\n",
       "      <td>NaN</td>\n",
       "      <td>ETH</td>\n",
       "      <td>883</td>\n",
       "      <td>1783</td>\n",
       "      <td>2698</td>\n",
       "      <td>3628</td>\n",
       "      <td>3841</td>\n",
       "      <td>4567</td>\n",
       "      <td>5519</td>\n",
       "      <td>6479</td>\n",
       "      <td>7362</td>\n",
       "      <td>298</td>\n",
       "      <td>7788</td>\n",
       "      <td>2</td>\n",
       "      <td>2</td>\n",
       "      <td>2</td>\n",
       "      <td>2015</td>\n",
       "    </tr>\n",
       "    <tr>\n",
       "      <th>2</th>\n",
       "      <td>Chebet, Wilson</td>\n",
       "      <td>29</td>\n",
       "      <td>M</td>\n",
       "      <td>Marakwet</td>\n",
       "      <td>NaN</td>\n",
       "      <td>KEN</td>\n",
       "      <td>883</td>\n",
       "      <td>1783</td>\n",
       "      <td>2697</td>\n",
       "      <td>3629</td>\n",
       "      <td>3842</td>\n",
       "      <td>4567</td>\n",
       "      <td>5520</td>\n",
       "      <td>6479</td>\n",
       "      <td>7381</td>\n",
       "      <td>299</td>\n",
       "      <td>7822</td>\n",
       "      <td>3</td>\n",
       "      <td>3</td>\n",
       "      <td>3</td>\n",
       "      <td>2015</td>\n",
       "    </tr>\n",
       "    <tr>\n",
       "      <th>3</th>\n",
       "      <td>Kipyego, Bernard</td>\n",
       "      <td>28</td>\n",
       "      <td>M</td>\n",
       "      <td>Eldoret</td>\n",
       "      <td>NaN</td>\n",
       "      <td>KEN</td>\n",
       "      <td>883</td>\n",
       "      <td>1784</td>\n",
       "      <td>2701</td>\n",
       "      <td>3629</td>\n",
       "      <td>3842</td>\n",
       "      <td>4567</td>\n",
       "      <td>5520</td>\n",
       "      <td>6483</td>\n",
       "      <td>7427</td>\n",
       "      <td>300</td>\n",
       "      <td>7847</td>\n",
       "      <td>4</td>\n",
       "      <td>4</td>\n",
       "      <td>4</td>\n",
       "      <td>2015</td>\n",
       "    </tr>\n",
       "    <tr>\n",
       "      <th>4</th>\n",
       "      <td>Korir, Wesley</td>\n",
       "      <td>32</td>\n",
       "      <td>M</td>\n",
       "      <td>Kitale</td>\n",
       "      <td>NaN</td>\n",
       "      <td>KEN</td>\n",
       "      <td>883</td>\n",
       "      <td>1784</td>\n",
       "      <td>2698</td>\n",
       "      <td>3628</td>\n",
       "      <td>3841</td>\n",
       "      <td>4567</td>\n",
       "      <td>5520</td>\n",
       "      <td>6479</td>\n",
       "      <td>7407</td>\n",
       "      <td>300</td>\n",
       "      <td>7849</td>\n",
       "      <td>5</td>\n",
       "      <td>5</td>\n",
       "      <td>5</td>\n",
       "      <td>2015</td>\n",
       "    </tr>\n",
       "  </tbody>\n",
       "</table>\n",
       "</div>"
      ],
      "text/plain": [
       "                    Name  Age M/F         City State Country   5K   10K   15K  \\\n",
       "0         Desisa, Lelisa   25   M         Ambo   NaN     ETH  883  1783  2697   \n",
       "1  Tsegay, Yemane Adhane   30   M  Addis Ababa   NaN     ETH  883  1783  2698   \n",
       "2         Chebet, Wilson   29   M     Marakwet   NaN     KEN  883  1783  2697   \n",
       "3       Kipyego, Bernard   28   M      Eldoret   NaN     KEN  883  1784  2701   \n",
       "4          Korir, Wesley   32   M       Kitale   NaN     KEN  883  1784  2698   \n",
       "\n",
       "    20K  Half   25K   30K   35K   40K  Pace  Official Time  Overall  Gender  \\\n",
       "0  3629  3842  4567  5520  6479  7359   296           7757        1       1   \n",
       "1  3628  3841  4567  5519  6479  7362   298           7788        2       2   \n",
       "2  3629  3842  4567  5520  6479  7381   299           7822        3       3   \n",
       "3  3629  3842  4567  5520  6483  7427   300           7847        4       4   \n",
       "4  3628  3841  4567  5520  6479  7407   300           7849        5       5   \n",
       "\n",
       "   Division  Year  \n",
       "0         1  2015  \n",
       "1         2  2015  \n",
       "2         3  2015  \n",
       "3         4  2015  \n",
       "4         5  2015  "
      ]
     },
     "execution_count": 9,
     "metadata": {},
     "output_type": "execute_result"
    }
   ],
   "source": [
    "import pandas as pd\n",
    "import numpy as np\n",
    "import matplotlib.pyplot as plt\n",
    "import seaborn as sns\n",
    "\n",
    "pd.options.display.max_columns = 25\n",
    "# plt.style.use('dark_background')\n",
    "\n",
    "marathonDf = pd.read_csv('./marathon/marathon_merge[2015~2017].csv')\n",
    "marathonDf.head()"
   ]
  },
  {
   "cell_type": "code",
   "execution_count": 10,
   "id": "private-offense",
   "metadata": {},
   "outputs": [],
   "source": [
    "import matplotlib.pyplot as plt"
   ]
  },
  {
   "cell_type": "code",
   "execution_count": 11,
   "id": "innovative-adolescent",
   "metadata": {},
   "outputs": [
    {
     "data": {
      "text/plain": [
       "<Figure size 504x504 with 0 Axes>"
      ]
     },
     "execution_count": 11,
     "metadata": {},
     "output_type": "execute_result"
    },
    {
     "data": {
      "text/plain": [
       "<Figure size 504x504 with 0 Axes>"
      ]
     },
     "metadata": {},
     "output_type": "display_data"
    }
   ],
   "source": [
    "plt.figure(figsize=(7, 7)) # 차트의 크기설정"
   ]
  },
  {
   "cell_type": "code",
   "execution_count": 12,
   "id": "aerial-dress",
   "metadata": {},
   "outputs": [
    {
     "data": {
      "text/plain": [
       "M    43482\n",
       "F    36156\n",
       "Name: M/F, dtype: int64"
      ]
     },
     "execution_count": 12,
     "metadata": {},
     "output_type": "execute_result"
    }
   ],
   "source": [
    "# 남녀 참가자의 비율\n",
    "m = marathonDf['M/F'].value_counts()\n",
    "m"
   ]
  },
  {
   "cell_type": "code",
   "execution_count": 14,
   "id": "whole-korea",
   "metadata": {},
   "outputs": [
    {
     "data": {
      "image/png": "[encoded data removed]",
      "text/plain": [
       "<Figure size 432x288 with 1 Axes>"
      ]
     },
     "metadata": {},
     "output_type": "display_data"
    }
   ],
   "source": [
    "plt.title('Male vs Female', fontsize=18)\n",
    "label = '1', '2'\n",
    "exp = (0, 10)\n",
    "plt.pie(m, labels=label, startangle=50, autopct='5.1f', explode=exp, shadow=True)\n",
    "# startangle : 화면에 표시되기전 회전각도\n",
    "# autopct : 자동 비율전환 & 출력 양식 설정\n",
    "# explode : 각 구성요소중 강조하고자 하는 조각을 얼만큼 빼내어서 표시할지에 대한 설정(데이터 개수만큼 설정)\n",
    "# shadow : 그림자 설정\n",
    "plt.show()"
   ]
  }
 ],
 "metadata": {
  "kernelspec": {
   "display_name": "Python 3",
   "language": "python",
   "name": "python3"
  },
  "language_info": {
   "codemirror_mode": {
    "name": "ipython",
    "version": 3
   },
   "file_extension": ".py",
   "mimetype": "text/x-python",
   "name": "python",
   "nbconvert_exporter": "python",
   "pygments_lexer": "ipython3",
   "version": "3.8.5"
  }
 },
 "nbformat": 4,
 "nbformat_minor": 5
}
