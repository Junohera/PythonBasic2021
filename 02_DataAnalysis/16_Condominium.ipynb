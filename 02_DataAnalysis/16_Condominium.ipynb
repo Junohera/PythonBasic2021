{
 "cells": [
  {
   "cell_type": "markdown",
   "id": "artistic-flash",
   "metadata": {},
   "source": [
    "# 전국 신규 민간 아파트 분양가격 동향\n",
    "- 2013년부터 최근까지 부동산 가격 변동 추세를 알아봅니다.\n",
    "- 전혀 다른 형태의 두 데이터를 가져오 ㅏ정제하고 병합하는 과정을 다루는 방법 학습합니다\n",
    "- 전처리한 결과에 대해 수치형, 범주형 데이터를 이해하고 다양한 그래프로 시각화합니다"
   ]
  },
  {
   "cell_type": "markdown",
   "id": "reasonable-prerequisite",
   "metadata": {},
   "source": [
    "## Config"
   ]
  },
  {
   "cell_type": "code",
   "execution_count": null,
   "id": "proved-trade",
   "metadata": {
    "ExecuteTime": {
     "end_time": "2021-03-08T08:35:26.339065Z",
     "start_time": "2021-03-08T08:35:26.326075Z"
    }
   },
   "outputs": [],
   "source": [
    "import pandas as pd"
   ]
  },
  {
   "cell_type": "markdown",
   "id": "personal-correction",
   "metadata": {},
   "source": [
    "---"
   ]
  },
  {
   "cell_type": "markdown",
   "id": "declared-atlanta",
   "metadata": {},
   "source": [
    "## Preprocessing"
   ]
  },
  {
   "cell_type": "markdown",
   "id": "micro-tutorial",
   "metadata": {},
   "source": [
    "### Default"
   ]
  },
  {
   "cell_type": "markdown",
   "id": "international-appraisal",
   "metadata": {},
   "source": [
    "#### load"
   ]
  },
  {
   "cell_type": "code",
   "execution_count": null,
   "id": "stylish-arrest",
   "metadata": {
    "ExecuteTime": {
     "end_time": "2021-03-08T08:35:26.370064Z",
     "start_time": "2021-03-08T08:35:26.341065Z"
    }
   },
   "outputs": [],
   "source": [
    "df_first = pd.read_csv('./condominium/전국 평균 분양가격(2013년 9월부터 2015년 8월까지).csv', encoding='cp949')\n",
    "df_last = pd.read_csv('./condominium/주택도시보증공사_전국 평균 분양가격(2019년 12월).csv', encoding='cp949')"
   ]
  },
  {
   "cell_type": "markdown",
   "id": "balanced-joyce",
   "metadata": {},
   "source": [
    "####  check"
   ]
  },
  {
   "cell_type": "code",
   "execution_count": null,
   "id": "confidential-storm",
   "metadata": {
    "ExecuteTime": {
     "end_time": "2021-03-08T08:35:26.385067Z",
     "start_time": "2021-03-08T08:35:26.372064Z"
    }
   },
   "outputs": [],
   "source": [
    "df_first.shape"
   ]
  },
  {
   "cell_type": "code",
   "execution_count": null,
   "id": "elegant-vaccine",
   "metadata": {
    "ExecuteTime": {
     "end_time": "2021-03-08T08:35:26.401078Z",
     "start_time": "2021-03-08T08:35:26.387063Z"
    }
   },
   "outputs": [],
   "source": [
    "df_last.shape"
   ]
  },
  {
   "cell_type": "code",
   "execution_count": null,
   "id": "chubby-newsletter",
   "metadata": {
    "ExecuteTime": {
     "end_time": "2021-03-08T08:35:26.417063Z",
     "start_time": "2021-03-08T08:35:26.403063Z"
    }
   },
   "outputs": [],
   "source": [
    "df_first.info()"
   ]
  },
  {
   "cell_type": "code",
   "execution_count": null,
   "id": "reverse-showcase",
   "metadata": {
    "ExecuteTime": {
     "end_time": "2021-03-08T08:35:26.432077Z",
     "start_time": "2021-03-08T08:35:26.419062Z"
    }
   },
   "outputs": [],
   "source": [
    "df_last.info()"
   ]
  },
  {
   "cell_type": "markdown",
   "id": "private-deadline",
   "metadata": {},
   "source": [
    "#### Missing Data"
   ]
  },
  {
   "cell_type": "code",
   "execution_count": null,
   "id": "secret-civilization",
   "metadata": {
    "ExecuteTime": {
     "end_time": "2021-03-08T08:35:26.448076Z",
     "start_time": "2021-03-08T08:35:26.433062Z"
    }
   },
   "outputs": [],
   "source": [
    "df_last.isnull().sum()"
   ]
  },
  {
   "cell_type": "markdown",
   "id": "unusual-option",
   "metadata": {},
   "source": [
    "##### 데이터타입 변경\n",
    "- 분양가격이 object(문자)타입이라 계산이 불가합니다.\n",
    "- 계산을 수행하기위해서는 수치데이터로 변경하여야 하는데, 결측치가 포함되어있으면 변환이 의도한대로 되지않을 수 있습니다.\n",
    "- to_numeric을 사용할 경우, 데이터타입 변경시 별도의 예외처리가 가능합니다.\n",
    "    - __errors__ : [\n",
    "        'coerce' : 사전적 의미는 '강압'이고, type이 float인 NaN값으로 변환\n",
    "    ]\n"
   ]
  },
  {
   "cell_type": "code",
   "execution_count": null,
   "id": "excess-speech",
   "metadata": {
    "ExecuteTime": {
     "end_time": "2021-03-08T08:35:26.463063Z",
     "start_time": "2021-03-08T08:35:26.450063Z"
    }
   },
   "outputs": [],
   "source": [
    "df_last['분양가격'] = pd.to_numeric(df_last['분양가격(㎡)'], errors='coerce')\n",
    "df_last['분양가격'].head()"
   ]
  },
  {
   "cell_type": "code",
   "execution_count": null,
   "id": "apart-vinyl",
   "metadata": {
    "ExecuteTime": {
     "end_time": "2021-03-08T08:35:26.495075Z",
     "start_time": "2021-03-08T08:35:26.467061Z"
    }
   },
   "outputs": [],
   "source": [
    "df_last.info()"
   ]
  },
  {
   "cell_type": "markdown",
   "id": "comparative-victory",
   "metadata": {},
   "source": [
    "######  넘파이의 NaN값은 float"
   ]
  },
  {
   "cell_type": "code",
   "execution_count": null,
   "id": "decent-bangladesh",
   "metadata": {
    "ExecuteTime": {
     "end_time": "2021-03-08T08:35:26.511069Z",
     "start_time": "2021-03-08T08:35:26.497060Z"
    }
   },
   "outputs": [],
   "source": [
    "type(pd.np.nan)"
   ]
  },
  {
   "cell_type": "markdown",
   "id": "mighty-drove",
   "metadata": {},
   "source": [
    "### 평당 가격 구하기\n",
    "- 현재 사용중인 2013년부터의 데이터는 평당분양가격 기준으로 되어 있습니다.\n",
    "- 분양가격을 평당기준으로 보기위해 3.3을 곱해 '평당분양가격'컬럼을 추가합니다."
   ]
  },
  {
   "cell_type": "code",
   "execution_count": null,
   "id": "improved-contrast",
   "metadata": {
    "ExecuteTime": {
     "end_time": "2021-03-08T08:35:26.526360Z",
     "start_time": "2021-03-08T08:35:26.513059Z"
    }
   },
   "outputs": [],
   "source": [
    "df_last['평당분양가격'] = df_last['분양가격'] * 3.3 # 평당분양가격 컬럼 추가 (평당분양가격 = 분양가격 * 3.3)\n",
    "df_last.head()"
   ]
  },
  {
   "cell_type": "code",
   "execution_count": null,
   "id": "handed-romance",
   "metadata": {
    "ExecuteTime": {
     "end_time": "2021-03-08T08:35:26.541990Z",
     "start_time": "2021-03-08T08:35:26.528362Z"
    }
   },
   "outputs": [],
   "source": [
    "df_last.info() # 평당분양가격 데이터 확인"
   ]
  },
  {
   "cell_type": "markdown",
   "id": "subject-installation",
   "metadata": {},
   "source": [
    "### 규모구분을 전용면적 컬럼으로 변경\n",
    "- 규모구분 컬럼은 전용면적에 대한 내용이 있습니다.\n",
    "- 전용면적이라는 문구가 공통적으로 들어가고 규모구분보다는 전용면적이 좀 더 직관적이기 때문에 전용면적이라는 컬럼을 새로 만들어주고 기존 규모구분의 값에서 전용면적, 초과, 이하 등의 문구를 빼고 __간결하게 저장__합니다.\n",
    "\n",
    "- str의 replace기능을 사용해 \"전용면적 60㎡초과 85㎡이하\"라면 \"60㎡~85㎡\"로 변경"
   ]
  },
  {
   "cell_type": "code",
   "execution_count": null,
   "id": "alleged-church",
   "metadata": {
    "ExecuteTime": {
     "end_time": "2021-03-08T08:35:26.573003Z",
     "start_time": "2021-03-08T08:35:26.543005Z"
    }
   },
   "outputs": [],
   "source": [
    "df_last['전용면적'] = df_last['규모구분'].str.replace('전용면적', \"\") # \"전용면적\" -> \"\"\n",
    "df_last['전용면적'] = df_last['전용면적'].str.replace('초과', \"~\") # \"초과\" -> \"~\"\n",
    "df_last['전용면적'] = df_last['전용면적'].str.replace('이하', \"\") # \"이하\" -> \"\"\n",
    "df_last['전용면적'] = df_last['전용면적'].str.replace('\" \"', \"\") # \" \" -> \"\"\n",
    "df_last['전용면적']"
   ]
  },
  {
   "cell_type": "markdown",
   "id": "marine-sociology",
   "metadata": {},
   "source": [
    "### 불필요 컬럼 삭제"
   ]
  },
  {
   "cell_type": "code",
   "execution_count": null,
   "id": "adjacent-least",
   "metadata": {
    "ExecuteTime": {
     "end_time": "2021-03-08T08:35:26.588988Z",
     "start_time": "2021-03-08T08:35:26.574989Z"
    }
   },
   "outputs": [],
   "source": [
    "df_last = df_last.drop(['규모구분', '분양가격(㎡)'], axis=1)\n",
    "df_last.head()"
   ]
  },
  {
   "cell_type": "markdown",
   "id": "domestic-colonial",
   "metadata": {},
   "source": [
    "### 데이터 집계 with groupby"
   ]
  },
  {
   "cell_type": "markdown",
   "id": "active-penguin",
   "metadata": {},
   "source": [
    "#### 지역별 평당분양 평균가"
   ]
  },
  {
   "cell_type": "code",
   "execution_count": null,
   "id": "creative-finance",
   "metadata": {
    "ExecuteTime": {
     "end_time": "2021-03-08T08:35:26.604988Z",
     "start_time": "2021-03-08T08:35:26.590989Z"
    }
   },
   "outputs": [],
   "source": [
    "df_last.groupby(by=['지역명'])['평당분양가격'].mean()"
   ]
  },
  {
   "cell_type": "markdown",
   "id": "romance-alias",
   "metadata": {},
   "source": [
    "#### 전용면적별 평당분양 평균가"
   ]
  },
  {
   "cell_type": "code",
   "execution_count": null,
   "id": "processed-subcommittee",
   "metadata": {
    "ExecuteTime": {
     "end_time": "2021-03-08T08:35:26.619997Z",
     "start_time": "2021-03-08T08:35:26.606987Z"
    }
   },
   "outputs": [],
   "source": [
    "df_last.groupby(by=['전용면적'])['평당분양가격'].mean()"
   ]
  },
  {
   "cell_type": "markdown",
   "id": "expired-expert",
   "metadata": {},
   "source": [
    "#### 전용면적, 지역명별 평당분양 평균가"
   ]
  },
  {
   "cell_type": "code",
   "execution_count": null,
   "id": "happy-blogger",
   "metadata": {
    "ExecuteTime": {
     "end_time": "2021-03-08T08:35:26.635996Z",
     "start_time": "2021-03-08T08:35:26.621987Z"
    }
   },
   "outputs": [],
   "source": [
    "df_last.groupby(by=['전용면적', '지역명'])['평당분양가격'].mean()"
   ]
  },
  {
   "cell_type": "code",
   "execution_count": null,
   "id": "empirical-canada",
   "metadata": {
    "ExecuteTime": {
     "end_time": "2021-03-08T08:35:26.666988Z",
     "start_time": "2021-03-08T08:35:26.636987Z"
    }
   },
   "outputs": [],
   "source": [
    "df_last.groupby(by=['전용면적', '지역명'])['평당분양가격'].mean().unstack().round()"
   ]
  },
  {
   "cell_type": "markdown",
   "id": "natural-dialogue",
   "metadata": {},
   "source": [
    "#### 연도, 지역별 평당분양가격"
   ]
  },
  {
   "cell_type": "code",
   "execution_count": null,
   "id": "raised-punishment",
   "metadata": {
    "ExecuteTime": {
     "end_time": "2021-03-08T08:35:26.697732Z",
     "start_time": "2021-03-08T08:35:26.668988Z"
    }
   },
   "outputs": [],
   "source": [
    "g = df_last.groupby(by=['연도', '지역명'])['평당분양가격'].mean().unstack().transpose().round()\n",
    "g"
   ]
  },
  {
   "cell_type": "markdown",
   "id": "known-removal",
   "metadata": {},
   "source": [
    "### 데이터 집계 with pivot_table\n",
    "- pivot_table()함수는 구성속성중 aggfunc의 default가 mean\n",
    "    - 대상 values 컬럼이 숫자면 mean\n",
    "    - 대상 values 컬럼이 문자면 count"
   ]
  },
  {
   "cell_type": "markdown",
   "id": "reserved-course",
   "metadata": {},
   "source": [
    "#### 지역별 평당분양 평균가"
   ]
  },
  {
   "cell_type": "code",
   "execution_count": null,
   "id": "bearing-decline",
   "metadata": {
    "ExecuteTime": {
     "end_time": "2021-03-08T08:35:26.728733Z",
     "start_time": "2021-03-08T08:35:26.699733Z"
    }
   },
   "outputs": [],
   "source": [
    "pd.pivot_table(df_last, index=['지역명'], values=['평당분양가격'], aggfunc='mean').round()"
   ]
  },
  {
   "cell_type": "markdown",
   "id": "manufactured-manual",
   "metadata": {},
   "source": [
    "#### 전용면적별 평당분양 평균가"
   ]
  },
  {
   "cell_type": "code",
   "execution_count": null,
   "id": "frequent-serve",
   "metadata": {
    "ExecuteTime": {
     "end_time": "2021-03-08T08:35:26.759730Z",
     "start_time": "2021-03-08T08:35:26.730731Z"
    }
   },
   "outputs": [],
   "source": [
    "pd.pivot_table(df_last, index=['전용면적'], values=['평당분양가격'], aggfunc='mean').round()"
   ]
  },
  {
   "cell_type": "markdown",
   "id": "searching-friday",
   "metadata": {},
   "source": [
    "#### 전용면적, 지역명별 평당분양 평균가"
   ]
  },
  {
   "cell_type": "code",
   "execution_count": null,
   "id": "blocked-macedonia",
   "metadata": {
    "ExecuteTime": {
     "end_time": "2021-03-08T08:35:26.790729Z",
     "start_time": "2021-03-08T08:35:26.761730Z"
    }
   },
   "outputs": [],
   "source": [
    "pd.pivot_table(df_last, index=['전용면적', '지역명'], values=['평당분양가격'], aggfunc='mean').round()"
   ]
  },
  {
   "cell_type": "markdown",
   "id": "promising-bailey",
   "metadata": {},
   "source": [
    "#### 연도, 지역별 평당분양가격"
   ]
  },
  {
   "cell_type": "code",
   "execution_count": null,
   "id": "genuine-vessel",
   "metadata": {
    "ExecuteTime": {
     "end_time": "2021-03-08T08:35:26.821728Z",
     "start_time": "2021-03-08T08:35:26.792729Z"
    }
   },
   "outputs": [],
   "source": [
    "pd.pivot_table(df_last, index=['연도', '지역명'], values=['평당분양가격'], aggfunc='mean').round()"
   ]
  },
  {
   "cell_type": "code",
   "execution_count": null,
   "id": "vital-boating",
   "metadata": {
    "ExecuteTime": {
     "end_time": "2021-03-08T08:35:26.852727Z",
     "start_time": "2021-03-08T08:35:26.823728Z"
    },
    "hide_input": false
   },
   "outputs": [],
   "source": [
    "pd.pivot_table(df_last, index=['연도', '지역명'], values=['평당분양가격'], aggfunc='mean').unstack().transpose().round()"
   ]
  },
  {
   "cell_type": "markdown",
   "id": "intellectual-module",
   "metadata": {},
   "source": [
    "## Visualization"
   ]
  },
  {
   "cell_type": "markdown",
   "id": "organic-seven",
   "metadata": {},
   "source": [
    "### Plot"
   ]
  },
  {
   "cell_type": "markdown",
   "id": "located-stanley",
   "metadata": {
    "ExecuteTime": {
     "end_time": "2021-03-08T08:27:00.962697Z",
     "start_time": "2021-03-08T08:27:00.944707Z"
    }
   },
   "source": [
    "---"
   ]
  },
  {
   "cell_type": "code",
   "execution_count": null,
   "id": "round-master",
   "metadata": {
    "ExecuteTime": {
     "end_time": "2021-03-08T08:35:26.867727Z",
     "start_time": "2021-03-08T08:35:26.854728Z"
    }
   },
   "outputs": [],
   "source": [
    "import seaborn as sns\n",
    "import matplotlib.pyplot as plt\n",
    "\n",
    "plt.style.use('default')\n",
    "plt.rc(\"font\", family=\"Malgun Gothic\")\n",
    "plt.rc('axes', unicode_minus=False)\n",
    "\n",
    "from IPython.display import set_matplotlib_formats\n",
    "set_matplotlib_formats('retina')"
   ]
  },
  {
   "cell_type": "markdown",
   "id": "informational-depth",
   "metadata": {},
   "source": [
    "---"
   ]
  },
  {
   "cell_type": "markdown",
   "id": "tough-darkness",
   "metadata": {},
   "source": [
    "#### Line Chart"
   ]
  },
  {
   "cell_type": "code",
   "execution_count": null,
   "id": "parallel-charity",
   "metadata": {
    "ExecuteTime": {
     "end_time": "2021-03-08T08:35:27.071725Z",
     "start_time": "2021-03-08T08:35:26.869727Z"
    }
   },
   "outputs": [],
   "source": [
    "g = df_last.groupby(['지역명'])['평당분양가격'].mean().sort_values(ascending=False)\n",
    "g.plot() # 기본값이 line"
   ]
  },
  {
   "cell_type": "markdown",
   "id": "balanced-bottle",
   "metadata": {},
   "source": [
    "#### Bar Chart"
   ]
  },
  {
   "cell_type": "code",
   "execution_count": null,
   "id": "breeding-array",
   "metadata": {
    "ExecuteTime": {
     "end_time": "2021-03-08T08:35:27.310312Z",
     "start_time": "2021-03-08T08:35:27.076726Z"
    }
   },
   "outputs": [],
   "source": [
    "g.plot.bar(figsize=(10, 4))"
   ]
  },
  {
   "cell_type": "markdown",
   "id": "contained-horizon",
   "metadata": {},
   "source": [
    "---\n",
    "> #### Box-and-Whisker plot | Diagram\n",
    ">> 가공하지 않은 자료 그대로를 이용하여 그린 것이 아니라, 자료로부터 얻어낸 5가지 통계요약수치를 그립니다.\n",
    ">>5가지 요약 수치란 기술통계학에서 자료의 정보를 알려주는 아래의 다섯가지 수치를 의미\n",
    "   >> 1. 최대값\n",
    "   >> 1. 제 3사분위수\n",
    "   >> 1. 제 2사분위수(=중앙값)\n",
    "   >> 1. 제 1사분위수\n",
    "   >> 1. 최소값\n",
    "   --- "
   ]
  },
  {
   "cell_type": "code",
   "execution_count": null,
   "id": "french-tackle",
   "metadata": {
    "ExecuteTime": {
     "end_time": "2021-03-08T08:35:27.342328Z",
     "start_time": "2021-03-08T08:35:27.313315Z"
    }
   },
   "outputs": [],
   "source": [
    "df_last.pivot_table(index='월', columns='연도', values='평당분양가격')"
   ]
  },
  {
   "cell_type": "code",
   "execution_count": null,
   "id": "novel-johnston",
   "metadata": {
    "ExecuteTime": {
     "end_time": "2021-03-08T08:35:27.557319Z",
     "start_time": "2021-03-08T08:35:27.345316Z"
    }
   },
   "outputs": [],
   "source": [
    "df_last.pivot_table(index='월', columns='연도', values='평당분양가격').plot.box()"
   ]
  },
  {
   "cell_type": "code",
   "execution_count": null,
   "id": "anticipated-identification",
   "metadata": {
    "ExecuteTime": {
     "end_time": "2021-03-08T08:35:28.100303Z",
     "start_time": "2021-03-08T08:35:27.559320Z"
    }
   },
   "outputs": [],
   "source": [
    "p = df_last.pivot_table(index='월', columns=['연도', '전용면적'], values='평당분양가격')\n",
    "p.plot.box(figsize=(18, 5), rot=30) # rot : x라벨 기울임 정도"
   ]
  },
  {
   "cell_type": "markdown",
   "id": "abroad-attack",
   "metadata": {},
   "source": [
    "### Seaborn"
   ]
  },
  {
   "cell_type": "markdown",
   "id": "adjustable-procedure",
   "metadata": {},
   "source": [
    "---"
   ]
  },
  {
   "cell_type": "code",
   "execution_count": null,
   "id": "consecutive-entrance",
   "metadata": {
    "ExecuteTime": {
     "end_time": "2021-03-08T08:35:28.116321Z",
     "start_time": "2021-03-08T08:35:28.101304Z"
    }
   },
   "outputs": [],
   "source": [
    "import seaborn as sns"
   ]
  },
  {
   "cell_type": "markdown",
   "id": "secondary-substitute",
   "metadata": {},
   "source": [
    "---"
   ]
  },
  {
   "cell_type": "markdown",
   "id": "impressive-divorce",
   "metadata": {},
   "source": [
    "#### Line Chart"
   ]
  },
  {
   "cell_type": "code",
   "execution_count": null,
   "id": "absolute-visiting",
   "metadata": {
    "ExecuteTime": {
     "end_time": "2021-03-08T08:35:31.199297Z",
     "start_time": "2021-03-08T08:35:30.688689Z"
    }
   },
   "outputs": [],
   "source": [
    "plt.figure(figsize=(10, 5))\n",
    "sns.lineplot(data=df_last, x='연도', y='평당분양가격', hue='지역명', ci=None)\n",
    "plt.legend(bbox_to_anchor=(1.02, 1), loc=2)"
   ]
  },
  {
   "cell_type": "markdown",
   "id": "spectacular-sender",
   "metadata": {},
   "source": [
    "#### Bar Chart"
   ]
  },
  {
   "cell_type": "code",
   "execution_count": null,
   "id": "fixed-webcam",
   "metadata": {
    "ExecuteTime": {
     "end_time": "2021-03-08T08:35:28.288320Z",
     "start_time": "2021-03-08T08:35:28.118311Z"
    },
    "scrolled": true
   },
   "outputs": [],
   "source": [
    "sns.barplot(data=df_last, x='연도', y='평당분양가격', ci=None)"
   ]
  },
  {
   "cell_type": "markdown",
   "id": "certain-convergence",
   "metadata": {},
   "source": [
    "#### Cat Chart"
   ]
  },
  {
   "cell_type": "code",
   "execution_count": null,
   "id": "dutch-hands",
   "metadata": {
    "ExecuteTime": {
     "end_time": "2021-03-08T08:35:30.687690Z",
     "start_time": "2021-03-08T08:35:28.290307Z"
    },
    "scrolled": false
   },
   "outputs": [],
   "source": [
    "sns.catplot(data=df_last, x='연도', y='평당분양가격', kind='bar', col='지역명', col_wrap=4, ci=None)"
   ]
  },
  {
   "cell_type": "markdown",
   "id": "supported-ending",
   "metadata": {},
   "source": [
    "#### Rel Chart"
   ]
  },
  {
   "cell_type": "code",
   "execution_count": null,
   "id": "heated-upgrade",
   "metadata": {
    "ExecuteTime": {
     "end_time": "2021-03-08T08:35:34.833763Z",
     "start_time": "2021-03-08T08:35:31.201296Z"
    }
   },
   "outputs": [],
   "source": [
    "sns.relplot(data=df_last, x='연도', y='평당분양가격', hue='지역명', kind='line', col='지역명', col_wrap=3, ci=None)"
   ]
  },
  {
   "cell_type": "markdown",
   "id": "close-sleeve",
   "metadata": {},
   "source": [
    "#### Cat Chart\n",
    "- searborn에서 제공되는 boxplot에서 matplot에서 제공되는 boxplot 값들과 이상치에대한 값들이 추가로 표시됩니다.\n",
    "- 최소값보다 사분위수 범위 값(3사분위값-1사분위값)에 해당하는 값을 초과하는 값"
   ]
  },
  {
   "cell_type": "code",
   "execution_count": null,
   "id": "finnish-photography",
   "metadata": {
    "ExecuteTime": {
     "end_time": "2021-03-08T08:38:04.258445Z",
     "start_time": "2021-03-08T08:38:04.057573Z"
    }
   },
   "outputs": [],
   "source": [
    "sns.boxplot(data=df_last, x='연도', y='평당분양가격')"
   ]
  },
  {
   "cell_type": "markdown",
   "id": "continent-juvenile",
   "metadata": {},
   "source": [
    "#### Violin Chart\n",
    "- boxplot에 데이터에 대한 분포량까지 표시하는 내용이 포함된 차트이고, 바이올린처럼 생겨서 이름이 바이올린 플랏입니다."
   ]
  },
  {
   "cell_type": "code",
   "execution_count": null,
   "id": "unlike-stanford",
   "metadata": {
    "ExecuteTime": {
     "end_time": "2021-03-08T08:37:21.592761Z",
     "start_time": "2021-03-08T08:37:21.332807Z"
    }
   },
   "outputs": [],
   "source": [
    "sns.violinplot(data=df_last, x='연도', y='평당분양가격')"
   ]
  },
  {
   "cell_type": "markdown",
   "id": "beneficial-politics",
   "metadata": {},
   "source": [
    "# 2015년 8월 이전 데이터 보기"
   ]
  },
  {
   "cell_type": "code",
   "execution_count": 300,
   "id": "pressed-edinburgh",
   "metadata": {
    "ExecuteTime": {
     "end_time": "2021-03-08T08:41:01.210182Z",
     "start_time": "2021-03-08T08:41:01.198182Z"
    }
   },
   "outputs": [],
   "source": [
    "pd.options.display.max_columns = 25"
   ]
  },
  {
   "cell_type": "markdown",
   "id": "annoying-albuquerque",
   "metadata": {},
   "source": [
    "## Preprocessing"
   ]
  },
  {
   "cell_type": "markdown",
   "id": "middle-giant",
   "metadata": {},
   "source": [
    "### Default"
   ]
  },
  {
   "cell_type": "markdown",
   "id": "russian-sherman",
   "metadata": {},
   "source": [
    "####  check"
   ]
  },
  {
   "cell_type": "code",
   "execution_count": 301,
   "id": "sought-candidate",
   "metadata": {
    "ExecuteTime": {
     "end_time": "2021-03-08T08:41:09.863019Z",
     "start_time": "2021-03-08T08:41:09.851030Z"
    }
   },
   "outputs": [
    {
     "data": {
      "text/html": [
       "<div>\n",
       "<style scoped>\n",
       "    .dataframe tbody tr th:only-of-type {\n",
       "        vertical-align: middle;\n",
       "    }\n",
       "\n",
       "    .dataframe tbody tr th {\n",
       "        vertical-align: top;\n",
       "    }\n",
       "\n",
       "    .dataframe thead th {\n",
       "        text-align: right;\n",
       "    }\n",
       "</style>\n",
       "<table border=\"1\" class=\"dataframe\">\n",
       "  <thead>\n",
       "    <tr style=\"text-align: right;\">\n",
       "      <th></th>\n",
       "      <th>지역</th>\n",
       "      <th>2013년12월</th>\n",
       "      <th>2014년1월</th>\n",
       "      <th>2014년2월</th>\n",
       "      <th>2014년3월</th>\n",
       "      <th>2014년4월</th>\n",
       "      <th>2014년5월</th>\n",
       "      <th>2014년6월</th>\n",
       "      <th>2014년7월</th>\n",
       "      <th>2014년8월</th>\n",
       "      <th>2014년9월</th>\n",
       "      <th>2014년10월</th>\n",
       "      <th>2014년11월</th>\n",
       "      <th>2014년12월</th>\n",
       "      <th>2015년1월</th>\n",
       "      <th>2015년2월</th>\n",
       "      <th>2015년3월</th>\n",
       "      <th>2015년4월</th>\n",
       "      <th>2015년5월</th>\n",
       "      <th>2015년6월</th>\n",
       "      <th>2015년7월</th>\n",
       "      <th>2015년8월</th>\n",
       "    </tr>\n",
       "  </thead>\n",
       "  <tbody>\n",
       "    <tr>\n",
       "      <th>0</th>\n",
       "      <td>서울</td>\n",
       "      <td>18189</td>\n",
       "      <td>17925</td>\n",
       "      <td>17925</td>\n",
       "      <td>18016</td>\n",
       "      <td>18098</td>\n",
       "      <td>19446</td>\n",
       "      <td>18867</td>\n",
       "      <td>18742</td>\n",
       "      <td>19274</td>\n",
       "      <td>19404</td>\n",
       "      <td>19759</td>\n",
       "      <td>20242</td>\n",
       "      <td>20269</td>\n",
       "      <td>20670</td>\n",
       "      <td>20670</td>\n",
       "      <td>19415</td>\n",
       "      <td>18842</td>\n",
       "      <td>18367</td>\n",
       "      <td>18374</td>\n",
       "      <td>18152</td>\n",
       "      <td>18443</td>\n",
       "    </tr>\n",
       "    <tr>\n",
       "      <th>1</th>\n",
       "      <td>부산</td>\n",
       "      <td>8111</td>\n",
       "      <td>8111</td>\n",
       "      <td>9078</td>\n",
       "      <td>8965</td>\n",
       "      <td>9402</td>\n",
       "      <td>9501</td>\n",
       "      <td>9453</td>\n",
       "      <td>9457</td>\n",
       "      <td>9411</td>\n",
       "      <td>9258</td>\n",
       "      <td>9110</td>\n",
       "      <td>9208</td>\n",
       "      <td>9208</td>\n",
       "      <td>9204</td>\n",
       "      <td>9235</td>\n",
       "      <td>9279</td>\n",
       "      <td>9327</td>\n",
       "      <td>9345</td>\n",
       "      <td>9515</td>\n",
       "      <td>9559</td>\n",
       "      <td>9581</td>\n",
       "    </tr>\n",
       "    <tr>\n",
       "      <th>2</th>\n",
       "      <td>대구</td>\n",
       "      <td>8080</td>\n",
       "      <td>8080</td>\n",
       "      <td>8077</td>\n",
       "      <td>8101</td>\n",
       "      <td>8267</td>\n",
       "      <td>8274</td>\n",
       "      <td>8360</td>\n",
       "      <td>8360</td>\n",
       "      <td>8370</td>\n",
       "      <td>8449</td>\n",
       "      <td>8403</td>\n",
       "      <td>8439</td>\n",
       "      <td>8253</td>\n",
       "      <td>8327</td>\n",
       "      <td>8416</td>\n",
       "      <td>8441</td>\n",
       "      <td>8446</td>\n",
       "      <td>8568</td>\n",
       "      <td>8542</td>\n",
       "      <td>8542</td>\n",
       "      <td>8795</td>\n",
       "    </tr>\n",
       "  </tbody>\n",
       "</table>\n",
       "</div>"
      ],
      "text/plain": [
       "   지역  2013년12월  2014년1월  2014년2월  2014년3월  2014년4월  2014년5월  2014년6월  \\\n",
       "0  서울     18189    17925    17925    18016    18098    19446    18867   \n",
       "1  부산      8111     8111     9078     8965     9402     9501     9453   \n",
       "2  대구      8080     8080     8077     8101     8267     8274     8360   \n",
       "\n",
       "   2014년7월  2014년8월  2014년9월  2014년10월  2014년11월  2014년12월  2015년1월  2015년2월  \\\n",
       "0    18742    19274    19404     19759     20242     20269    20670    20670   \n",
       "1     9457     9411     9258      9110      9208      9208     9204     9235   \n",
       "2     8360     8370     8449      8403      8439      8253     8327     8416   \n",
       "\n",
       "   2015년3월  2015년4월  2015년5월  2015년6월  2015년7월  2015년8월  \n",
       "0    19415    18842    18367    18374    18152    18443  \n",
       "1     9279     9327     9345     9515     9559     9581  \n",
       "2     8441     8446     8568     8542     8542     8795  "
      ]
     },
     "execution_count": 301,
     "metadata": {},
     "output_type": "execute_result"
    }
   ],
   "source": [
    "df_first.head(3)"
   ]
  },
  {
   "cell_type": "code",
   "execution_count": 313,
   "id": "superb-edgar",
   "metadata": {
    "ExecuteTime": {
     "end_time": "2021-03-08T08:50:32.920830Z",
     "start_time": "2021-03-08T08:50:32.907839Z"
    }
   },
   "outputs": [
    {
     "data": {
      "text/html": [
       "<div>\n",
       "<style scoped>\n",
       "    .dataframe tbody tr th:only-of-type {\n",
       "        vertical-align: middle;\n",
       "    }\n",
       "\n",
       "    .dataframe tbody tr th {\n",
       "        vertical-align: top;\n",
       "    }\n",
       "\n",
       "    .dataframe thead th {\n",
       "        text-align: right;\n",
       "    }\n",
       "</style>\n",
       "<table border=\"1\" class=\"dataframe\">\n",
       "  <thead>\n",
       "    <tr style=\"text-align: right;\">\n",
       "      <th></th>\n",
       "      <th>지역명</th>\n",
       "      <th>연도</th>\n",
       "      <th>월</th>\n",
       "      <th>분양가격</th>\n",
       "      <th>평당분양가격</th>\n",
       "      <th>전용면적</th>\n",
       "    </tr>\n",
       "  </thead>\n",
       "  <tbody>\n",
       "    <tr>\n",
       "      <th>0</th>\n",
       "      <td>서울</td>\n",
       "      <td>2015</td>\n",
       "      <td>10</td>\n",
       "      <td>5841.0</td>\n",
       "      <td>19275.3</td>\n",
       "      <td>전체</td>\n",
       "    </tr>\n",
       "    <tr>\n",
       "      <th>1</th>\n",
       "      <td>서울</td>\n",
       "      <td>2015</td>\n",
       "      <td>10</td>\n",
       "      <td>5652.0</td>\n",
       "      <td>18651.6</td>\n",
       "      <td>60㎡</td>\n",
       "    </tr>\n",
       "    <tr>\n",
       "      <th>2</th>\n",
       "      <td>서울</td>\n",
       "      <td>2015</td>\n",
       "      <td>10</td>\n",
       "      <td>5882.0</td>\n",
       "      <td>19410.6</td>\n",
       "      <td>60㎡~ 85㎡</td>\n",
       "    </tr>\n",
       "    <tr>\n",
       "      <th>3</th>\n",
       "      <td>서울</td>\n",
       "      <td>2015</td>\n",
       "      <td>10</td>\n",
       "      <td>5721.0</td>\n",
       "      <td>18879.3</td>\n",
       "      <td>85㎡~ 102㎡</td>\n",
       "    </tr>\n",
       "    <tr>\n",
       "      <th>4</th>\n",
       "      <td>서울</td>\n",
       "      <td>2015</td>\n",
       "      <td>10</td>\n",
       "      <td>5879.0</td>\n",
       "      <td>19400.7</td>\n",
       "      <td>102㎡~</td>\n",
       "    </tr>\n",
       "  </tbody>\n",
       "</table>\n",
       "</div>"
      ],
      "text/plain": [
       "  지역명    연도   월    분양가격   평당분양가격        전용면적\n",
       "0  서울  2015  10  5841.0  19275.3          전체\n",
       "1  서울  2015  10  5652.0  18651.6         60㎡\n",
       "2  서울  2015  10  5882.0  19410.6    60㎡~ 85㎡\n",
       "3  서울  2015  10  5721.0  18879.3   85㎡~ 102㎡\n",
       "4  서울  2015  10  5879.0  19400.7       102㎡~"
      ]
     },
     "execution_count": 313,
     "metadata": {},
     "output_type": "execute_result"
    }
   ],
   "source": [
    "df_last.head() # df_first와 형식이 다름. first데이터를 last형식에 맞추는 작업 진행"
   ]
  },
  {
   "cell_type": "code",
   "execution_count": 314,
   "id": "found-retail",
   "metadata": {
    "ExecuteTime": {
     "end_time": "2021-03-08T08:50:34.179836Z",
     "start_time": "2021-03-08T08:50:34.163838Z"
    },
    "collapsed": true
   },
   "outputs": [
    {
     "name": "stdout",
     "output_type": "stream",
     "text": [
      "<class 'pandas.core.frame.DataFrame'>\n",
      "RangeIndex: 17 entries, 0 to 16\n",
      "Data columns (total 22 columns):\n",
      " #   Column    Non-Null Count  Dtype \n",
      "---  ------    --------------  ----- \n",
      " 0   지역        17 non-null     object\n",
      " 1   2013년12월  17 non-null     int64 \n",
      " 2   2014년1월   17 non-null     int64 \n",
      " 3   2014년2월   17 non-null     int64 \n",
      " 4   2014년3월   17 non-null     int64 \n",
      " 5   2014년4월   17 non-null     int64 \n",
      " 6   2014년5월   17 non-null     int64 \n",
      " 7   2014년6월   17 non-null     int64 \n",
      " 8   2014년7월   17 non-null     int64 \n",
      " 9   2014년8월   17 non-null     int64 \n",
      " 10  2014년9월   17 non-null     int64 \n",
      " 11  2014년10월  17 non-null     int64 \n",
      " 12  2014년11월  17 non-null     int64 \n",
      " 13  2014년12월  17 non-null     int64 \n",
      " 14  2015년1월   17 non-null     int64 \n",
      " 15  2015년2월   17 non-null     int64 \n",
      " 16  2015년3월   17 non-null     int64 \n",
      " 17  2015년4월   17 non-null     int64 \n",
      " 18  2015년5월   17 non-null     int64 \n",
      " 19  2015년6월   17 non-null     int64 \n",
      " 20  2015년7월   17 non-null     int64 \n",
      " 21  2015년8월   17 non-null     int64 \n",
      "dtypes: int64(21), object(1)\n",
      "memory usage: 3.0+ KB\n"
     ]
    }
   ],
   "source": [
    "df_first.info()"
   ]
  },
  {
   "cell_type": "markdown",
   "id": "genetic-investment",
   "metadata": {},
   "source": [
    "### '지역별' '기간들의 평당분양가격'을 '지역별' '기간별' '평당분양가'로 변형"
   ]
  },
  {
   "cell_type": "markdown",
   "id": "continent-federal",
   "metadata": {},
   "source": [
    "#### Melt() <-> Unstack()\n",
    "- pandas의 melt를 이용해 unstack() 반대방향으로 변형을 할 수 있습니다.\n",
    "- 각 컬럼의 이름으로 존재하는 데이터들을 행으로 변형하여 조합 또는 어울림의 관계로 배치"
   ]
  },
  {
   "cell_type": "code",
   "execution_count": 310,
   "id": "handed-credits",
   "metadata": {
    "ExecuteTime": {
     "end_time": "2021-03-08T08:49:21.539394Z",
     "start_time": "2021-03-08T08:49:21.526405Z"
    }
   },
   "outputs": [
    {
     "data": {
      "text/html": [
       "<div>\n",
       "<style scoped>\n",
       "    .dataframe tbody tr th:only-of-type {\n",
       "        vertical-align: middle;\n",
       "    }\n",
       "\n",
       "    .dataframe tbody tr th {\n",
       "        vertical-align: top;\n",
       "    }\n",
       "\n",
       "    .dataframe thead th {\n",
       "        text-align: right;\n",
       "    }\n",
       "</style>\n",
       "<table border=\"1\" class=\"dataframe\">\n",
       "  <thead>\n",
       "    <tr style=\"text-align: right;\">\n",
       "      <th></th>\n",
       "      <th>지역</th>\n",
       "      <th>기간</th>\n",
       "      <th>평당분양가격</th>\n",
       "    </tr>\n",
       "  </thead>\n",
       "  <tbody>\n",
       "    <tr>\n",
       "      <th>0</th>\n",
       "      <td>서울</td>\n",
       "      <td>2013년12월</td>\n",
       "      <td>18189</td>\n",
       "    </tr>\n",
       "    <tr>\n",
       "      <th>1</th>\n",
       "      <td>부산</td>\n",
       "      <td>2013년12월</td>\n",
       "      <td>8111</td>\n",
       "    </tr>\n",
       "    <tr>\n",
       "      <th>2</th>\n",
       "      <td>대구</td>\n",
       "      <td>2013년12월</td>\n",
       "      <td>8080</td>\n",
       "    </tr>\n",
       "  </tbody>\n",
       "</table>\n",
       "</div>"
      ],
      "text/plain": [
       "   지역        기간  평당분양가격\n",
       "0  서울  2013년12월   18189\n",
       "1  부산  2013년12월    8111\n",
       "2  대구  2013년12월    8080"
      ]
     },
     "execution_count": 310,
     "metadata": {},
     "output_type": "execute_result"
    }
   ],
   "source": [
    "# pd.melt를 사용해 펼쳐진 데이터를 지역별 기간별 평당가격으로 세운다.\n",
    "df_first_melt = df_first.melt(id_vars='지역', var_name='기간', value_name='평당분양가격')\n",
    "df_first_melt.head(3)"
   ]
  },
  {
   "cell_type": "code",
   "execution_count": 311,
   "id": "detected-wildlife",
   "metadata": {
    "ExecuteTime": {
     "end_time": "2021-03-08T08:49:23.808488Z",
     "start_time": "2021-03-08T08:49:23.786479Z"
    }
   },
   "outputs": [
    {
     "data": {
      "text/html": [
       "<div>\n",
       "<style scoped>\n",
       "    .dataframe tbody tr th:only-of-type {\n",
       "        vertical-align: middle;\n",
       "    }\n",
       "\n",
       "    .dataframe tbody tr th {\n",
       "        vertical-align: top;\n",
       "    }\n",
       "\n",
       "    .dataframe thead th {\n",
       "        text-align: right;\n",
       "    }\n",
       "</style>\n",
       "<table border=\"1\" class=\"dataframe\">\n",
       "  <thead>\n",
       "    <tr style=\"text-align: right;\">\n",
       "      <th></th>\n",
       "      <th>지역명</th>\n",
       "      <th>기간</th>\n",
       "      <th>평당분양가격</th>\n",
       "    </tr>\n",
       "  </thead>\n",
       "  <tbody>\n",
       "    <tr>\n",
       "      <th>0</th>\n",
       "      <td>서울</td>\n",
       "      <td>2013년12월</td>\n",
       "      <td>18189</td>\n",
       "    </tr>\n",
       "  </tbody>\n",
       "</table>\n",
       "</div>"
      ],
      "text/plain": [
       "  지역명        기간  평당분양가격\n",
       "0  서울  2013년12월   18189"
      ]
     },
     "execution_count": 311,
     "metadata": {},
     "output_type": "execute_result"
    }
   ],
   "source": [
    "df_first_melt.columns = ['지역명', '기간', '평당분양가격']\n",
    "df_first_melt.head(1)"
   ]
  },
  {
   "cell_type": "markdown",
   "id": "herbal-record",
   "metadata": {},
   "source": [
    "### YYYY년MM월을 YYYY와 MM으로 분리"
   ]
  },
  {
   "cell_type": "code",
   "execution_count": 329,
   "id": "structured-bolivia",
   "metadata": {
    "ExecuteTime": {
     "end_time": "2021-03-08T08:54:49.088003Z",
     "start_time": "2021-03-08T08:54:49.074993Z"
    }
   },
   "outputs": [],
   "source": [
    "# {'기간' : 'YYYY년MM월'} -> {'연도': YYYY, '월': MM}\n",
    "df_first_melt['연도'] = df_first_melt['기간'].apply(lambda x : int(x.split('년')[0]))\n",
    "df_first_melt['월'] = df_first_melt['기간'].apply(lambda x : int(x.split('년')[-1].replace(\"월\", \"\")))"
   ]
  },
  {
   "cell_type": "code",
   "execution_count": 330,
   "id": "listed-chaos",
   "metadata": {
    "ExecuteTime": {
     "end_time": "2021-03-08T08:54:50.265157Z",
     "start_time": "2021-03-08T08:54:50.251156Z"
    }
   },
   "outputs": [
    {
     "name": "stdout",
     "output_type": "stream",
     "text": [
      "[2013 2014 2015]\n",
      "[12  1  2  3  4  5  6  7  8  9 10 11]\n"
     ]
    }
   ],
   "source": [
    "# 검증\n",
    "print(df_first_melt['연도'].unique())\n",
    "print(df_first_melt['월'].unique())"
   ]
  }
 ],
 "metadata": {
  "hide_input": false,
  "kernelspec": {
   "display_name": "Python 3",
   "language": "python",
   "name": "python3"
  },
  "language_info": {
   "codemirror_mode": {
    "name": "ipython",
    "version": 3
   },
   "file_extension": ".py",
   "mimetype": "text/x-python",
   "name": "python",
   "nbconvert_exporter": "python",
   "pygments_lexer": "ipython3",
   "version": "3.8.5"
  },
  "toc": {
   "base_numbering": 1,
   "nav_menu": {},
   "number_sections": true,
   "sideBar": true,
   "skip_h1_title": false,
   "title_cell": "Table of Contents",
   "title_sidebar": "Contents",
   "toc_cell": false,
   "toc_position": {
    "height": "913px",
    "left": "1534.41px",
    "top": "46px",
    "width": "383.594px"
   },
   "toc_section_display": true,
   "toc_window_display": true
  },
  "varInspector": {
   "cols": {
    "lenName": 16,
    "lenType": 16,
    "lenVar": 40
   },
   "kernels_config": {
    "python": {
     "delete_cmd_postfix": "",
     "delete_cmd_prefix": "del ",
     "library": "var_list.py",
     "varRefreshCmd": "print(var_dic_list())"
    },
    "r": {
     "delete_cmd_postfix": ") ",
     "delete_cmd_prefix": "rm(",
     "library": "var_list.r",
     "varRefreshCmd": "cat(var_dic_list()) "
    }
   },
   "types_to_exclude": [
    "module",
    "function",
    "builtin_function_or_method",
    "instance",
    "_Feature"
   ],
   "window_display": false
  }
 },
 "nbformat": 4,
 "nbformat_minor": 5
}
