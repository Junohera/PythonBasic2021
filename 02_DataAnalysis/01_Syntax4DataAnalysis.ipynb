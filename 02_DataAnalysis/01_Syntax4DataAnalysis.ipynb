{
 "cells": [
  {
   "cell_type": "code",
   "execution_count": 27,
   "metadata": {},
   "outputs": [
    {
     "name": "stdout",
     "output_type": "stream",
     "text": [
      "['The', 'quick', 'brown', 'fox', 'jumps', 'over', 'the', 'lazy', 'dog.']\n"
     ]
    }
   ],
   "source": [
    "# split() : 괄호안에 지정한 문자를 기준으로 문자열을 분해\n",
    "# 아무것도 지정하지 않고, 괄호만 있으면 공백(SpaceBar)를 기준으로 분해\n",
    "# 결과는 리스트 형태로 리턴\n",
    "string = \"The quick brown fox jumps over the lazy dog.\"\n",
    "string_list = string.split()\n",
    "print(string_list)"
   ]
  },
  {
   "cell_type": "code",
   "execution_count": 28,
   "metadata": {},
   "outputs": [
    {
     "name": "stdout",
     "output_type": "stream",
     "text": [
      " 6x 3=18\n",
      " 6x 3=18\n"
     ]
    }
   ],
   "source": [
    "# print문의 출력 양식 지정 두가지\n",
    "print(\"%2dx%2d=%2d\" % (6, 3, 6*3))\n",
    "print(\"{0:2d}x{1:2d}={2:2d}\".format(6, 3, 6*3))"
   ]
  },
  {
   "cell_type": "code",
   "execution_count": 29,
   "metadata": {},
   "outputs": [],
   "source": [
    "# 날짜 데이터\n",
    "from datetime import date, time, datetime, timedelta"
   ]
  },
  {
   "cell_type": "code",
   "execution_count": 30,
   "metadata": {},
   "outputs": [
    {
     "name": "stdout",
     "output_type": "stream",
     "text": [
      "today: 2021-03-02\n",
      "year: 2021\n",
      "month: 3\n",
      "day: 2\n"
     ]
    }
   ],
   "source": [
    "# 오늘 날짜를 얻어서 변수에 저장\n",
    "today = date.today()\n",
    "print(\"today: {0!s}\".format(today)) # today 값 오늘 날짜\n",
    "print(\"year: {0!s}\".format(today.year)) # 년\n",
    "print(\"month: {0!s}\".format(today.month)) # 월\n",
    "print(\"day: {0!s}\".format(today.day)) # 일"
   ]
  },
  {
   "cell_type": "code",
   "execution_count": 31,
   "metadata": {},
   "outputs": [
    {
     "name": "stdout",
     "output_type": "stream",
     "text": [
      "날짜시간 : 2021-03-02 14:40:29.250440\n",
      "시 : 14\n",
      "분 : 40\n",
      "초 : 29\n"
     ]
    }
   ],
   "source": [
    "# 시간 데이터를 따로 다루는 경우도 있지만, 시간데이터를 다룰 때는 보통\n",
    "# datetime을 이용하여 시간과 날짜를 한번에 쓰는 경우가 많습니다.\n",
    "current_datetime = datetime.today() # 현재 시간까지 포함한 오늘날짜 추출\n",
    "print(\"날짜시간 : {0!s}\".format(current_datetime))\n",
    "print(\"시 : {0!s}\".format(current_datetime.hour))\n",
    "print(\"분 : {0!s}\".format(current_datetime.minute))\n",
    "print(\"초 : {0!s}\".format(current_datetime.second))\n",
    "# {0!s} : format에 의해 출력으로 전달된 데이터가 문자형이 아니더라도 문자로 출력"
   ]
  },
  {
   "cell_type": "code",
   "execution_count": 32,
   "metadata": {},
   "outputs": [
    {
     "name": "stdout",
     "output_type": "stream",
     "text": [
      "yesterday: 2021-03-01\n"
     ]
    }
   ],
   "source": [
    "# \"상대적 날짜 - 1일\"이라는 날짜데이터를 생성 -> one_day 변수에 저장\n",
    "one_day = timedelta(days=-1)\n",
    "# -1 일을 오늘날짜에 합산하고 그 결과를 yesterday에 저장\n",
    "yeasterday = today + one_day\n",
    "# yeasterday 출력\n",
    "print(\"yesterday: {0!s}\".format(yeasterday))"
   ]
  },
  {
   "cell_type": "code",
   "execution_count": 33,
   "metadata": {},
   "outputs": [
    {
     "name": "stdout",
     "output_type": "stream",
     "text": [
      "-1\n",
      "57600\n"
     ]
    }
   ],
   "source": [
    "# -8 시간 저장\n",
    "eight_hours = timedelta(hours=-8)\n",
    "# -8에 대한 day 값과 second 값\n",
    "print(\"{0!s}\".format(eight_hours.days))\n",
    "print(\"{0!s}\".format(eight_hours.seconds))\n",
    "# 60초 * 60분 * 8시간 = 28,800\n",
    "# 60초 * 60분 * 24시간 = 86,400\n",
    "# -28,000이라는 시간은 어제의 86,400(24시간) - 28,800(-8시간)\n",
    "# 출력 : 57,600\n",
    "# 날짜는 1일전의 날짜"
   ]
  },
  {
   "cell_type": "code",
   "execution_count": 34,
   "metadata": {},
   "outputs": [
    {
     "name": "stdout",
     "output_type": "stream",
     "text": [
      "02/02/2021\n",
      "Mar 02, 2021\n",
      "2021-03-02\n",
      "March 02, 2021\n"
     ]
    }
   ],
   "source": [
    "print(\"{:s}\".format(today.strftime('%d/%d/%Y')))\n",
    "print(\"{:s}\".format(today.strftime('%b %d, %Y')))\n",
    "print(\"{:s}\".format(today.strftime('%Y-%m-%d')))\n",
    "print(\"{:s}\".format(today.strftime('%B %d, %Y')))"
   ]
  },
  {
   "cell_type": "code",
   "execution_count": 35,
   "metadata": {},
   "outputs": [
    {
     "name": "stdout",
     "output_type": "stream",
     "text": [
      "[0, 1, 2, 3, 4, 5, 6, 7, 8, 9]\n",
      "[0, 1, 2, 3, 4, 5, 6, 7, 8, 9]\n",
      "[0, 1, 4, 9, 16, 25, 36, 49, 64, 81]\n"
     ]
    }
   ],
   "source": [
    "# 반복문의 간단 사용\n",
    "myData = [0, 1, 2, 3, 4, 5, 6, 7, 8, 9]\n",
    "\n",
    "# 반복실행문의 일반적인 예\n",
    "copyMyData = []\n",
    "for x in myData:\n",
    "    copyMyData.append(x)\n",
    "print(copyMyData)\n",
    "\n",
    "# 간단 사용예\n",
    "copyMyData = [x for x in myData]\n",
    "# for문 안에 있는 x값을 꺼내어 []로 묶어 리스트로 생성(원본 유지)\n",
    "print(copyMyData)\n",
    "\n",
    "# for x in myData : myData 리스트에 있는 값들이 x 변수에 전달되어 반복실행\n",
    "# 반복실행안에서 실행해야할 내용이 x변수를 이용한 단순연산에 가깝다면,\n",
    "# 반복 실행 앞에서 x 변수로 연산식을 표현해줍니다.\n",
    "copyMyData = [x * x for x in myData]\n",
    "print(copyMyData)\n",
    "# x*x for x in myData 이 명령의 실행결과는 0, 1, 4, 9 ... 이므로\n",
    "# 명령의 외부에서 이를 리스트로 만들거나 튜플로 만들거나, 다수의 값으로\n",
    "# 연산할 수 있는 함수에 적용하고자 하는 동작이 필요합니다.\n",
    "# 위의 예제는 x*x for x in myData 명령을 []로 감싸서 결과들의 리스트를 생성"
   ]
  },
  {
   "cell_type": "code",
   "execution_count": 36,
   "metadata": {},
   "outputs": [
    {
     "name": "stdout",
     "output_type": "stream",
     "text": [
      "('sweet', 'john')\n",
      "('sweet', 'alice')\n",
      "('sweet', 'james')\n",
      "('annoying', 'john')\n",
      "('annoying', 'alice')\n",
      "('annoying', 'james')\n",
      "('cool', 'john')\n",
      "('cool', 'alice')\n",
      "('cool', 'james')\n",
      "('grey-eyed', 'john')\n",
      "('grey-eyed', 'alice')\n",
      "('grey-eyed', 'james')\n"
     ]
    }
   ],
   "source": [
    "# 두배열의 모든 조합\n",
    "epithets = ['sweet', 'annoying', 'cool', 'grey-eyed']\n",
    "names = ['john', 'alice', 'james']\n",
    "epithet_names = [(e, n) for e in epithets for n in names]\n",
    "for a in epithet_names:\n",
    "    print(a)"
   ]
  },
  {
   "cell_type": "code",
   "execution_count": 37,
   "metadata": {},
   "outputs": [
    {
     "name": "stdout",
     "output_type": "stream",
     "text": [
      "[[4, 5, 6], [7, 8, 9]]\n",
      "[[1, 2, 3]]\n"
     ]
    }
   ],
   "source": [
    "myData = [[1,2,3], [4,5,6], [7,8,9]]\n",
    "resultList = [row for row in myData if row[2] > 5]\n",
    "print(resultList)\n",
    "\n",
    "listBySum = [row for row in myData if sum(row) < 10] # 각 원소안의 배열합이 10미만인 행만 추출\n",
    "print(listBySum)"
   ]
  },
  {
   "cell_type": "code",
   "execution_count": 38,
   "metadata": {},
   "outputs": [
    {
     "name": "stdout",
     "output_type": "stream",
     "text": [
      "{'customer2': 9, 'customer3': 11}\n"
     ]
    }
   ],
   "source": [
    "# 딕셔너리 데이터에 조건을 적용한 필터링(간략 for문 사용)\n",
    "my_dictionary = {'customer1': 7, 'customer2': 9, 'customer3': 11}\n",
    "# items()함수를 이용하여 키값과 밸류값을 key, value에 차례로 전달\n",
    "# if 문에 의하여 value값이 8초과인것만 골라서 key: value 구성 후\n",
    "# {} 딕셔너리로 재구성\n",
    "\n",
    "my_results = {key: value for key, value in my_dictionary.items() if value > 8}\n",
    "print(my_results)"
   ]
  },
  {
   "cell_type": "markdown",
   "metadata": {},
   "source": [
    "### Pandas\n",
    "#### import pandas as pd : 데이터 가공처리에 필요한 기능\n",
    "#### import numpy as np : 수학적인 처리에 필요한 기능\n",
    "- as 뒤의 단어는 import문 이후에 사용할 모듈의 별칭"
   ]
  },
  {
   "cell_type": "code",
   "execution_count": 39,
   "metadata": {},
   "outputs": [],
   "source": [
    "import pandas as pd\n",
    "import numpy as np"
   ]
  },
  {
   "cell_type": "markdown",
   "metadata": {},
   "source": [
    "- np의 np.arange(10, 22)는 10부터 21까지의 숫자발생\n",
    "- reshape(3, 4)는 최초 생성된 1행 12열 자리 (10~21) 모양을 3행 4열로 변경"
   ]
  },
  {
   "cell_type": "code",
   "execution_count": 40,
   "metadata": {},
   "outputs": [
    {
     "name": "stdout",
     "output_type": "stream",
     "text": [
      "[10 11 12 13 14 15 16 17 18 19 20 21]\n",
      "[[10 11 12 13]\n",
      " [14 15 16 17]\n",
      " [18 19 20 21]]\n",
      "[[10 11 12 13]\n",
      " [14 15 16 17]\n",
      " [18 19 20 21]]\n"
     ]
    }
   ],
   "source": [
    "a = np.arange(10, 22)\n",
    "# numpy의 arange의 결과는 리스트가 아니라 1행 12열짜리 행렬로 리턴됩니다.\n",
    "print(a)\n",
    "\n",
    "b = a.reshape(3, 4) # 실행결과는 3행 4열짜리 행렬\n",
    "print(b)\n",
    "\n",
    "c = np.arange(10, 22).reshape(3, 4)\n",
    "print(c)"
   ]
  },
  {
   "cell_type": "markdown",
   "metadata": {},
   "source": [
    "- pandas의 DataFrame: 행과 열로 이루어져있는 판다스의 대표적 2차원 데이터 구조\n",
    "- index는 행번호에 사용할 요소를 리스트로 입력받는 요소\n",
    "- columns는 열제목으로 사용할 요소를 리스트로 입력받는 요소\n",
    "- 한개의 열을 의미하는 Series들이 모여 만들어진 구조입니다.\n",
    "- pandas의 Series: 한개의 열이름과 다수의 값들이 존재하는 1차원 데이터 구조"
   ]
  },
  {
   "cell_type": "code",
   "execution_count": 50,
   "metadata": {},
   "outputs": [
    {
     "name": "stdout",
     "output_type": "stream",
     "text": [
      "    A   B   C   D\n",
      "a  10  11  12  13\n",
      "b  14  15  16  17\n",
      "c  18  19  20  21\n"
     ]
    }
   ],
   "source": [
    "df = pd.DataFrame(b, index=[\"a\", \"b\", \"c\"], columns=[\"A\", \"B\", \"C\", \"D\"])\n",
    "print(df)"
   ]
  },
  {
   "cell_type": "code",
   "execution_count": 51,
   "metadata": {},
   "outputs": [
    {
     "name": "stdout",
     "output_type": "stream",
     "text": [
      "A    10\n",
      "B    11\n",
      "C    12\n",
      "D    13\n",
      "Name: a, dtype: int32\n"
     ]
    }
   ],
   "source": [
    "# 행이름으로 행을 필터링\n",
    "# loc는 []와 함께 사용되는 행 지정 명령\n",
    "# 아래와 같이 사용하면 인덱스 'a'행의 내용을 컬럼이름과 함게 보여준다\n",
    "# 마지막행에 인덱스의 이름과 자리를 차지하고 있는 데이터의 자료형을 출력합니다.\n",
    "# int32는 32비트(4바이트)형 정수\n",
    "print(df.loc['a'])"
   ]
  },
  {
   "cell_type": "code",
   "execution_count": 52,
   "metadata": {},
   "outputs": [
    {
     "name": "stdout",
     "output_type": "stream",
     "text": [
      "a    10\n",
      "b    14\n",
      "c    18\n",
      "Name: A, dtype: int32\n"
     ]
    }
   ],
   "source": [
    "# 열이름으로 열을 필터링\n",
    "# 열의 필터링은 이미 Series단위로 구분되어 있는 열을 필터링하기때문에\n",
    "# 아래와 같이 loc없이 열이름만 표현합니다.\n",
    "print(df['A'])"
   ]
  },
  {
   "cell_type": "code",
   "execution_count": 53,
   "metadata": {},
   "outputs": [
    {
     "name": "stdout",
     "output_type": "stream",
     "text": [
      "    A   B   C   D\n",
      "b  14  15  16  17\n",
      "c  18  19  20  21\n"
     ]
    }
   ],
   "source": [
    "# 슬라이싱 한 인덱스 적용\n",
    "# 두개 이상의 인덱스 표현부터 세로로 출력안하고 원래의 표현식을 갖춰서 출력\n",
    "print(df.loc[\"b\":\"c\"])"
   ]
  },
  {
   "cell_type": "code",
   "execution_count": 71,
   "metadata": {},
   "outputs": [
    {
     "name": "stdout",
     "output_type": "stream",
     "text": [
      "    A   B   C   D\n",
      "a  10  11  12  13\n",
      "b  14  15  16  17\n",
      "c  18  19  20  21\n",
      "\n",
      "    A   B   C   D\n",
      "b  14  15  16  17\n",
      "c  18  19  20  21\n"
     ]
    }
   ],
   "source": [
    "# \"B\"부터 끝까지의 열\n",
    "print(df[\"B\":])\n",
    "print()\n",
    "# 행의 검색은 index값으로 검색하고, 열들의 검색은 열의 제목\n",
    "# 따라서 열의 검색은 슬라이싱으로 적용하지않고, 값에 의한 비교로 주로 적용합니다.\n",
    "\n",
    "print(df[df[\"A\"] >= 11])\n",
    "# 열의 제목중 제외하고 싶은 내용은 drop을 이용하여 따로 연산한 결과를 얻거나\n",
    "# 표시하고자 하는 열제목만 지목하여 필터링합니다."
   ]
  },
  {
   "cell_type": "code",
   "execution_count": null,
   "metadata": {},
   "outputs": [],
   "source": []
  }
 ],
 "metadata": {
  "kernelspec": {
   "display_name": "Python 3",
   "language": "python",
   "name": "python3"
  },
  "language_info": {
   "codemirror_mode": {
    "name": "ipython",
    "version": 3
   },
   "file_extension": ".py",
   "mimetype": "text/x-python",
   "name": "python",
   "nbconvert_exporter": "python",
   "pygments_lexer": "ipython3",
   "version": "3.8.5"
  }
 },
 "nbformat": 4,
 "nbformat_minor": 4
}
