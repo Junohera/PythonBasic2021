{
 "cells": [
  {
   "cell_type": "markdown",
   "id": "aquatic-navigation",
   "metadata": {},
   "source": [
    "## 파이썬 문법에 의한 데이터 입출력"
   ]
  },
  {
   "cell_type": "markdown",
   "id": "private-indonesian",
   "metadata": {},
   "source": [
    "* 'data.csv' 파일을 읽기 모드로 오픈, 라인은 \\n로 구분, 파일을 구분한 후 오픈파일을 filereader로 명칭\n",
    "* f = open(\"data.csv\", \"r\", newline=\"\\n\")\n",
    "    * f.close()\n",
    "* 파일을 열고 읽고 닫는 역할을 한문장으로 표현한 예\n",
    "* with open(\"data.csv\", \"r\", newline=\"\\n\") as filereader:\n",
    "\n",
    "    "
   ]
  },
  {
   "cell_type": "code",
   "execution_count": 134,
   "id": "cordless-password",
   "metadata": {
    "code_folding": []
   },
   "outputs": [
    {
     "name": "stdout",
     "output_type": "stream",
     "text": [
      "['Supplier Name', 'Invoice Number', 'Part Number', 'Cost', 'Purchase Date\\r\\n']\n",
      "Supplier X,001-1001,2341,$500.00,2014-01-20\r\n",
      "\n",
      "Supplier X,001-1001,2341,$500.00,2014-01-20\r\n",
      "\n",
      "Supplier X,001-1001,5467,$750.00,2014-01-20\r\n",
      "\n",
      "Supplier X,001-1001,5467,$750.00,2014-01-20\r\n",
      "\n",
      "Supplier Y,50-9501,7009,$250.00,2014-01-30\r\n",
      "\n",
      "Supplier Y,50-9501,7009,$250.00,2014-01-30\r\n",
      "\n",
      "Supplier Y,50-9501,6650,$125.00,2014-02-03\r\n",
      "\n",
      "Supplier Y,50-9501,6650,$125.00,2014-02-03\r\n",
      "\n",
      "Supplier Z,920-4804,3321,$615.00,2014-02-03\r\n",
      "\n",
      "Supplier Z,920-4804,3321,$615.00,2014-10-14\r\n",
      "\n",
      "Supplier Z,920-4804,3321,$615.00,2014-02-17\r\n",
      "\n",
      "Supplier Z,920-4804,3321,$615.00,2014-02-24\r\n",
      "\n"
     ]
    }
   ],
   "source": [
    "# \"data.csv\" : open하여 읽어올 파일의 이름\n",
    "# \"r\" : 파일 오픈 형식 - r: readmode, w: writemode\n",
    "# \"\\n\" : 라인 및 데이터 단위(리스트에 저장될 각 요소)를 구분할 기호\n",
    "# filereader : 읽어온 데티러(리스트 데이터)가 저장되는 변수 이름\n",
    "# with 다음 행부터 파일이 닫히는 곳까지 들여쓰기를 하여, 파일이 닫히기전까지 실행되는 작업들을 기술합니다.\n",
    "with open(\"data.csv\", \"r\", newline=\"\\n\") as filereader:\n",
    "    header = filereader.readline() # 읽어온 파일의 내용 중에 한줄 read\n",
    "    header_list = header.split(\",\")\n",
    "    print(header_list)\n",
    "    \n",
    "    # 쓰기위한 파일 오픈\n",
    "    with open(\"output_data.csv\", \"w\", newline=\"\\n\") as filewriter:\n",
    "        # csv 파일은 각 데이터가 \",\"로 구분되어 있는 형식\n",
    "        # 따라서 리스트의 각 사이에 \",\"를 넣고 하나의 문자데이터로 만들고 출력\n",
    "        filewriter.write(\",\".join(map(str, header_list)) + \"\\n\")\n",
    "        # map(str, header_list) : 리스트의 각 요소를 모두 문자형식으로 변환\n",
    "        # \",\".join(${listName}) -> 리스트의 각 요소사이에 \",\"를 넣어 하나의 문자열로 생성\n",
    "        # 리스트 요소 사이로 \",\"가 포함되는 형식의 변환입니다.\n",
    "        for row in filereader: # 읽어온 파일의 내용(리스트)을 반복문에 적용\n",
    "            print(row) # 구분자 포함한 문자열\n",
    "            row = row.strip() # 양옆 공백 제거\n",
    "            row_list = row.split(\",\") # 열별 분할\n",
    "            filewriter.write(\",\".join(map(str, row_list)) + \"\\n\") # ,로 나뉘어진 리스트를 문자형으로 변경하고 +\"\\n\"을 통하여 한칸 개행"
   ]
  },
  {
   "cell_type": "code",
   "execution_count": 135,
   "id": "dominant-opera",
   "metadata": {},
   "outputs": [
    {
     "name": "stdout",
     "output_type": "stream",
     "text": [
      "   Supplier Name Invoice Number  Part Number     Cost Purchase Date\n",
      "0     Supplier X       001-1001         2341  $500.00    2014-01-20\n",
      "1     Supplier X       001-1001         2341  $500.00    2014-01-20\n",
      "2     Supplier X       001-1001         5467  $750.00    2014-01-20\n",
      "3     Supplier X       001-1001         5467  $750.00    2014-01-20\n",
      "4     Supplier Y        50-9501         7009  $250.00    2014-01-30\n",
      "5     Supplier Y        50-9501         7009  $250.00    2014-01-30\n",
      "6     Supplier Y        50-9501         6650  $125.00    2014-02-03\n",
      "7     Supplier Y        50-9501         6650  $125.00    2014-02-03\n",
      "8     Supplier Z       920-4804         3321  $615.00    2014-02-03\n",
      "9     Supplier Z       920-4804         3321  $615.00    2014-10-14\n",
      "10    Supplier Z       920-4804         3321  $615.00    2014-02-17\n",
      "11    Supplier Z       920-4804         3321  $615.00    2014-02-24\n"
     ]
    }
   ],
   "source": [
    "import pandas as pd\n",
    "\n",
    "data_frame = pd.read_csv(\"data.csv\")\n",
    "# read_csv로 읽혀져온 데이터는 DataFrame형식으로 저장됩니다.\n",
    "# 행 인덱스는 0부터 행갯수 만큼 생성, 컬럼명은 파일에 있는 헤더이름으로 설정\n",
    "print(data_frame)\n",
    "data_frame.to_csv(\"output_bypandas.csv\", index=False)"
   ]
  },
  {
   "cell_type": "markdown",
   "id": "hybrid-sydney",
   "metadata": {},
   "source": [
    "### 파이썬 기본 문법으로 필터링"
   ]
  },
  {
   "cell_type": "code",
   "execution_count": 136,
   "id": "retained-legislation",
   "metadata": {
    "code_folding": []
   },
   "outputs": [
    {
     "name": "stdout",
     "output_type": "stream",
     "text": [
      "['Supplier Name', 'Invoice Number', 'Part Number', 'Cost', 'Purchase Date']\n",
      "['Supplier X', '001-1001', '5467', '$750.00', '2014-01-20']\n",
      "['Supplier X', '001-1001', '5467', '$750.00', '2014-01-20']\n",
      "['Supplier Z', '920-4804', '3321', '$615.00', '2014-02-03']\n",
      "['Supplier Z', '920-4804', '3321', '$615.00', '2014-10-14']\n",
      "['Supplier Z', '920-4804', '3321', '$615.00', '2014-02-17']\n",
      "['Supplier Z', '920-4804', '3321', '$615.00', '2014-02-24']\n"
     ]
    }
   ],
   "source": [
    "# 서플라이어가 Z이거나 코스트가 600이상인 데이터만 추출\n",
    "import csv # 파이썬의 csv파일 전용 모듈을 import\n",
    "with open(\"data.csv\", \"r\", newline=\"\\n\") as csv_in_file:\n",
    "    with open(\"out.csv\", \"w\", newline=\"\\n\") as csv_out_file:\n",
    "        # 읽기 핸들러를 filereader 변수에 저장\n",
    "        filereader = csv.reader(csv_in_file)\n",
    "        \n",
    "        # 쓰기 핸들러를 filewriter 변수에 저장\n",
    "        filewriter = csv.writer(csv_out_file)\n",
    "        \n",
    "        # 파일 읽기 핸들러를 이용하여 다음 라인(현재로는 첫줄) read\n",
    "        header = next(filereader)\n",
    "        # ','로 구분된 데이터를 읽어 왔으므로 별도 가공없이 csv에 출력\n",
    "        # csv모듈의 기능을 이용하여 데이터를 읽으면, 이전 예제의 split이 적용된 리스트를 리턴합니다.\n",
    "        filewriter.writerow(header)\n",
    "        print(header)\n",
    "        \n",
    "        # 읽어온 데이터들을 반복실행문에 적용하여 라인단위로 처리합니다.\n",
    "        for row in filereader:\n",
    "            \n",
    "            # 첫열의 데이터를 문자열로 변경하고, 양옆의 공백을 제거한 값을 보관\n",
    "            supplier = str(row[0]).strip()\n",
    "            \n",
    "            # 양옆에 있을 수 있는 '$'를 제거하고, 천단위 구분 기호를 빈칸으로 대체(삭제)한 후 cost라는 변수에 저장\n",
    "            cost = str(row[3]).strip('$').replace(',', '')\n",
    "            \n",
    "            if (supplier == \"Supplier Z\") or (float(cost) > 600.0):\n",
    "                filewriter.writerow(row)\n",
    "                print(row)"
   ]
  },
  {
   "cell_type": "markdown",
   "id": "recent-instruction",
   "metadata": {},
   "source": [
    "### pandas 를 이용한 필터링"
   ]
  },
  {
   "cell_type": "code",
   "execution_count": 137,
   "id": "featured-sponsorship",
   "metadata": {},
   "outputs": [
    {
     "name": "stdout",
     "output_type": "stream",
     "text": [
      "   Supplier Name Invoice Number  Part Number   Cost Purchase Date\n",
      "2     Supplier X       001-1001         5467  750.0    2014-01-20\n",
      "3     Supplier X       001-1001         5467  750.0    2014-01-20\n",
      "8     Supplier Z       920-4804         3321  615.0    2014-02-03\n",
      "9     Supplier Z       920-4804         3321  615.0    2014-10-14\n",
      "10    Supplier Z       920-4804         3321  615.0    2014-02-17\n",
      "11    Supplier Z       920-4804         3321  615.0    2014-02-24\n"
     ]
    }
   ],
   "source": [
    "# 서플라이어가 Z이거나 코스트가 600이상인 데이터만 추출\n",
    "import pandas as pd\n",
    "date_frame = pd.read_csv(\"data.csv\")\n",
    "# 판다스의 read_csv로 읽어온 파일의 내용은 자동으로 판다스에서 제공하는 data_frame형식으로 읽어옵니다.\n",
    "# index(0부터 시작하는 정수)가 생기고, columns로 파일의 첫라인(열제목)이 사용됩니다. -> 열제목 자동설정되므로, 별도로 신경쓰지않아도 됨.\n",
    "# print(date_frame)\n",
    "# print(data_frame['Cost'].str.strip('$'))\n",
    "# print(data_frame['Cost'].str.strip('$').astype(float))\n",
    "# data_frame['Cost']의 값을 문자로 : .str\n",
    "# 위 결과에서 양옆에 있을지 모를 '$' 제거: .strip('$')\n",
    "# 위 결과값을 다시 float형으로 변경 : .astype(float)\n",
    "\n",
    "# 열하나에 필요한 가공을 한 뒤 그 데이터를 다시 열이름으로 지목한 데이터로 대체\n",
    "date_frame['Cost'] = date_frame['Cost'].str.strip('$').astype(float)\n",
    "# 조건에 맞는 데이터를 필터링합니다. .loc사용\n",
    "\n",
    "# 문자열.contains('A') : 해당 문자열에 'A'가 포함되어있다면 True리턴\n",
    "# print(date_frame.loc[date_frame['Supplier Name'].str.contains('Z')])\n",
    "\n",
    "# data_frame['Cost'] > 600.0 : 해당 컬럼 값 600이상 True 리턴\n",
    "# print(date_frame.loc[date_frame['Cost'] > 600.0])\n",
    "# 필터링 연산시 True 리턴된 행만 필터링\n",
    "\n",
    "# data_frame.loc[:, :] 행과 열 동시 필터링\n",
    "# 열의 값으로 행을 필터링하고, 열은 모든열 대상\n",
    "# 필터링한 데이터프레임 구조데이터를 condition변수에 저장\n",
    "condition = date_frame.loc[(date_frame['Supplier Name'].str.contains('Z')) | (date_frame['Cost'] > 600.0), :]\n",
    "\n",
    "print(condition)\n",
    "condition.to_csv(\"out2.csv\", index=False)"
   ]
  },
  {
   "cell_type": "markdown",
   "id": "ecological-technical",
   "metadata": {},
   "source": [
    "#### 연습문제\n",
    "- 아래 리스트에 담겨있는 날짜에 해당하는 데이터만 필터링하여 out3.csv로 저장하세요\n",
    "- 파이썬 문법을 이용"
   ]
  },
  {
   "cell_type": "code",
   "execution_count": 138,
   "id": "sonic-range",
   "metadata": {
    "code_folding": []
   },
   "outputs": [
    {
     "name": "stdout",
     "output_type": "stream",
     "text": [
      "['Supplier Name', 'Invoice Number', 'Part Number', 'Cost', 'Purchase Date']\n",
      "['Supplier X', '001-1001', '2341', '$500.00', '2014-01-20']\n",
      "['Supplier X', '001-1001', '2341', '$500.00', '2014-01-20']\n",
      "['Supplier X', '001-1001', '5467', '$750.00', '2014-01-20']\n",
      "['Supplier X', '001-1001', '5467', '$750.00', '2014-01-20']\n",
      "['Supplier Y', '50-9501', '7009', '$250.00', '2014-01-30']\n",
      "['Supplier Y', '50-9501', '7009', '$250.00', '2014-01-30']\n"
     ]
    }
   ],
   "source": [
    "import csv\n",
    "\n",
    "important_dates = ['2014-01-20', '2014-01-30']\n",
    "\n",
    "with open(\"data.csv\", \"r\", newline=\"\\n\") as csv_in_file:\n",
    "    with open(\"out3.csv\", \"w\", newline=\"\\n\") as csv_out_file:\n",
    "        filereader = csv.reader(csv_in_file)\n",
    "        filewriter = csv.writer(csv_out_file)\n",
    "        header = next(filereader)\n",
    "        filewriter.writerow(header)\n",
    "        print(header)\n",
    "        for row in filereader:\n",
    "            if row[4] in important_dates:\n",
    "                filewriter.writerow(row)\n",
    "                print(row)"
   ]
  },
  {
   "cell_type": "markdown",
   "id": "precise-combine",
   "metadata": {},
   "source": [
    "### 리스트에 담겨있는 특정 날짜들에 해당하는 행만 추출 - pandas"
   ]
  },
  {
   "cell_type": "code",
   "execution_count": 139,
   "id": "collectible-medicare",
   "metadata": {},
   "outputs": [
    {
     "name": "stdout",
     "output_type": "stream",
     "text": [
      "  Supplier Name Invoice Number  Part Number     Cost Purchase Date\n",
      "0    Supplier X       001-1001         2341  $500.00    2014-01-20\n",
      "1    Supplier X       001-1001         2341  $500.00    2014-01-20\n",
      "2    Supplier X       001-1001         5467  $750.00    2014-01-20\n",
      "3    Supplier X       001-1001         5467  $750.00    2014-01-20\n",
      "4    Supplier Y        50-9501         7009  $250.00    2014-01-30\n",
      "5    Supplier Y        50-9501         7009  $250.00    2014-01-30\n"
     ]
    }
   ],
   "source": [
    "import pandas as pd\n",
    "data_framet = pd.read_csv(\"data.csv\")\n",
    "important_dates = ['2014-01-20', '2014-01-30']\n",
    "# .isin() : 파이썬의 in처럼 괄호안의 내용중 하나가 포함되었는지 체크하는 함수\n",
    "# .loc안의 조건 : data_frame['Purchase Date']값이\n",
    "# .isin(important_dates)로 체크해서 있는 값인지 검사\n",
    "condition = data_frame.loc[data_frame['Purchase Date'].isin(important_dates), :]\n",
    "condition.to_csv(\"out3bypandas.csv\", index=False)\n",
    "print(condition)"
   ]
  },
  {
   "cell_type": "markdown",
   "id": "ordinary-peace",
   "metadata": {},
   "source": [
    "### 정규표현식의 매칭 결과로 필터링 - 파이썬 문법"
   ]
  },
  {
   "cell_type": "code",
   "execution_count": 140,
   "id": "worse-classroom",
   "metadata": {},
   "outputs": [],
   "source": [
    "# invoice Number가 '001-'로 시작하는 행을 필터링"
   ]
  },
  {
   "cell_type": "code",
   "execution_count": 141,
   "id": "actual-brazilian",
   "metadata": {
    "code_folding": []
   },
   "outputs": [
    {
     "name": "stdout",
     "output_type": "stream",
     "text": [
      "['Supplier Name', 'Invoice Number', 'Part Number', 'Cost', 'Purchase Date']\n",
      "['Supplier X', '001-1001', '2341', '$500.00', '2014-01-20']\n",
      "['Supplier X', '001-1001', '2341', '$500.00', '2014-01-20']\n",
      "['Supplier X', '001-1001', '5467', '$750.00', '2014-01-20']\n",
      "['Supplier X', '001-1001', '5467', '$750.00', '2014-01-20']\n"
     ]
    }
   ],
   "source": [
    "import csv\n",
    "import re\n",
    "\n",
    "pattern = re.compile(r'(?P<my_pattern>^001-.*)', re.I)\n",
    "\n",
    "with open(\"data.csv\", \"r\", newline=\"\\n\") as csv_in_file:\n",
    "    with open(\"out4.csv\", \"w\", newline=\"\\n\") as csv_out_file:\n",
    "        filereader = csv.reader(csv_in_file)\n",
    "        filewriter = csv.writer(csv_out_file)\n",
    "        header = next(filereader)\n",
    "        filewriter.writerow(header)\n",
    "        print(header)\n",
    "        for row in filereader:\n",
    "            if pattern.match(row[1]):\n",
    "                filewriter.writerow(row)\n",
    "                print(row)"
   ]
  },
  {
   "cell_type": "markdown",
   "id": "municipal-checkout",
   "metadata": {},
   "source": [
    "#### 정규표현식의 매칭 결과로 필터링 - pandas 활용"
   ]
  },
  {
   "cell_type": "code",
   "execution_count": 142,
   "id": "dried-minimum",
   "metadata": {},
   "outputs": [
    {
     "name": "stdout",
     "output_type": "stream",
     "text": [
      "  Supplier Name Invoice Number  Part Number     Cost Purchase Date\n",
      "0    Supplier X       001-1001         2341  $500.00    2014-01-20\n",
      "1    Supplier X       001-1001         2341  $500.00    2014-01-20\n",
      "2    Supplier X       001-1001         5467  $750.00    2014-01-20\n",
      "3    Supplier X       001-1001         5467  $750.00    2014-01-20\n"
     ]
    }
   ],
   "source": [
    "import pandas as pd\n",
    "data_frame = pd.read_csv(\"data.csv\")\n",
    "condition = data_frame.loc[data_frame['Invoice Number'].str.startswith('001-'), :]\n",
    "condition.to_csv(\"out4bypandas.csv\", index=False)\n",
    "print(condition)"
   ]
  },
  {
   "cell_type": "markdown",
   "id": "particular-enclosure",
   "metadata": {},
   "source": [
    "#### 열제목이 아닌 열번호를 이용한 필터링 - 파이썬 문법"
   ]
  },
  {
   "cell_type": "code",
   "execution_count": 143,
   "id": "chubby-anderson",
   "metadata": {},
   "outputs": [
    {
     "name": "stdout",
     "output_type": "stream",
     "text": [
      "['Supplier Z', '3321', '2014-02-24']\n",
      "['Supplier Z', '3321', '2014-02-24']\n",
      "['Supplier Z', '3321', '2014-02-24']\n",
      "['Supplier Z', '3321', '2014-02-24']\n",
      "['Supplier Z', '3321', '2014-02-24']\n",
      "['Supplier Z', '3321', '2014-02-24']\n",
      "['Supplier Z', '3321', '2014-02-24']\n",
      "['Supplier Z', '3321', '2014-02-24']\n",
      "['Supplier Z', '3321', '2014-02-24']\n",
      "['Supplier Z', '3321', '2014-02-24']\n",
      "['Supplier Z', '3321', '2014-02-24']\n",
      "['Supplier Z', '3321', '2014-02-24']\n",
      "['Supplier Z', '3321', '2014-02-24']\n"
     ]
    }
   ],
   "source": [
    "# 열번호를 선택하여 파일 출력 & 화면출력\n",
    "import csv\n",
    "my_columns = [0, 2, 4]\n",
    "with open('data.csv', 'r', newline='') as csv_in_file:\n",
    "    with open('out5.csv', 'w', newline='') as csv_out_file:\n",
    "        filereader = csv.reader(csv_in_file)\n",
    "        filewriter = csv.writer(csv_out_file)\n",
    "        \n",
    "        # 열 제목 중에서 0, 2, 4번째 데이터를 선택해야하므로, next로 읽지 않고 모두 반복문 안에서 읽습니다.\n",
    "        # 0, 2, 4열의 데이터만 모아 하나의 행으로 만들고, 이를 출력하기 위한 리스트를 먼저 생성\n",
    "        for row_list in filereader:\n",
    "            # 한 행에 대해 0, 2, 4열의 데이터만 모아서 하나의 리스트에 넣고,\n",
    "            # 이를 출력하기 위한 리스트를 먼저 생성합니다.\n",
    "            output_row_list = []\n",
    "            # 열번호 리스트가 갖고있는 열번호들로 반복실행합니다.\n",
    "            for i in my_columns:\n",
    "                # 한 행에서 해당 컬럼에 해당하는 것들만 output_row_list에 append\n",
    "                output_row_list.append(row[i])\n",
    "            # 모여진 한 행의 리스트들을 화면과 파일에 출력\n",
    "            filewriter.writerow(output_row_list)\n",
    "            print(output_row_list)"
   ]
  },
  {
   "cell_type": "markdown",
   "id": "confirmed-holmes",
   "metadata": {},
   "source": [
    "#### 열제목이 아닌 열번호를 이용한 필터링 - pandas"
   ]
  },
  {
   "cell_type": "code",
   "execution_count": 146,
   "id": "informational-founder",
   "metadata": {},
   "outputs": [
    {
     "name": "stdout",
     "output_type": "stream",
     "text": [
      "   Supplier Name Invoice Number  Part Number     Cost Purchase Date\n",
      "0     Supplier X       001-1001         2341  $500.00    2014-01-20\n",
      "1     Supplier X       001-1001         2341  $500.00    2014-01-20\n",
      "2     Supplier X       001-1001         5467  $750.00    2014-01-20\n",
      "3     Supplier X       001-1001         5467  $750.00    2014-01-20\n",
      "4     Supplier Y        50-9501         7009  $250.00    2014-01-30\n",
      "5     Supplier Y        50-9501         7009  $250.00    2014-01-30\n",
      "6     Supplier Y        50-9501         6650  $125.00    2014-02-03\n",
      "7     Supplier Y        50-9501         6650  $125.00    2014-02-03\n",
      "8     Supplier Z       920-4804         3321  $615.00    2014-02-03\n",
      "9     Supplier Z       920-4804         3321  $615.00    2014-10-14\n",
      "10    Supplier Z       920-4804         3321  $615.00    2014-02-17\n",
      "11    Supplier Z       920-4804         3321  $615.00    2014-02-24\n",
      "   Supplier Name  Part Number Purchase Date\n",
      "0     Supplier X         2341    2014-01-20\n",
      "1     Supplier X         2341    2014-01-20\n",
      "2     Supplier X         5467    2014-01-20\n",
      "3     Supplier X         5467    2014-01-20\n",
      "4     Supplier Y         7009    2014-01-30\n",
      "5     Supplier Y         7009    2014-01-30\n",
      "6     Supplier Y         6650    2014-02-03\n",
      "7     Supplier Y         6650    2014-02-03\n",
      "8     Supplier Z         3321    2014-02-03\n",
      "9     Supplier Z         3321    2014-10-14\n",
      "10    Supplier Z         3321    2014-02-17\n",
      "11    Supplier Z         3321    2014-02-24\n"
     ]
    }
   ],
   "source": [
    "# 열번호로 열을 필터링 - 판다스\n",
    "import pandas as pd\n",
    "data_frame = pd.read_csv('data.csv')\n",
    "print(data_frame) # full\n",
    "# .iloc 인덱스번호, 열번호로만 필터링하기 위해 제공되는 기능\n",
    "condition = data_frame.iloc[:, [0, 2, 4]]\n",
    "condition.to_csv(\"out5bypandas.csv\", index=False)\n",
    "print(condition) # [0, 2, 4]"
   ]
  },
  {
   "cell_type": "code",
   "execution_count": null,
   "id": "literary-light",
   "metadata": {},
   "outputs": [],
   "source": []
  }
 ],
 "metadata": {
  "kernelspec": {
   "display_name": "Python 3",
   "language": "python",
   "name": "python3"
  },
  "language_info": {
   "codemirror_mode": {
    "name": "ipython",
    "version": 3
   },
   "file_extension": ".py",
   "mimetype": "text/x-python",
   "name": "python",
   "nbconvert_exporter": "python",
   "pygments_lexer": "ipython3",
   "version": "3.8.5"
  }
 },
 "nbformat": 4,
 "nbformat_minor": 5
}
