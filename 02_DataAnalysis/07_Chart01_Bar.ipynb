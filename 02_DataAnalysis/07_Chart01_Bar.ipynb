{
 "cells": [
  {
   "cell_type": "code",
   "execution_count": 46,
   "id": "related-documentation",
   "metadata": {},
   "outputs": [],
   "source": [
    "import pandas as pd\n",
    "import numpy as np\n",
    "\n",
    "pd.options.display.max_columns = 25\n",
    "\n",
    "marathonDf = pd.read_csv('./marathon/marathon_merge[2015~2017].csv')\n",
    "marathonDf.shape\n",
    "\n",
    "font = {'size': 16, 'color': 'white'}"
   ]
  },
  {
   "cell_type": "code",
   "execution_count": 47,
   "id": "comprehensive-presence",
   "metadata": {},
   "outputs": [
    {
     "data": {
      "text/html": [
       "<div>\n",
       "<style scoped>\n",
       "    .dataframe tbody tr th:only-of-type {\n",
       "        vertical-align: middle;\n",
       "    }\n",
       "\n",
       "    .dataframe tbody tr th {\n",
       "        vertical-align: top;\n",
       "    }\n",
       "\n",
       "    .dataframe thead th {\n",
       "        text-align: right;\n",
       "    }\n",
       "</style>\n",
       "<table border=\"1\" class=\"dataframe\">\n",
       "  <thead>\n",
       "    <tr style=\"text-align: right;\">\n",
       "      <th></th>\n",
       "      <th>Name</th>\n",
       "      <th>Age</th>\n",
       "      <th>M/F</th>\n",
       "      <th>City</th>\n",
       "      <th>State</th>\n",
       "      <th>Country</th>\n",
       "      <th>5K</th>\n",
       "      <th>10K</th>\n",
       "      <th>15K</th>\n",
       "      <th>20K</th>\n",
       "      <th>Half</th>\n",
       "      <th>25K</th>\n",
       "      <th>30K</th>\n",
       "      <th>35K</th>\n",
       "      <th>40K</th>\n",
       "      <th>Pace</th>\n",
       "      <th>Official Time</th>\n",
       "      <th>Overall</th>\n",
       "      <th>Gender</th>\n",
       "      <th>Division</th>\n",
       "      <th>Year</th>\n",
       "    </tr>\n",
       "  </thead>\n",
       "  <tbody>\n",
       "    <tr>\n",
       "      <th>0</th>\n",
       "      <td>Desisa, Lelisa</td>\n",
       "      <td>25</td>\n",
       "      <td>M</td>\n",
       "      <td>Ambo</td>\n",
       "      <td>NaN</td>\n",
       "      <td>ETH</td>\n",
       "      <td>883</td>\n",
       "      <td>1783</td>\n",
       "      <td>2697</td>\n",
       "      <td>3629</td>\n",
       "      <td>3842</td>\n",
       "      <td>4567</td>\n",
       "      <td>5520</td>\n",
       "      <td>6479</td>\n",
       "      <td>7359</td>\n",
       "      <td>296</td>\n",
       "      <td>7757</td>\n",
       "      <td>1</td>\n",
       "      <td>1</td>\n",
       "      <td>1</td>\n",
       "      <td>2015</td>\n",
       "    </tr>\n",
       "    <tr>\n",
       "      <th>1</th>\n",
       "      <td>Tsegay, Yemane Adhane</td>\n",
       "      <td>30</td>\n",
       "      <td>M</td>\n",
       "      <td>Addis Ababa</td>\n",
       "      <td>NaN</td>\n",
       "      <td>ETH</td>\n",
       "      <td>883</td>\n",
       "      <td>1783</td>\n",
       "      <td>2698</td>\n",
       "      <td>3628</td>\n",
       "      <td>3841</td>\n",
       "      <td>4567</td>\n",
       "      <td>5519</td>\n",
       "      <td>6479</td>\n",
       "      <td>7362</td>\n",
       "      <td>298</td>\n",
       "      <td>7788</td>\n",
       "      <td>2</td>\n",
       "      <td>2</td>\n",
       "      <td>2</td>\n",
       "      <td>2015</td>\n",
       "    </tr>\n",
       "    <tr>\n",
       "      <th>2</th>\n",
       "      <td>Chebet, Wilson</td>\n",
       "      <td>29</td>\n",
       "      <td>M</td>\n",
       "      <td>Marakwet</td>\n",
       "      <td>NaN</td>\n",
       "      <td>KEN</td>\n",
       "      <td>883</td>\n",
       "      <td>1783</td>\n",
       "      <td>2697</td>\n",
       "      <td>3629</td>\n",
       "      <td>3842</td>\n",
       "      <td>4567</td>\n",
       "      <td>5520</td>\n",
       "      <td>6479</td>\n",
       "      <td>7381</td>\n",
       "      <td>299</td>\n",
       "      <td>7822</td>\n",
       "      <td>3</td>\n",
       "      <td>3</td>\n",
       "      <td>3</td>\n",
       "      <td>2015</td>\n",
       "    </tr>\n",
       "    <tr>\n",
       "      <th>3</th>\n",
       "      <td>Kipyego, Bernard</td>\n",
       "      <td>28</td>\n",
       "      <td>M</td>\n",
       "      <td>Eldoret</td>\n",
       "      <td>NaN</td>\n",
       "      <td>KEN</td>\n",
       "      <td>883</td>\n",
       "      <td>1784</td>\n",
       "      <td>2701</td>\n",
       "      <td>3629</td>\n",
       "      <td>3842</td>\n",
       "      <td>4567</td>\n",
       "      <td>5520</td>\n",
       "      <td>6483</td>\n",
       "      <td>7427</td>\n",
       "      <td>300</td>\n",
       "      <td>7847</td>\n",
       "      <td>4</td>\n",
       "      <td>4</td>\n",
       "      <td>4</td>\n",
       "      <td>2015</td>\n",
       "    </tr>\n",
       "    <tr>\n",
       "      <th>4</th>\n",
       "      <td>Korir, Wesley</td>\n",
       "      <td>32</td>\n",
       "      <td>M</td>\n",
       "      <td>Kitale</td>\n",
       "      <td>NaN</td>\n",
       "      <td>KEN</td>\n",
       "      <td>883</td>\n",
       "      <td>1784</td>\n",
       "      <td>2698</td>\n",
       "      <td>3628</td>\n",
       "      <td>3841</td>\n",
       "      <td>4567</td>\n",
       "      <td>5520</td>\n",
       "      <td>6479</td>\n",
       "      <td>7407</td>\n",
       "      <td>300</td>\n",
       "      <td>7849</td>\n",
       "      <td>5</td>\n",
       "      <td>5</td>\n",
       "      <td>5</td>\n",
       "      <td>2015</td>\n",
       "    </tr>\n",
       "  </tbody>\n",
       "</table>\n",
       "</div>"
      ],
      "text/plain": [
       "                    Name  Age M/F         City State Country   5K   10K   15K  \\\n",
       "0         Desisa, Lelisa   25   M         Ambo   NaN     ETH  883  1783  2697   \n",
       "1  Tsegay, Yemane Adhane   30   M  Addis Ababa   NaN     ETH  883  1783  2698   \n",
       "2         Chebet, Wilson   29   M     Marakwet   NaN     KEN  883  1783  2697   \n",
       "3       Kipyego, Bernard   28   M      Eldoret   NaN     KEN  883  1784  2701   \n",
       "4          Korir, Wesley   32   M       Kitale   NaN     KEN  883  1784  2698   \n",
       "\n",
       "    20K  Half   25K   30K   35K   40K  Pace  Official Time  Overall  Gender  \\\n",
       "0  3629  3842  4567  5520  6479  7359   296           7757        1       1   \n",
       "1  3628  3841  4567  5519  6479  7362   298           7788        2       2   \n",
       "2  3629  3842  4567  5520  6479  7381   299           7822        3       3   \n",
       "3  3629  3842  4567  5520  6483  7427   300           7847        4       4   \n",
       "4  3628  3841  4567  5520  6479  7407   300           7849        5       5   \n",
       "\n",
       "   Division  Year  \n",
       "0         1  2015  \n",
       "1         2  2015  \n",
       "2         3  2015  \n",
       "3         4  2015  \n",
       "4         5  2015  "
      ]
     },
     "execution_count": 47,
     "metadata": {},
     "output_type": "execute_result"
    }
   ],
   "source": [
    "marathonDf.head()"
   ]
  },
  {
   "cell_type": "code",
   "execution_count": 48,
   "id": "banner-coalition",
   "metadata": {},
   "outputs": [
    {
     "data": {
      "text/plain": [
       "(64474, 21)"
      ]
     },
     "execution_count": 48,
     "metadata": {},
     "output_type": "execute_result"
    }
   ],
   "source": [
    "# 필터링(현지인)\n",
    "runner_USA = marathonDf[marathonDf.Country == 'USA']\n",
    "runner_USA.shape"
   ]
  },
  {
   "cell_type": "code",
   "execution_count": 49,
   "id": "arabic-steering",
   "metadata": {},
   "outputs": [
    {
     "data": {
      "text/html": [
       "<div>\n",
       "<style scoped>\n",
       "    .dataframe tbody tr th:only-of-type {\n",
       "        vertical-align: middle;\n",
       "    }\n",
       "\n",
       "    .dataframe tbody tr th {\n",
       "        vertical-align: top;\n",
       "    }\n",
       "\n",
       "    .dataframe thead th {\n",
       "        text-align: right;\n",
       "    }\n",
       "</style>\n",
       "<table border=\"1\" class=\"dataframe\">\n",
       "  <thead>\n",
       "    <tr style=\"text-align: right;\">\n",
       "      <th></th>\n",
       "      <th>Name</th>\n",
       "      <th>Age</th>\n",
       "      <th>M/F</th>\n",
       "      <th>City</th>\n",
       "      <th>State</th>\n",
       "      <th>Country</th>\n",
       "      <th>5K</th>\n",
       "      <th>10K</th>\n",
       "      <th>15K</th>\n",
       "      <th>20K</th>\n",
       "      <th>Half</th>\n",
       "      <th>25K</th>\n",
       "      <th>30K</th>\n",
       "      <th>35K</th>\n",
       "      <th>40K</th>\n",
       "      <th>Pace</th>\n",
       "      <th>Official Time</th>\n",
       "      <th>Overall</th>\n",
       "      <th>Gender</th>\n",
       "      <th>Division</th>\n",
       "      <th>Year</th>\n",
       "    </tr>\n",
       "  </thead>\n",
       "  <tbody>\n",
       "    <tr>\n",
       "      <th>6</th>\n",
       "      <td>Ritzenhein, Dathan</td>\n",
       "      <td>32</td>\n",
       "      <td>M</td>\n",
       "      <td>Rockford</td>\n",
       "      <td>MI</td>\n",
       "      <td>USA</td>\n",
       "      <td>885</td>\n",
       "      <td>1785</td>\n",
       "      <td>2720</td>\n",
       "      <td>3643</td>\n",
       "      <td>3843</td>\n",
       "      <td>4565</td>\n",
       "      <td>5519</td>\n",
       "      <td>6486</td>\n",
       "      <td>7445</td>\n",
       "      <td>301</td>\n",
       "      <td>7880</td>\n",
       "      <td>7</td>\n",
       "      <td>7</td>\n",
       "      <td>7</td>\n",
       "      <td>2015</td>\n",
       "    </tr>\n",
       "    <tr>\n",
       "      <th>7</th>\n",
       "      <td>Keflezighi, Meb</td>\n",
       "      <td>39</td>\n",
       "      <td>M</td>\n",
       "      <td>San Diego</td>\n",
       "      <td>CA</td>\n",
       "      <td>USA</td>\n",
       "      <td>884</td>\n",
       "      <td>1784</td>\n",
       "      <td>2699</td>\n",
       "      <td>3630</td>\n",
       "      <td>3842</td>\n",
       "      <td>4567</td>\n",
       "      <td>5519</td>\n",
       "      <td>6479</td>\n",
       "      <td>7498</td>\n",
       "      <td>304</td>\n",
       "      <td>7962</td>\n",
       "      <td>8</td>\n",
       "      <td>8</td>\n",
       "      <td>8</td>\n",
       "      <td>2015</td>\n",
       "    </tr>\n",
       "    <tr>\n",
       "      <th>10</th>\n",
       "      <td>Tegenkamp, Matt</td>\n",
       "      <td>33</td>\n",
       "      <td>M</td>\n",
       "      <td>Portland</td>\n",
       "      <td>OR</td>\n",
       "      <td>USA</td>\n",
       "      <td>886</td>\n",
       "      <td>1790</td>\n",
       "      <td>2733</td>\n",
       "      <td>3680</td>\n",
       "      <td>3888</td>\n",
       "      <td>4628</td>\n",
       "      <td>5592</td>\n",
       "      <td>6592</td>\n",
       "      <td>7615</td>\n",
       "      <td>307</td>\n",
       "      <td>8032</td>\n",
       "      <td>11</td>\n",
       "      <td>11</td>\n",
       "      <td>11</td>\n",
       "      <td>2015</td>\n",
       "    </tr>\n",
       "    <tr>\n",
       "      <th>11</th>\n",
       "      <td>Eggleston, Jeffrey</td>\n",
       "      <td>30</td>\n",
       "      <td>M</td>\n",
       "      <td>Boulder</td>\n",
       "      <td>CO</td>\n",
       "      <td>USA</td>\n",
       "      <td>914</td>\n",
       "      <td>1834</td>\n",
       "      <td>2766</td>\n",
       "      <td>3702</td>\n",
       "      <td>3907</td>\n",
       "      <td>4639</td>\n",
       "      <td>5610</td>\n",
       "      <td>6612</td>\n",
       "      <td>7607</td>\n",
       "      <td>308</td>\n",
       "      <td>8057</td>\n",
       "      <td>12</td>\n",
       "      <td>12</td>\n",
       "      <td>12</td>\n",
       "      <td>2015</td>\n",
       "    </tr>\n",
       "    <tr>\n",
       "      <th>13</th>\n",
       "      <td>Arciniaga, Nicholas</td>\n",
       "      <td>31</td>\n",
       "      <td>M</td>\n",
       "      <td>Flagstaff</td>\n",
       "      <td>AZ</td>\n",
       "      <td>USA</td>\n",
       "      <td>884</td>\n",
       "      <td>1784</td>\n",
       "      <td>2714</td>\n",
       "      <td>3667</td>\n",
       "      <td>3875</td>\n",
       "      <td>4670</td>\n",
       "      <td>5743</td>\n",
       "      <td>6813</td>\n",
       "      <td>7840</td>\n",
       "      <td>316</td>\n",
       "      <td>8282</td>\n",
       "      <td>14</td>\n",
       "      <td>14</td>\n",
       "      <td>14</td>\n",
       "      <td>2015</td>\n",
       "    </tr>\n",
       "  </tbody>\n",
       "</table>\n",
       "</div>"
      ],
      "text/plain": [
       "                   Name  Age M/F       City State Country   5K   10K   15K  \\\n",
       "6    Ritzenhein, Dathan   32   M   Rockford    MI     USA  885  1785  2720   \n",
       "7       Keflezighi, Meb   39   M  San Diego    CA     USA  884  1784  2699   \n",
       "10      Tegenkamp, Matt   33   M   Portland    OR     USA  886  1790  2733   \n",
       "11   Eggleston, Jeffrey   30   M    Boulder    CO     USA  914  1834  2766   \n",
       "13  Arciniaga, Nicholas   31   M  Flagstaff    AZ     USA  884  1784  2714   \n",
       "\n",
       "     20K  Half   25K   30K   35K   40K  Pace  Official Time  Overall  Gender  \\\n",
       "6   3643  3843  4565  5519  6486  7445   301           7880        7       7   \n",
       "7   3630  3842  4567  5519  6479  7498   304           7962        8       8   \n",
       "10  3680  3888  4628  5592  6592  7615   307           8032       11      11   \n",
       "11  3702  3907  4639  5610  6612  7607   308           8057       12      12   \n",
       "13  3667  3875  4670  5743  6813  7840   316           8282       14      14   \n",
       "\n",
       "    Division  Year  \n",
       "6          7  2015  \n",
       "7          8  2015  \n",
       "10        11  2015  \n",
       "11        12  2015  \n",
       "13        14  2015  "
      ]
     },
     "execution_count": 49,
     "metadata": {},
     "output_type": "execute_result"
    }
   ],
   "source": [
    "runner_USA.head()"
   ]
  },
  {
   "cell_type": "markdown",
   "id": "another-second",
   "metadata": {},
   "source": [
    "## **Bar Chart**\n",
    "- ###### 파이썬 외부 라이브러리 중 차트를 지원하는 모듈 : matplotlib.pyplot\n",
    "- ###### 파이썬 차트에 얹혀서 사용되는 업그레이드 차트 모듈 : seaborn"
   ]
  },
  {
   "cell_type": "code",
   "execution_count": 54,
   "id": "realistic-approach",
   "metadata": {},
   "outputs": [
    {
     "name": "stderr",
     "output_type": "stream",
     "text": [
      "c:\\users\\java01\\appdata\\local\\programs\\python\\python38\\lib\\site-packages\\seaborn\\_decorators.py:36: FutureWarning: Pass the following variable as a keyword arg: x. From version 0.12, the only valid positional argument will be `data`, and passing other arguments without an explicit keyword will result in an error or misinterpretation.\n",
      "  warnings.warn(\n"
     ]
    },
    {
     "data": {
      "text/plain": [
       "<AxesSubplot:title={'center':'Number of Runner by Age'}, xlabel='Age', ylabel='count'>"
      ]
     },
     "execution_count": 54,
     "metadata": {},
     "output_type": "execute_result"
    },
    {
     "data": {
      "image/png": "[encoded data removed]",
      "text/plain": [
       "<Figure size 2160x720 with 1 Axes>"
      ]
     },
     "metadata": {},
     "output_type": "display_data"
    }
   ],
   "source": [
    "# 미국 참가자의 연령별 참석 인원수\n",
    "import matplotlib.pyplot as plt\n",
    "import seaborn as sns\n",
    "\n",
    "plt.style.use('dark_background') # theme\n",
    "\n",
    "# 차트의 크기를 설정 (크기보단 비율로 사용하는 경우가 많음.)\n",
    "plt.figure(figsize=(30, 10))\n",
    "# countplot : seaborn의 BarChart를 생성하는 함수이며, 주로 대상 컬럼의 값 갯수를 대상으로 차트를 그립니다.\n",
    "# target data - runner_USA\n",
    "# count Target : 'Age'\n",
    "runner_Age = sns.countplot('Age', data=runner_USA) # 차트의 큰트롤변수\n",
    "\n",
    "# 제목\n",
    "runner_Age.set_title(\"Number of Runner by Age\", fontdict=font)\n",
    "# x축\n",
    "runner_Age.set_xlabel(\"Age\", fontdict=font)\n",
    "# y축\n",
    "runner_Age"
   ]
  },
  {
   "cell_type": "markdown",
   "id": "scientific-finger",
   "metadata": {},
   "source": [
    "* runner_USA 데이터에 Age_10 컬럼을 추가하고\n",
    "* 15세는 10대, 23세는 20대, 38세는 30대 ... 으로 입력한 후\n",
    "* 연령대별 참석자 인원을 차트로 표현하세요"
   ]
  },
  {
   "cell_type": "code",
   "execution_count": 55,
   "id": "located-fountain",
   "metadata": {},
   "outputs": [
    {
     "name": "stderr",
     "output_type": "stream",
     "text": [
      "<ipython-input-55-01257f661a08>:1: SettingWithCopyWarning: \n",
      "A value is trying to be set on a copy of a slice from a DataFrame.\n",
      "Try using .loc[row_indexer,col_indexer] = value instead\n",
      "\n",
      "See the caveats in the documentation: https://pandas.pydata.org/pandas-docs/stable/user_guide/indexing.html#returning-a-view-versus-a-copy\n",
      "  runner_USA['Age_10'] = (runner_USA['Age'] // 10) * 10\n",
      "c:\\users\\java01\\appdata\\local\\programs\\python\\python38\\lib\\site-packages\\seaborn\\_decorators.py:36: FutureWarning: Pass the following variable as a keyword arg: x. From version 0.12, the only valid positional argument will be `data`, and passing other arguments without an explicit keyword will result in an error or misinterpretation.\n",
      "  warnings.warn(\n"
     ]
    },
    {
     "data": {
      "image/png": "[encoded data removed]",
      "text/plain": [
       "<Figure size 432x288 with 1 Axes>"
      ]
     },
     "metadata": {},
     "output_type": "display_data"
    }
   ],
   "source": [
    "runner_USA['Age_10'] = (runner_USA['Age'] // 10) * 10\n",
    "\n",
    "runner_Age_10 = sns.countplot('Age_10', data=runner_USA)\n",
    "\n",
    "runner_Age_10.set_title(\"Number of Runner by Age 10\", fontdict=font)\n",
    "runner_Age_10.set_xlabel(\"Age grade\", fontdict=font)\n",
    "runner_Age_10.set_ylabel('Number of Runner', fontdict=font)\n",
    "\n",
    "plt.show()"
   ]
  },
  {
   "cell_type": "code",
   "execution_count": 56,
   "id": "verified-domain",
   "metadata": {},
   "outputs": [
    {
     "name": "stderr",
     "output_type": "stream",
     "text": [
      "c:\\users\\java01\\appdata\\local\\programs\\python\\python38\\lib\\site-packages\\seaborn\\_decorators.py:36: FutureWarning: Pass the following variable as a keyword arg: x. From version 0.12, the only valid positional argument will be `data`, and passing other arguments without an explicit keyword will result in an error or misinterpretation.\n",
      "  warnings.warn(\n"
     ]
    },
    {
     "data": {
      "image/png": "[encoded data removed]",
      "text/plain": [
       "<Figure size 432x288 with 1 Axes>"
      ]
     },
     "metadata": {},
     "output_type": "display_data"
    }
   ],
   "source": [
    "# print(runner_USA.groupby(by=['Age_10', 'M/F'])[['M/F']].count()) # 표 그리기전 데이터 검증\n",
    "runner_Age_10 = sns.countplot(\n",
    "    'Age_10'\n",
    "    , data=runner_USA\n",
    "    , hue='M/F'\n",
    "    , hue_order=['F', 'M']\n",
    "    , palette={'M':'b', 'F':'r'}\n",
    ")\n",
    "\n",
    "runner_Age_10.set_title(\"Number of Runner by Age 10, Gender - USA\", fontdict=font)\n",
    "runner_Age_10.set_xlabel(\"Age grade\", fontdict=font)\n",
    "runner_Age_10.set_ylabel('Number of Runner', fontdict=font)\n",
    "\n",
    "plt.show()"
   ]
  },
  {
   "cell_type": "code",
   "execution_count": null,
   "id": "foreign-student",
   "metadata": {},
   "outputs": [],
   "source": [
    "# 연도별 - 연령대별 참가자 인원수 차트 표시\n",
    "runner_by_year_age = marathonDf\n",
    "runner_by_year_age['Age_10'] = (runner_by_year_age['Age'] // 10) * 10\n",
    "\n",
    "runner_by_year_age.info()"
   ]
  },
  {
   "cell_type": "code",
   "execution_count": 58,
   "id": "external-norwegian",
   "metadata": {},
   "outputs": [
    {
     "name": "stderr",
     "output_type": "stream",
     "text": [
      "c:\\users\\java01\\appdata\\local\\programs\\python\\python38\\lib\\site-packages\\seaborn\\_decorators.py:36: FutureWarning: Pass the following variable as a keyword arg: x. From version 0.12, the only valid positional argument will be `data`, and passing other arguments without an explicit keyword will result in an error or misinterpretation.\n",
      "  warnings.warn(\n"
     ]
    },
    {
     "data": {
      "image/png": "[encoded data removed]",
      "text/plain": [
       "<Figure size 432x288 with 1 Axes>"
      ]
     },
     "metadata": {},
     "output_type": "display_data"
    }
   ],
   "source": [
    "runner_by_year_age_groupby_graph = sns.countplot(\n",
    "    'Age_10'\n",
    "    , data=runner_by_year_age\n",
    "    , hue='Year'\n",
    "    , hue_order=[2017, 2016, 2015]\n",
    "    , palette={2015:'w', 2016:'b', 2017:'m'}\n",
    ")\n",
    "\n",
    "runner_by_year_age_groupby_graph.set_title(\"RUNNER BY YEAR, AGE, Gender - USA\", fontdict=font)\n",
    "runner_by_year_age_groupby_graph.set_xlabel(\"AGE\", fontdict=font)\n",
    "runner_by_year_age_groupby_graph.set_ylabel('Number of Runner', fontdict=font)\n",
    "\n",
    "plt.show()"
   ]
  },
  {
   "cell_type": "code",
   "execution_count": 60,
   "id": "unknown-determination",
   "metadata": {},
   "outputs": [
    {
     "data": {
      "text/plain": [
       "<BarContainer object of 8 artists>"
      ]
     },
     "execution_count": 60,
     "metadata": {},
     "output_type": "execute_result"
    },
    {
     "data": {
      "image/png": "[encoded data removed]",
      "text/plain": [
       "<Figure size 432x288 with 1 Axes>"
      ]
     },
     "metadata": {},
     "output_type": "display_data"
    }
   ],
   "source": [
    "tg = runner_USA.groupby('Age_10')['Name'].count()\n",
    "label = ['10', '20', '30', '40', '50', '60', '70', '80']\n",
    "index = np.arange(len(label))\n",
    "plt.xticks(index, label, fontsize=15)\n",
    "plt.bar(index, tg)"
   ]
  },
  {
   "cell_type": "code",
   "execution_count": null,
   "id": "running-tunisia",
   "metadata": {},
   "outputs": [],
   "source": []
  }
 ],
 "metadata": {
  "kernelspec": {
   "display_name": "Python 3",
   "language": "python",
   "name": "python3"
  },
  "language_info": {
   "codemirror_mode": {
    "name": "ipython",
    "version": 3
   },
   "file_extension": ".py",
   "mimetype": "text/x-python",
   "name": "python",
   "nbconvert_exporter": "python",
   "pygments_lexer": "ipython3",
   "version": "3.8.5"
  }
 },
 "nbformat": 4,
 "nbformat_minor": 5
}
