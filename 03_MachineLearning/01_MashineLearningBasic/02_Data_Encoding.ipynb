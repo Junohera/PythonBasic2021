{
 "cells": [
  {
   "cell_type": "markdown",
   "id": "backed-diabetes",
   "metadata": {},
   "source": [
    "# Data Encoding"
   ]
  },
  {
   "cell_type": "markdown",
   "id": "tamil-booth",
   "metadata": {},
   "source": [
    "## Label Encoding"
   ]
  },
  {
   "cell_type": "markdown",
   "id": "joined-memory",
   "metadata": {},
   "source": [
    "- 수치형 데이터가 아닌 범주형(문자) 데이터들을 머신러닝이나 분석에 적합한 데이터로 변경 및 변형을 하는데 이를 인코딩이라고 합니다.\n",
    "- 파이썬은 인코딩을 위한 여러가지 라이브러리를 제공하고 있으며, 간단한 임포트와 호출로 사용 가능합니다."
   ]
  },
  {
   "cell_type": "markdown",
   "id": "objective-there",
   "metadata": {},
   "source": [
    "### ready Target"
   ]
  },
  {
   "cell_type": "code",
   "execution_count": null,
   "id": "mental-chapel",
   "metadata": {
    "ExecuteTime": {
     "end_time": "2021-03-09T07:25:07.190814Z",
     "start_time": "2021-03-09T07:25:07.173825Z"
    }
   },
   "outputs": [],
   "source": [
    "items = ['TV','냉장고','전자렌지','컴퓨터','선풍기','선풍기','믹서','믹서',]"
   ]
  },
  {
   "cell_type": "markdown",
   "id": "heard-wrestling",
   "metadata": {},
   "source": [
    "### Fit & Transform(Label Encoding)"
   ]
  },
  {
   "cell_type": "code",
   "execution_count": null,
   "id": "wanted-mirror",
   "metadata": {
    "ExecuteTime": {
     "end_time": "2021-03-09T07:25:07.206816Z",
     "start_time": "2021-03-09T07:25:07.192815Z"
    }
   },
   "outputs": [],
   "source": [
    "from sklearn.preprocessing import LabelEncoder\n",
    "\n",
    "encoder = LabelEncoder()\n",
    "encoder.fit(items)\n",
    "labels = encoder.transform(items)\n",
    "print(\"인코딩 변환값 : \", labels)\n",
    "# 텍스트 종류를 범주형으로 바인딩하고 숫자를 매치하여 fit합니다.\n",
    "# fit된 결과로 해당 데이터들에 대해 매칭된 숫자로 표현합니다."
   ]
  },
  {
   "cell_type": "markdown",
   "id": "latest-jordan",
   "metadata": {},
   "source": [
    "### Labels"
   ]
  },
  {
   "cell_type": "code",
   "execution_count": null,
   "id": "minor-audit",
   "metadata": {
    "ExecuteTime": {
     "end_time": "2021-03-09T07:25:07.222815Z",
     "start_time": "2021-03-09T07:25:07.208815Z"
    }
   },
   "outputs": [],
   "source": [
    "encoder.classes_"
   ]
  },
  {
   "cell_type": "markdown",
   "id": "specialized-plaintiff",
   "metadata": {},
   "source": [
    "### Input : code, output : label"
   ]
  },
  {
   "cell_type": "code",
   "execution_count": null,
   "id": "peaceful-highway",
   "metadata": {
    "ExecuteTime": {
     "end_time": "2021-03-09T07:25:07.238813Z",
     "start_time": "2021-03-09T07:25:07.224815Z"
    }
   },
   "outputs": [],
   "source": [
    "encoder.inverse_transform([4, 5, 2, 0, 1, 1, 3, 3])"
   ]
  },
  {
   "cell_type": "markdown",
   "id": "dress-premiere",
   "metadata": {},
   "source": [
    "## One-Hot Encoding\n",
    "- more light, more simple"
   ]
  },
  {
   "cell_type": "code",
   "execution_count": null,
   "id": "anticipated-surveillance",
   "metadata": {
    "ExecuteTime": {
     "end_time": "2021-03-09T07:25:07.254814Z",
     "start_time": "2021-03-09T07:25:07.240813Z"
    }
   },
   "outputs": [],
   "source": [
    "from sklearn.preprocessing import OneHotEncoder\n",
    "import numpy as np"
   ]
  },
  {
   "cell_type": "markdown",
   "id": "primary-argentina",
   "metadata": {},
   "source": [
    "### ready Target"
   ]
  },
  {
   "cell_type": "code",
   "execution_count": null,
   "id": "other-reading",
   "metadata": {
    "ExecuteTime": {
     "end_time": "2021-03-09T07:25:07.270814Z",
     "start_time": "2021-03-09T07:25:07.256815Z"
    }
   },
   "outputs": [],
   "source": [
    "items = ['TV','냉장고','전자렌지','컴퓨터','선풍기','선풍기','믹서','믹서',]"
   ]
  },
  {
   "cell_type": "markdown",
   "id": "southern-oakland",
   "metadata": {},
   "source": [
    "### Fit & Transform(Label Encodin)"
   ]
  },
  {
   "cell_type": "code",
   "execution_count": null,
   "id": "banned-memory",
   "metadata": {
    "ExecuteTime": {
     "end_time": "2021-03-09T07:25:07.286812Z",
     "start_time": "2021-03-09T07:25:07.272812Z"
    }
   },
   "outputs": [],
   "source": [
    "encoder = LabelEncoder()\n",
    "encoder.fit(items)\n",
    "labels = encoder.transform(items)\n",
    "labels"
   ]
  },
  {
   "cell_type": "markdown",
   "id": "latin-complexity",
   "metadata": {},
   "source": [
    "### to 2D Data"
   ]
  },
  {
   "cell_type": "code",
   "execution_count": null,
   "id": "revolutionary-hacker",
   "metadata": {
    "ExecuteTime": {
     "end_time": "2021-03-09T07:25:07.302812Z",
     "start_time": "2021-03-09T07:25:07.288812Z"
    }
   },
   "outputs": [],
   "source": [
    "labels = labels.reshape(-1, 1)\n",
    "labels"
   ]
  },
  {
   "cell_type": "markdown",
   "id": "peaceful-naples",
   "metadata": {},
   "source": [
    "### Fit & Transform(One-Hot Encoding)"
   ]
  },
  {
   "cell_type": "code",
   "execution_count": null,
   "id": "narrow-treasury",
   "metadata": {
    "ExecuteTime": {
     "end_time": "2021-03-09T07:25:07.318811Z",
     "start_time": "2021-03-09T07:25:07.305811Z"
    }
   },
   "outputs": [],
   "source": [
    "oh_encoder = OneHotEncoder()\n",
    "oh_encoder.fit(labels)\n",
    "oh_encoder = oh_encoder.transform(labels)\n",
    "print('One-Hot Encoding Data')\n",
    "print(oh_encoder.toarray())"
   ]
  },
  {
   "cell_type": "markdown",
   "id": "strong-combining",
   "metadata": {},
   "source": [
    "### <span class=\"mark\">DataFrame Auto One-Hot Encoding</span>\n",
    "- 모든 문자데이터를 대상으로 인코딩을 해줌"
   ]
  },
  {
   "cell_type": "code",
   "execution_count": null,
   "id": "small-sterling",
   "metadata": {
    "ExecuteTime": {
     "end_time": "2021-03-09T07:25:07.334810Z",
     "start_time": "2021-03-09T07:25:07.321813Z"
    }
   },
   "outputs": [],
   "source": [
    "import pandas as pd\n",
    "df = pd.DataFrame({'items': ['TV','냉장고','전자렌지','컴퓨터','선풍기','선풍기','믹서','믹서',], 'num': [9, 8, 7, 6, 5, 4, 3, 2,]})"
   ]
  },
  {
   "cell_type": "code",
   "execution_count": null,
   "id": "unlike-tunisia",
   "metadata": {
    "ExecuteTime": {
     "end_time": "2021-03-09T07:25:07.350809Z",
     "start_time": "2021-03-09T07:25:07.336811Z"
    }
   },
   "outputs": [],
   "source": [
    "df"
   ]
  },
  {
   "cell_type": "code",
   "execution_count": null,
   "id": "falling-railway",
   "metadata": {
    "ExecuteTime": {
     "end_time": "2021-03-09T07:25:07.382808Z",
     "start_time": "2021-03-09T07:25:07.352811Z"
    }
   },
   "outputs": [],
   "source": [
    "df_dum = pd.get_dummies(df)\n",
    "df_dum"
   ]
  }
 ],
 "metadata": {
  "hide_input": false,
  "kernelspec": {
   "display_name": "Python 3",
   "language": "python",
   "name": "python3"
  },
  "language_info": {
   "codemirror_mode": {
    "name": "ipython",
    "version": 3
   },
   "file_extension": ".py",
   "mimetype": "text/x-python",
   "name": "python",
   "nbconvert_exporter": "python",
   "pygments_lexer": "ipython3",
   "version": "3.8.5"
  },
  "toc": {
   "base_numbering": 1,
   "nav_menu": {},
   "number_sections": true,
   "sideBar": false,
   "skip_h1_title": false,
   "title_cell": "Table of Contents",
   "title_sidebar": "Contents",
   "toc_cell": false,
   "toc_position": {
    "height": "829px",
    "left": "1534.41px",
    "top": "46px",
    "width": "383.594px"
   },
   "toc_section_display": true,
   "toc_window_display": true
  },
  "varInspector": {
   "cols": {
    "lenName": 16,
    "lenType": 16,
    "lenVar": 40
   },
   "kernels_config": {
    "python": {
     "delete_cmd_postfix": "",
     "delete_cmd_prefix": "del ",
     "library": "var_list.py",
     "varRefreshCmd": "print(var_dic_list())"
    },
    "r": {
     "delete_cmd_postfix": ") ",
     "delete_cmd_prefix": "rm(",
     "library": "var_list.r",
     "varRefreshCmd": "cat(var_dic_list()) "
    }
   },
   "oldHeight": 969,
   "position": {
    "height": "842px",
    "left": "527px",
    "right": "20px",
    "top": "18px",
    "width": "800px"
   },
   "types_to_exclude": [
    "module",
    "function",
    "builtin_function_or_method",
    "instance",
    "_Feature"
   ],
   "varInspector_section_display": "none",
   "window_display": false
  }
 },
 "nbformat": 4,
 "nbformat_minor": 5
}
