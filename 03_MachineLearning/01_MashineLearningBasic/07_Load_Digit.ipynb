{
 "cells": [
  {
   "cell_type": "code",
   "execution_count": 2,
   "id": "municipal-utilization",
   "metadata": {
    "ExecuteTime": {
     "end_time": "2021-03-10T05:29:51.881734Z",
     "start_time": "2021-03-10T05:29:51.546204Z"
    }
   },
   "outputs": [],
   "source": [
    "import numpy as np\n",
    "from sklearn.base import BaseEstimator\n",
    "import pandas as pd\n",
    "from sklearn.model_selection import train_test_split\n",
    "from sklearn.metrics import accuracy_score\n",
    "from sklearn.datasets import load_digits"
   ]
  },
  {
   "cell_type": "code",
   "execution_count": 5,
   "id": "agricultural-rough",
   "metadata": {
    "ExecuteTime": {
     "end_time": "2021-03-10T05:30:12.459181Z",
     "start_time": "2021-03-10T05:30:12.378155Z"
    }
   },
   "outputs": [
    {
     "name": "stdout",
     "output_type": "stream",
     "text": [
      "[[ 0.  0.  5. ...  0.  0.  0.]\n",
      " [ 0.  0.  0. ... 10.  0.  0.]\n",
      " [ 0.  0.  0. ... 16.  9.  0.]\n",
      " ...\n",
      " [ 0.  0.  1. ...  6.  0.  0.]\n",
      " [ 0.  0.  2. ... 12.  0.  0.]\n",
      " [ 0.  0. 10. ... 12.  1.  0.]]\n",
      "### digits.data.shape :  (1797, 64)\n"
     ]
    }
   ],
   "source": [
    "digits = load_digits()\n",
    "print(digits.data)\n",
    "print(\"### digits.data.shape : \", digits.data.shape)"
   ]
  },
  {
   "cell_type": "code",
   "execution_count": 6,
   "id": "professional-alignment",
   "metadata": {
    "ExecuteTime": {
     "end_time": "2021-03-10T05:35:53.301738Z",
     "start_time": "2021-03-10T05:35:53.290740Z"
    }
   },
   "outputs": [
    {
     "name": "stdout",
     "output_type": "stream",
     "text": [
      " 0 0 513 9 1 0 0\n",
      " 0 013151015 5 0\n",
      " 0 315 2 011 8 0\n",
      " 0 412 0 0 8 8 0\n",
      " 0 5 8 0 0 9 8 0\n",
      " 0 411 0 112 7 0\n",
      " 0 214 51012 0 0\n",
      " 0 0 61310 0 0 0\n"
     ]
    }
   ],
   "source": [
    "k = 0\n",
    "for i in digits.data[0] :\n",
    "    print(\"%2.0f\" % i, end='')\n",
    "    k += 1\n",
    "    if k % 8 == 0: print()"
   ]
  },
  {
   "cell_type": "code",
   "execution_count": 8,
   "id": "intimate-protein",
   "metadata": {
    "ExecuteTime": {
     "end_time": "2021-03-10T05:38:20.509467Z",
     "start_time": "2021-03-10T05:38:20.371781Z"
    }
   },
   "outputs": [
    {
     "name": "stdout",
     "output_type": "stream",
     "text": [
      "### digits.target.shape:  (1797,)\n",
      "012345678901234567890123456789095565098984177351002278201263373346664915095282001763217463139176843140536961754472822579548849089801234567890123456789012345678909556509898417735100227820126337334666491509528200176321731391768431405369617544728225548849089801234567890123456789012345678909556509898417735100227820126337334666491509528200176321746313917684314053696175447282257954884908930123456789012345678901234567890955650989841773510022782012633733466649150952820017632174631391768431405369617544728225795488490898012345678901234567890123456789095565098984177351002278201263373346664915095282001763217463139176843140536961754472822579548849089801234567890123456789012345678909556509898417735100227820126337334666491509528200176321746313917684314053696175447282257954884908980123456789012345678901234567890955650989841773510022782012633733466649150952820017632174631391768431405369617544728225795488490898123456789012345678901234567890955650989841773512782012633733466649150952820017632146313917684314053696175447282257954490898012345678901234567890123456789095565098984177351007820126337334666491509528200176321746313917684314053696175447282257954884908980123456789012345678901234567890955650989841773510022782012633733466649150952820017632174631391768431405369617544728225795488490898012345678901234567890123456789095565098984177351002278201263373346664915095282001763217463139176843140536961754472822579548849080123456789012345678901234567890955650989841773510022782012633733466649150952820017632174631391768431405369617544728225795488490898012345678901234569012345678909556509898417735100227820126337334666491509528017632174631391768431405369617544722579544908980123456789012345678901234567890955650989841773510022782012633733466649150952820017632174631391768431405369617544728225795488490898"
     ]
    }
   ],
   "source": [
    "\n",
    "print(\"### digits.target.shape: \", digits.target.shape)\n",
    "for i in digits.target :\n",
    "    print(i, end='')"
   ]
  },
  {
   "cell_type": "code",
   "execution_count": 13,
   "id": "normal-tampa",
   "metadata": {
    "ExecuteTime": {
     "end_time": "2021-03-10T05:48:38.427396Z",
     "start_time": "2021-03-10T05:48:38.411396Z"
    }
   },
   "outputs": [],
   "source": [
    "class MyFakeClassifier(BaseEstimator) : # BaseEstimator 상속\n",
    "    def fit(self, X, Y): # X_train, Y_train\n",
    "        pass # 내가만든 머신러닝 알고리즘의 fit은 하는일이 없습니다.\n",
    "    \n",
    "    def predict(self, X) : # X_test\n",
    "        \n",
    "        return np.zeros((len(X), 1), dtype=bool)\n",
    "    # 리턴값 -> pred, 추후 y_test와 비교되어 정확도 계산\n",
    "        "
   ]
  },
  {
   "cell_type": "code",
   "execution_count": 16,
   "id": "royal-melissa",
   "metadata": {
    "ExecuteTime": {
     "end_time": "2021-03-10T05:51:00.039625Z",
     "start_time": "2021-03-10T05:51:00.027616Z"
    }
   },
   "outputs": [],
   "source": [
    "# digits번호가 7이면 True, astype(int)로 1로 변환\n",
    "# 7이 아니면 False고 0으로 변환\n",
    "y = (digits.target == 7).astype(int)\n",
    "# for i in y :\n",
    "#     print(i, end='')"
   ]
  },
  {
   "cell_type": "code",
   "execution_count": 17,
   "id": "commercial-rental",
   "metadata": {
    "ExecuteTime": {
     "end_time": "2021-03-10T05:52:09.139569Z",
     "start_time": "2021-03-10T05:52:09.123569Z"
    }
   },
   "outputs": [],
   "source": [
    "X_train, X_test, Y_train, Y_test = train_test_split(digits.data, y, test_size=0.2)"
   ]
  },
  {
   "cell_type": "code",
   "execution_count": 21,
   "id": "certain-mitchell",
   "metadata": {
    "ExecuteTime": {
     "end_time": "2021-03-10T05:53:08.325694Z",
     "start_time": "2021-03-10T05:53:08.307692Z"
    }
   },
   "outputs": [],
   "source": [
    "fakeclf = MyFakeClassifier() # 객체 생성\n",
    "fakeclf.fit(X_train, Y_train) # 학습 : pass\n",
    "fakepred = fakeclf.predict(X_test) # 예측 : 모두 0으로 된 배열 리턴"
   ]
  },
  {
   "cell_type": "code",
   "execution_count": null,
   "id": "directed-extraction",
   "metadata": {},
   "outputs": [],
   "source": []
  }
 ],
 "metadata": {
  "hide_input": false,
  "kernelspec": {
   "display_name": "Python 3",
   "language": "python",
   "name": "python3"
  },
  "language_info": {
   "codemirror_mode": {
    "name": "ipython",
    "version": 3
   },
   "file_extension": ".py",
   "mimetype": "text/x-python",
   "name": "python",
   "nbconvert_exporter": "python",
   "pygments_lexer": "ipython3",
   "version": "3.8.5"
  },
  "toc": {
   "base_numbering": 1,
   "nav_menu": {},
   "number_sections": true,
   "sideBar": true,
   "skip_h1_title": false,
   "title_cell": "Table of Contents",
   "title_sidebar": "Contents",
   "toc_cell": false,
   "toc_position": {},
   "toc_section_display": true,
   "toc_window_display": true
  },
  "varInspector": {
   "cols": {
    "lenName": 16,
    "lenType": 16,
    "lenVar": 40
   },
   "kernels_config": {
    "python": {
     "delete_cmd_postfix": "",
     "delete_cmd_prefix": "del ",
     "library": "var_list.py",
     "varRefreshCmd": "print(var_dic_list())"
    },
    "r": {
     "delete_cmd_postfix": ") ",
     "delete_cmd_prefix": "rm(",
     "library": "var_list.r",
     "varRefreshCmd": "cat(var_dic_list()) "
    }
   },
   "types_to_exclude": [
    "module",
    "function",
    "builtin_function_or_method",
    "instance",
    "_Feature"
   ],
   "window_display": false
  }
 },
 "nbformat": 4,
 "nbformat_minor": 5
}
