{
 "cells": [
  {
   "cell_type": "code",
   "execution_count": 78,
   "id": "lucky-peace",
   "metadata": {
    "ExecuteTime": {
     "end_time": "2021-03-10T06:59:06.478263Z",
     "start_time": "2021-03-10T06:59:06.472262Z"
    }
   },
   "outputs": [],
   "source": [
    "import numpy as np\n",
    "from sklearn.base import BaseEstimator\n",
    "import pandas as pd\n",
    "from sklearn.model_selection import train_test_split\n",
    "from sklearn.metrics import accuracy_score\n",
    "from sklearn.datasets import load_digits"
   ]
  },
  {
   "cell_type": "code",
   "execution_count": 79,
   "id": "senior-cylinder",
   "metadata": {
    "ExecuteTime": {
     "end_time": "2021-03-10T06:59:06.574299Z",
     "start_time": "2021-03-10T06:59:06.480262Z"
    }
   },
   "outputs": [
    {
     "name": "stdout",
     "output_type": "stream",
     "text": [
      "[[ 0.  0.  5. ...  0.  0.  0.]\n",
      " [ 0.  0.  0. ... 10.  0.  0.]\n",
      " [ 0.  0.  0. ... 16.  9.  0.]\n",
      " ...\n",
      " [ 0.  0.  1. ...  6.  0.  0.]\n",
      " [ 0.  0.  2. ... 12.  0.  0.]\n",
      " [ 0.  0. 10. ... 12.  1.  0.]]\n",
      "### digits.data.shape :  (1797, 64)\n"
     ]
    }
   ],
   "source": [
    "digits = load_digits()\n",
    "print(digits.data)\n",
    "print(\"### digits.data.shape : \", digits.data.shape)"
   ]
  },
  {
   "cell_type": "code",
   "execution_count": 80,
   "id": "dried-accused",
   "metadata": {
    "ExecuteTime": {
     "end_time": "2021-03-10T06:59:06.589299Z",
     "start_time": "2021-03-10T06:59:06.576299Z"
    }
   },
   "outputs": [
    {
     "name": "stdout",
     "output_type": "stream",
     "text": [
      " 0 0 513 9 1 0 0\n",
      " 0 013151015 5 0\n",
      " 0 315 2 011 8 0\n",
      " 0 412 0 0 8 8 0\n",
      " 0 5 8 0 0 9 8 0\n",
      " 0 411 0 112 7 0\n",
      " 0 214 51012 0 0\n",
      " 0 0 61310 0 0 0\n"
     ]
    }
   ],
   "source": [
    "k = 0\n",
    "for i in digits.data[0] :\n",
    "    print(\"%2.0f\" % i, end='')\n",
    "    k += 1\n",
    "    if k % 8 == 0: print()"
   ]
  },
  {
   "cell_type": "code",
   "execution_count": 81,
   "id": "descending-stock",
   "metadata": {
    "ExecuteTime": {
     "end_time": "2021-03-10T06:59:06.762304Z",
     "start_time": "2021-03-10T06:59:06.592299Z"
    }
   },
   "outputs": [
    {
     "name": "stdout",
     "output_type": "stream",
     "text": [
      "### digits.target.shape:  (1797,)\n",
      "012345678901234567890123456789095565098984177351002278201263373346664915095282001763217463139176843140536961754472822579548849089801234567890123456789012345678909556509898417735100227820126337334666491509528200176321731391768431405369617544728225548849089801234567890123456789012345678909556509898417735100227820126337334666491509528200176321746313917684314053696175447282257954884908930123456789012345678901234567890955650989841773510022782012633733466649150952820017632174631391768431405369617544728225795488490898012345678901234567890123456789095565098984177351002278201263373346664915095282001763217463139176843140536961754472822579548849089801234567890123456789012345678909556509898417735100227820126337334666491509528200176321746313917684314053696175447282257954884908980123456789012345678901234567890955650989841773510022782012633733466649150952820017632174631391768431405369617544728225795488490898123456789012345678901234567890955650989841773512782012633733466649150952820017632146313917684314053696175447282257954490898012345678901234567890123456789095565098984177351007820126337334666491509528200176321746313917684314053696175447282257954884908980123456789012345678901234567890955650989841773510022782012633733466649150952820017632174631391768431405369617544728225795488490898012345678901234567890123456789095565098984177351002278201263373346664915095282001763217463139176843140536961754472822579548849080123456789012345678901234567890955650989841773510022782012633733466649150952820017632174631391768431405369617544728225795488490898012345678901234569012345678909556509898417735100227820126337334666491509528017632174631391768431405369617544722579544908980123456789012345678901234567890955650989841773510022782012633733466649150952820017632174631391768431405369617544728225795488490898"
     ]
    }
   ],
   "source": [
    "\n",
    "print(\"### digits.target.shape: \", digits.target.shape)\n",
    "for i in digits.target :\n",
    "    print(i, end='')"
   ]
  },
  {
   "cell_type": "code",
   "execution_count": 82,
   "id": "attempted-explorer",
   "metadata": {
    "ExecuteTime": {
     "end_time": "2021-03-10T06:59:06.778293Z",
     "start_time": "2021-03-10T06:59:06.764293Z"
    }
   },
   "outputs": [],
   "source": [
    "class MyFakeClassifier(BaseEstimator) : # BaseEstimator 상속\n",
    "    def fit(self, X, Y): # X_train, Y_train\n",
    "        pass # 내가만든 머신러닝 알고리즘의 fit은 하는일이 없습니다.\n",
    "    \n",
    "    def predict(self, X) : # X_test\n",
    "        \n",
    "        return np.zeros((len(X), 1), dtype=bool)\n",
    "    # 리턴값 -> pred, 추후 y_test와 비교되어 정확도 계산\n",
    "        "
   ]
  },
  {
   "cell_type": "code",
   "execution_count": 83,
   "id": "engaging-party",
   "metadata": {
    "ExecuteTime": {
     "end_time": "2021-03-10T06:59:06.794294Z",
     "start_time": "2021-03-10T06:59:06.780293Z"
    }
   },
   "outputs": [],
   "source": [
    "# digits번호가 7이면 True, astype(int)로 1로 변환\n",
    "# 7이 아니면 False고 0으로 변환\n",
    "y = (digits.target == 7).astype(int)\n",
    "# for i in y :\n",
    "#     print(i, end='')"
   ]
  },
  {
   "cell_type": "code",
   "execution_count": 84,
   "id": "split-highland",
   "metadata": {
    "ExecuteTime": {
     "end_time": "2021-03-10T06:59:06.810292Z",
     "start_time": "2021-03-10T06:59:06.796294Z"
    }
   },
   "outputs": [],
   "source": [
    "X_train, X_test, Y_train, Y_test = train_test_split(digits.data, y, test_size=0.2)"
   ]
  },
  {
   "cell_type": "code",
   "execution_count": 85,
   "id": "growing-rouge",
   "metadata": {
    "ExecuteTime": {
     "end_time": "2021-03-10T06:59:06.826291Z",
     "start_time": "2021-03-10T06:59:06.812293Z"
    }
   },
   "outputs": [],
   "source": [
    "fakeclf = MyFakeClassifier() # 객체 생성\n",
    "fakeclf.fit(X_train, Y_train) # 학습 : pass\n",
    "fakepred = fakeclf.predict(X_test) # 예측 : 모두 0으로 된 배열 리턴"
   ]
  },
  {
   "cell_type": "code",
   "execution_count": 86,
   "id": "lovely-chrome",
   "metadata": {
    "ExecuteTime": {
     "end_time": "2021-03-10T06:59:06.842292Z",
     "start_time": "2021-03-10T06:59:06.829293Z"
    }
   },
   "outputs": [
    {
     "name": "stdout",
     "output_type": "stream",
     "text": [
      "[[False]\n",
      " [False]\n",
      " [False]\n",
      " [False]\n",
      " [False]\n",
      " [False]\n",
      " [False]\n",
      " [False]\n",
      " [False]\n",
      " [False]\n",
      " [False]\n",
      " [False]\n",
      " [False]\n",
      " [False]\n",
      " [False]\n",
      " [False]\n",
      " [False]\n",
      " [False]\n",
      " [False]\n",
      " [False]\n",
      " [False]\n",
      " [False]\n",
      " [False]\n",
      " [False]\n",
      " [False]\n",
      " [False]\n",
      " [False]\n",
      " [False]\n",
      " [False]\n",
      " [False]\n",
      " [False]\n",
      " [False]\n",
      " [False]\n",
      " [False]\n",
      " [False]\n",
      " [False]\n",
      " [False]\n",
      " [False]\n",
      " [False]\n",
      " [False]\n",
      " [False]\n",
      " [False]\n",
      " [False]\n",
      " [False]\n",
      " [False]\n",
      " [False]\n",
      " [False]\n",
      " [False]\n",
      " [False]\n",
      " [False]\n",
      " [False]\n",
      " [False]\n",
      " [False]\n",
      " [False]\n",
      " [False]\n",
      " [False]\n",
      " [False]\n",
      " [False]\n",
      " [False]\n",
      " [False]\n",
      " [False]\n",
      " [False]\n",
      " [False]\n",
      " [False]\n",
      " [False]\n",
      " [False]\n",
      " [False]\n",
      " [False]\n",
      " [False]\n",
      " [False]\n",
      " [False]\n",
      " [False]\n",
      " [False]\n",
      " [False]\n",
      " [False]\n",
      " [False]\n",
      " [False]\n",
      " [False]\n",
      " [False]\n",
      " [False]\n",
      " [False]\n",
      " [False]\n",
      " [False]\n",
      " [False]\n",
      " [False]\n",
      " [False]\n",
      " [False]\n",
      " [False]\n",
      " [False]\n",
      " [False]\n",
      " [False]\n",
      " [False]\n",
      " [False]\n",
      " [False]\n",
      " [False]\n",
      " [False]\n",
      " [False]\n",
      " [False]\n",
      " [False]\n",
      " [False]\n",
      " [False]\n",
      " [False]\n",
      " [False]\n",
      " [False]\n",
      " [False]\n",
      " [False]\n",
      " [False]\n",
      " [False]\n",
      " [False]\n",
      " [False]\n",
      " [False]\n",
      " [False]\n",
      " [False]\n",
      " [False]\n",
      " [False]\n",
      " [False]\n",
      " [False]\n",
      " [False]\n",
      " [False]\n",
      " [False]\n",
      " [False]\n",
      " [False]\n",
      " [False]\n",
      " [False]\n",
      " [False]\n",
      " [False]\n",
      " [False]\n",
      " [False]\n",
      " [False]\n",
      " [False]\n",
      " [False]\n",
      " [False]\n",
      " [False]\n",
      " [False]\n",
      " [False]\n",
      " [False]\n",
      " [False]\n",
      " [False]\n",
      " [False]\n",
      " [False]\n",
      " [False]\n",
      " [False]\n",
      " [False]\n",
      " [False]\n",
      " [False]\n",
      " [False]\n",
      " [False]\n",
      " [False]\n",
      " [False]\n",
      " [False]\n",
      " [False]\n",
      " [False]\n",
      " [False]\n",
      " [False]\n",
      " [False]\n",
      " [False]\n",
      " [False]\n",
      " [False]\n",
      " [False]\n",
      " [False]\n",
      " [False]\n",
      " [False]\n",
      " [False]\n",
      " [False]\n",
      " [False]\n",
      " [False]\n",
      " [False]\n",
      " [False]\n",
      " [False]\n",
      " [False]\n",
      " [False]\n",
      " [False]\n",
      " [False]\n",
      " [False]\n",
      " [False]\n",
      " [False]\n",
      " [False]\n",
      " [False]\n",
      " [False]\n",
      " [False]\n",
      " [False]\n",
      " [False]\n",
      " [False]\n",
      " [False]\n",
      " [False]\n",
      " [False]\n",
      " [False]\n",
      " [False]\n",
      " [False]\n",
      " [False]\n",
      " [False]\n",
      " [False]\n",
      " [False]\n",
      " [False]\n",
      " [False]\n",
      " [False]\n",
      " [False]\n",
      " [False]\n",
      " [False]\n",
      " [False]\n",
      " [False]\n",
      " [False]\n",
      " [False]\n",
      " [False]\n",
      " [False]\n",
      " [False]\n",
      " [False]\n",
      " [False]\n",
      " [False]\n",
      " [False]\n",
      " [False]\n",
      " [False]\n",
      " [False]\n",
      " [False]\n",
      " [False]\n",
      " [False]\n",
      " [False]\n",
      " [False]\n",
      " [False]\n",
      " [False]\n",
      " [False]\n",
      " [False]\n",
      " [False]\n",
      " [False]\n",
      " [False]\n",
      " [False]\n",
      " [False]\n",
      " [False]\n",
      " [False]\n",
      " [False]\n",
      " [False]\n",
      " [False]\n",
      " [False]\n",
      " [False]\n",
      " [False]\n",
      " [False]\n",
      " [False]\n",
      " [False]\n",
      " [False]\n",
      " [False]\n",
      " [False]\n",
      " [False]\n",
      " [False]\n",
      " [False]\n",
      " [False]\n",
      " [False]\n",
      " [False]\n",
      " [False]\n",
      " [False]\n",
      " [False]\n",
      " [False]\n",
      " [False]\n",
      " [False]\n",
      " [False]\n",
      " [False]\n",
      " [False]\n",
      " [False]\n",
      " [False]\n",
      " [False]\n",
      " [False]\n",
      " [False]\n",
      " [False]\n",
      " [False]\n",
      " [False]\n",
      " [False]\n",
      " [False]\n",
      " [False]\n",
      " [False]\n",
      " [False]\n",
      " [False]\n",
      " [False]\n",
      " [False]\n",
      " [False]\n",
      " [False]\n",
      " [False]\n",
      " [False]\n",
      " [False]\n",
      " [False]\n",
      " [False]\n",
      " [False]\n",
      " [False]\n",
      " [False]\n",
      " [False]\n",
      " [False]\n",
      " [False]\n",
      " [False]\n",
      " [False]\n",
      " [False]\n",
      " [False]\n",
      " [False]\n",
      " [False]\n",
      " [False]\n",
      " [False]\n",
      " [False]\n",
      " [False]\n",
      " [False]\n",
      " [False]\n",
      " [False]\n",
      " [False]\n",
      " [False]\n",
      " [False]\n",
      " [False]\n",
      " [False]\n",
      " [False]\n",
      " [False]\n",
      " [False]\n",
      " [False]\n",
      " [False]\n",
      " [False]\n",
      " [False]\n",
      " [False]\n",
      " [False]\n",
      " [False]\n",
      " [False]\n",
      " [False]\n",
      " [False]\n",
      " [False]\n",
      " [False]\n",
      " [False]\n",
      " [False]\n",
      " [False]\n",
      " [False]\n",
      " [False]\n",
      " [False]\n",
      " [False]\n",
      " [False]\n",
      " [False]\n",
      " [False]\n",
      " [False]\n",
      " [False]\n",
      " [False]\n",
      " [False]\n",
      " [False]\n",
      " [False]\n",
      " [False]\n",
      " [False]\n",
      " [False]\n",
      " [False]\n",
      " [False]\n",
      " [False]\n",
      " [False]\n",
      " [False]\n",
      " [False]\n",
      " [False]\n",
      " [False]\n",
      " [False]\n",
      " [False]\n",
      " [False]\n",
      " [False]\n",
      " [False]\n",
      " [False]\n",
      " [False]\n",
      " [False]\n",
      " [False]\n",
      " [False]\n",
      " [False]\n",
      " [False]\n",
      " [False]\n",
      " [False]\n",
      " [False]]\n"
     ]
    }
   ],
   "source": [
    "print(fakepred)"
   ]
  },
  {
   "cell_type": "code",
   "execution_count": 87,
   "id": "blocked-immune",
   "metadata": {
    "ExecuteTime": {
     "end_time": "2021-03-10T06:59:06.858314Z",
     "start_time": "2021-03-10T06:59:06.845292Z"
    }
   },
   "outputs": [
    {
     "name": "stdout",
     "output_type": "stream",
     "text": [
      "모든 예측을 0으로 하여도 정확도는 0.875\n"
     ]
    }
   ],
   "source": [
    "# MyFakeClassifier의 predict 결과는 모두 0\n",
    "# Y_test값은 실제값이 7일 때만 1, 나머지 모두 0\n",
    "acc = accuracy_score(Y_test, fakepred)\n",
    "print('모든 예측을 0으로 하여도 정확도는 {:.3f}'.format(acc))"
   ]
  },
  {
   "cell_type": "markdown",
   "id": "creative-basis",
   "metadata": {},
   "source": [
    "# Confusion Matrix(오차행렬)"
   ]
  },
  {
   "cell_type": "markdown",
   "id": "german-radio",
   "metadata": {
    "ExecuteTime": {
     "end_time": "2021-03-10T05:58:29.553012Z",
     "start_time": "2021-03-10T05:58:29.533005Z"
    }
   },
   "source": [
    "> 기계 학습 분야의 통계적 분류 같은 문제에서 컨퓨전 행렬이란 지도 학습으로 훈련된 분류 알고리즘의 성능을 시각화 할 수있는 표이다.\n",
    "행렬의 각 행은 예측 된 클래스의 인스턴스를 나타내며 각 열은 실제 클래스의 인스턴스를 나타낸다 (또는 그 반대).컨퓨전이라는 이름은 시스템이 두 개의 클래스를 얼마나 헷갈려 하는지를 쉽게 알 수 있다는 사실에서 유래되었다."
   ]
  },
  {
   "cell_type": "code",
   "execution_count": 88,
   "id": "multiple-flooring",
   "metadata": {
    "ExecuteTime": {
     "end_time": "2021-03-10T06:59:06.874290Z",
     "start_time": "2021-03-10T06:59:06.860292Z"
    }
   },
   "outputs": [
    {
     "data": {
      "text/plain": [
       "array([[315,   0],\n",
       "       [ 45,   0]], dtype=int64)"
      ]
     },
     "execution_count": 88,
     "metadata": {},
     "output_type": "execute_result"
    }
   ],
   "source": [
    "from sklearn.metrics import confusion_matrix\n",
    "\n",
    "# 앞절의 예측 결과인 fakepred와 실제 결과인 y_test의 Confusion Matrix 출력\n",
    "confusion_matrix(Y_test, fakepred)"
   ]
  },
  {
   "cell_type": "code",
   "execution_count": 89,
   "id": "worldwide-development",
   "metadata": {
    "ExecuteTime": {
     "end_time": "2021-03-10T06:59:06.890308Z",
     "start_time": "2021-03-10T06:59:06.876291Z"
    }
   },
   "outputs": [
    {
     "name": "stdout",
     "output_type": "stream",
     "text": [
      "정밀도 :  0.0\n",
      "재현율 :  0.0\n"
     ]
    },
    {
     "name": "stderr",
     "output_type": "stream",
     "text": [
      "c:\\users\\java01\\appdata\\local\\programs\\python\\python38\\lib\\site-packages\\sklearn\\metrics\\_classification.py:1245: UndefinedMetricWarning: Precision is ill-defined and being set to 0.0 due to no predicted samples. Use `zero_division` parameter to control this behavior.\n",
      "  _warn_prf(average, modifier, msg_start, len(result))\n"
     ]
    }
   ],
   "source": [
    "from sklearn.metrics import accuracy_score, precision_score, recall_score\n",
    "print(\"정밀도 : \", precision_score(Y_test, fakepred))\n",
    "print(\"재현율 : \", recall_score(Y_test, fakepred))\n"
   ]
  },
  {
   "cell_type": "code",
   "execution_count": 90,
   "id": "spectacular-reader",
   "metadata": {
    "ExecuteTime": {
     "end_time": "2021-03-10T06:59:06.906289Z",
     "start_time": "2021-03-10T06:59:06.892291Z"
    }
   },
   "outputs": [],
   "source": [
    "# y_test값과 pred값을 전달인수로 넣어서 정확도, 오차행렬, 정밀도, 재현율을 계산하고 출력하는 함수 제작"
   ]
  },
  {
   "cell_type": "code",
   "execution_count": 91,
   "id": "brief-clearing",
   "metadata": {
    "ExecuteTime": {
     "end_time": "2021-03-10T06:59:06.922299Z",
     "start_time": "2021-03-10T06:59:06.909289Z"
    }
   },
   "outputs": [],
   "source": [
    "def get_clf_eval(y_test, pred) :\n",
    "    confusion = confusion_matrix(y_test, pred)\n",
    "    accuracy = accuracy_score(y_test, pred)\n",
    "    precision = precision_score(y_test, pred)\n",
    "    recall = recall_score(y_test, pred)\n",
    "    \n",
    "    print(\"오차행렬\")\n",
    "    print(confusion)\n",
    "    print('정확도: {0:.4f}, 정밀도: {1:.4f}, 재현율: {2:.4f}'.format(accuracy, precision, recall))"
   ]
  },
  {
   "cell_type": "code",
   "execution_count": 92,
   "id": "finite-photography",
   "metadata": {
    "ExecuteTime": {
     "end_time": "2021-03-10T06:59:06.938290Z",
     "start_time": "2021-03-10T06:59:06.925288Z"
    }
   },
   "outputs": [],
   "source": [
    "# 원본 데이터를 재로딩, 데이터셋(피쳐와 타겟)분할, 데이터 가공\n",
    "from sklearn.ensemble import RandomForestClassifier\n",
    "from sklearn.tree import DecisionTreeClassifier\n",
    "from sklearn.linear_model import LogisticRegression\n",
    "from sklearn.model_selection import train_test_split\n",
    "\n",
    "from sklearn.preprocessing import LabelEncoder"
   ]
  },
  {
   "cell_type": "code",
   "execution_count": 93,
   "id": "abroad-killer",
   "metadata": {
    "ExecuteTime": {
     "end_time": "2021-03-10T06:59:06.954304Z",
     "start_time": "2021-03-10T06:59:06.941290Z"
    }
   },
   "outputs": [],
   "source": [
    "def transeform_feature(df) :\n",
    "    # Missing Data\n",
    "    df['Age'].fillna(df['Age'].mean(), inplace=True)\n",
    "    df['Cabin'].fillna('N', inplace=True)\n",
    "    df['Embarked'].fillna('N', inplace=True)\n",
    "    df['Fare'].fillna(0, inplace=True)\n",
    "    \n",
    "    # Drop Column\n",
    "    df.drop(['PassengerId', 'Name', 'Ticket'], axis=1, inplace=True)\n",
    "    \n",
    "    # Encoding\n",
    "    df['Cabin'] = df['Cabin'].str[:1]\n",
    "    features = ['Cabin', 'Sex', 'Embarked']\n",
    "    for feature in features :\n",
    "        le = LabelEncoder()\n",
    "        le = le.fit(df[feature])\n",
    "        df[feature] = le.transform(df[feature])\n",
    "    return df"
   ]
  },
  {
   "cell_type": "code",
   "execution_count": 94,
   "id": "executive-coordination",
   "metadata": {
    "ExecuteTime": {
     "end_time": "2021-03-10T06:59:06.985891Z",
     "start_time": "2021-03-10T06:59:06.957292Z"
    }
   },
   "outputs": [],
   "source": [
    "titanic_df = pd.read_csv('../../02_DataAnalysis/titanic_train.csv')\n",
    "targetColumn = \"Survived\"\n",
    "Y_titanic_df = titanic_df[targetColumn]\n",
    "X_titanic_df = titanic_df.drop(targetColumn, axis=1)\n",
    "X_titanic_df = transeform_feature(X_titanic_df)\n",
    "\n",
    "X_train, X_test, Y_train, Y_test = train_test_split(X_titanic_df, Y_titanic_df, test_size=0.2, random_state=11)"
   ]
  },
  {
   "cell_type": "code",
   "execution_count": 95,
   "id": "normal-separate",
   "metadata": {
    "ExecuteTime": {
     "end_time": "2021-03-10T06:59:07.159904Z",
     "start_time": "2021-03-10T06:59:06.987893Z"
    }
   },
   "outputs": [
    {
     "name": "stdout",
     "output_type": "stream",
     "text": [
      "오차행렬\n",
      "[[106  12]\n",
      " [ 15  46]]\n",
      "정확도: 0.8492, 정밀도: 0.7931, 재현율: 0.7541\n"
     ]
    }
   ],
   "source": [
    "rfc = RandomForestClassifier()\n",
    "rfc.fit(X_train, Y_train)\n",
    "pred = rfc.predict(X_test)\n",
    "get_clf_eval(Y_test, pred)\n",
    "# 정밀도와 재현율은 그 둘의 값중 하나가 높아지면 하나가 낮아지는 상관관계에 있기때문에 비슷한 값이 구성되었을 때 높은 성능이라고 평가합니다."
   ]
  },
  {
   "cell_type": "code",
   "execution_count": 96,
   "id": "front-cable",
   "metadata": {
    "ExecuteTime": {
     "end_time": "2021-03-10T06:59:07.239899Z",
     "start_time": "2021-03-10T06:59:07.193895Z"
    }
   },
   "outputs": [
    {
     "name": "stdout",
     "output_type": "stream",
     "text": [
      "오차행렬\n",
      "[[99 19]\n",
      " [17 44]]\n",
      "정확도: 0.7989, 정밀도: 0.6984, 재현율: 0.7213\n"
     ]
    }
   ],
   "source": [
    "dtc = DecisionTreeClassifier()\n",
    "dtc.fit(X_train, Y_train)\n",
    "pred = dtc.predict(X_test)\n",
    "get_clf_eval(Y_test, pred)\n",
    "# 정밀도와 재현율은 그 둘의 값중 하나가 높아지면 하나가 낮아지는 상관관계에 있기때문에 비슷한 값이 구성되었을 때 높은 성능이라고 평가합니다."
   ]
  },
  {
   "cell_type": "code",
   "execution_count": 97,
   "id": "verbal-cylinder",
   "metadata": {
    "ExecuteTime": {
     "end_time": "2021-03-10T06:59:07.239899Z",
     "start_time": "2021-03-10T06:59:07.193895Z"
    }
   },
   "outputs": [
    {
     "name": "stdout",
     "output_type": "stream",
     "text": [
      "오차행렬\n",
      "[[104  14]\n",
      " [ 13  48]]\n",
      "정확도: 0.8492, 정밀도: 0.7742, 재현율: 0.7869\n"
     ]
    },
    {
     "name": "stderr",
     "output_type": "stream",
     "text": [
      "c:\\users\\java01\\appdata\\local\\programs\\python\\python38\\lib\\site-packages\\sklearn\\linear_model\\_logistic.py:763: ConvergenceWarning: lbfgs failed to converge (status=1):\n",
      "STOP: TOTAL NO. of ITERATIONS REACHED LIMIT.\n",
      "\n",
      "Increase the number of iterations (max_iter) or scale the data as shown in:\n",
      "    https://scikit-learn.org/stable/modules/preprocessing.html\n",
      "Please also refer to the documentation for alternative solver options:\n",
      "    https://scikit-learn.org/stable/modules/linear_model.html#logistic-regression\n",
      "  n_iter_i = _check_optimize_result(\n"
     ]
    }
   ],
   "source": [
    "lr = LogisticRegression()\n",
    "lr.fit(X_train, Y_train)\n",
    "pred = lr.predict(X_test)\n",
    "get_clf_eval(Y_test, pred)\n",
    "# 정밀도와 재현율은 그 둘의 값중 하나가 높아지면 하나가 낮아지는 상관관계에 있기때문에 비슷한 값이 구성되었을 때 높은 성능이라고 평가합니다."
   ]
  },
  {
   "cell_type": "markdown",
   "id": "spread-outline",
   "metadata": {},
   "source": [
    "## predict_proba() 메소드 확인\n",
    "- predict_prova : 0과 1을 선택하는 기준을 확률로 표시한 배열"
   ]
  },
  {
   "cell_type": "code",
   "execution_count": 98,
   "id": "every-tobacco",
   "metadata": {
    "ExecuteTime": {
     "end_time": "2021-03-10T06:59:07.255891Z",
     "start_time": "2021-03-10T06:59:07.240892Z"
    }
   },
   "outputs": [
    {
     "name": "stdout",
     "output_type": "stream",
     "text": [
      "pred_proba array에서 앞 3개만 샘플로 추출 : \n",
      " [[0.46175211 0.53824789]\n",
      " [0.87863924 0.12136076]\n",
      " [0.87717092 0.12282908]]\n"
     ]
    }
   ],
   "source": [
    "pred_proba = lr.predict_proba(X_test)\n",
    "print('pred_proba array에서 앞 3개만 샘플로 추출 : \\n', pred_proba[:3])"
   ]
  },
  {
   "cell_type": "code",
   "execution_count": 99,
   "id": "polish-citizen",
   "metadata": {
    "ExecuteTime": {
     "end_time": "2021-03-10T06:59:07.271891Z",
     "start_time": "2021-03-10T06:59:07.258893Z"
    }
   },
   "outputs": [],
   "source": [
    "# Binarizer : 임계값 변형 도구\n",
    "from sklearn.preprocessing import Binarizer"
   ]
  },
  {
   "cell_type": "code",
   "execution_count": 100,
   "id": "decent-programmer",
   "metadata": {
    "ExecuteTime": {
     "end_time": "2021-03-10T06:59:07.287890Z",
     "start_time": "2021-03-10T06:59:07.273891Z"
    }
   },
   "outputs": [
    {
     "name": "stdout",
     "output_type": "stream",
     "text": [
      "[[0. 0. 1.]\n",
      " [1. 0. 0.]\n",
      " [0. 0. 1.]]\n"
     ]
    }
   ],
   "source": [
    "# threshold : Binarizer의 임계값의 기준이 되는 값을 저장한 변수로 활용.\n",
    "# 이값보다 작으면 0을 크면 1을 반환\n",
    "X = [\n",
    "    [1, -1, 2],\n",
    "    [2, 0, 0],\n",
    "    [0, 1.1, 1.2]\n",
    "]\n",
    "binarizer = Binarizer(threshold=1.1)\n",
    "print(binarizer.fit_transform(X))"
   ]
  },
  {
   "cell_type": "markdown",
   "id": "personal-staff",
   "metadata": {},
   "source": [
    "## 분류 결정 임계값 0.5기반에서 Binarizer를 이용하여 예측값 변환"
   ]
  },
  {
   "cell_type": "code",
   "execution_count": 101,
   "id": "generous-sussex",
   "metadata": {
    "ExecuteTime": {
     "end_time": "2021-03-10T06:59:07.303891Z",
     "start_time": "2021-03-10T06:59:07.289891Z"
    }
   },
   "outputs": [
    {
     "name": "stdout",
     "output_type": "stream",
     "text": [
      "[[0.53824789]\n",
      " [0.12136076]\n",
      " [0.12282908]\n",
      " [0.11730706]\n",
      " [0.14471027]\n",
      " [0.11774233]\n",
      " [0.11161228]\n",
      " [0.79117088]\n",
      " [0.21709221]\n",
      " [0.6306465 ]\n",
      " [0.10017236]\n",
      " [0.12502264]\n",
      " [0.12283511]\n",
      " [0.11165858]\n",
      " [0.56352896]\n",
      " [0.14106496]\n",
      " [0.09626215]\n",
      " [0.26655139]\n",
      " [0.27520975]\n",
      " [0.82820508]\n",
      " [0.24636982]\n",
      " [0.38070654]\n",
      " [0.14543006]\n",
      " [0.18514805]\n",
      " [0.11203246]\n",
      " [0.23445307]\n",
      " [0.14030802]\n",
      " [0.07414516]\n",
      " [0.28037989]\n",
      " [0.30448184]\n",
      " [0.94725314]\n",
      " [0.81744533]\n",
      " [0.12677781]\n",
      " [0.82606966]\n",
      " [0.39929127]\n",
      " [0.23445307]\n",
      " [0.07239623]\n",
      " [0.61121278]\n",
      " [0.05293635]\n",
      " [0.10394781]\n",
      " [0.35050439]\n",
      " [0.08335452]\n",
      " [0.82184592]\n",
      " [0.70772506]\n",
      " [0.63056078]\n",
      " [0.6305772 ]\n",
      " [0.91891158]\n",
      " [0.35872277]\n",
      " [0.94885769]\n",
      " [0.11206729]\n",
      " [0.59301267]\n",
      " [0.11165858]\n",
      " [0.13283413]\n",
      " [0.72520926]\n",
      " [0.30930873]\n",
      " [0.19696528]\n",
      " [0.22627228]\n",
      " [0.12283013]\n",
      " [0.15425586]\n",
      " [0.43218691]\n",
      " [0.28008564]\n",
      " [0.10077886]\n",
      " [0.54554871]\n",
      " [0.51359943]\n",
      " [0.44421615]\n",
      " [0.09462614]\n",
      " [0.66696692]\n",
      " [0.59430053]\n",
      " [0.95184001]\n",
      " [0.14806889]\n",
      " [0.12891671]\n",
      " [0.16850646]\n",
      " [0.10395007]\n",
      " [0.9479995 ]\n",
      " [0.19860132]\n",
      " [0.11165858]\n",
      " [0.34807784]\n",
      " [0.18363793]\n",
      " [0.83564399]\n",
      " [0.12283013]\n",
      " [0.79492515]\n",
      " [0.6452204 ]\n",
      " [0.93097705]\n",
      " [0.13310088]\n",
      " [0.94898036]\n",
      " [0.95041784]\n",
      " [0.15341146]\n",
      " [0.12547606]\n",
      " [0.87445816]\n",
      " [0.11165858]\n",
      " [0.11165858]\n",
      " [0.23445307]\n",
      " [0.232227  ]\n",
      " [0.11165858]\n",
      " [0.6305772 ]\n",
      " [0.07573906]\n",
      " [0.92883579]\n",
      " [0.10074608]\n",
      " [0.50559004]\n",
      " [0.9650902 ]\n",
      " [0.5017425 ]\n",
      " [0.09451319]\n",
      " [0.94803128]\n",
      " [0.09757055]\n",
      " [0.53011318]\n",
      " [0.12841466]\n",
      " [0.1411124 ]\n",
      " [0.14806859]\n",
      " [0.44943522]\n",
      " [0.10773598]\n",
      " [0.11701687]\n",
      " [0.10892335]\n",
      " [0.40328333]\n",
      " [0.65378607]\n",
      " [0.11203246]\n",
      " [0.07102699]\n",
      " [0.1243399 ]\n",
      " [0.19836924]\n",
      " [0.9259365 ]\n",
      " [0.06868262]\n",
      " [0.11164965]\n",
      " [0.13068136]\n",
      " [0.06363514]\n",
      " [0.32179158]\n",
      " [0.01160772]\n",
      " [0.11164965]\n",
      " [0.1162389 ]\n",
      " [0.31660413]\n",
      " [0.67782678]\n",
      " [0.32155052]\n",
      " [0.9650902 ]\n",
      " [0.45377068]\n",
      " [0.73525391]\n",
      " [0.44256386]\n",
      " [0.57004712]\n",
      " [0.35074095]\n",
      " [0.74840819]\n",
      " [0.1862258 ]\n",
      " [0.10397544]\n",
      " [0.80333037]\n",
      " [0.90889479]\n",
      " [0.14806859]\n",
      " [0.11803438]\n",
      " [0.1012163 ]\n",
      " [0.09165907]\n",
      " [0.66771448]\n",
      " [0.07569363]\n",
      " [0.23361605]\n",
      " [0.91817095]\n",
      " [0.16814009]\n",
      " [0.42847831]\n",
      " [0.63158136]\n",
      " [0.63679615]\n",
      " [0.12277408]\n",
      " [0.77776787]\n",
      " [0.88094245]\n",
      " [0.48750572]\n",
      " [0.1329989 ]\n",
      " [0.75156419]\n",
      " [0.69054558]\n",
      " [0.14982642]\n",
      " [0.79288478]\n",
      " [0.09129555]\n",
      " [0.66689887]\n",
      " [0.3803036 ]\n",
      " [0.65147146]\n",
      " [0.88414766]\n",
      " [0.30892803]\n",
      " [0.09167851]\n",
      " [0.89305329]\n",
      " [0.11161228]\n",
      " [0.85429274]\n",
      " [0.25042401]\n",
      " [0.24013692]\n",
      " [0.40073604]\n",
      " [0.06232682]\n",
      " [0.14111947]\n",
      " [0.54497719]\n",
      " [0.62683822]]\n",
      "오차행렬\n",
      "[[104  14]\n",
      " [ 13  48]]\n",
      "정확도: 0.8492, 정밀도: 0.7742, 재현율: 0.7869\n"
     ]
    }
   ],
   "source": [
    "pred_proba = lr.predict_proba(X_test)\n",
    "pred_proba_1 = pred_proba[:, 1].reshape(-1, 1)\n",
    "print(pred_proba_1)\n",
    "binarizer = Binarizer(threshold=0.5)\n",
    "binarizer.fit(pred_proba_1)\n",
    "custom_predict = binarizer.transform(pred_proba_1)\n",
    "get_clf_eval(Y_test, custom_predict)"
   ]
  },
  {
   "cell_type": "code",
   "execution_count": 102,
   "id": "fantastic-deposit",
   "metadata": {
    "ExecuteTime": {
     "end_time": "2021-03-10T06:59:07.319890Z",
     "start_time": "2021-03-10T06:59:07.305890Z"
    }
   },
   "outputs": [
    {
     "name": "stdout",
     "output_type": "stream",
     "text": [
      "오차행렬\n",
      "[[112   6]\n",
      " [ 16  45]]\n",
      "정확도: 0.8771, 정밀도: 0.8824, 재현율: 0.7377\n"
     ]
    }
   ],
   "source": [
    "pred_proba_1 = pred_proba[:, 1].reshape(-1, 1)\n",
    "binarizer = Binarizer(threshold=0.6).fit(pred_proba_1)\n",
    "custom_predict = binarizer.transform(pred_proba_1)\n",
    "get_clf_eval(Y_test, custom_predict)"
   ]
  },
  {
   "cell_type": "code",
   "execution_count": null,
   "id": "mounted-jones",
   "metadata": {},
   "outputs": [],
   "source": []
  }
 ],
 "metadata": {
  "hide_input": false,
  "kernelspec": {
   "display_name": "Python 3",
   "language": "python",
   "name": "python3"
  },
  "language_info": {
   "codemirror_mode": {
    "name": "ipython",
    "version": 3
   },
   "file_extension": ".py",
   "mimetype": "text/x-python",
   "name": "python",
   "nbconvert_exporter": "python",
   "pygments_lexer": "ipython3",
   "version": "3.8.5"
  },
  "toc": {
   "base_numbering": 1,
   "nav_menu": {},
   "number_sections": true,
   "sideBar": true,
   "skip_h1_title": false,
   "title_cell": "Table of Contents",
   "title_sidebar": "Contents",
   "toc_cell": false,
   "toc_position": {},
   "toc_section_display": true,
   "toc_window_display": true
  },
  "varInspector": {
   "cols": {
    "lenName": 16,
    "lenType": 16,
    "lenVar": 40
   },
   "kernels_config": {
    "python": {
     "delete_cmd_postfix": "",
     "delete_cmd_prefix": "del ",
     "library": "var_list.py",
     "varRefreshCmd": "print(var_dic_list())"
    },
    "r": {
     "delete_cmd_postfix": ") ",
     "delete_cmd_prefix": "rm(",
     "library": "var_list.r",
     "varRefreshCmd": "cat(var_dic_list()) "
    }
   },
   "types_to_exclude": [
    "module",
    "function",
    "builtin_function_or_method",
    "instance",
    "_Feature"
   ],
   "window_display": false
  }
 },
 "nbformat": 4,
 "nbformat_minor": 5
}
