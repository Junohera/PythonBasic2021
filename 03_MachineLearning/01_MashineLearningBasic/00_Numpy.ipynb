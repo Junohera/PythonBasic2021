{
 "cells": [
  {
   "cell_type": "markdown",
   "id": "toxic-chance",
   "metadata": {},
   "source": [
    "# Numpy"
   ]
  },
  {
   "cell_type": "markdown",
   "id": "integrated-dollar",
   "metadata": {},
   "source": [
    "## ndarray"
   ]
  },
  {
   "cell_type": "markdown",
   "id": "collective-apple",
   "metadata": {},
   "source": [
    "- 판다스가 데이터프레임을 기반으로한 데이터가공과 분석에 관한 모듈이라면, 넘파이는 <span class=\"burk\">__수학적 연산 및 처리도구__</span>들을 제공하는 모듈입니다.\n",
    "- 판다스와 넘파이는 데이터분석과 머신러닝분야에서 없어서는 안될 중요모듈입니다."
   ]
  },
  {
   "cell_type": "markdown",
   "id": "pursuant-physics",
   "metadata": {},
   "source": [
    "### import"
   ]
  },
  {
   "cell_type": "code",
   "execution_count": 176,
   "id": "advisory-tackle",
   "metadata": {
    "ExecuteTime": {
     "end_time": "2021-03-09T04:24:37.036779Z",
     "start_time": "2021-03-09T04:24:37.021780Z"
    }
   },
   "outputs": [],
   "source": [
    "import numpy as np"
   ]
  },
  {
   "cell_type": "markdown",
   "id": "executed-router",
   "metadata": {},
   "source": [
    "### 일반적인 리스트"
   ]
  },
  {
   "cell_type": "code",
   "execution_count": 177,
   "id": "optimum-philip",
   "metadata": {
    "ExecuteTime": {
     "end_time": "2021-03-09T04:24:37.052781Z",
     "start_time": "2021-03-09T04:24:37.038779Z"
    }
   },
   "outputs": [
    {
     "name": "stdout",
     "output_type": "stream",
     "text": [
      "list1 :  [1, 2, 3]\n",
      "list1 type :  <class 'list'>\n"
     ]
    }
   ],
   "source": [
    "list1 = [1, 2, 3]\n",
    "print(\"list1 : \", list1)\n",
    "print(\"list1 type : \", type(list1))"
   ]
  },
  {
   "cell_type": "markdown",
   "id": "pleasant-round",
   "metadata": {},
   "source": [
    "### convert list -> ndarray"
   ]
  },
  {
   "cell_type": "code",
   "execution_count": 178,
   "id": "stuffed-conviction",
   "metadata": {
    "ExecuteTime": {
     "end_time": "2021-03-09T04:24:37.068788Z",
     "start_time": "2021-03-09T04:24:37.054781Z"
    }
   },
   "outputs": [
    {
     "name": "stdout",
     "output_type": "stream",
     "text": [
      "array1 :  [1 2 3]\n",
      "array1 type :  <class 'numpy.ndarray'>\n"
     ]
    }
   ],
   "source": [
    "array1 = np.array(list1)\n",
    "print(\"array1 : \", array1)\n",
    "print(\"array1 type : \", type(array1))"
   ]
  },
  {
   "cell_type": "markdown",
   "id": "cooked-minister",
   "metadata": {},
   "source": [
    "### dimension"
   ]
  },
  {
   "cell_type": "markdown",
   "id": "colonial-policy",
   "metadata": {},
   "source": [
    "#### 1차원"
   ]
  },
  {
   "cell_type": "code",
   "execution_count": 179,
   "id": "suspended-wright",
   "metadata": {
    "ExecuteTime": {
     "end_time": "2021-03-09T04:24:37.084788Z",
     "start_time": "2021-03-09T04:24:37.070778Z"
    }
   },
   "outputs": [
    {
     "name": "stdout",
     "output_type": "stream",
     "text": [
      "[1 2 3]\n",
      "array1 :  <class 'numpy.ndarray'>\n",
      "array1 array 형태 : (3,)\n"
     ]
    }
   ],
   "source": [
    "array1 = np.array(\n",
    "    [1, 2, 3]\n",
    ")\n",
    "print(array1)\n",
    "print('array1 : ', type(array1))\n",
    "print('array1 array 형태 :', array1.shape)\n",
    "# shape : 행의 갯수와 열의 갯수를 표현해주는 ndarray 속성\n",
    "# 현재는 1차원 배열을 사용하고 있으므로, 열의 갯수는 공란이 표시"
   ]
  },
  {
   "cell_type": "markdown",
   "id": "passing-azerbaijan",
   "metadata": {},
   "source": [
    "#### 2차원"
   ]
  },
  {
   "cell_type": "code",
   "execution_count": 180,
   "id": "substantial-myrtle",
   "metadata": {
    "ExecuteTime": {
     "end_time": "2021-03-09T04:24:37.100777Z",
     "start_time": "2021-03-09T04:24:37.086778Z"
    }
   },
   "outputs": [
    {
     "name": "stdout",
     "output_type": "stream",
     "text": [
      "[[1 2 3]\n",
      " [2 3 4]]\n",
      "array2 :  <class 'numpy.ndarray'>\n",
      "array2 array 형태 : (2, 3)\n"
     ]
    }
   ],
   "source": [
    "array2 = np.array(\n",
    "    [\n",
    "        [1, 2, 3], \n",
    "        [2, 3, 4]\n",
    "    ]\n",
    ")\n",
    "print(array2)\n",
    "print('array2 : ', type(array2))\n",
    "print('array2 array 형태 :', array2.shape)"
   ]
  },
  {
   "cell_type": "code",
   "execution_count": 181,
   "id": "velvet-cooper",
   "metadata": {
    "ExecuteTime": {
     "end_time": "2021-03-09T04:24:37.116776Z",
     "start_time": "2021-03-09T04:24:37.102778Z"
    }
   },
   "outputs": [
    {
     "name": "stdout",
     "output_type": "stream",
     "text": [
      "[[1 2 3]]\n",
      "array3 :  <class 'numpy.ndarray'>\n",
      "array3 array 형태 : (1, 3)\n"
     ]
    }
   ],
   "source": [
    "array3 = np.array(\n",
    "    [\n",
    "        [1, 2, 3], \n",
    "    ]\n",
    ")\n",
    "print(array3)\n",
    "print('array3 : ', type(array3))\n",
    "print('array3 array 형태 :', array3.shape)"
   ]
  },
  {
   "cell_type": "code",
   "execution_count": 182,
   "id": "based-patio",
   "metadata": {
    "ExecuteTime": {
     "end_time": "2021-03-09T04:24:37.132778Z",
     "start_time": "2021-03-09T04:24:37.118777Z"
    },
    "scrolled": true
   },
   "outputs": [
    {
     "name": "stdout",
     "output_type": "stream",
     "text": [
      "[[1 2]\n",
      " [3 4]\n",
      " [5 6]]\n"
     ]
    }
   ],
   "source": [
    "array4 = np.array(\n",
    "    [\n",
    "        [1, 2],\n",
    "        [3, 4],\n",
    "        [5, 6]\n",
    "    ]\n",
    ")\n",
    "print(array4)"
   ]
  },
  {
   "cell_type": "markdown",
   "id": "plastic-arrival",
   "metadata": {},
   "source": [
    "#### 3차원"
   ]
  },
  {
   "cell_type": "code",
   "execution_count": 183,
   "id": "interesting-expression",
   "metadata": {
    "ExecuteTime": {
     "end_time": "2021-03-09T04:24:37.162998Z",
     "start_time": "2021-03-09T04:24:37.150982Z"
    }
   },
   "outputs": [
    {
     "name": "stdout",
     "output_type": "stream",
     "text": [
      "차원값 :  3\n",
      "모양 :  (3, 2, 2)\n",
      "[[[ 1  2]\n",
      "  [ 3  4]]\n",
      "\n",
      " [[ 5  6]\n",
      "  [ 7  8]]\n",
      "\n",
      " [[ 9 10]\n",
      "  [11 12]]]\n"
     ]
    }
   ],
   "source": [
    "array0 = np.array(\n",
    "    [\n",
    "        [\n",
    "            [1, 2],\n",
    "            [3, 4],\n",
    "        ],\n",
    "        [\n",
    "            [5, 6],\n",
    "            [7, 8],\n",
    "        ],\n",
    "        [\n",
    "            [9, 10],\n",
    "            [11, 12],\n",
    "        ],\n",
    "    ],\n",
    ")\n",
    "print(\"차원값 : \", array0.ndim)\n",
    "print(\"모양 : \", array0.shape)\n",
    "print(array0)"
   ]
  },
  {
   "cell_type": "markdown",
   "id": "derived-james",
   "metadata": {},
   "source": [
    "### 3차원"
   ]
  },
  {
   "cell_type": "code",
   "execution_count": 184,
   "id": "treated-flower",
   "metadata": {
    "ExecuteTime": {
     "end_time": "2021-03-09T04:24:37.162998Z",
     "start_time": "2021-03-09T04:24:37.150982Z"
    }
   },
   "outputs": [
    {
     "name": "stdout",
     "output_type": "stream",
     "text": [
      "차원값 :  3\n",
      "모양 :  (3, 2, 2)\n",
      "[[[ 1  2]\n",
      "  [ 3  4]]\n",
      "\n",
      " [[ 5  6]\n",
      "  [ 7  8]]\n",
      "\n",
      " [[ 9 10]\n",
      "  [11 12]]]\n"
     ]
    }
   ],
   "source": [
    "array0 = np.array(\n",
    "    [\n",
    "        [\n",
    "            [1, 2],\n",
    "            [3, 4],\n",
    "        ],\n",
    "        [\n",
    "            [5, 6],\n",
    "            [7, 8],\n",
    "        ],\n",
    "        [\n",
    "            [9, 10],\n",
    "            [11, 12],\n",
    "        ],\n",
    "    ],\n",
    ")\n",
    "print(\"차원값 : \", array0.ndim)\n",
    "print(\"모양 : \", array0.shape)\n",
    "print(array0)"
   ]
  },
  {
   "cell_type": "code",
   "execution_count": 185,
   "id": "fresh-rapid",
   "metadata": {
    "ExecuteTime": {
     "end_time": "2021-03-09T04:24:37.178982Z",
     "start_time": "2021-03-09T04:24:37.166984Z"
    }
   },
   "outputs": [
    {
     "name": "stdout",
     "output_type": "stream",
     "text": [
      "차원값 :  3\n",
      "모양 :  (4, 3, 3)\n",
      "[[[ 1  2  0]\n",
      "  [ 3  4  0]\n",
      "  [ 3  4  0]]\n",
      "\n",
      " [[ 5  6  0]\n",
      "  [ 7  8  0]\n",
      "  [ 7  8  0]]\n",
      "\n",
      " [[ 9 10  0]\n",
      "  [11 12  0]\n",
      "  [11 12  0]]\n",
      "\n",
      " [[ 9 10  0]\n",
      "  [11 12  0]\n",
      "  [11 12  0]]]\n"
     ]
    }
   ],
   "source": [
    "array4 = np.array(\n",
    "    [\n",
    "        [\n",
    "            [1, 2, 0],\n",
    "            [3, 4, 0],\n",
    "            [3, 4, 0],\n",
    "        ],\n",
    "        [\n",
    "            [5, 6, 0],\n",
    "            [7, 8, 0],\n",
    "            [7, 8, 0],\n",
    "        ],\n",
    "        [\n",
    "            [9, 10, 0],\n",
    "            [11, 12, 0],\n",
    "            [11, 12, 0],\n",
    "        ],\n",
    "        [\n",
    "            [9, 10, 0],\n",
    "            [11, 12, 0],\n",
    "            [11, 12, 0],\n",
    "        ],\n",
    "    ],\n",
    ")\n",
    "print(\"차원값 : \", array4.ndim)\n",
    "print(\"모양 : \", array4.shape)\n",
    "print(array4)"
   ]
  },
  {
   "cell_type": "markdown",
   "id": "forward-bones",
   "metadata": {},
   "source": [
    "### ndim\n",
    "- .ndim : ndarray의 차원 구성(shape)을 저장하고 있는 속성"
   ]
  },
  {
   "cell_type": "code",
   "execution_count": 186,
   "id": "fourth-yahoo",
   "metadata": {
    "ExecuteTime": {
     "end_time": "2021-03-09T04:24:37.194983Z",
     "start_time": "2021-03-09T04:24:37.180982Z"
    }
   },
   "outputs": [
    {
     "name": "stdout",
     "output_type": "stream",
     "text": [
      "array1 : 1차원\n",
      "array2 : 2차원\n",
      "array3 : 2차원\n",
      "array0 : 3차원\n"
     ]
    }
   ],
   "source": [
    "print('array1 : {0}차원\\narray2 : {1}차원\\narray3 : {2}차원\\narray0 : {3}차원'.format(array1.ndim, array2.ndim, array3.ndim, array0.ndim))"
   ]
  },
  {
   "cell_type": "code",
   "execution_count": null,
   "id": "czech-preference",
   "metadata": {},
   "outputs": [],
   "source": []
  },
  {
   "cell_type": "markdown",
   "id": "sweet-treat",
   "metadata": {},
   "source": [
    "### dtype\n",
    "- .dtype이 갖는 값은 ndarray구성에 따라 달라집니다.\n",
    "    -  정수 + 문자 : <U11\n",
    "    -  정수 + 실수 + 문자 : <U32\n",
    "    -  문자 : <U2\n",
    "-  정수와 실수가 array에 섞이면 모든 데이터가 실수로 변환"
   ]
  },
  {
   "cell_type": "code",
   "execution_count": 187,
   "id": "irish-violin",
   "metadata": {
    "ExecuteTime": {
     "end_time": "2021-03-09T04:24:37.213370Z",
     "start_time": "2021-03-09T04:24:37.196983Z"
    }
   },
   "outputs": [
    {
     "name": "stdout",
     "output_type": "stream",
     "text": [
      "<class 'numpy.ndarray'>\n",
      "[1 2 3] int32\n"
     ]
    }
   ],
   "source": [
    "array1 = np.array(list1)\n",
    "print(type(array1))\n",
    "print(array1, array1.dtype)"
   ]
  },
  {
   "cell_type": "code",
   "execution_count": 188,
   "id": "conditional-complement",
   "metadata": {
    "ExecuteTime": {
     "end_time": "2021-03-09T04:24:37.228571Z",
     "start_time": "2021-03-09T04:24:37.214571Z"
    }
   },
   "outputs": [
    {
     "name": "stdout",
     "output_type": "stream",
     "text": [
      "배열의 값 ['1' '2' 'test']  배열의 데이터 타입 <U11\n"
     ]
    }
   ],
   "source": [
    "list2 = [1, 2, 'test']\n",
    "array2 = np.array(list2)\n",
    "print('배열의 값', array2, ' 배열의 데이터 타입', array2.dtype)"
   ]
  },
  {
   "cell_type": "code",
   "execution_count": 189,
   "id": "transsexual-pennsylvania",
   "metadata": {
    "ExecuteTime": {
     "end_time": "2021-03-09T04:24:37.244236Z",
     "start_time": "2021-03-09T04:24:37.229352Z"
    }
   },
   "outputs": [
    {
     "name": "stdout",
     "output_type": "stream",
     "text": [
      "배열의 값 [1. 2. 3.] \t 배열의 타입 float64\n"
     ]
    }
   ],
   "source": [
    "list3 = [1, 2, 3.0]\n",
    "array3 = np.array(list3)\n",
    "print('배열의 값', array3, '\\t 배열의 타입', array3.dtype)"
   ]
  },
  {
   "cell_type": "markdown",
   "id": "intellectual-runner",
   "metadata": {},
   "source": [
    "### astype"
   ]
  },
  {
   "cell_type": "code",
   "execution_count": 190,
   "id": "precious-penguin",
   "metadata": {
    "ExecuteTime": {
     "end_time": "2021-03-09T04:24:37.259885Z",
     "start_time": "2021-03-09T04:24:37.246235Z"
    }
   },
   "outputs": [
    {
     "name": "stdout",
     "output_type": "stream",
     "text": [
      "정수->실수 : 배열의 값 [1. 2. 3.] \t\t배열의 데이터 타입 float64\n",
      "실수->정수 : 배열의 값 [1 2 3] \t\t\t배열의 데이터 타입 int32\n",
      "정수->문자 : 배열의 값 ['1' '2' '3'] \t\t배열의 데이터 타입 <U11\n",
      "실수->문자 : 배열의 값 ['1.0' '2.0' '3.0'] \t배열의 데이터 타입 <U32\n",
      "문자->정수 : 배열의 값 [1 2 3] \t\t\t배열의 데이터 타입 int32\n",
      "문자->실수 : 배열의 값 [1. 2. 3.] \t\t배열의 데이터 타입 float64\n"
     ]
    }
   ],
   "source": [
    "array_int = np.array([1, 2, 3])\n",
    "\n",
    "# 정수 -> 실수\n",
    "array_float = array_int.astype('float64')\n",
    "print('정수->실수 : 배열의 값', array_float, '\\t\\t배열의 데이터 타입', array_float.dtype)\n",
    "\n",
    "# 실수 -> 정수\n",
    "array_int = array_float.astype('int32')\n",
    "print('실수->정수 : 배열의 값', array_int, '\\t\\t\\t배열의 데이터 타입', array_int.dtype)\n",
    "\n",
    "# 정수 -> 문자\n",
    "array_str = array_int.astype('str')\n",
    "print('정수->문자 : 배열의 값', array_str, '\\t\\t배열의 데이터 타입', array_str.dtype)\n",
    "\n",
    "# 실수 -> 문자\n",
    "array_str = array_float.astype('str')\n",
    "print('실수->문자 : 배열의 값', array_str, '\\t배열의 데이터 타입', array_str.dtype)\n",
    "\n",
    "# 문자 -> 정수\n",
    "array_int = array_str.astype('float64').astype('int32')\n",
    "print('문자->정수 : 배열의 값', array_int, '\\t\\t\\t배열의 데이터 타입', array_int.dtype)\n",
    "\n",
    "# 문자 -> 실수\n",
    "array_float = array_str.astype('float64')\n",
    "print('문자->실수 : 배열의 값', array_float, '\\t\\t배열의 데이터 타입', array_float.dtype)"
   ]
  },
  {
   "cell_type": "markdown",
   "id": "wired-funds",
   "metadata": {},
   "source": [
    "### axis\n",
    "- axis = 0은 행끼리 연산\n",
    "- axis = 1은 열끼리 연산"
   ]
  },
  {
   "cell_type": "code",
   "execution_count": 191,
   "id": "medical-candidate",
   "metadata": {
    "ExecuteTime": {
     "end_time": "2021-03-09T04:24:37.275884Z",
     "start_time": "2021-03-09T04:24:37.261885Z"
    }
   },
   "outputs": [
    {
     "name": "stdout",
     "output_type": "stream",
     "text": [
      "[[1 2 3]\n",
      " [2 3 4]]\n",
      "15\n",
      "[3 5 7]\n",
      "[6 9]\n"
     ]
    }
   ],
   "source": [
    "array2 = np.array(\n",
    "    [\n",
    "        [1, 2, 3],\n",
    "        [2, 3, 4],\n",
    "    ],\n",
    ")\n",
    "print(array2)\n",
    "print(array2.sum())\n",
    "print(array2.sum(axis=0))\n",
    "print(array2.sum(axis=1))"
   ]
  },
  {
   "cell_type": "markdown",
   "id": "clinical-shooting",
   "metadata": {},
   "source": [
    "### ndarray 다양한 생성법"
   ]
  },
  {
   "cell_type": "markdown",
   "id": "light-success",
   "metadata": {},
   "source": [
    "#### arange"
   ]
  },
  {
   "cell_type": "code",
   "execution_count": 192,
   "id": "foster-valuable",
   "metadata": {
    "ExecuteTime": {
     "end_time": "2021-03-09T04:24:37.291348Z",
     "start_time": "2021-03-09T04:24:37.277900Z"
    }
   },
   "outputs": [
    {
     "name": "stdout",
     "output_type": "stream",
     "text": [
      "[2 4 6 8]\n",
      "int32 (4,)\n"
     ]
    }
   ],
   "source": [
    "sequence_array = np.arange(2, 10, 2) # start, end+1, step\n",
    "print(sequence_array)\n",
    "print(sequence_array.dtype, sequence_array.shape)"
   ]
  },
  {
   "cell_type": "markdown",
   "id": "compressed-springfield",
   "metadata": {},
   "source": [
    "#### zeros"
   ]
  },
  {
   "cell_type": "code",
   "execution_count": 193,
   "id": "behavioral-emerald",
   "metadata": {
    "ExecuteTime": {
     "end_time": "2021-03-09T04:24:37.306904Z",
     "start_time": "2021-03-09T04:24:37.293349Z"
    }
   },
   "outputs": [
    {
     "name": "stdout",
     "output_type": "stream",
     "text": [
      "[[0. 0.]\n",
      " [0. 0.]\n",
      " [0. 0.]]\n",
      "float64 (3, 2)\n"
     ]
    }
   ],
   "source": [
    "zero_array = np.zeros((3, 2)) # dtype 파라미터사용시 원하는 타입 지정 default float64\n",
    "print(zero_array)\n",
    "print(zero_array.dtype, zero_array.shape)"
   ]
  },
  {
   "cell_type": "markdown",
   "id": "colonial-calculation",
   "metadata": {},
   "source": [
    "#### ones"
   ]
  },
  {
   "cell_type": "code",
   "execution_count": 194,
   "id": "accepting-accident",
   "metadata": {
    "ExecuteTime": {
     "end_time": "2021-03-09T04:24:37.322888Z",
     "start_time": "2021-03-09T04:24:37.308888Z"
    }
   },
   "outputs": [
    {
     "name": "stdout",
     "output_type": "stream",
     "text": [
      "[[1. 1.]\n",
      " [1. 1.]\n",
      " [1. 1.]]\n",
      "float64 (3, 2)\n"
     ]
    }
   ],
   "source": [
    "one_array = np.ones((3, 2))  # dtype 파라미터사용시 원하는 타입 지정 default float64\n",
    "print(one_array)\n",
    "print(one_array.dtype, one_array.shape)"
   ]
  },
  {
   "cell_type": "markdown",
   "id": "stretch-gamma",
   "metadata": {},
   "source": [
    "### reshape\n",
    "- ndarray의 shape을 변경\n",
    "- 변환가능한 구조여야함.(오류발생)"
   ]
  },
  {
   "cell_type": "code",
   "execution_count": 195,
   "id": "artificial-plaza",
   "metadata": {
    "ExecuteTime": {
     "end_time": "2021-03-09T04:24:37.331232Z",
     "start_time": "2021-03-09T04:24:37.324889Z"
    }
   },
   "outputs": [
    {
     "name": "stdout",
     "output_type": "stream",
     "text": [
      "array1:\n",
      " [0 1 2 3 4 5 6 7 8 9]\n",
      "array2:\n",
      " [[0 1 2 3 4]\n",
      " [5 6 7 8 9]]\n",
      "array3:\n",
      " [[0 1]\n",
      " [2 3]\n",
      " [4 5]\n",
      " [6 7]\n",
      " [8 9]]\n"
     ]
    }
   ],
   "source": [
    "array1 = np.arange(10)\n",
    "print('array1:\\n', array1)\n",
    "\n",
    "array2 = array1.reshape(2, 5)\n",
    "print('array2:\\n', array2)\n",
    "\n",
    "array3 = array1.reshape(5, 2)\n",
    "print('array3:\\n', array3)"
   ]
  },
  {
   "cell_type": "markdown",
   "id": "funny-imperial",
   "metadata": {},
   "source": [
    "#### reshape입력값 중 -1을 줄경우"
   ]
  },
  {
   "cell_type": "code",
   "execution_count": 196,
   "id": "desirable-italic",
   "metadata": {
    "ExecuteTime": {
     "end_time": "2021-03-09T04:24:37.346424Z",
     "start_time": "2021-03-09T04:24:37.333409Z"
    }
   },
   "outputs": [
    {
     "name": "stdout",
     "output_type": "stream",
     "text": [
      "[0 1 2 3 4 5 6 7 8 9]\n",
      "array2 shaspe:  (2, 5)\n",
      "array2 :\n",
      " [[0 1 2 3 4]\n",
      " [5 6 7 8 9]]\n",
      "array3 shaspe:  (5, 2)\n",
      "array3 :\n",
      "  [[0 1]\n",
      " [2 3]\n",
      " [4 5]\n",
      " [6 7]\n",
      " [8 9]]\n",
      "array4 shape :  (5, 20)\n",
      "array4 : \n",
      " [[ 0  1  2  3  4  5  6  7  8  9 10 11 12 13 14 15 16 17 18 19]\n",
      " [20 21 22 23 24 25 26 27 28 29 30 31 32 33 34 35 36 37 38 39]\n",
      " [40 41 42 43 44 45 46 47 48 49 50 51 52 53 54 55 56 57 58 59]\n",
      " [60 61 62 63 64 65 66 67 68 69 70 71 72 73 74 75 76 77 78 79]\n",
      " [80 81 82 83 84 85 86 87 88 89 90 91 92 93 94 95 96 97 98 99]]\n"
     ]
    }
   ],
   "source": [
    "array1 = np.arange(10)\n",
    "print(array1)\n",
    "\n",
    "array2 = array1.reshape(-1, 5)\n",
    "print('array2 shaspe: ', array2.shape)\n",
    "print('array2 :\\n', array2)\n",
    "\n",
    "array3 = array1.reshape(5, -1)\n",
    "print('array3 shaspe: ', array3.shape)\n",
    "print('array3 :\\n ', array3)\n",
    "\n",
    "n = 5\n",
    "array1 = np.arange(100)\n",
    "array4 = array1.reshape(n, -1)\n",
    "print('array4 shape : ', array4.shape)\n",
    "print('array4 : \\n', array4)"
   ]
  },
  {
   "cell_type": "markdown",
   "id": "destroyed-harvest",
   "metadata": {},
   "source": [
    "####  (-1, 1)"
   ]
  },
  {
   "cell_type": "code",
   "execution_count": 197,
   "id": "therapeutic-croatia",
   "metadata": {
    "ExecuteTime": {
     "end_time": "2021-03-09T04:24:37.362010Z",
     "start_time": "2021-03-09T04:24:37.347997Z"
    }
   },
   "outputs": [
    {
     "name": "stdout",
     "output_type": "stream",
     "text": [
      "array2d_1 shape :  (5, 1)\n",
      "array2d_1 : \n",
      " [[0]\n",
      " [1]\n",
      " [2]\n",
      " [3]\n",
      " [4]]\n"
     ]
    }
   ],
   "source": [
    "array1 = np.arange(5)\n",
    "\n",
    "array2d_1 = array1.reshape(-1, 1)\n",
    "print(\"array2d_1 shape : \", array2d_1.shape)\n",
    "print(\"array2d_1 : \\n\", array2d_1)"
   ]
  },
  {
   "cell_type": "markdown",
   "id": "explicit-hebrew",
   "metadata": {},
   "source": [
    "####  (-1,) : 1차원으로 변환"
   ]
  },
  {
   "cell_type": "code",
   "execution_count": 198,
   "id": "operating-liabilities",
   "metadata": {
    "ExecuteTime": {
     "end_time": "2021-03-09T04:24:37.377652Z",
     "start_time": "2021-03-09T04:24:37.364122Z"
    }
   },
   "outputs": [
    {
     "name": "stdout",
     "output_type": "stream",
     "text": [
      "array2d_1 shape :  (5,)\n",
      "array2d_1 : \n",
      " [0 1 2 3 4]\n"
     ]
    }
   ],
   "source": [
    "array1 = np.arange(5)\n",
    "\n",
    "array2d_1 = array1.reshape(-1,)\n",
    "print(\"array2d_1 shape : \", array2d_1.shape)\n",
    "print(\"array2d_1 : \\n\", array2d_1)"
   ]
  },
  {
   "cell_type": "markdown",
   "id": "former-determination",
   "metadata": {},
   "source": [
    "### Indexing\n",
    "- 특정 위치의 단일값 추출"
   ]
  },
  {
   "cell_type": "code",
   "execution_count": 199,
   "id": "compatible-egypt",
   "metadata": {
    "ExecuteTime": {
     "end_time": "2021-03-09T04:24:37.393233Z",
     "start_time": "2021-03-09T04:24:37.379651Z"
    }
   },
   "outputs": [
    {
     "name": "stdout",
     "output_type": "stream",
     "text": [
      "array1 :  [1 2 3 4 5 6 7 8 9]\n",
      "value :  3\n",
      "<class 'numpy.int32'>\n",
      "뒤에서 첫번째 값 :  9 , 뒤에서 두번째 값 :  8\n"
     ]
    }
   ],
   "source": [
    "array1 = np.arange(start=1, stop=10) # 1~9\n",
    "print('array1 : ', array1)\n",
    "\n",
    "# index는 0부터 시작하므로 array1[2]는 세번째 index위치의 데이터 값을 의미\n",
    "value = array1[2]\n",
    "print('value : ', value)\n",
    "print(type(value))\n",
    "print('뒤에서 첫번째 값 : ', array1[-1], ', 뒤에서 두번째 값 : ', array1[-2])"
   ]
  },
  {
   "cell_type": "code",
   "execution_count": 200,
   "id": "uniform-inventory",
   "metadata": {
    "ExecuteTime": {
     "end_time": "2021-03-09T04:24:37.408233Z",
     "start_time": "2021-03-09T04:24:37.395233Z"
    }
   },
   "outputs": [
    {
     "name": "stdout",
     "output_type": "stream",
     "text": [
      "[[1 2 3]\n",
      " [4 5 6]\n",
      " [7 8 9]]\n",
      "(row=0, col=0) index 가리키는 값 :  1\n",
      "(row=0, col=1) index 가리키는 값 :  2\n",
      "(row=1, col=0) index 가리키는 값 :  4\n",
      "(row=2, col=2) index 가리키는 값 :  9\n"
     ]
    }
   ],
   "source": [
    "array1d = np.arange(start=1, stop=10)\n",
    "array2d = array1d.reshape(3, 3)\n",
    "print(array2d)\n",
    "print('(row=0, col=0) index 가리키는 값 : ', array2d[0, 0])\n",
    "print('(row=0, col=1) index 가리키는 값 : ', array2d[0, 1])\n",
    "print('(row=1, col=0) index 가리키는 값 : ', array2d[1, 0])\n",
    "print('(row=2, col=2) index 가리키는 값 : ', array2d[2, 2])"
   ]
  },
  {
   "cell_type": "markdown",
   "id": "reduced-foster",
   "metadata": {},
   "source": [
    "### Slicing"
   ]
  },
  {
   "cell_type": "code",
   "execution_count": 201,
   "id": "soviet-missouri",
   "metadata": {
    "ExecuteTime": {
     "end_time": "2021-03-09T04:24:37.424233Z",
     "start_time": "2021-03-09T04:24:37.410235Z"
    }
   },
   "outputs": [
    {
     "name": "stdout",
     "output_type": "stream",
     "text": [
      "[1 2 3 4 5 6 7 8 9]\n",
      "----------------------------------------------------------------------------------------------------\n",
      "[1 2 3]\n",
      "<class 'numpy.ndarray'>\n",
      "----------------------------------------------------------------------------------------------------\n",
      "[[ 0  1  2  3  4  5  6  7  8  9 10 11 12 13 14 15 16 17 18 19]\n",
      " [20 21 22 23 24 25 26 27 28 29 30 31 32 33 34 35 36 37 38 39]\n",
      " [40 41 42 43 44 45 46 47 48 49 50 51 52 53 54 55 56 57 58 59]\n",
      " [60 61 62 63 64 65 66 67 68 69 70 71 72 73 74 75 76 77 78 79]\n",
      " [80 81 82 83 84 85 86 87 88 89 90 91 92 93 94 95 96 97 98 99]]\n",
      "----------------------------------------------------------------------------------------------------\n",
      "[4 5 6 7 8 9]\n",
      "----------------------------------------------------------------------------------------------------\n",
      "[1 2 3 4 5 6 7 8 9]\n"
     ]
    }
   ],
   "source": [
    "array1 = np.arange(start=1, stop=10)\n",
    "print(array1)\n",
    "\n",
    "print('-'*100)\n",
    "\n",
    "array3 = array1[0:3]\n",
    "print(array3)\n",
    "print(type(array3))\n",
    "\n",
    "print('-'*100)\n",
    "\n",
    "prray4 = array1[:3]\n",
    "print(array4)\n",
    "\n",
    "print('-'*100)\n",
    "\n",
    "array5 = array1[3:]\n",
    "print(array5)\n",
    "\n",
    "print('-'*100)\n",
    "\n",
    "array6 = array1[:]\n",
    "print(array6)"
   ]
  },
  {
   "cell_type": "code",
   "execution_count": 202,
   "id": "smart-clause",
   "metadata": {
    "ExecuteTime": {
     "end_time": "2021-03-09T04:24:37.440232Z",
     "start_time": "2021-03-09T04:24:37.429232Z"
    }
   },
   "outputs": [
    {
     "name": "stdout",
     "output_type": "stream",
     "text": [
      "array2d: \n",
      " [[1 2 3]\n",
      " [4 5 6]\n",
      " [7 8 9]]\n",
      "array2d[0:2, 0:2] \n",
      " [[1 2]\n",
      " [4 5]]\n",
      "array2d[1:3, 0:3] \n",
      " [[4 5 6]\n",
      " [7 8 9]]\n",
      "array2d[1:3, :] \n",
      " [[4 5 6]\n",
      " [7 8 9]]\n",
      "array2d[:, :] \n",
      " [[1 2 3]\n",
      " [4 5 6]\n",
      " [7 8 9]]\n",
      "array2d[:2, 1:] \n",
      " [[2 3]\n",
      " [5 6]]\n",
      "array2d[:2, 0] \n",
      " [1 4]\n"
     ]
    }
   ],
   "source": [
    "array1d = np.arange(start=1, stop=10)\n",
    "array2d = array1d.reshape(3, 3)\n",
    "print('array2d: \\n', array2d)\n",
    "\n",
    "print('array2d[0:2, 0:2] \\n', array2d[0:2, 0:2])\n",
    "print('array2d[1:3, 0:3] \\n', array2d[1:3, 0:3])\n",
    "print('array2d[1:3, :] \\n', array2d[1:3, :])\n",
    "print('array2d[:, :] \\n', array2d[:, :])\n",
    "print('array2d[:2, 1:] \\n', array2d[:2, 1:])\n",
    "print('array2d[:2, 0] \\n', array2d[:2, 0])"
   ]
  },
  {
   "cell_type": "code",
   "execution_count": 203,
   "id": "operational-medicaid",
   "metadata": {
    "ExecuteTime": {
     "end_time": "2021-03-09T04:24:37.456231Z",
     "start_time": "2021-03-09T04:24:37.443232Z"
    }
   },
   "outputs": [
    {
     "name": "stdout",
     "output_type": "stream",
     "text": [
      "[[1 2 3]\n",
      " [4 5 6]\n",
      " [7 8 9]]\n",
      "array3\n",
      " [3 6]\n",
      "array2d[[0, 1], 2] =>  [3, 6]\n",
      "array4=n [[1 2]\n",
      " [7 8]]\n",
      "array2d[[0, 2], 0:2] ->  [[1, 2], [7, 8]]\n",
      "array5\n",
      " [[1 2 3]\n",
      " [4 5 6]]\n",
      "array2d[[0,1]] => [[1, 2, 3], [4, 5, 6]]\n"
     ]
    }
   ],
   "source": [
    "array1d = np.arange(start=1, stop=10)\n",
    "array2d = array1d.reshape(3, 3)\n",
    "print(array2d)\n",
    "\n",
    "array3 = array2d[[0, 1], 2]\n",
    "print('array3\\n', array3)\n",
    "print('array2d[[0, 1], 2] => ', array3.tolist())\n",
    "\n",
    "array4 = array2d[[0, 2], 0:2]\n",
    "print('array4=n', array4)\n",
    "print('array2d[[0, 2], 0:2] -> ', array4.tolist())\n",
    "\n",
    "array5 = array2d[[0, 1]]\n",
    "print('array5\\n', array5)\n",
    "print('array2d[[0,1]] =>', array5.tolist())"
   ]
  },
  {
   "cell_type": "markdown",
   "id": "quantitative-journalist",
   "metadata": {},
   "source": [
    "### Boolean Indexing"
   ]
  },
  {
   "cell_type": "code",
   "execution_count": 204,
   "id": "whole-royal",
   "metadata": {
    "ExecuteTime": {
     "end_time": "2021-03-09T04:24:37.472232Z",
     "start_time": "2021-03-09T04:24:37.458232Z"
    }
   },
   "outputs": [
    {
     "name": "stdout",
     "output_type": "stream",
     "text": [
      "[1 2 3 4 5 6 7 8 9]\n",
      "[False False False False False  True  True  True  True]\n",
      "var1: [False False False False False  True  True  True  True]\n",
      "<class 'numpy.ndarray'>\n",
      "bool\n",
      "array1d > 5 boolean indexing result :  [6 7 8 9]\n"
     ]
    }
   ],
   "source": [
    "array1d = np.arange(start=1, stop=10)\n",
    "print(array1d)\n",
    "print(array1d > 5)\n",
    "var1 = array1d > 5\n",
    "print(\"var1:\", var1)\n",
    "print(type(var1))\n",
    "print(var1.dtype)\n",
    "\n",
    "# [ ] 안에 array1d > 5 Boolean indexing을 적용\n",
    "array3 = array1d[array1d > 5]\n",
    "print('array1d > 5 boolean indexing result : ', array3)"
   ]
  },
  {
   "cell_type": "markdown",
   "id": "removed-province",
   "metadata": {},
   "source": [
    "### Indexing By Value"
   ]
  },
  {
   "cell_type": "code",
   "execution_count": 205,
   "id": "adolescent-neutral",
   "metadata": {
    "ExecuteTime": {
     "end_time": "2021-03-09T04:24:37.488231Z",
     "start_time": "2021-03-09T04:24:37.474232Z"
    }
   },
   "outputs": [
    {
     "name": "stdout",
     "output_type": "stream",
     "text": [
      "[1 2 3 4 5 6 7 8 9]\n",
      "일반 인덱스로 필터링한 결과 :  [6 7 8 9]\n"
     ]
    }
   ],
   "source": [
    "print(array1d)\n",
    "\n",
    "indexes = np.array([5, 6, 7, 8])\n",
    "array4 = array1d[indexes]\n",
    "print(\"일반 인덱스로 필터링한 결과 : \", array4)"
   ]
  },
  {
   "cell_type": "markdown",
   "id": "proud-evaluation",
   "metadata": {},
   "source": [
    "### sort()"
   ]
  },
  {
   "cell_type": "code",
   "execution_count": 206,
   "id": "conservative-andrews",
   "metadata": {
    "ExecuteTime": {
     "end_time": "2021-03-09T04:24:37.504232Z",
     "start_time": "2021-03-09T04:24:37.490230Z"
    }
   },
   "outputs": [
    {
     "name": "stdout",
     "output_type": "stream",
     "text": [
      "원본 행렬 :  [3 1 9 5]\n",
      "np.sort() 반환 :  [1 3 5 9]\n",
      "np.sort() 원본 :  [3 1 9 5]\n"
     ]
    }
   ],
   "source": [
    "org_array = np.array([3, 1, 9, 5])\n",
    "print(\"원본 행렬 : \", org_array)\n",
    "\n",
    "sort_array1 = np.sort(org_array)\n",
    "print(\"np.sort() 반환 : \", sort_array1)\n",
    "print(\"np.sort() 원본 : \", org_array)"
   ]
  },
  {
   "cell_type": "code",
   "execution_count": 207,
   "id": "dressed-silicon",
   "metadata": {
    "ExecuteTime": {
     "end_time": "2021-03-09T04:24:37.520230Z",
     "start_time": "2021-03-09T04:24:37.506238Z"
    }
   },
   "outputs": [
    {
     "name": "stdout",
     "output_type": "stream",
     "text": [
      "org_array() 반환 :  None\n",
      "org_array() 원본 :  [1 3 5 9]\n"
     ]
    }
   ],
   "source": [
    "sort_array2 = org_array.sort()\n",
    "print(\"org_array() 반환 : \", sort_array2)\n",
    "print(\"org_array() 원본 : \", org_array)"
   ]
  },
  {
   "cell_type": "code",
   "execution_count": 208,
   "id": "forced-brisbane",
   "metadata": {
    "ExecuteTime": {
     "end_time": "2021-03-09T04:24:37.536229Z",
     "start_time": "2021-03-09T04:24:37.522230Z"
    }
   },
   "outputs": [
    {
     "name": "stdout",
     "output_type": "stream",
     "text": [
      "내림차순으로 정렬 :  [9 5 3 1]\n"
     ]
    }
   ],
   "source": [
    "sort_array1_desc = np.sort(org_array)[::-1]\n",
    "print(\"내림차순으로 정렬 : \", sort_array1_desc)"
   ]
  },
  {
   "cell_type": "code",
   "execution_count": 209,
   "id": "lovely-asbestos",
   "metadata": {
    "ExecuteTime": {
     "end_time": "2021-03-09T04:24:37.552229Z",
     "start_time": "2021-03-09T04:24:37.538229Z"
    }
   },
   "outputs": [
    {
     "name": "stdout",
     "output_type": "stream",
     "text": [
      "origin : \n",
      " [[ 8 12]\n",
      " [ 9  1]]\n",
      "행 정렬 : \n",
      " [[ 8  1]\n",
      " [ 9 12]]\n",
      "열 정렬 : \n",
      " [[ 8 12]\n",
      " [ 1  9]]\n"
     ]
    }
   ],
   "source": [
    "array2d = np.array( # 2차원 배열의 정렬\n",
    "    [\n",
    "        [8, 12],\n",
    "        [9, 1],\n",
    "    ],\n",
    ")\n",
    "print(\"origin : \\n\", array2d)\n",
    "sort_array2d_axis0 = np.sort(array2d, axis = 0)\n",
    "print(\"행 정렬 : \\n\", sort_array2d_axis0)\n",
    "sort_array2d_axis1 = np.sort(array2d, axis = 1)\n",
    "print(\"열 정렬 : \\n\", sort_array2d_axis1)"
   ]
  },
  {
   "cell_type": "code",
   "execution_count": 211,
   "id": "collectible-healthcare",
   "metadata": {
    "ExecuteTime": {
     "end_time": "2021-03-09T04:28:02.324371Z",
     "start_time": "2021-03-09T04:28:02.315357Z"
    }
   },
   "outputs": [
    {
     "name": "stdout",
     "output_type": "stream",
     "text": [
      "origin : \n",
      " [[[ 8  7]\n",
      "  [ 3  1]]\n",
      "\n",
      " [[ 9  6]\n",
      "  [ 7  5]]\n",
      "\n",
      " [[ 7  3]\n",
      "  [11 12]]]\n",
      "axis=0 정렬 : \n",
      " [[[ 7  3]\n",
      "  [ 3  1]]\n",
      "\n",
      " [[ 8  6]\n",
      "  [ 7  5]]\n",
      "\n",
      " [[ 9  7]\n",
      "  [11 12]]]\n",
      "axis=1 정렬 : \n",
      " [[[ 3  1]\n",
      "  [ 8  7]]\n",
      "\n",
      " [[ 7  5]\n",
      "  [ 9  6]]\n",
      "\n",
      " [[ 7  3]\n",
      "  [11 12]]]\n",
      "axis=2 정렬 : \n",
      " [[[ 7  8]\n",
      "  [ 1  3]]\n",
      "\n",
      " [[ 6  9]\n",
      "  [ 5  7]]\n",
      "\n",
      " [[ 3  7]\n",
      "  [11 12]]]\n"
     ]
    }
   ],
   "source": [
    "array3d = np.array( # 3차원 배열의 정렬\n",
    "    [\n",
    "        [\n",
    "            [8, 7],\n",
    "            [3, 1],\n",
    "        ],\n",
    "        [\n",
    "            [9, 6],\n",
    "            [7, 5],\n",
    "        ],\n",
    "        [\n",
    "            [7, 3],\n",
    "            [11, 12],\n",
    "        ],\n",
    "    ],\n",
    ")\n",
    "print(\"origin : \\n\", array3d)\n",
    "sort_array3d_axis0 = np.sort(array3d, axis = 0)\n",
    "print(\"axis=0 정렬 : \\n\", sort_array3d_axis0)\n",
    "sort_array3d_axis1 = np.sort(array3d, axis = 1)\n",
    "print(\"axis=1 정렬 : \\n\", sort_array3d_axis1)\n",
    "sort_array3d_axis2 = np.sort(array3d, axis = 2)\n",
    "print(\"axis=2 정렬 : \\n\", sort_array3d_axis2)"
   ]
  },
  {
   "cell_type": "markdown",
   "id": "boolean-company",
   "metadata": {},
   "source": [
    "### argsort()"
   ]
  },
  {
   "cell_type": "code",
   "execution_count": 219,
   "id": "level-alaska",
   "metadata": {
    "ExecuteTime": {
     "end_time": "2021-03-09T04:39:56.392116Z",
     "start_time": "2021-03-09T04:39:56.385106Z"
    }
   },
   "outputs": [
    {
     "name": "stdout",
     "output_type": "stream",
     "text": [
      "일반 sort 결과 :  [1 3 5 9]\n",
      "argsort 결과의 데이터 타입 :  <class 'numpy.ndarray'>\n",
      "argsort 의 결과 :  [1 0 3 2]\n",
      "argsort의 결과중 가장 마지막값을 원본배열의 인덱싱값으로 사용 (가장큰값): 9\n"
     ]
    }
   ],
   "source": [
    "org_array = np.array([3, 1, 9, 5])\n",
    "print(\"일반 sort 결과 : \", np.sort(org_array))\n",
    "\n",
    "sort_index = np.argsort(org_array)\n",
    "print('argsort 결과의 데이터 타입 : ', type(sort_index))\n",
    "print('argsort 의 결과 : ', sort_index)\n",
    "print(\"argsort의 결과중 가장 마지막값을 원본배열의 인덱싱값으로 사용 (가장큰값):\", org_array[sort_index[-1]])"
   ]
  },
  {
   "cell_type": "code",
   "execution_count": 231,
   "id": "smooth-donor",
   "metadata": {
    "ExecuteTime": {
     "end_time": "2021-03-09T04:49:18.391610Z",
     "start_time": "2021-03-09T04:49:18.378601Z"
    }
   },
   "outputs": [
    {
     "name": "stdout",
     "output_type": "stream",
     "text": [
      "argsort로 원본 인덱싱\n",
      "sort_index_desc : \n",
      " [2 3 0 1]\n"
     ]
    }
   ],
   "source": [
    "org_array = np.array([3, 1, 9, 5])\n",
    "sort_index_desc = np.argsort(org_array)[::-1]\n",
    "print('argsort로 원본 인덱싱')\n",
    "print(\"sort_index_desc : \\n\", sort_index_desc)"
   ]
  },
  {
   "cell_type": "code",
   "execution_count": 226,
   "id": "italic-singer",
   "metadata": {
    "ExecuteTime": {
     "end_time": "2021-03-09T04:47:29.766108Z",
     "start_time": "2021-03-09T04:47:29.750109Z"
    }
   },
   "outputs": [
    {
     "name": "stdout",
     "output_type": "stream",
     "text": [
      "sort index:  [3 0 1 4 2]\n",
      "최고점자 이름 :  Kate\n",
      "['Kate' 'John' 'Mike' 'Samuel' 'Sarah']\n",
      "[98 98 95 88 84]\n"
     ]
    }
   ],
   "source": [
    "name_array = np.array(['John', 'Mike', 'Sarah', 'Kate', 'Samuel'])\n",
    "score_array = np.array([98, 95, 84, 98, 88])\n",
    "\n",
    "sort_index = np.argsort(score_array)[::-1]\n",
    "print(\"sort index: \", sort_index)\n",
    "print(\"최고점자 이름 : \", name_array[sort_index[0]])\n",
    "\n",
    "# 정렬 결과 전체\n",
    "name_array_sort = name_array[sort_index]\n",
    "score_array_sort = score_array[sort_index]\n",
    "print(name_array_sort)\n",
    "print(score_array_sort)"
   ]
  },
  {
   "cell_type": "code",
   "execution_count": null,
   "id": "breeding-arbor",
   "metadata": {},
   "outputs": [],
   "source": []
  }
 ],
 "metadata": {
  "hide_input": false,
  "kernelspec": {
   "display_name": "Python 3",
   "language": "python",
   "name": "python3"
  },
  "language_info": {
   "codemirror_mode": {
    "name": "ipython",
    "version": 3
   },
   "file_extension": ".py",
   "mimetype": "text/x-python",
   "name": "python",
   "nbconvert_exporter": "python",
   "pygments_lexer": "ipython3",
   "version": "3.8.5"
  },
  "toc": {
   "base_numbering": 1,
   "nav_menu": {},
   "number_sections": true,
   "sideBar": true,
   "skip_h1_title": false,
   "title_cell": "Table of Contents",
   "title_sidebar": "Contents",
   "toc_cell": false,
   "toc_position": {},
   "toc_section_display": true,
   "toc_window_display": true
  },
  "varInspector": {
   "cols": {
    "lenName": 16,
    "lenType": 16,
    "lenVar": 40
   },
   "kernels_config": {
    "python": {
     "delete_cmd_postfix": "",
     "delete_cmd_prefix": "del ",
     "library": "var_list.py",
     "varRefreshCmd": "print(var_dic_list())"
    },
    "r": {
     "delete_cmd_postfix": ") ",
     "delete_cmd_prefix": "rm(",
     "library": "var_list.r",
     "varRefreshCmd": "cat(var_dic_list()) "
    }
   },
   "types_to_exclude": [
    "module",
    "function",
    "builtin_function_or_method",
    "instance",
    "_Feature"
   ],
   "window_display": false
  }
 },
 "nbformat": 4,
 "nbformat_minor": 5
}
