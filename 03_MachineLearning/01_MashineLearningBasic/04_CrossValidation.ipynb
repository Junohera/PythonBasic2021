{
 "cells": [
  {
   "cell_type": "markdown",
   "id": "attended-setup",
   "metadata": {},
   "source": [
    "# CrossValidation "
   ]
  },
  {
   "cell_type": "markdown",
   "id": "professional-working",
   "metadata": {},
   "source": [
    "## KFold"
   ]
  },
  {
   "cell_type": "markdown",
   "id": "secret-wisconsin",
   "metadata": {},
   "source": [
    "### Import modules"
   ]
  },
  {
   "cell_type": "code",
   "execution_count": 79,
   "id": "south-chocolate",
   "metadata": {
    "ExecuteTime": {
     "end_time": "2021-03-09T07:59:46.662042Z",
     "start_time": "2021-03-09T07:59:46.647035Z"
    }
   },
   "outputs": [],
   "source": [
    "from sklearn.datasets import load_iris\n",
    "from sklearn.tree import DecisionTreeClassifier\n",
    "from sklearn.metrics import accuracy_score\n",
    "\n",
    "from sklearn.model_selection import KFold\n",
    "import numpy as np\n",
    "import pandas as pd\n",
    "from sklearn.model_selection import train_test_split"
   ]
  },
  {
   "cell_type": "markdown",
   "id": "hawaiian-japan",
   "metadata": {},
   "source": [
    "### Ready"
   ]
  },
  {
   "cell_type": "code",
   "execution_count": 80,
   "id": "coastal-beatles",
   "metadata": {
    "ExecuteTime": {
     "end_time": "2021-03-09T07:59:46.677033Z",
     "start_time": "2021-03-09T07:59:46.664033Z"
    }
   },
   "outputs": [],
   "source": [
    "kfold = KFold(n_splits=5) # n개의 데이터세트로 분리하는 KFold 객체 생성\n",
    "cv_accuracy = [] # 세트별로 계산된 정확도들을 보관할 리스트"
   ]
  },
  {
   "cell_type": "markdown",
   "id": "thirty-worst",
   "metadata": {},
   "source": [
    "### Ready Target"
   ]
  },
  {
   "cell_type": "code",
   "execution_count": 81,
   "id": "canadian-peace",
   "metadata": {
    "ExecuteTime": {
     "end_time": "2021-03-09T07:59:46.692954Z",
     "start_time": "2021-03-09T07:59:46.680032Z"
    }
   },
   "outputs": [],
   "source": [
    "iris = load_iris()\n",
    "features = iris.data\n",
    "label = iris.target"
   ]
  },
  {
   "cell_type": "markdown",
   "id": "consistent-heating",
   "metadata": {},
   "source": [
    "### Instance"
   ]
  },
  {
   "cell_type": "code",
   "execution_count": 82,
   "id": "active-turtle",
   "metadata": {
    "ExecuteTime": {
     "end_time": "2021-03-09T07:59:46.708783Z",
     "start_time": "2021-03-09T07:59:46.695967Z"
    }
   },
   "outputs": [],
   "source": [
    "dt_clf = DecisionTreeClassifier()"
   ]
  },
  {
   "cell_type": "markdown",
   "id": "jewish-investing",
   "metadata": {},
   "source": [
    "### Check (Train, Test) Data By KFold"
   ]
  },
  {
   "cell_type": "code",
   "execution_count": 83,
   "id": "posted-occasions",
   "metadata": {
    "ExecuteTime": {
     "end_time": "2021-03-09T07:59:46.724811Z",
     "start_time": "2021-03-09T07:59:46.710787Z"
    }
   },
   "outputs": [
    {
     "name": "stdout",
     "output_type": "stream",
     "text": [
      "########################################### split ###########################################  5\n",
      "train index : \n",
      " [ 30  31  32  33  34  35  36  37  38  39  40  41  42  43  44  45  46  47\n",
      "  48  49  50  51  52  53  54  55  56  57  58  59  60  61  62  63  64  65\n",
      "  66  67  68  69  70  71  72  73  74  75  76  77  78  79  80  81  82  83\n",
      "  84  85  86  87  88  89  90  91  92  93  94  95  96  97  98  99 100 101\n",
      " 102 103 104 105 106 107 108 109 110 111 112 113 114 115 116 117 118 119\n",
      " 120 121 122 123 124 125 126 127 128 129 130 131 132 133 134 135 136 137\n",
      " 138 139 140 141 142 143 144 145 146 147 148 149]\n",
      "test index : \n",
      " [ 0  1  2  3  4  5  6  7  8  9 10 11 12 13 14 15 16 17 18 19 20 21 22 23\n",
      " 24 25 26 27 28 29]\n",
      "\n",
      "########################################### split ###########################################  5\n",
      "train index : \n",
      " [  0   1   2   3   4   5   6   7   8   9  10  11  12  13  14  15  16  17\n",
      "  18  19  20  21  22  23  24  25  26  27  28  29  60  61  62  63  64  65\n",
      "  66  67  68  69  70  71  72  73  74  75  76  77  78  79  80  81  82  83\n",
      "  84  85  86  87  88  89  90  91  92  93  94  95  96  97  98  99 100 101\n",
      " 102 103 104 105 106 107 108 109 110 111 112 113 114 115 116 117 118 119\n",
      " 120 121 122 123 124 125 126 127 128 129 130 131 132 133 134 135 136 137\n",
      " 138 139 140 141 142 143 144 145 146 147 148 149]\n",
      "test index : \n",
      " [30 31 32 33 34 35 36 37 38 39 40 41 42 43 44 45 46 47 48 49 50 51 52 53\n",
      " 54 55 56 57 58 59]\n",
      "\n",
      "########################################### split ###########################################  5\n",
      "train index : \n",
      " [  0   1   2   3   4   5   6   7   8   9  10  11  12  13  14  15  16  17\n",
      "  18  19  20  21  22  23  24  25  26  27  28  29  30  31  32  33  34  35\n",
      "  36  37  38  39  40  41  42  43  44  45  46  47  48  49  50  51  52  53\n",
      "  54  55  56  57  58  59  90  91  92  93  94  95  96  97  98  99 100 101\n",
      " 102 103 104 105 106 107 108 109 110 111 112 113 114 115 116 117 118 119\n",
      " 120 121 122 123 124 125 126 127 128 129 130 131 132 133 134 135 136 137\n",
      " 138 139 140 141 142 143 144 145 146 147 148 149]\n",
      "test index : \n",
      " [60 61 62 63 64 65 66 67 68 69 70 71 72 73 74 75 76 77 78 79 80 81 82 83\n",
      " 84 85 86 87 88 89]\n",
      "\n",
      "########################################### split ###########################################  5\n",
      "train index : \n",
      " [  0   1   2   3   4   5   6   7   8   9  10  11  12  13  14  15  16  17\n",
      "  18  19  20  21  22  23  24  25  26  27  28  29  30  31  32  33  34  35\n",
      "  36  37  38  39  40  41  42  43  44  45  46  47  48  49  50  51  52  53\n",
      "  54  55  56  57  58  59  60  61  62  63  64  65  66  67  68  69  70  71\n",
      "  72  73  74  75  76  77  78  79  80  81  82  83  84  85  86  87  88  89\n",
      " 120 121 122 123 124 125 126 127 128 129 130 131 132 133 134 135 136 137\n",
      " 138 139 140 141 142 143 144 145 146 147 148 149]\n",
      "test index : \n",
      " [ 90  91  92  93  94  95  96  97  98  99 100 101 102 103 104 105 106 107\n",
      " 108 109 110 111 112 113 114 115 116 117 118 119]\n",
      "\n",
      "########################################### split ###########################################  5\n",
      "train index : \n",
      " [  0   1   2   3   4   5   6   7   8   9  10  11  12  13  14  15  16  17\n",
      "  18  19  20  21  22  23  24  25  26  27  28  29  30  31  32  33  34  35\n",
      "  36  37  38  39  40  41  42  43  44  45  46  47  48  49  50  51  52  53\n",
      "  54  55  56  57  58  59  60  61  62  63  64  65  66  67  68  69  70  71\n",
      "  72  73  74  75  76  77  78  79  80  81  82  83  84  85  86  87  88  89\n",
      "  90  91  92  93  94  95  96  97  98  99 100 101 102 103 104 105 106 107\n",
      " 108 109 110 111 112 113 114 115 116 117 118 119]\n",
      "test index : \n",
      " [120 121 122 123 124 125 126 127 128 129 130 131 132 133 134 135 136 137\n",
      " 138 139 140 141 142 143 144 145 146 147 148 149]\n",
      "\n"
     ]
    }
   ],
   "source": [
    "c = 0\n",
    "for train_index, test_index in kfold.split(features) :\n",
    "    print(\"########################################### split ########################################### \", index)\n",
    "    print('train index : \\n', train_index)\n",
    "    print('test index : \\n', test_index)\n",
    "    print()\n",
    "    c += 1"
   ]
  },
  {
   "cell_type": "markdown",
   "id": "periodic-casino",
   "metadata": {},
   "source": [
    "### Get Data By KFold & Train & Predict & Accuracy IF n_splits=5"
   ]
  },
  {
   "cell_type": "code",
   "execution_count": 84,
   "id": "packed-seating",
   "metadata": {
    "ExecuteTime": {
     "end_time": "2021-03-09T07:59:46.740845Z",
     "start_time": "2021-03-09T07:59:46.726811Z"
    }
   },
   "outputs": [
    {
     "name": "stdout",
     "output_type": "stream",
     "text": [
      "#1번째 kfold의 정확도 : 1.000, 학습데이터수 : 120, 테스트데이터수 : 30\n",
      "#2번째 kfold의 정확도 : 1.000, 학습데이터수 : 120, 테스트데이터수 : 30\n",
      "#3번째 kfold의 정확도 : 0.900, 학습데이터수 : 120, 테스트데이터수 : 30\n",
      "#4번째 kfold의 정확도 : 0.933, 학습데이터수 : 120, 테스트데이터수 : 30\n",
      "#5번째 kfold의 정확도 : 0.733, 학습데이터수 : 120, 테스트데이터수 : 30\n",
      "### 평균 검증 정확도 :  0.9133333333333333\n"
     ]
    }
   ],
   "source": [
    "c = 0\n",
    "for train_index, test_index in kfold.split(features) :\n",
    "    # Get Data\n",
    "    X_train, X_test = features[train_index], features[test_index]\n",
    "    Y_train, Y_test = label[train_index], label[test_index]\n",
    "    \n",
    "    # Train\n",
    "    dt_clf.fit(X_train, Y_train)\n",
    "    \n",
    "    # Predict\n",
    "    pred = dt_clf.predict(X_test)\n",
    "    \n",
    "    # Accuracy\n",
    "    accuracy = accuracy_score(Y_test, pred)\n",
    "    \n",
    "    c += 1\n",
    "    \n",
    "    # for report    \n",
    "    train_size = X_train.shape[0]\n",
    "    test_size = X_test.shape[0]\n",
    "    \n",
    "    # 정확도, 학습데이터 수, 테스트데이터 수 순으로 확인\n",
    "    print('#{0}번째 kfold의 정확도 : {1:.3f}, 학습데이터수 : {2}, 테스트데이터수 : {3}'.format(c, accuracy, train_size, test_size))\n",
    "    \n",
    "    # 세트별로 계산된 정확도들을 보관할 리스트에 저장\n",
    "    cv_accuracy.append(accuracy)\n",
    "    \n",
    "print(\"### 평균 검증 정확도 : \", np.mean(cv_accuracy))\n",
    "    "
   ]
  },
  {
   "cell_type": "markdown",
   "id": "delayed-kansas",
   "metadata": {},
   "source": [
    "### Get Data By KFold & Train & Predict & Accuracy IF n_splits=3"
   ]
  },
  {
   "cell_type": "code",
   "execution_count": 88,
   "id": "athletic-england",
   "metadata": {
    "ExecuteTime": {
     "end_time": "2021-03-09T08:17:25.905116Z",
     "start_time": "2021-03-09T08:17:25.886107Z"
    }
   },
   "outputs": [
    {
     "data": {
      "text/plain": [
       "0    50\n",
       "1    50\n",
       "2    50\n",
       "Name: label, dtype: int64"
      ]
     },
     "execution_count": 88,
     "metadata": {},
     "output_type": "execute_result"
    }
   ],
   "source": [
    "iris = load_iris()\n",
    "iris_df = pd.DataFrame(data=iris.data, columns=iris.feature_names)\n",
    "\n",
    "iris_df['label'] = iris.target\n",
    "iris_df['label'].value_counts()"
   ]
  },
  {
   "cell_type": "code",
   "execution_count": 89,
   "id": "successful-competition",
   "metadata": {
    "ExecuteTime": {
     "end_time": "2021-03-09T08:17:26.326868Z",
     "start_time": "2021-03-09T08:17:26.318856Z"
    }
   },
   "outputs": [
    {
     "name": "stdout",
     "output_type": "stream",
     "text": [
      "########################################### split ###########################################  5\n",
      "train index : \n",
      " [ 50  51  52  53  54  55  56  57  58  59  60  61  62  63  64  65  66  67\n",
      "  68  69  70  71  72  73  74  75  76  77  78  79  80  81  82  83  84  85\n",
      "  86  87  88  89  90  91  92  93  94  95  96  97  98  99 100 101 102 103\n",
      " 104 105 106 107 108 109 110 111 112 113 114 115 116 117 118 119 120 121\n",
      " 122 123 124 125 126 127 128 129 130 131 132 133 134 135 136 137 138 139\n",
      " 140 141 142 143 144 145 146 147 148 149]\n",
      "test index : \n",
      " [ 0  1  2  3  4  5  6  7  8  9 10 11 12 13 14 15 16 17 18 19 20 21 22 23\n",
      " 24 25 26 27 28 29 30 31 32 33 34 35 36 37 38 39 40 41 42 43 44 45 46 47\n",
      " 48 49]\n",
      "\n",
      "########################################### split ###########################################  5\n",
      "train index : \n",
      " [  0   1   2   3   4   5   6   7   8   9  10  11  12  13  14  15  16  17\n",
      "  18  19  20  21  22  23  24  25  26  27  28  29  30  31  32  33  34  35\n",
      "  36  37  38  39  40  41  42  43  44  45  46  47  48  49 100 101 102 103\n",
      " 104 105 106 107 108 109 110 111 112 113 114 115 116 117 118 119 120 121\n",
      " 122 123 124 125 126 127 128 129 130 131 132 133 134 135 136 137 138 139\n",
      " 140 141 142 143 144 145 146 147 148 149]\n",
      "test index : \n",
      " [50 51 52 53 54 55 56 57 58 59 60 61 62 63 64 65 66 67 68 69 70 71 72 73\n",
      " 74 75 76 77 78 79 80 81 82 83 84 85 86 87 88 89 90 91 92 93 94 95 96 97\n",
      " 98 99]\n",
      "\n",
      "########################################### split ###########################################  5\n",
      "train index : \n",
      " [ 0  1  2  3  4  5  6  7  8  9 10 11 12 13 14 15 16 17 18 19 20 21 22 23\n",
      " 24 25 26 27 28 29 30 31 32 33 34 35 36 37 38 39 40 41 42 43 44 45 46 47\n",
      " 48 49 50 51 52 53 54 55 56 57 58 59 60 61 62 63 64 65 66 67 68 69 70 71\n",
      " 72 73 74 75 76 77 78 79 80 81 82 83 84 85 86 87 88 89 90 91 92 93 94 95\n",
      " 96 97 98 99]\n",
      "test index : \n",
      " [100 101 102 103 104 105 106 107 108 109 110 111 112 113 114 115 116 117\n",
      " 118 119 120 121 122 123 124 125 126 127 128 129 130 131 132 133 134 135\n",
      " 136 137 138 139 140 141 142 143 144 145 146 147 148 149]\n",
      "\n"
     ]
    }
   ],
   "source": [
    "kfold = KFold(n_splits=3)\n",
    "c=1\n",
    "\n",
    "for train_index, test_index in kfold.split(iris_df) :\n",
    "    print(\"########################################### split ########################################### \", index)\n",
    "    print('train index : \\n', train_index)\n",
    "    print('test index : \\n', test_index)\n",
    "    print()\n",
    "    c += 1"
   ]
  },
  {
   "cell_type": "code",
   "execution_count": 90,
   "id": "flush-childhood",
   "metadata": {
    "ExecuteTime": {
     "end_time": "2021-03-09T08:17:26.655812Z",
     "start_time": "2021-03-09T08:17:26.638813Z"
    }
   },
   "outputs": [
    {
     "name": "stdout",
     "output_type": "stream",
     "text": [
      "## 교차 검증 : 1\n",
      "학습 데이터 타겟 분포 : \n",
      " 1    50\n",
      "2    50\n",
      "Name: label, dtype: int64\n",
      "검증 데이터 타겟 분포 : \n",
      " 0    50\n",
      "Name: label, dtype: int64\n",
      "## 교차 검증 : 2\n",
      "학습 데이터 타겟 분포 : \n",
      " 0    50\n",
      "2    50\n",
      "Name: label, dtype: int64\n",
      "검증 데이터 타겟 분포 : \n",
      " 1    50\n",
      "Name: label, dtype: int64\n",
      "## 교차 검증 : 3\n",
      "학습 데이터 타겟 분포 : \n",
      " 0    50\n",
      "1    50\n",
      "Name: label, dtype: int64\n",
      "검증 데이터 타겟 분포 : \n",
      " 2    50\n",
      "Name: label, dtype: int64\n"
     ]
    }
   ],
   "source": [
    "kfold = KFold(n_splits=3)\n",
    "n_iter = 0\n",
    "for train_index, test_index in kfold.split(iris_df) :\n",
    "    n_iter += 1\n",
    "    label_train = iris_df['label'].iloc[train_index]\n",
    "    label_test = iris_df['label'].iloc[test_index]\n",
    "    print('## 교차 검증 : {0}'.format(n_iter))\n",
    "    print('학습 데이터 타겟 분포 : \\n', label_train.value_counts())\n",
    "    print('검증 데이터 타겟 분포 : \\n', label_test.value_counts())"
   ]
  }
 ],
 "metadata": {
  "hide_input": false,
  "kernelspec": {
   "display_name": "Python 3",
   "language": "python",
   "name": "python3"
  },
  "language_info": {
   "codemirror_mode": {
    "name": "ipython",
    "version": 3
   },
   "file_extension": ".py",
   "mimetype": "text/x-python",
   "name": "python",
   "nbconvert_exporter": "python",
   "pygments_lexer": "ipython3",
   "version": "3.8.5"
  },
  "toc": {
   "base_numbering": 1,
   "nav_menu": {},
   "number_sections": true,
   "sideBar": true,
   "skip_h1_title": false,
   "title_cell": "Table of Contents",
   "title_sidebar": "Contents",
   "toc_cell": false,
   "toc_position": {
    "height": "calc(100% - 180px)",
    "left": "10px",
    "top": "150px",
    "width": "383.594px"
   },
   "toc_section_display": true,
   "toc_window_display": true
  },
  "varInspector": {
   "cols": {
    "lenName": 16,
    "lenType": 16,
    "lenVar": 40
   },
   "kernels_config": {
    "python": {
     "delete_cmd_postfix": "",
     "delete_cmd_prefix": "del ",
     "library": "var_list.py",
     "varRefreshCmd": "print(var_dic_list())"
    },
    "r": {
     "delete_cmd_postfix": ") ",
     "delete_cmd_prefix": "rm(",
     "library": "var_list.r",
     "varRefreshCmd": "cat(var_dic_list()) "
    }
   },
   "types_to_exclude": [
    "module",
    "function",
    "builtin_function_or_method",
    "instance",
    "_Feature"
   ],
   "window_display": false
  }
 },
 "nbformat": 4,
 "nbformat_minor": 5
}
