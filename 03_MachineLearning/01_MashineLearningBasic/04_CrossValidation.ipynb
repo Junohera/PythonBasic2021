{
 "cells": [
  {
   "cell_type": "markdown",
   "id": "digital-flush",
   "metadata": {},
   "source": [
    "# CrossValidation "
   ]
  },
  {
   "cell_type": "markdown",
   "id": "bridal-claim",
   "metadata": {},
   "source": [
    "## KFold"
   ]
  },
  {
   "cell_type": "markdown",
   "id": "useful-september",
   "metadata": {},
   "source": [
    "### Import modules"
   ]
  },
  {
   "cell_type": "code",
   "execution_count": 28,
   "id": "british-nudist",
   "metadata": {
    "ExecuteTime": {
     "end_time": "2021-03-10T05:29:15.839515Z",
     "start_time": "2021-03-10T05:29:15.829524Z"
    }
   },
   "outputs": [],
   "source": [
    "from sklearn.datasets import load_iris\n",
    "from sklearn.tree import DecisionTreeClassifier\n",
    "from sklearn.metrics import accuracy_score\n",
    "\n",
    "from sklearn.model_selection import KFold\n",
    "import numpy as np\n",
    "import pandas as pd\n",
    "from sklearn.model_selection import train_test_split"
   ]
  },
  {
   "cell_type": "markdown",
   "id": "divine-oriental",
   "metadata": {},
   "source": [
    "### Ready Target"
   ]
  },
  {
   "cell_type": "code",
   "execution_count": 29,
   "id": "intensive-message",
   "metadata": {
    "ExecuteTime": {
     "end_time": "2021-03-10T05:29:15.854515Z",
     "start_time": "2021-03-10T05:29:15.842514Z"
    }
   },
   "outputs": [],
   "source": [
    "iris = load_iris()\n",
    "features = iris.data\n",
    "label = iris.target"
   ]
  },
  {
   "cell_type": "markdown",
   "id": "conceptual-passenger",
   "metadata": {},
   "source": [
    "### Instance"
   ]
  },
  {
   "cell_type": "code",
   "execution_count": 30,
   "id": "adjusted-questionnaire",
   "metadata": {
    "ExecuteTime": {
     "end_time": "2021-03-10T05:29:15.870512Z",
     "start_time": "2021-03-10T05:29:15.857515Z"
    }
   },
   "outputs": [],
   "source": [
    "dt_clf = DecisionTreeClassifier()"
   ]
  },
  {
   "cell_type": "markdown",
   "id": "intensive-leather",
   "metadata": {},
   "source": [
    "### Check (Train, Test) Data By KFold"
   ]
  },
  {
   "cell_type": "code",
   "execution_count": 31,
   "id": "divine-writing",
   "metadata": {
    "ExecuteTime": {
     "end_time": "2021-03-10T05:29:15.885512Z",
     "start_time": "2021-03-10T05:29:15.872513Z"
    }
   },
   "outputs": [
    {
     "name": "stdout",
     "output_type": "stream",
     "text": [
      "########################################### split ###########################################  0\n",
      "train index : \n",
      " [ 30  31  32  33  34  35  36  37  38  39  40  41  42  43  44  45  46  47\n",
      "  48  49  50  51  52  53  54  55  56  57  58  59  60  61  62  63  64  65\n",
      "  66  67  68  69  70  71  72  73  74  75  76  77  78  79  80  81  82  83\n",
      "  84  85  86  87  88  89  90  91  92  93  94  95  96  97  98  99 100 101\n",
      " 102 103 104 105 106 107 108 109 110 111 112 113 114 115 116 117 118 119\n",
      " 120 121 122 123 124 125 126 127 128 129 130 131 132 133 134 135 136 137\n",
      " 138 139 140 141 142 143 144 145 146 147 148 149]\n",
      "test index : \n",
      " [ 0  1  2  3  4  5  6  7  8  9 10 11 12 13 14 15 16 17 18 19 20 21 22 23\n",
      " 24 25 26 27 28 29]\n",
      "\n",
      "########################################### split ###########################################  1\n",
      "train index : \n",
      " [  0   1   2   3   4   5   6   7   8   9  10  11  12  13  14  15  16  17\n",
      "  18  19  20  21  22  23  24  25  26  27  28  29  60  61  62  63  64  65\n",
      "  66  67  68  69  70  71  72  73  74  75  76  77  78  79  80  81  82  83\n",
      "  84  85  86  87  88  89  90  91  92  93  94  95  96  97  98  99 100 101\n",
      " 102 103 104 105 106 107 108 109 110 111 112 113 114 115 116 117 118 119\n",
      " 120 121 122 123 124 125 126 127 128 129 130 131 132 133 134 135 136 137\n",
      " 138 139 140 141 142 143 144 145 146 147 148 149]\n",
      "test index : \n",
      " [30 31 32 33 34 35 36 37 38 39 40 41 42 43 44 45 46 47 48 49 50 51 52 53\n",
      " 54 55 56 57 58 59]\n",
      "\n",
      "########################################### split ###########################################  2\n",
      "train index : \n",
      " [  0   1   2   3   4   5   6   7   8   9  10  11  12  13  14  15  16  17\n",
      "  18  19  20  21  22  23  24  25  26  27  28  29  30  31  32  33  34  35\n",
      "  36  37  38  39  40  41  42  43  44  45  46  47  48  49  50  51  52  53\n",
      "  54  55  56  57  58  59  90  91  92  93  94  95  96  97  98  99 100 101\n",
      " 102 103 104 105 106 107 108 109 110 111 112 113 114 115 116 117 118 119\n",
      " 120 121 122 123 124 125 126 127 128 129 130 131 132 133 134 135 136 137\n",
      " 138 139 140 141 142 143 144 145 146 147 148 149]\n",
      "test index : \n",
      " [60 61 62 63 64 65 66 67 68 69 70 71 72 73 74 75 76 77 78 79 80 81 82 83\n",
      " 84 85 86 87 88 89]\n",
      "\n",
      "########################################### split ###########################################  3\n",
      "train index : \n",
      " [  0   1   2   3   4   5   6   7   8   9  10  11  12  13  14  15  16  17\n",
      "  18  19  20  21  22  23  24  25  26  27  28  29  30  31  32  33  34  35\n",
      "  36  37  38  39  40  41  42  43  44  45  46  47  48  49  50  51  52  53\n",
      "  54  55  56  57  58  59  60  61  62  63  64  65  66  67  68  69  70  71\n",
      "  72  73  74  75  76  77  78  79  80  81  82  83  84  85  86  87  88  89\n",
      " 120 121 122 123 124 125 126 127 128 129 130 131 132 133 134 135 136 137\n",
      " 138 139 140 141 142 143 144 145 146 147 148 149]\n",
      "test index : \n",
      " [ 90  91  92  93  94  95  96  97  98  99 100 101 102 103 104 105 106 107\n",
      " 108 109 110 111 112 113 114 115 116 117 118 119]\n",
      "\n",
      "########################################### split ###########################################  4\n",
      "train index : \n",
      " [  0   1   2   3   4   5   6   7   8   9  10  11  12  13  14  15  16  17\n",
      "  18  19  20  21  22  23  24  25  26  27  28  29  30  31  32  33  34  35\n",
      "  36  37  38  39  40  41  42  43  44  45  46  47  48  49  50  51  52  53\n",
      "  54  55  56  57  58  59  60  61  62  63  64  65  66  67  68  69  70  71\n",
      "  72  73  74  75  76  77  78  79  80  81  82  83  84  85  86  87  88  89\n",
      "  90  91  92  93  94  95  96  97  98  99 100 101 102 103 104 105 106 107\n",
      " 108 109 110 111 112 113 114 115 116 117 118 119]\n",
      "test index : \n",
      " [120 121 122 123 124 125 126 127 128 129 130 131 132 133 134 135 136 137\n",
      " 138 139 140 141 142 143 144 145 146 147 148 149]\n",
      "\n"
     ]
    }
   ],
   "source": [
    "kfold = KFold(n_splits=5) # n개의 데이터세트로 분리하는 KFold 객체 생성\n",
    "\n",
    "c = 0\n",
    "for train_index, test_index in kfold.split(features) :\n",
    "    print(\"########################################### split ########################################### \", c)\n",
    "    print('train index : \\n', train_index)\n",
    "    print('test index : \\n', test_index)\n",
    "    print()\n",
    "    c += 1"
   ]
  },
  {
   "cell_type": "markdown",
   "id": "favorite-nowhere",
   "metadata": {},
   "source": [
    "### Train & Predict & Accuracy IF n_splits=5"
   ]
  },
  {
   "cell_type": "code",
   "execution_count": 32,
   "id": "ethical-dance",
   "metadata": {
    "ExecuteTime": {
     "end_time": "2021-03-10T05:29:15.917529Z",
     "start_time": "2021-03-10T05:29:15.887515Z"
    }
   },
   "outputs": [
    {
     "name": "stdout",
     "output_type": "stream",
     "text": [
      "#1번째 kfold의 정확도 : 1.000, 학습데이터수 : 120, 테스트데이터수 : 30\n",
      "#2번째 kfold의 정확도 : 0.967, 학습데이터수 : 120, 테스트데이터수 : 30\n",
      "#3번째 kfold의 정확도 : 0.833, 학습데이터수 : 120, 테스트데이터수 : 30\n",
      "#4번째 kfold의 정확도 : 0.933, 학습데이터수 : 120, 테스트데이터수 : 30\n",
      "#5번째 kfold의 정확도 : 0.733, 학습데이터수 : 120, 테스트데이터수 : 30\n",
      "### 평균 검증 정확도 :  0.8933333333333333\n"
     ]
    }
   ],
   "source": [
    "kfold = KFold(n_splits=5) # n개의 데이터세트로 분리하는 KFold 객체 생성\n",
    "cv_accuracy = [] # 세트별로 계산된 정확도들을 보관할 리스트\n",
    "\n",
    "c = 0\n",
    "for train_index, test_index in kfold.split(features) :\n",
    "    # Get Data\n",
    "    X_train, X_test = features[train_index], features[test_index]\n",
    "    Y_train, Y_test = label[train_index], label[test_index]\n",
    "    \n",
    "    # Train\n",
    "    dt_clf.fit(X_train, Y_train)\n",
    "    \n",
    "    # Predict\n",
    "    pred = dt_clf.predict(X_test)\n",
    "    \n",
    "    # Accuracy\n",
    "    accuracy = accuracy_score(Y_test, pred)\n",
    "    \n",
    "    c += 1\n",
    "    \n",
    "    # for report    \n",
    "    train_size = X_train.shape[0]\n",
    "    test_size = X_test.shape[0]\n",
    "    \n",
    "    # 정확도, 학습데이터 수, 테스트데이터 수 순으로 확인\n",
    "    print('#{0}번째 kfold의 정확도 : {1:.3f}, 학습데이터수 : {2}, 테스트데이터수 : {3}'.format(c, accuracy, train_size, test_size))\n",
    "    \n",
    "    # 세트별로 계산된 정확도들을 보관할 리스트에 저장\n",
    "    cv_accuracy.append(accuracy)\n",
    "    \n",
    "print(\"### 평균 검증 정확도 : \", np.mean(cv_accuracy))\n",
    "    "
   ]
  },
  {
   "cell_type": "markdown",
   "id": "sensitive-tuning",
   "metadata": {},
   "source": [
    "### Train & Predict & Accuracy IF n_splits=3"
   ]
  },
  {
   "cell_type": "code",
   "execution_count": 33,
   "id": "convenient-today",
   "metadata": {
    "ExecuteTime": {
     "end_time": "2021-03-10T05:29:15.933513Z",
     "start_time": "2021-03-10T05:29:15.919512Z"
    }
   },
   "outputs": [
    {
     "data": {
      "text/plain": [
       "0    50\n",
       "1    50\n",
       "2    50\n",
       "Name: label, dtype: int64"
      ]
     },
     "execution_count": 33,
     "metadata": {},
     "output_type": "execute_result"
    }
   ],
   "source": [
    "iris = load_iris()\n",
    "iris_df = pd.DataFrame(data=iris.data, columns=iris.feature_names)\n",
    "\n",
    "iris_df['label'] = iris.target\n",
    "iris_df['label'].value_counts()"
   ]
  },
  {
   "cell_type": "code",
   "execution_count": 34,
   "id": "reserved-simon",
   "metadata": {
    "ExecuteTime": {
     "end_time": "2021-03-10T05:29:15.949510Z",
     "start_time": "2021-03-10T05:29:15.935512Z"
    }
   },
   "outputs": [
    {
     "name": "stdout",
     "output_type": "stream",
     "text": [
      "########################################### split ###########################################  1\n",
      "train index : \n",
      " [ 50  51  52  53  54  55  56  57  58  59  60  61  62  63  64  65  66  67\n",
      "  68  69  70  71  72  73  74  75  76  77  78  79  80  81  82  83  84  85\n",
      "  86  87  88  89  90  91  92  93  94  95  96  97  98  99 100 101 102 103\n",
      " 104 105 106 107 108 109 110 111 112 113 114 115 116 117 118 119 120 121\n",
      " 122 123 124 125 126 127 128 129 130 131 132 133 134 135 136 137 138 139\n",
      " 140 141 142 143 144 145 146 147 148 149]\n",
      "test index : \n",
      " [ 0  1  2  3  4  5  6  7  8  9 10 11 12 13 14 15 16 17 18 19 20 21 22 23\n",
      " 24 25 26 27 28 29 30 31 32 33 34 35 36 37 38 39 40 41 42 43 44 45 46 47\n",
      " 48 49]\n",
      "\n",
      "########################################### split ###########################################  2\n",
      "train index : \n",
      " [  0   1   2   3   4   5   6   7   8   9  10  11  12  13  14  15  16  17\n",
      "  18  19  20  21  22  23  24  25  26  27  28  29  30  31  32  33  34  35\n",
      "  36  37  38  39  40  41  42  43  44  45  46  47  48  49 100 101 102 103\n",
      " 104 105 106 107 108 109 110 111 112 113 114 115 116 117 118 119 120 121\n",
      " 122 123 124 125 126 127 128 129 130 131 132 133 134 135 136 137 138 139\n",
      " 140 141 142 143 144 145 146 147 148 149]\n",
      "test index : \n",
      " [50 51 52 53 54 55 56 57 58 59 60 61 62 63 64 65 66 67 68 69 70 71 72 73\n",
      " 74 75 76 77 78 79 80 81 82 83 84 85 86 87 88 89 90 91 92 93 94 95 96 97\n",
      " 98 99]\n",
      "\n",
      "########################################### split ###########################################  3\n",
      "train index : \n",
      " [ 0  1  2  3  4  5  6  7  8  9 10 11 12 13 14 15 16 17 18 19 20 21 22 23\n",
      " 24 25 26 27 28 29 30 31 32 33 34 35 36 37 38 39 40 41 42 43 44 45 46 47\n",
      " 48 49 50 51 52 53 54 55 56 57 58 59 60 61 62 63 64 65 66 67 68 69 70 71\n",
      " 72 73 74 75 76 77 78 79 80 81 82 83 84 85 86 87 88 89 90 91 92 93 94 95\n",
      " 96 97 98 99]\n",
      "test index : \n",
      " [100 101 102 103 104 105 106 107 108 109 110 111 112 113 114 115 116 117\n",
      " 118 119 120 121 122 123 124 125 126 127 128 129 130 131 132 133 134 135\n",
      " 136 137 138 139 140 141 142 143 144 145 146 147 148 149]\n",
      "\n"
     ]
    }
   ],
   "source": [
    "kfold = KFold(n_splits=3)\n",
    "c=1\n",
    "\n",
    "for train_index, test_index in kfold.split(iris_df) :\n",
    "    print(\"########################################### split ########################################### \", c)\n",
    "    print('train index : \\n', train_index)\n",
    "    print('test index : \\n', test_index)\n",
    "    print()\n",
    "    c += 1"
   ]
  },
  {
   "cell_type": "code",
   "execution_count": 35,
   "id": "chubby-decrease",
   "metadata": {
    "ExecuteTime": {
     "end_time": "2021-03-10T05:29:15.980510Z",
     "start_time": "2021-03-10T05:29:15.951511Z"
    }
   },
   "outputs": [
    {
     "name": "stdout",
     "output_type": "stream",
     "text": [
      "## 교차 검증 : 1\n",
      "학습 데이터 타겟 분포 : \n",
      " 1    50\n",
      "2    50\n",
      "Name: label, dtype: int64\n",
      "검증 데이터 타겟 분포 : \n",
      " 0    50\n",
      "Name: label, dtype: int64\n",
      "## 교차 검증 : 2\n",
      "학습 데이터 타겟 분포 : \n",
      " 0    50\n",
      "2    50\n",
      "Name: label, dtype: int64\n",
      "검증 데이터 타겟 분포 : \n",
      " 1    50\n",
      "Name: label, dtype: int64\n",
      "## 교차 검증 : 3\n",
      "학습 데이터 타겟 분포 : \n",
      " 0    50\n",
      "1    50\n",
      "Name: label, dtype: int64\n",
      "검증 데이터 타겟 분포 : \n",
      " 2    50\n",
      "Name: label, dtype: int64\n"
     ]
    }
   ],
   "source": [
    "kfold = KFold(n_splits=3)\n",
    "c = 0\n",
    "for train_index, test_index in kfold.split(iris_df) :\n",
    "    c += 1\n",
    "    label_train = iris_df['label'].iloc[train_index]\n",
    "    label_test = iris_df['label'].iloc[test_index]\n",
    "    print('## 교차 검증 : {0}'.format(c))\n",
    "    print('학습 데이터 타겟 분포 : \\n', label_train.value_counts())\n",
    "    print('검증 데이터 타겟 분포 : \\n', label_test.value_counts())\n"
   ]
  },
  {
   "cell_type": "code",
   "execution_count": 36,
   "id": "assumed-right",
   "metadata": {
    "ExecuteTime": {
     "end_time": "2021-03-10T05:29:15.995511Z",
     "start_time": "2021-03-10T05:29:15.985510Z"
    }
   },
   "outputs": [
    {
     "name": "stdout",
     "output_type": "stream",
     "text": [
      "#1번째 kfold의 정확도 : 0.000, 학습데이터수 : 100, 테스트데이터수 : 50\n",
      "#2번째 kfold의 정확도 : 0.000, 학습데이터수 : 100, 테스트데이터수 : 50\n",
      "#3번째 kfold의 정확도 : 0.000, 학습데이터수 : 100, 테스트데이터수 : 50\n",
      "### 평균 검증 정확도 :  0.0\n"
     ]
    }
   ],
   "source": [
    "kfold = KFold(n_splits=3) # n개의 데이터세트로 분리하는 KFold 객체 생성\n",
    "cv_accuracy = [] # 세트별로 계산된 정확도들을 보관할 리스트\n",
    "\n",
    "c = 0\n",
    "for train_index, test_index in kfold.split(features) :\n",
    "    # Get Data\n",
    "    X_train, X_test = features[train_index], features[test_index]\n",
    "    Y_train, Y_test = label[train_index], label[test_index]\n",
    "    \n",
    "    # Train\n",
    "    dt_clf.fit(X_train, Y_train)\n",
    "    \n",
    "    # Predict\n",
    "    pred = dt_clf.predict(X_test)\n",
    "    \n",
    "    # Accuracy\n",
    "    accuracy = accuracy_score(Y_test, pred)\n",
    "    \n",
    "    c += 1\n",
    "    \n",
    "    # for report\n",
    "    train_size = X_train.shape[0]\n",
    "    test_size = X_test.shape[0]\n",
    "    \n",
    "    print('#{0}번째 kfold의 정확도 : {1:.3f}, 학습데이터수 : {2}, 테스트데이터수 : {3}'.format(c, accuracy, train_size, test_size))\n",
    "    \n",
    "    cv_accuracy.append(accuracy)\n",
    "    \n",
    "print(\"### 평균 검증 정확도 : \", np.mean(cv_accuracy))\n",
    "    \n",
    "# 0%인 이유 -\n",
    "# 1번째 : 학습 [0,1], 예측 [2]\n",
    "# 2번째 : 학습 [0,2], 예측 [1]\n",
    "# 3번째 : 학습 [1,2], 예측 [0]"
   ]
  },
  {
   "cell_type": "markdown",
   "id": "informal-parts",
   "metadata": {},
   "source": [
    "### IF n_splits=3일때 0프로나오는 문제점 해결방안\n",
    "- 골고루 섞이지 않아 예측이 0%인 현상이 발생하였으므로, 골고루 섞어줄 StratifiedKFold를 사용해본다"
   ]
  },
  {
   "cell_type": "code",
   "execution_count": 37,
   "id": "graphic-master",
   "metadata": {
    "ExecuteTime": {
     "end_time": "2021-03-10T05:29:16.011509Z",
     "start_time": "2021-03-10T05:29:15.997510Z"
    }
   },
   "outputs": [],
   "source": [
    "from sklearn.model_selection import StratifiedKFold\n",
    "skf = StratifiedKFold(n_splits=3)"
   ]
  },
  {
   "cell_type": "code",
   "execution_count": 38,
   "id": "tropical-somewhere",
   "metadata": {
    "ExecuteTime": {
     "end_time": "2021-03-10T05:29:16.041509Z",
     "start_time": "2021-03-10T05:29:16.013508Z"
    }
   },
   "outputs": [
    {
     "name": "stdout",
     "output_type": "stream",
     "text": [
      "## 교차 검증 : 1\n",
      "학습 데이터 타겟 분포 : \n",
      " 2    34\n",
      "0    33\n",
      "1    33\n",
      "Name: label, dtype: int64\n",
      "검증 데이터 타겟 분포 : \n",
      " 0    17\n",
      "1    17\n",
      "2    16\n",
      "Name: label, dtype: int64\n",
      "## 교차 검증 : 2\n",
      "학습 데이터 타겟 분포 : \n",
      " 1    34\n",
      "0    33\n",
      "2    33\n",
      "Name: label, dtype: int64\n",
      "검증 데이터 타겟 분포 : \n",
      " 0    17\n",
      "2    17\n",
      "1    16\n",
      "Name: label, dtype: int64\n",
      "## 교차 검증 : 3\n",
      "학습 데이터 타겟 분포 : \n",
      " 0    34\n",
      "1    33\n",
      "2    33\n",
      "Name: label, dtype: int64\n",
      "검증 데이터 타겟 분포 : \n",
      " 1    17\n",
      "2    17\n",
      "0    16\n",
      "Name: label, dtype: int64\n"
     ]
    }
   ],
   "source": [
    "c = 0\n",
    "for train_index, test_index in skf.split(iris_df, iris_df['label']) :\n",
    "    c += 1\n",
    "    label_train = iris_df['label'].iloc[train_index]\n",
    "    label_test = iris_df['label'].iloc[test_index]\n",
    "    print('## 교차 검증 : {0}'.format(c))\n",
    "    print('학습 데이터 타겟 분포 : \\n', label_train.value_counts())\n",
    "    print('검증 데이터 타겟 분포 : \\n', label_test.value_counts())"
   ]
  },
  {
   "cell_type": "code",
   "execution_count": 39,
   "id": "handled-platform",
   "metadata": {
    "ExecuteTime": {
     "end_time": "2021-03-10T05:29:16.057507Z",
     "start_time": "2021-03-10T05:29:16.042508Z"
    }
   },
   "outputs": [
    {
     "name": "stdout",
     "output_type": "stream",
     "text": [
      "#1번째 kfold의 정확도 : 0.980, 학습데이터수 : 100, 테스트데이터수 : 50\n",
      "#2번째 kfold의 정확도 : 0.940, 학습데이터수 : 100, 테스트데이터수 : 50\n",
      "#3번째 kfold의 정확도 : 1.000, 학습데이터수 : 100, 테스트데이터수 : 50\n",
      "### 평균 검증 정확도 :  0.9733333333333333\n"
     ]
    }
   ],
   "source": [
    "kfold = KFold(n_splits=3) # n개의 데이터세트로 분리하는 KFold 객체 생성\n",
    "cv_accuracy = [] # 세트별로 계산된 정확도들을 보관할 리스트\n",
    "\n",
    "c = 0\n",
    "for train_index, test_index in skf.split(iris_df, iris_df['label']) :\n",
    "    # Get Data\n",
    "    X_train, X_test = features[train_index], features[test_index]\n",
    "    Y_train, Y_test = label[train_index], label[test_index]\n",
    "    \n",
    "    # Train\n",
    "    dt_clf.fit(X_train, Y_train)\n",
    "    \n",
    "    # Predict\n",
    "    pred = dt_clf.predict(X_test)\n",
    "    \n",
    "    # Accuracy\n",
    "    accuracy = accuracy_score(Y_test, pred)\n",
    "    \n",
    "    c += 1\n",
    "    \n",
    "    # for report\n",
    "    train_size = X_train.shape[0]\n",
    "    test_size = X_test.shape[0]\n",
    "    \n",
    "    print('#{0}번째 kfold의 정확도 : {1:.3f}, 학습데이터수 : {2}, 테스트데이터수 : {3}'.format(c, accuracy, train_size, test_size))\n",
    "    \n",
    "    cv_accuracy.append(accuracy)\n",
    "    \n",
    "print(\"### 평균 검증 정확도 : \", np.mean(cv_accuracy))\n",
    "    \n",
    "# 0%인 이유 -\n",
    "# 1번째 : 학습 [0,1], 예측 [2]\n",
    "# 2번째 : 학습 [0,2], 예측 [1]\n",
    "# 3번째 : 학습 [1,2], 예측 [0]"
   ]
  },
  {
   "cell_type": "markdown",
   "id": "separated-carpet",
   "metadata": {},
   "source": [
    "## Cross_val_score"
   ]
  },
  {
   "cell_type": "markdown",
   "id": "objective-accent",
   "metadata": {},
   "source": [
    "### Import modules"
   ]
  },
  {
   "cell_type": "code",
   "execution_count": 40,
   "id": "seeing-malta",
   "metadata": {
    "ExecuteTime": {
     "end_time": "2021-03-10T05:29:16.073506Z",
     "start_time": "2021-03-10T05:29:16.058507Z"
    }
   },
   "outputs": [],
   "source": [
    "from sklearn.model_selection import cross_val_score"
   ]
  },
  {
   "cell_type": "markdown",
   "id": "closed-violin",
   "metadata": {},
   "source": [
    "### Ready Target"
   ]
  },
  {
   "cell_type": "code",
   "execution_count": 41,
   "id": "nominated-taxation",
   "metadata": {
    "ExecuteTime": {
     "end_time": "2021-03-10T05:29:16.089507Z",
     "start_time": "2021-03-10T05:29:16.075506Z"
    }
   },
   "outputs": [],
   "source": [
    "iris_data = load_iris()\n",
    "dt_clf = DecisionTreeClassifier()\n",
    "data = iris_data.data\n",
    "label = iris_data.target"
   ]
  },
  {
   "cell_type": "markdown",
   "id": "indian-yield",
   "metadata": {},
   "source": [
    "### Instance"
   ]
  },
  {
   "cell_type": "code",
   "execution_count": 42,
   "id": "higher-associate",
   "metadata": {
    "ExecuteTime": {
     "end_time": "2021-03-10T05:29:16.105506Z",
     "start_time": "2021-03-10T05:29:16.090507Z"
    }
   },
   "outputs": [],
   "source": [
    "scores = cross_val_score(dt_clf, data, label, scoring='accuracy', cv=3)\n",
    "# 교차 검증 세트(cv)는 3개\n",
    "# scoring='accuracy' 평가도구 - 정확도\n",
    "# 알고리즘 모델(estimator) : DecisionTreeClassifier\n",
    "# data : feature\n",
    "# label : target\n",
    "# 균등 교차 검증의 결과가 scores 리스트에 저장됨"
   ]
  },
  {
   "cell_type": "markdown",
   "id": "filled-draft",
   "metadata": {},
   "source": [
    "### Check"
   ]
  },
  {
   "cell_type": "code",
   "execution_count": 43,
   "id": "correct-cheat",
   "metadata": {
    "ExecuteTime": {
     "end_time": "2021-03-10T05:29:16.120506Z",
     "start_time": "2021-03-10T05:29:16.106507Z"
    }
   },
   "outputs": [
    {
     "name": "stdout",
     "output_type": "stream",
     "text": [
      "교차 검증별 정확도 :  [0.98 0.92 1.  ]\n",
      "평균 검증 정확도 :  0.9666666666666667\n"
     ]
    }
   ],
   "source": [
    "print('교차 검증별 정확도 : ', scores)\n",
    "print('평균 검증 정확도 : ', np.mean(scores))"
   ]
  },
  {
   "cell_type": "code",
   "execution_count": null,
   "id": "thick-theater",
   "metadata": {},
   "outputs": [],
   "source": []
  }
 ],
 "metadata": {
  "hide_input": false,
  "kernelspec": {
   "display_name": "Python 3",
   "language": "python",
   "name": "python3"
  },
  "language_info": {
   "codemirror_mode": {
    "name": "ipython",
    "version": 3
   },
   "file_extension": ".py",
   "mimetype": "text/x-python",
   "name": "python",
   "nbconvert_exporter": "python",
   "pygments_lexer": "ipython3",
   "version": "3.8.5"
  },
  "toc": {
   "base_numbering": 1,
   "nav_menu": {},
   "number_sections": true,
   "sideBar": true,
   "skip_h1_title": false,
   "title_cell": "Table of Contents",
   "title_sidebar": "Contents",
   "toc_cell": false,
   "toc_position": {
    "height": "calc(100% - 180px)",
    "left": "10px",
    "top": "150px",
    "width": "383.594px"
   },
   "toc_section_display": true,
   "toc_window_display": false
  },
  "varInspector": {
   "cols": {
    "lenName": 16,
    "lenType": 16,
    "lenVar": 40
   },
   "kernels_config": {
    "python": {
     "delete_cmd_postfix": "",
     "delete_cmd_prefix": "del ",
     "library": "var_list.py",
     "varRefreshCmd": "print(var_dic_list())"
    },
    "r": {
     "delete_cmd_postfix": ") ",
     "delete_cmd_prefix": "rm(",
     "library": "var_list.r",
     "varRefreshCmd": "cat(var_dic_list()) "
    }
   },
   "types_to_exclude": [
    "module",
    "function",
    "builtin_function_or_method",
    "instance",
    "_Feature"
   ],
   "window_display": false
  }
 },
 "nbformat": 4,
 "nbformat_minor": 5
}
