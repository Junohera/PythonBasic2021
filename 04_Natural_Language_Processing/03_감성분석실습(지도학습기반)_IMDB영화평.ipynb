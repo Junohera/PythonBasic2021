{
 "cells": [
  {
   "cell_type": "code",
   "execution_count": 115,
   "id": "gentle-causing",
   "metadata": {
    "ExecuteTime": {
     "end_time": "2021-03-23T08:19:49.229221Z",
     "start_time": "2021-03-23T08:19:48.873222Z"
    }
   },
   "outputs": [
    {
     "data": {
      "text/html": [
       "<div>\n",
       "<style scoped>\n",
       "    .dataframe tbody tr th:only-of-type {\n",
       "        vertical-align: middle;\n",
       "    }\n",
       "\n",
       "    .dataframe tbody tr th {\n",
       "        vertical-align: top;\n",
       "    }\n",
       "\n",
       "    .dataframe thead th {\n",
       "        text-align: right;\n",
       "    }\n",
       "</style>\n",
       "<table border=\"1\" class=\"dataframe\">\n",
       "  <thead>\n",
       "    <tr style=\"text-align: right;\">\n",
       "      <th></th>\n",
       "      <th>id</th>\n",
       "      <th>sentiment</th>\n",
       "      <th>review</th>\n",
       "    </tr>\n",
       "  </thead>\n",
       "  <tbody>\n",
       "    <tr>\n",
       "      <th>0</th>\n",
       "      <td>\"5814_8\"</td>\n",
       "      <td>1</td>\n",
       "      <td>\"With all this stuff going down at the moment ...</td>\n",
       "    </tr>\n",
       "    <tr>\n",
       "      <th>1</th>\n",
       "      <td>\"2381_9\"</td>\n",
       "      <td>1</td>\n",
       "      <td>\"\\\"The Classic War of the Worlds\\\" by Timothy ...</td>\n",
       "    </tr>\n",
       "    <tr>\n",
       "      <th>2</th>\n",
       "      <td>\"7759_3\"</td>\n",
       "      <td>0</td>\n",
       "      <td>\"The film starts with a manager (Nicholas Bell...</td>\n",
       "    </tr>\n",
       "  </tbody>\n",
       "</table>\n",
       "</div>"
      ],
      "text/plain": [
       "         id  sentiment                                             review\n",
       "0  \"5814_8\"          1  \"With all this stuff going down at the moment ...\n",
       "1  \"2381_9\"          1  \"\\\"The Classic War of the Worlds\\\" by Timothy ...\n",
       "2  \"7759_3\"          0  \"The film starts with a manager (Nicholas Bell..."
      ]
     },
     "execution_count": 115,
     "metadata": {},
     "output_type": "execute_result"
    }
   ],
   "source": [
    "import warnings\n",
    "warnings.filterwarnings('ignore')\n",
    "from sklearn.feature_extraction.text import CountVectorizer\n",
    "from sklearn.pipeline import Pipeline\n",
    "from sklearn.linear_model import LogisticRegression\n",
    "from sklearn.metrics import accuracy_score\n",
    "from sklearn.model_selection import train_test_split\n",
    "import re\n",
    "import pandas as pd\n",
    "review_df = pd.read_csv('./labeledTrainData.tsv', header=0, sep='\\t', quoting=3)\n",
    "# header = 0 : 파일의 첫번째 줄이 열이름\n",
    "# quoting = 3 : 큰따옴표 무시\n",
    "review_df.head(3)"
   ]
  },
  {
   "cell_type": "code",
   "execution_count": 116,
   "id": "becoming-kinase",
   "metadata": {
    "ExecuteTime": {
     "end_time": "2021-03-23T08:19:49.245210Z",
     "start_time": "2021-03-23T08:19:49.230210Z"
    }
   },
   "outputs": [
    {
     "name": "stdout",
     "output_type": "stream",
     "text": [
      "\"With all this stuff going down at the moment with MJ i've started listening to his music, watching the odd documentary here and there, watched The Wiz and watched Moonwalker again. Maybe i just want to get a certain insight into this guy who i thought was really cool in the eighties just to maybe make up my mind whether he is guilty or innocent. Moonwalker is part biography, part feature film which i remember going to see at the cinema when it was originally released. Some of it has subtle messages about MJ's feeling towards the press and also the obvious message of drugs are bad m'kay.<br /><br />Visually impressive but of course this is all about Michael Jackson so unless you remotely like MJ in anyway then you are going to hate this and find it boring. Some may call MJ an egotist for consenting to the making of this movie BUT MJ and most of his fans would say that he made it for the fans which if true is really nice of him.<br /><br />The actual feature film bit when it finally starts is only on for 20 minutes or so excluding the Smooth Criminal sequence and Joe Pesci is convincing as a psychopathic all powerful drug lord. Why he wants MJ dead so bad is beyond me. Because MJ overheard his plans? Nah, Joe Pesci's character ranted that he wanted people to know it is he who is supplying drugs etc so i dunno, maybe he just hates MJ's music.<br /><br />Lots of cool things in this like MJ turning into a car and a robot and the whole Speed Demon sequence. Also, the director must have had the patience of a saint when it came to filming the kiddy Bad sequence as usually directors hate working with one kid let alone a whole bunch of them performing a complex dance scene.<br /><br />Bottom line, this movie is for people who like MJ on one level or another (which i think is most people). If not, then stay away. It does try and give off a wholesome message and ironically MJ's bestest buddy in this movie is a girl! Michael Jackson is truly one of the most talented people ever to grace this planet but is he guilty? Well, with all the attention i've gave this subject....hmmm well i don't know because people can be different behind closed doors, i know this for a fact. He is either an extremely nice but stupid guy or one of the most sickest liars. I hope he is not the latter.\"\n"
     ]
    }
   ],
   "source": [
    "print(review_df['review'][0])"
   ]
  },
  {
   "cell_type": "markdown",
   "id": "romantic-combine",
   "metadata": {
    "ExecuteTime": {
     "end_time": "2021-03-23T04:50:41.053159Z",
     "start_time": "2021-03-23T04:50:41.038145Z"
    }
   },
   "source": [
    "#### str 클래스의 replace를 이용하여 '\\<br>' 태그를  ''로 변환하세요"
   ]
  },
  {
   "cell_type": "markdown",
   "id": "level-stage",
   "metadata": {},
   "source": [
    "#### 정규표현식을 이용하여 영어 문자열이 아닌 문자는 모두 공백으로 변환하세요(apply와 lambda이용)"
   ]
  },
  {
   "cell_type": "code",
   "execution_count": 117,
   "id": "blank-research",
   "metadata": {
    "ExecuteTime": {
     "end_time": "2021-03-23T08:19:51.014706Z",
     "start_time": "2021-03-23T08:19:49.247211Z"
    }
   },
   "outputs": [
    {
     "data": {
      "text/plain": [
       "' With all this stuff going down at the moment with MJ i ve started listening to his music  watching the odd documentary here and there  watched The Wiz and watched Moonwalker again  Maybe i just want to get a certain insight into this guy who i thought was really cool in the eighties just to maybe make up my mind whether he is guilty or innocent  Moonwalker is part biography  part feature film which i remember going to see at the cinema when it was originally released  Some of it has subtle messages about MJ s feeling towards the press and also the obvious message of drugs are bad m kay Visually impressive but of course this is all about Michael Jackson so unless you remotely like MJ in anyway then you are going to hate this and find it boring  Some may call MJ an egotist for consenting to the making of this movie BUT MJ and most of his fans would say that he made it for the fans which if true is really nice of him The actual feature film bit when it finally starts is only on for    minutes or so excluding the Smooth Criminal sequence and Joe Pesci is convincing as a psychopathic all powerful drug lord  Why he wants MJ dead so bad is beyond me  Because MJ overheard his plans  Nah  Joe Pesci s character ranted that he wanted people to know it is he who is supplying drugs etc so i dunno  maybe he just hates MJ s music Lots of cool things in this like MJ turning into a car and a robot and the whole Speed Demon sequence  Also  the director must have had the patience of a saint when it came to filming the kiddy Bad sequence as usually directors hate working with one kid let alone a whole bunch of them performing a complex dance scene Bottom line  this movie is for people who like MJ on one level or another  which i think is most people   If not  then stay away  It does try and give off a wholesome message and ironically MJ s bestest buddy in this movie is a girl  Michael Jackson is truly one of the most talented people ever to grace this planet but is he guilty  Well  with all the attention i ve gave this subject    hmmm well i don t know because people can be different behind closed doors  i know this for a fact  He is either an extremely nice but stupid guy or one of the most sickest liars  I hope he is not the latter  '"
      ]
     },
     "execution_count": 117,
     "metadata": {},
     "output_type": "execute_result"
    }
   ],
   "source": [
    "review_df['review'] = review_df['review'].apply(lambda x : re.sub('[^a-zA-Z]', ' ', x.replace('<br />', '')))\n",
    "review_df['review'][0]"
   ]
  },
  {
   "cell_type": "markdown",
   "id": "arabic-valentine",
   "metadata": {},
   "source": [
    "#### 학습/테스트 데이터 분리하세요(train_test_split함수 이용)"
   ]
  },
  {
   "cell_type": "code",
   "execution_count": 118,
   "id": "incorporated-replacement",
   "metadata": {
    "ExecuteTime": {
     "end_time": "2021-03-23T08:19:51.030709Z",
     "start_time": "2021-03-23T08:19:51.016707Z"
    }
   },
   "outputs": [],
   "source": [
    "Y_target = review_df['sentiment']\n",
    "X_data = review_df.drop(['sentiment', 'id'], axis=1)\n",
    "\n",
    "X_train, X_test, y_train, y_test = train_test_split(X_data, Y_target, test_size=0.3, random_state=156)"
   ]
  },
  {
   "cell_type": "code",
   "execution_count": 119,
   "id": "aquatic-guitar",
   "metadata": {
    "ExecuteTime": {
     "end_time": "2021-03-23T08:19:51.046707Z",
     "start_time": "2021-03-23T08:19:51.032709Z"
    }
   },
   "outputs": [
    {
     "data": {
      "text/html": [
       "<div>\n",
       "<style scoped>\n",
       "    .dataframe tbody tr th:only-of-type {\n",
       "        vertical-align: middle;\n",
       "    }\n",
       "\n",
       "    .dataframe tbody tr th {\n",
       "        vertical-align: top;\n",
       "    }\n",
       "\n",
       "    .dataframe thead th {\n",
       "        text-align: right;\n",
       "    }\n",
       "</style>\n",
       "<table border=\"1\" class=\"dataframe\">\n",
       "  <thead>\n",
       "    <tr style=\"text-align: right;\">\n",
       "      <th></th>\n",
       "      <th>review</th>\n",
       "    </tr>\n",
       "  </thead>\n",
       "  <tbody>\n",
       "    <tr>\n",
       "      <th>3724</th>\n",
       "      <td>This version moved a little slow for my taste...</td>\n",
       "    </tr>\n",
       "    <tr>\n",
       "      <th>23599</th>\n",
       "      <td>I really enjoyed this film because I have a t...</td>\n",
       "    </tr>\n",
       "    <tr>\n",
       "      <th>11331</th>\n",
       "      <td>Saw this in the theater in     and fell out o...</td>\n",
       "    </tr>\n",
       "    <tr>\n",
       "      <th>15745</th>\n",
       "      <td>Recently I was looking for the newly issued W...</td>\n",
       "    </tr>\n",
       "    <tr>\n",
       "      <th>845</th>\n",
       "      <td>Escaping the life of being pimped by her fath...</td>\n",
       "    </tr>\n",
       "    <tr>\n",
       "      <th>...</th>\n",
       "      <td>...</td>\n",
       "    </tr>\n",
       "    <tr>\n",
       "      <th>6955</th>\n",
       "      <td>This is a generally nice film  with good stor...</td>\n",
       "    </tr>\n",
       "    <tr>\n",
       "      <th>7653</th>\n",
       "      <td>The real shame of   The Gathering   is not in...</td>\n",
       "    </tr>\n",
       "    <tr>\n",
       "      <th>9634</th>\n",
       "      <td>In what could have been an otherwise run of t...</td>\n",
       "    </tr>\n",
       "    <tr>\n",
       "      <th>6860</th>\n",
       "      <td>Excellent P O W  adventure  adapted by Eric W...</td>\n",
       "    </tr>\n",
       "    <tr>\n",
       "      <th>24108</th>\n",
       "      <td>This one features all the  bad  effect of Pri...</td>\n",
       "    </tr>\n",
       "  </tbody>\n",
       "</table>\n",
       "<p>17500 rows × 1 columns</p>\n",
       "</div>"
      ],
      "text/plain": [
       "                                                  review\n",
       "3724    This version moved a little slow for my taste...\n",
       "23599   I really enjoyed this film because I have a t...\n",
       "11331   Saw this in the theater in     and fell out o...\n",
       "15745   Recently I was looking for the newly issued W...\n",
       "845     Escaping the life of being pimped by her fath...\n",
       "...                                                  ...\n",
       "6955    This is a generally nice film  with good stor...\n",
       "7653    The real shame of   The Gathering   is not in...\n",
       "9634    In what could have been an otherwise run of t...\n",
       "6860    Excellent P O W  adventure  adapted by Eric W...\n",
       "24108   This one features all the  bad  effect of Pri...\n",
       "\n",
       "[17500 rows x 1 columns]"
      ]
     },
     "execution_count": 119,
     "metadata": {},
     "output_type": "execute_result"
    }
   ],
   "source": [
    "X_train"
   ]
  },
  {
   "cell_type": "code",
   "execution_count": 120,
   "id": "recreational-lucas",
   "metadata": {
    "ExecuteTime": {
     "end_time": "2021-03-23T08:19:51.062716Z",
     "start_time": "2021-03-23T08:19:51.048707Z"
    }
   },
   "outputs": [
    {
     "data": {
      "text/plain": [
       "3724     0\n",
       "23599    1\n",
       "11331    1\n",
       "15745    1\n",
       "845      1\n",
       "        ..\n",
       "6955     1\n",
       "7653     0\n",
       "9634     0\n",
       "6860     1\n",
       "24108    0\n",
       "Name: sentiment, Length: 17500, dtype: int64"
      ]
     },
     "execution_count": 120,
     "metadata": {},
     "output_type": "execute_result"
    }
   ],
   "source": [
    "y_train"
   ]
  },
  {
   "cell_type": "markdown",
   "id": "other-russian",
   "metadata": {},
   "source": [
    "#### 파이프라인에 LogisticRegression 객체를 넣어 학습하고 예측하세요\n",
    "- CountVecrorize 이용\n",
    "    - stop_words='english', ngram_range=(1, 2)\n",
    "- 성능평가 출력은 정확도를 사용하세요.(C=10)"
   ]
  },
  {
   "cell_type": "code",
   "execution_count": 121,
   "id": "transparent-charger",
   "metadata": {
    "ExecuteTime": {
     "end_time": "2021-03-23T08:20:26.525736Z",
     "start_time": "2021-03-23T08:19:51.064707Z"
    }
   },
   "outputs": [
    {
     "name": "stdout",
     "output_type": "stream",
     "text": [
      "Pipeline & Count Vectorized - Logistic Regression의 예측 정확도는 : 0.886\n"
     ]
    }
   ],
   "source": [
    "pipeline = Pipeline([\n",
    "    ('count_vect', CountVectorizer(stop_words='english', ngram_range=(1, 2))),\n",
    "    ('lr_clf', LogisticRegression(C=10))\n",
    "])\n",
    "\n",
    "pipeline.fit(X_train['review'], y_train)\n",
    "pred = pipeline.predict(X_test['review'])\n",
    "\n",
    "print('Pipeline & Count Vectorized - Logistic Regression의 예측 정확도는 : {0:.3f}'.format(accuracy_score(y_test, pred)))"
   ]
  },
  {
   "cell_type": "code",
   "execution_count": 122,
   "id": "polished-opportunity",
   "metadata": {
    "ExecuteTime": {
     "end_time": "2021-03-23T08:20:26.540737Z",
     "start_time": "2021-03-23T08:20:26.527738Z"
    }
   },
   "outputs": [],
   "source": [
    "import nltk\n",
    "from nltk.corpus import sentiwordnet as swn"
   ]
  },
  {
   "cell_type": "code",
   "execution_count": 123,
   "id": "sealed-victim",
   "metadata": {
    "ExecuteTime": {
     "end_time": "2021-03-23T08:20:26.586673Z",
     "start_time": "2021-03-23T08:20:26.544739Z"
    }
   },
   "outputs": [
    {
     "name": "stdout",
     "output_type": "stream",
     "text": [
      "father 긍정감성 지수 :  0.0\n",
      "father 부정감성 지수 :  0.0\n",
      "father 객관성 지수 :  1.0\n",
      "\n",
      "fabulous 긍정감성 지수 :  0.875\n",
      "fabulous 부정감성 지수 :  0.125\n",
      "fabulous 객관성 지수 :  0.0\n"
     ]
    }
   ],
   "source": [
    "father = swn.senti_synset('father.n.01')\n",
    "print('father 긍정감성 지수 : ', father.pos_score())\n",
    "print('father 부정감성 지수 : ', father.neg_score())\n",
    "print('father 객관성 지수 : ', father.obj_score())\n",
    "print()\n",
    "fabulous = swn.senti_synset('fabulous.a.01')\n",
    "print('fabulous 긍정감성 지수 : ', fabulous.pos_score())\n",
    "print('fabulous 부정감성 지수 : ', fabulous.neg_score())\n",
    "print('fabulous 객관성 지수 : ', fabulous.obj_score())"
   ]
  },
  {
   "cell_type": "code",
   "execution_count": 124,
   "id": "modern-photograph",
   "metadata": {
    "ExecuteTime": {
     "end_time": "2021-03-23T08:20:26.602744Z",
     "start_time": "2021-03-23T08:20:26.588731Z"
    }
   },
   "outputs": [],
   "source": [
    "from nltk.stem import WordNetLemmatizer\n",
    "from nltk.corpus import sentiwordnet as swn\n",
    "from nltk import sent_tokenize, word_tokenize, pos_tag\n",
    "# pos_tag : 입력 단어에 세부품사를 추출하는 모듈\n",
    "from nltk.corpus import wordnet as wn"
   ]
  },
  {
   "cell_type": "markdown",
   "id": "knowing-haiti",
   "metadata": {},
   "source": [
    "### 비지도학습 기반 감성 분석 실습 - IMDB 영화평"
   ]
  },
  {
   "cell_type": "code",
   "execution_count": 125,
   "id": "covered-ground",
   "metadata": {
    "ExecuteTime": {
     "end_time": "2021-03-23T08:20:28.712934Z",
     "start_time": "2021-03-23T08:20:26.606736Z"
    }
   },
   "outputs": [],
   "source": [
    "import warnings\n",
    "warnings.filterwarnings('ignore')\n",
    "\n",
    "import pandas as pd\n",
    "import re\n",
    "review_df = pd.read_csv('./labeledTrainData.tsv', header=0, sep='\\t', quoting=3)\n",
    "review_df['review'] = review_df['review'].apply(lambda x : re.sub('[^a-zA-Z]', ' ', x.replace('<br />', '')))\n",
    "\n",
    "from sklearn.model_selection import train_test_split\n",
    "class_df = review_df['sentiment']\n",
    "feature_df = review_df.drop(['id', 'sentiment'], axis=1, inplace=False)\n",
    "X_train, X_test, y_train, y_test = train_test_split(feature_df, class_df, test_size=0.3, random_state=156)"
   ]
  },
  {
   "cell_type": "code",
   "execution_count": 126,
   "id": "given-rhythm",
   "metadata": {
    "ExecuteTime": {
     "end_time": "2021-03-23T08:20:28.728545Z",
     "start_time": "2021-03-23T08:20:28.713938Z"
    }
   },
   "outputs": [],
   "source": [
    "# 품사태그를 전달 받아서 해당 품사객체를 리턴하는 함수 제작\n",
    "def penn_to_wn(tag) :\n",
    "    if tag.startswith('J') : # 형용사\n",
    "        return wn.ADJ\n",
    "    elif tag.startswith('N') : # 명사\n",
    "        return wn.NOUN\n",
    "    elif tag.startswith('R') : # 부사\n",
    "        return wn.ADV\n",
    "    elif tag.startswith('V') : # 동사\n",
    "        return wn.VERB\n",
    "    return"
   ]
  },
  {
   "cell_type": "code",
   "execution_count": 127,
   "id": "impressed-canal",
   "metadata": {
    "ExecuteTime": {
     "end_time": "2021-03-23T08:20:28.744521Z",
     "start_time": "2021-03-23T08:20:28.730545Z"
    }
   },
   "outputs": [],
   "source": [
    "# 문장을 전달인수로 받고, 부정감성지수와 긍정감성지수의 연산으로 결정된\n",
    "# 0 또는 1을 리턴하는 함수 제작\n",
    "def swn_polarity(text) : # text 예는 문장이 전달 : review_df['review'][0]\n",
    "    # 0 또는 1의 값을 결정할 감성지수를 저장할 변수 생성 & 초기화\n",
    "    sentiment = 0.0\n",
    "    tokens_count = 0\n",
    "    \n",
    "    # 단어의 어원(표준형)을 찾아줄 객체 생성\n",
    "    lemmatizer = WordNetLemmatizer()\n",
    "    \n",
    "    # 전달된 텍스트를 문장별로 분리\n",
    "    raw_sentences = sent_tokenize(text)\n",
    "    \n",
    "    for rs in raw_sentences :\n",
    "        ts = pos_tag(word_tokenize(rs))\n",
    "        for word, tag in ts :\n",
    "            wn_tag = penn_to_wn(tag)\n",
    "            if wn_tag not in (wn.NOUN, wn.ADJ, wn.ADV):\n",
    "                continue # 명사, 형용사, 동사 아니면 다음 반복 : 분석에 필요없는 품사 제외\n",
    "            # 단어의 어근(표준형) 추출\n",
    "            lemma = lemmatizer.lemmatize(word, pos=wn_tag)\n",
    "            # 어근을 추출한 단어와 WordNet 기반 품사 태깅을 입력해 Synset 객체를 생성\n",
    "            synsets = wn.synsets(lemma, pos=wn_tag)\n",
    "            if not synsets : # 생성한 synset 리스트가 비었으면 다음\n",
    "                continue\n",
    "            # print(synsets)\n",
    "            \n",
    "            # sentiwordnet의 감성 단어 분석으로 감성 synset 추출\n",
    "            # 모든 단어에 대해 긍정 감성 지수는 +로\n",
    "            # 부정 감성 지수는 -로 합산해 감성 지수 계산.\n",
    "            synset = synsets[0]\n",
    "            swn_synset = swn.senti_synset(synset.name())\n",
    "            sentiment += (swn_synset.pos_score() - swn_synset.neg_score())\n",
    "            tokens_count += 1\n",
    "        if not tokens_count :\n",
    "            return 0\n",
    "        \n",
    "        # 총 score가 0이상일 경우, 긍정(Postive), 그렇지 않으면 부정(Negative) 0\n",
    "        if sentiment >= 0:\n",
    "            return 1\n",
    "        return 0"
   ]
  },
  {
   "cell_type": "code",
   "execution_count": 128,
   "id": "institutional-abuse",
   "metadata": {
    "ExecuteTime": {
     "end_time": "2021-03-23T08:20:28.775532Z",
     "start_time": "2021-03-23T08:20:28.746520Z"
    }
   },
   "outputs": [
    {
     "data": {
      "text/plain": [
       "0"
      ]
     },
     "execution_count": 128,
     "metadata": {},
     "output_type": "execute_result"
    }
   ],
   "source": [
    "swn_polarity(review_df['review'][0])"
   ]
  },
  {
   "cell_type": "markdown",
   "id": "incorporate-provider",
   "metadata": {},
   "source": [
    "- NNP : 단순 고유명사\n",
    "- VB : 동사\n",
    "- VBP : 동사 현재형\n",
    "- TO : to 전치사\n",
    "- NN : 명사(단수형 또는 집합형)\n",
    "- DT : 관형사\n",
    "- RB : 부사"
   ]
  },
  {
   "cell_type": "code",
   "execution_count": null,
   "id": "compressed-limitation",
   "metadata": {
    "ExecuteTime": {
     "start_time": "2021-03-23T08:19:48.893Z"
    }
   },
   "outputs": [],
   "source": [
    "review_df['preds'] = review_df['review'].apply(lambda x : swn_polarity(x))"
   ]
  },
  {
   "cell_type": "code",
   "execution_count": null,
   "id": "available-start",
   "metadata": {
    "ExecuteTime": {
     "start_time": "2021-03-23T08:19:48.895Z"
    }
   },
   "outputs": [],
   "source": [
    "y_target = review_df['sentiment'].values # 실제값\n",
    "preds = review_df['preds'].values # 예측값"
   ]
  },
  {
   "cell_type": "code",
   "execution_count": null,
   "id": "minor-attraction",
   "metadata": {
    "ExecuteTime": {
     "start_time": "2021-03-23T08:19:48.897Z"
    }
   },
   "outputs": [],
   "source": [
    "from sklearn.metrics import accuracy_scoreacy_score, precision_scorem, confusion_matrix\n",
    "from sklearn.metrics import recall_score, f1_score, roc_auc_score\n",
    "\n",
    "print(confusion_matrix(y_target, preds))\n",
    "print(\"정확도 : \", accuracy_score(y_target, preds))\n",
    "print(\"정밀도 : \", precision_score(y_target, preds))\n",
    "print(\"재현율 : \", recall_score(y_target, preds))"
   ]
  },
  {
   "cell_type": "code",
   "execution_count": null,
   "id": "south-subcommittee",
   "metadata": {
    "ExecuteTime": {
     "start_time": "2021-03-23T08:21:13.780Z"
    }
   },
   "outputs": [],
   "source": [
    "from nltk.sentiment.vader import SentimentIntensityAnalyzer\n",
    "\n",
    "senti_analyzer = SentimentIntensityAnalyzer()\n",
    "senti_scores = senti_analyzer.polarity_scores(review_df['review'][3])\n",
    "print(senti_scores)"
   ]
  },
  {
   "cell_type": "code",
   "execution_count": null,
   "id": "strong-porcelain",
   "metadata": {},
   "outputs": [],
   "source": [
    "def vader_polarity(review, threshold=0.1) :\n",
    "    analyzer = SentimentIntensityAnalyzer()\n",
    "    scores = analyzer.polarity_scores(review)\n",
    "    \n",
    "    "
   ]
  }
 ],
 "metadata": {
  "hide_input": false,
  "kernelspec": {
   "display_name": "Python 3",
   "language": "python",
   "name": "python3"
  },
  "language_info": {
   "codemirror_mode": {
    "name": "ipython",
    "version": 3
   },
   "file_extension": ".py",
   "mimetype": "text/x-python",
   "name": "python",
   "nbconvert_exporter": "python",
   "pygments_lexer": "ipython3",
   "version": "3.8.5"
  },
  "toc": {
   "base_numbering": 1,
   "nav_menu": {},
   "number_sections": true,
   "sideBar": true,
   "skip_h1_title": false,
   "title_cell": "Table of Contents",
   "title_sidebar": "Contents",
   "toc_cell": false,
   "toc_position": {},
   "toc_section_display": true,
   "toc_window_display": true
  },
  "varInspector": {
   "cols": {
    "lenName": 16,
    "lenType": 16,
    "lenVar": 40
   },
   "kernels_config": {
    "python": {
     "delete_cmd_postfix": "",
     "delete_cmd_prefix": "del ",
     "library": "var_list.py",
     "varRefreshCmd": "print(var_dic_list())"
    },
    "r": {
     "delete_cmd_postfix": ") ",
     "delete_cmd_prefix": "rm(",
     "library": "var_list.r",
     "varRefreshCmd": "cat(var_dic_list()) "
    }
   },
   "types_to_exclude": [
    "module",
    "function",
    "builtin_function_or_method",
    "instance",
    "_Feature"
   ],
   "window_display": false
  }
 },
 "nbformat": 4,
 "nbformat_minor": 5
}
