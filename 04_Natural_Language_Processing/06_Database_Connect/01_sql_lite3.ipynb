{
 "cells": [
  {
   "cell_type": "code",
   "execution_count": 53,
   "id": "flying-collar",
   "metadata": {
    "ExecuteTime": {
     "end_time": "2021-03-24T07:51:56.262637Z",
     "start_time": "2021-03-24T07:51:56.253638Z"
    }
   },
   "outputs": [],
   "source": [
    "import sqlite3"
   ]
  },
  {
   "cell_type": "code",
   "execution_count": 54,
   "id": "linear-motivation",
   "metadata": {
    "ExecuteTime": {
     "end_time": "2021-03-24T07:51:56.277637Z",
     "start_time": "2021-03-24T07:51:56.264637Z"
    }
   },
   "outputs": [],
   "source": [
    "con = sqlite3.connect(':memory:')"
   ]
  },
  {
   "cell_type": "markdown",
   "id": "adopted-helena",
   "metadata": {},
   "source": [
    "## create"
   ]
  },
  {
   "cell_type": "code",
   "execution_count": 55,
   "id": "transsexual-matrix",
   "metadata": {
    "ExecuteTime": {
     "end_time": "2021-03-24T07:51:56.293641Z",
     "start_time": "2021-03-24T07:51:56.279638Z"
    }
   },
   "outputs": [
    {
     "data": {
      "text/plain": [
       "<sqlite3.Cursor at 0x27842294d50>"
      ]
     },
     "execution_count": 55,
     "metadata": {},
     "output_type": "execute_result"
    }
   ],
   "source": [
    "query = \"\"\"\n",
    "create table if not exists sales (\n",
    "    customer VARCHAR(20),\n",
    "    product VARCHAR(40),\n",
    "    amount FLOAT,\n",
    "    date DATE\n",
    ");\n",
    "\"\"\"\n",
    "con.execute(query)"
   ]
  },
  {
   "cell_type": "code",
   "execution_count": 56,
   "id": "individual-manhattan",
   "metadata": {
    "ExecuteTime": {
     "end_time": "2021-03-24T07:51:56.309647Z",
     "start_time": "2021-03-24T07:51:56.295636Z"
    }
   },
   "outputs": [],
   "source": [
    "con.commit()"
   ]
  },
  {
   "cell_type": "markdown",
   "id": "spiritual-diameter",
   "metadata": {},
   "source": [
    "## insert"
   ]
  },
  {
   "cell_type": "code",
   "execution_count": 57,
   "id": "smooth-leeds",
   "metadata": {
    "ExecuteTime": {
     "end_time": "2021-03-24T07:51:56.324637Z",
     "start_time": "2021-03-24T07:51:56.311640Z"
    }
   },
   "outputs": [],
   "source": [
    "data = [\n",
    "    ('Richard Lucas', 'Notepad', 2.50, '2014-01-02'),\n",
    "    ('Jenny Kim', 'Binder', 4.15, '2014-01-15'),\n",
    "    ('Svetlana Crow', 'Printer', 155.75, '2014-02-03'),\n",
    "    ('Stephen Randolph', 'Computer', 679.40, '2014-02-20')\n",
    "] # 각 레코드는 리스트의 요소들, 각 리스트 요소들은 튜플들"
   ]
  },
  {
   "cell_type": "code",
   "execution_count": 58,
   "id": "unlike-battery",
   "metadata": {
    "ExecuteTime": {
     "end_time": "2021-03-24T07:51:56.340651Z",
     "start_time": "2021-03-24T07:51:56.326635Z"
    }
   },
   "outputs": [
    {
     "data": {
      "text/plain": [
       "<sqlite3.Cursor at 0x2784274b0a0>"
      ]
     },
     "execution_count": 58,
     "metadata": {},
     "output_type": "execute_result"
    }
   ],
   "source": [
    "# sql 문\n",
    "sql = \"insert into sales values(?, ?, ?, ?)\"\n",
    "con.executemany(sql, data)"
   ]
  },
  {
   "cell_type": "markdown",
   "id": "irish-shock",
   "metadata": {},
   "source": [
    "## select"
   ]
  },
  {
   "cell_type": "code",
   "execution_count": 59,
   "id": "optional-pharmaceutical",
   "metadata": {
    "ExecuteTime": {
     "end_time": "2021-03-24T07:51:56.356634Z",
     "start_time": "2021-03-24T07:51:56.342638Z"
    }
   },
   "outputs": [],
   "source": [
    "cursor = con.execute('select * from sales')\n",
    "# cursor에서 레코드 추출\n",
    "rows = cursor.fetchall()"
   ]
  },
  {
   "cell_type": "code",
   "execution_count": 60,
   "id": "executed-roots",
   "metadata": {
    "ExecuteTime": {
     "end_time": "2021-03-24T07:51:56.371636Z",
     "start_time": "2021-03-24T07:51:56.357634Z"
    }
   },
   "outputs": [
    {
     "name": "stdout",
     "output_type": "stream",
     "text": [
      "Richard Lucas\t\tNotepad\t\t2.5\t\t2014-01-02\t\t\n",
      "Jenny Kim\t\tBinder\t\t4.15\t\t2014-01-15\t\t\n",
      "Svetlana Crow\t\tPrinter\t\t155.75\t\t2014-02-03\t\t\n",
      "Stephen Randolph\tComputer\t\t679.4\t\t2014-02-20\t\t\n"
     ]
    }
   ],
   "source": [
    "for row in rows :\n",
    "    for k in row :\n",
    "        if len(str(k)) >= 16 :\n",
    "            print(k, end='\\t')\n",
    "        else :\n",
    "            print(k, end='\\t\\t')\n",
    "    print()"
   ]
  },
  {
   "cell_type": "code",
   "execution_count": 61,
   "id": "classical-chorus",
   "metadata": {
    "ExecuteTime": {
     "end_time": "2021-03-24T07:51:56.387663Z",
     "start_time": "2021-03-24T07:51:56.374634Z"
    }
   },
   "outputs": [],
   "source": [
    "query = \"\"\"\n",
    "create table if not exists Suppliers (\n",
    "    Supplier_Name VARCHAR(20),\n",
    "    Invoice_Number VARCHAR(20),\n",
    "    Part_Number VARCHAR(20),\n",
    "    Cost FLOAT,\n",
    "    Purchase_Date DATE\n",
    ");\n",
    "\"\"\"\n",
    "con.execute(query)\n",
    "con.commit()"
   ]
  },
  {
   "cell_type": "code",
   "execution_count": 62,
   "id": "accompanied-kingdom",
   "metadata": {
    "ExecuteTime": {
     "end_time": "2021-03-24T07:51:56.403633Z",
     "start_time": "2021-03-24T07:51:56.389633Z"
    }
   },
   "outputs": [
    {
     "name": "stdout",
     "output_type": "stream",
     "text": [
      "['Supplier X', '001-1001', '2341', '$500.00', '2014-01-20']\n",
      "['Supplier X', '001-1001', '2341', '$500.00', '2014-01-20']\n",
      "['Supplier X', '001-1001', '5467', '$750.00', '2014-01-20']\n",
      "['Supplier X', '001-1001', '5467', '$750.00', '2014-01-20']\n",
      "['Supplier Y', '50-9501', '7009', '$250.00', '2014-01-30']\n",
      "['Supplier Y', '50-9501', '7009', '$250.00', '2014-01-30']\n",
      "['Supplier Y', '50-9501', '6650', '$125.00', '2014-02-03']\n",
      "['Supplier Y', '50-9501', '6650', '$125.00', '2014-02-03']\n",
      "['Supplier Z', '920-4804', '3321', '$615.00', '2014-02-03']\n",
      "['Supplier Z', '920-4804', '3321', '$615.00', '2014-10-14']\n",
      "['Supplier Z', '920-4804', '3321', '$615.00', '2014-02-17']\n",
      "['Supplier Z', '920-4804', '3321', '$615.00', '2014-02-24']\n"
     ]
    }
   ],
   "source": [
    "import csv\n",
    "# csv 파일 오픈 및 읽어옴\n",
    "file_reader = csv.reader(open('data.csv', 'r'), delimiter=',')\n",
    "header = next(file_reader, None)\n",
    "for row in file_reader :\n",
    "    data = []\n",
    "    for column_index in range(len(header)) :\n",
    "        data.append(row[column_index])\n",
    "    print(data)\n",
    "    con.execute('insert into Suppliers values (?, ?, ?, ?, ?);', data)\n",
    "con.commit()"
   ]
  },
  {
   "cell_type": "code",
   "execution_count": 63,
   "id": "raised-parks",
   "metadata": {
    "ExecuteTime": {
     "end_time": "2021-03-24T07:51:56.419633Z",
     "start_time": "2021-03-24T07:51:56.405634Z"
    }
   },
   "outputs": [
    {
     "name": "stdout",
     "output_type": "stream",
     "text": [
      "['Supplier Name', 'Invoice Number', 'Part Number', 'Cost', 'Purchase Date']\n",
      "['Supplier X', '001-1001', '2341', '$500.00', '2014-01-20']\n",
      "['Supplier X', '001-1001', '2341', '$500.00', '2014-01-20']\n",
      "['Supplier X', '001-1001', '5467', '$750.00', '2014-01-20']\n",
      "['Supplier X', '001-1001', '5467', '$750.00', '2014-01-20']\n",
      "['Supplier Y', '50-9501', '7009', '$250.00', '2014-01-30']\n",
      "['Supplier Y', '50-9501', '7009', '$250.00', '2014-01-30']\n",
      "['Supplier Y', '50-9501', '6650', '$125.00', '2014-02-03']\n",
      "['Supplier Y', '50-9501', '6650', '$125.00', '2014-02-03']\n",
      "['Supplier Z', '920-4804', '3321', '$615.00', '2014-02-03']\n",
      "['Supplier Z', '920-4804', '3321', '$615.00', '2014-10-14']\n",
      "['Supplier Z', '920-4804', '3321', '$615.00', '2014-02-17']\n",
      "['Supplier Z', '920-4804', '3321', '$615.00', '2014-02-24']\n"
     ]
    }
   ],
   "source": [
    "output = con.execute('select * from Suppliers')\n",
    "rows = output.fetchall()\n",
    "# 헤더와 함께 내용 출력\n",
    "print(header)\n",
    "for row in rows :\n",
    "    output = []\n",
    "    for column_index in range(len(row)) :\n",
    "        output.append(str(row[column_index]))\n",
    "    print(output)"
   ]
  },
  {
   "cell_type": "markdown",
   "id": "secret-appreciation",
   "metadata": {},
   "source": [
    "## update"
   ]
  },
  {
   "cell_type": "code",
   "execution_count": 64,
   "id": "protected-frontier",
   "metadata": {
    "ExecuteTime": {
     "end_time": "2021-03-24T07:51:56.435643Z",
     "start_time": "2021-03-24T07:51:56.421643Z"
    }
   },
   "outputs": [
    {
     "data": {
      "text/plain": [
       "<sqlite3.Cursor at 0x27842271e30>"
      ]
     },
     "execution_count": 64,
     "metadata": {},
     "output_type": "execute_result"
    }
   ],
   "source": [
    "data = [10.5, '2020-05-07', 'Richard Lucas']\n",
    "con.execute('update sales set amount=?, date=? where customer=?;', data)"
   ]
  },
  {
   "cell_type": "code",
   "execution_count": 65,
   "id": "positive-yellow",
   "metadata": {
    "ExecuteTime": {
     "end_time": "2021-03-24T07:51:56.451632Z",
     "start_time": "2021-03-24T07:51:56.437632Z"
    }
   },
   "outputs": [
    {
     "name": "stdout",
     "output_type": "stream",
     "text": [
      "Supplier Z\t920-4804\t3321\t$615.00\t2014-02-24\t\n",
      "Supplier Z\t920-4804\t3321\t$615.00\t2014-02-24\t\n",
      "Supplier Z\t920-4804\t3321\t$615.00\t2014-02-24\t\n",
      "Supplier Z\t920-4804\t3321\t$615.00\t2014-02-24\t\n"
     ]
    }
   ],
   "source": [
    "cursor = con.execute('select * from sales')\n",
    "rows = cursor.fetchall()\n",
    "for rrow in rows :\n",
    "    for k in row :\n",
    "        print(k, end='\\t')\n",
    "    print()"
   ]
  },
  {
   "cell_type": "markdown",
   "id": "interesting-reality",
   "metadata": {},
   "source": [
    "## delete"
   ]
  },
  {
   "cell_type": "code",
   "execution_count": 66,
   "id": "absolute-retirement",
   "metadata": {
    "ExecuteTime": {
     "end_time": "2021-03-24T07:51:56.467632Z",
     "start_time": "2021-03-24T07:51:56.453632Z"
    }
   },
   "outputs": [
    {
     "data": {
      "text/plain": [
       "<sqlite3.Cursor at 0x2784274b180>"
      ]
     },
     "execution_count": 66,
     "metadata": {},
     "output_type": "execute_result"
    }
   ],
   "source": [
    "query = 'drop table sales;'\n",
    "con.execute(query)"
   ]
  },
  {
   "cell_type": "code",
   "execution_count": null,
   "id": "automatic-consistency",
   "metadata": {},
   "outputs": [],
   "source": []
  }
 ],
 "metadata": {
  "hide_input": false,
  "kernelspec": {
   "display_name": "Python 3",
   "language": "python",
   "name": "python3"
  },
  "language_info": {
   "codemirror_mode": {
    "name": "ipython",
    "version": 3
   },
   "file_extension": ".py",
   "mimetype": "text/x-python",
   "name": "python",
   "nbconvert_exporter": "python",
   "pygments_lexer": "ipython3",
   "version": "3.8.5"
  },
  "toc": {
   "base_numbering": 1,
   "nav_menu": {},
   "number_sections": true,
   "sideBar": true,
   "skip_h1_title": false,
   "title_cell": "Table of Contents",
   "title_sidebar": "Contents",
   "toc_cell": false,
   "toc_position": {},
   "toc_section_display": true,
   "toc_window_display": true
  },
  "varInspector": {
   "cols": {
    "lenName": 16,
    "lenType": 16,
    "lenVar": 40
   },
   "kernels_config": {
    "python": {
     "delete_cmd_postfix": "",
     "delete_cmd_prefix": "del ",
     "library": "var_list.py",
     "varRefreshCmd": "print(var_dic_list())"
    },
    "r": {
     "delete_cmd_postfix": ") ",
     "delete_cmd_prefix": "rm(",
     "library": "var_list.r",
     "varRefreshCmd": "cat(var_dic_list()) "
    }
   },
   "types_to_exclude": [
    "module",
    "function",
    "builtin_function_or_method",
    "instance",
    "_Feature"
   ],
   "window_display": false
  }
 },
 "nbformat": 4,
 "nbformat_minor": 5
}
