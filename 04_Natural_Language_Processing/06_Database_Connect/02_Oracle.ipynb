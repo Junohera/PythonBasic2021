{
 "cells": [
  {
   "cell_type": "code",
   "execution_count": 2,
   "id": "dangerous-portugal",
   "metadata": {
    "ExecuteTime": {
     "end_time": "2021-03-24T07:54:07.453846Z",
     "start_time": "2021-03-24T07:54:07.420379Z"
    }
   },
   "outputs": [],
   "source": [
    "import cx_Oracle"
   ]
  },
  {
   "cell_type": "code",
   "execution_count": 4,
   "id": "detailed-roots",
   "metadata": {
    "ExecuteTime": {
     "end_time": "2021-03-24T08:16:02.497936Z",
     "start_time": "2021-03-24T08:16:02.462372Z"
    }
   },
   "outputs": [],
   "source": [
    "con = cx_Oracle.connect('juno', 'juno', 'localhost:1521/xe')"
   ]
  },
  {
   "cell_type": "code",
   "execution_count": 5,
   "id": "complex-elephant",
   "metadata": {
    "ExecuteTime": {
     "end_time": "2021-03-24T08:17:26.823699Z",
     "start_time": "2021-03-24T08:17:26.797691Z"
    }
   },
   "outputs": [
    {
     "data": {
      "text/plain": [
       "<cx_Oracle.Cursor on <cx_Oracle.Connection to juno@localhost:1521/xe>>"
      ]
     },
     "execution_count": 5,
     "metadata": {},
     "output_type": "execute_result"
    }
   ],
   "source": [
    "query = 'select * from dept'\n",
    "cur = con.cursor()\n",
    "cur.execute(query)"
   ]
  },
  {
   "cell_type": "code",
   "execution_count": 6,
   "id": "collaborative-folder",
   "metadata": {
    "ExecuteTime": {
     "end_time": "2021-03-24T08:28:11.324137Z",
     "start_time": "2021-03-24T08:28:11.315128Z"
    }
   },
   "outputs": [
    {
     "name": "stdout",
     "output_type": "stream",
     "text": [
      "10 ACCOUNTING NEW YORK\n",
      "20 RESEARCH DALLAS\n",
      "30 SALES CHICAGO\n",
      "40 OPERATIONS BOSTON\n"
     ]
    }
   ],
   "source": [
    "for a, b, c in cur :\n",
    "    print(a, b, c)"
   ]
  },
  {
   "cell_type": "code",
   "execution_count": 12,
   "id": "stable-nitrogen",
   "metadata": {
    "ExecuteTime": {
     "end_time": "2021-03-24T08:38:22.678225Z",
     "start_time": "2021-03-24T08:38:22.646946Z"
    }
   },
   "outputs": [],
   "source": [
    "query = \"\"\"\n",
    "create table product_(\n",
    "    product_id number primary key,\n",
    "    product_name varchar2(50),\n",
    "    price number default 0,\n",
    "    description varchar2(100),\n",
    "    image varchar2(30)\n",
    ")\n",
    "\"\"\"\n",
    "cur.execute(query)"
   ]
  },
  {
   "cell_type": "markdown",
   "id": "incorporated-adjustment",
   "metadata": {},
   "source": [
    "### 단건 insert"
   ]
  },
  {
   "cell_type": "code",
   "execution_count": 15,
   "id": "tracked-delight",
   "metadata": {
    "ExecuteTime": {
     "end_time": "2021-03-24T08:38:41.510557Z",
     "start_time": "2021-03-24T08:38:41.494566Z"
    }
   },
   "outputs": [
    {
     "ename": "IntegrityError",
     "evalue": "ORA-00001: unique constraint (JUNO.SYS_C0011289) violated",
     "output_type": "error",
     "traceback": [
      "\u001b[1;31m---------------------------------------------------------------------------\u001b[0m",
      "\u001b[1;31mIntegrityError\u001b[0m                            Traceback (most recent call last)",
      "\u001b[1;32m<ipython-input-15-0f268948b106>\u001b[0m in \u001b[0;36m<module>\u001b[1;34m\u001b[0m\n\u001b[0;32m      1\u001b[0m \u001b[0msql\u001b[0m \u001b[1;33m=\u001b[0m \u001b[1;34m'insert into product_ values(:1, :2, :3, :4, :5)'\u001b[0m\u001b[1;33m\u001b[0m\u001b[1;33m\u001b[0m\u001b[0m\n\u001b[0;32m      2\u001b[0m \u001b[0mdata\u001b[0m \u001b[1;33m=\u001b[0m \u001b[1;33m(\u001b[0m\u001b[1;36m2\u001b[0m\u001b[1;33m,\u001b[0m \u001b[1;34m'레몬'\u001b[0m\u001b[1;33m,\u001b[0m \u001b[1;36m1500\u001b[0m\u001b[1;33m,\u001b[0m \u001b[1;34m'레몬에 함유된 구연산-피로회목에 좋음'\u001b[0m\u001b[1;33m,\u001b[0m \u001b[1;34m'lemon.jpg'\u001b[0m\u001b[1;33m)\u001b[0m\u001b[1;33m\u001b[0m\u001b[1;33m\u001b[0m\u001b[0m\n\u001b[1;32m----> 3\u001b[1;33m \u001b[0mcur\u001b[0m\u001b[1;33m.\u001b[0m\u001b[0mexecute\u001b[0m\u001b[1;33m(\u001b[0m\u001b[0msql\u001b[0m\u001b[1;33m,\u001b[0m \u001b[0mdata\u001b[0m\u001b[1;33m)\u001b[0m\u001b[1;33m\u001b[0m\u001b[1;33m\u001b[0m\u001b[0m\n\u001b[0m\u001b[0;32m      4\u001b[0m \u001b[0mcon\u001b[0m\u001b[1;33m.\u001b[0m\u001b[0mcommit\u001b[0m\u001b[1;33m(\u001b[0m\u001b[1;33m)\u001b[0m\u001b[1;33m\u001b[0m\u001b[1;33m\u001b[0m\u001b[0m\n",
      "\u001b[1;31mIntegrityError\u001b[0m: ORA-00001: unique constraint (JUNO.SYS_C0011289) violated"
     ]
    }
   ],
   "source": [
    "sql = 'insert into product_ values(:1, :2, :3, :4, :5)'\n",
    "data = (2, '레몬', 1500, '레몬에 함유된 구연산-피로회목에 좋음', 'lemon.jpg')\n",
    "cur.execute(sql, data)\n",
    "con.commit()"
   ]
  },
  {
   "cell_type": "markdown",
   "id": "wireless-modification",
   "metadata": {},
   "source": [
    "## 다건 insert"
   ]
  },
  {
   "cell_type": "code",
   "execution_count": 16,
   "id": "nutritional-sapphire",
   "metadata": {
    "ExecuteTime": {
     "end_time": "2021-03-24T08:40:51.098948Z",
     "start_time": "2021-03-24T08:40:51.088939Z"
    }
   },
   "outputs": [],
   "source": [
    "sql = 'insert into product_ values(:1, :2, :3, :4, :5)'\n",
    "items=[\n",
    "    (1, '사과', 10000, '청도 꿀 사과 당도가 매우 높음', 'apple.jpg'),\n",
    "    (3, '오렌지', 2000, '비타민 C가 풍부, 생과일 주승ㅇ', 'orange.jpg'),\n",
    "    (4, '키위', 1300, '다이어트나 미용에 좋음', 'kiwi.jpg'),\n",
    "    (5, '포도', 1200, '폴리페놀을 다량 함유', 'grape.jpg'),\n",
    "    (6, '딸기', 3000, '플로보노이드 다량함유', 'strawberry.jpg'),\n",
    "]\n",
    "\n",
    "cur.arraysize = len(items)\n",
    "cur.executemany(sql, items)\n",
    "con.commit()"
   ]
  },
  {
   "cell_type": "code",
   "execution_count": 17,
   "id": "center-international",
   "metadata": {
    "ExecuteTime": {
     "end_time": "2021-03-24T08:43:34.114830Z",
     "start_time": "2021-03-24T08:43:34.106831Z"
    }
   },
   "outputs": [],
   "source": [
    "def select_table() :\n",
    "    sql = 'select * from product_'\n",
    "    cur.execute(sql)\n",
    "    for row in cur :\n",
    "        for field in row :\n",
    "            print(field, end='\\t')\n",
    "        print()"
   ]
  },
  {
   "cell_type": "code",
   "execution_count": 18,
   "id": "following-vacuum",
   "metadata": {
    "ExecuteTime": {
     "end_time": "2021-03-24T08:43:36.401313Z",
     "start_time": "2021-03-24T08:43:36.383309Z"
    }
   },
   "outputs": [
    {
     "name": "stdout",
     "output_type": "stream",
     "text": [
      "2\t레몬\t1500\t레몬에 함유된 구연산-피로회목에 좋음\tlemon.jpg\t\n",
      "1\t사과\t10000\t청도 꿀 사과 당도가 매우 높음\tapple.jpg\t\n",
      "3\t오렌지\t2000\t비타민 C가 풍부, 생과일 주승ㅇ\torange.jpg\t\n",
      "4\t키위\t1300\t다이어트나 미용에 좋음\tkiwi.jpg\t\n",
      "5\t포도\t1200\t폴리페놀을 다량 함유\tgrape.jpg\t\n",
      "6\t딸기\t3000\t플로보노이드 다량함유\tstrawberry.jpg\t\n"
     ]
    }
   ],
   "source": [
    "select_table()"
   ]
  },
  {
   "cell_type": "code",
   "execution_count": 19,
   "id": "lyric-target",
   "metadata": {
    "ExecuteTime": {
     "end_time": "2021-03-24T08:46:17.400281Z",
     "start_time": "2021-03-24T08:46:17.380281Z"
    }
   },
   "outputs": [
    {
     "name": "stdout",
     "output_type": "stream",
     "text": [
      "2\t레몬\t1500\t레몬에 함유된 구연산-피로회목에 좋음\tlemon.jpg\t\n",
      "1\t사과\t10000\t청도 꿀 사과 당도가 매우 높음\tapple.jpg\t\n",
      "3\t오렌지\t2000\t비타민 C가 풍부, 생과일 주승ㅇ\torange.jpg\t\n",
      "4\t키위\t25000\t다이어트나 미용에 좋음\tkiwi.jpg\t\n",
      "5\t포도\t1200\t폴리페놀을 다량 함유\tgrape.jpg\t\n",
      "6\t딸기\t3000\t플로보노이드 다량함유\tstrawberry.jpg\t\n"
     ]
    }
   ],
   "source": [
    "sql = 'update product_ set price = :1 where product_id = :2'\n",
    "data = (25000, 4)\n",
    "cur.execute(sql, data)\n",
    "con.commit()\n",
    "select_table()"
   ]
  },
  {
   "cell_type": "code",
   "execution_count": 20,
   "id": "graphic-words",
   "metadata": {
    "ExecuteTime": {
     "end_time": "2021-03-24T08:46:55.498650Z",
     "start_time": "2021-03-24T08:46:55.487293Z"
    }
   },
   "outputs": [
    {
     "name": "stdout",
     "output_type": "stream",
     "text": [
      "2\t레몬\t1500\t레몬에 함유된 구연산-피로회목에 좋음\tlemon.jpg\t\n",
      "1\t사과\t10000\t청도 꿀 사과 당도가 매우 높음\tapple.jpg\t\n",
      "3\t오렌지\t2000\t비타민 C가 풍부, 생과일 주승ㅇ\torange.jpg\t\n",
      "4\t키위\t25000\t다이어트나 미용에 좋음\tkiwi.jpg\t\n",
      "5\t포도\t1200\t폴리페놀을 다량 함유\tgrape.jpg\t\n"
     ]
    }
   ],
   "source": [
    "sql = \"delete from product_ where product_id = 6\"\n",
    "cur.execute(sql)\n",
    "con.commit()\n",
    "select_table()"
   ]
  },
  {
   "cell_type": "code",
   "execution_count": null,
   "id": "tropical-antigua",
   "metadata": {},
   "outputs": [],
   "source": []
  }
 ],
 "metadata": {
  "hide_input": false,
  "kernelspec": {
   "display_name": "Python 3",
   "language": "python",
   "name": "python3"
  },
  "language_info": {
   "codemirror_mode": {
    "name": "ipython",
    "version": 3
   },
   "file_extension": ".py",
   "mimetype": "text/x-python",
   "name": "python",
   "nbconvert_exporter": "python",
   "pygments_lexer": "ipython3",
   "version": "3.8.5"
  },
  "toc": {
   "base_numbering": 1,
   "nav_menu": {},
   "number_sections": true,
   "sideBar": true,
   "skip_h1_title": false,
   "title_cell": "Table of Contents",
   "title_sidebar": "Contents",
   "toc_cell": false,
   "toc_position": {},
   "toc_section_display": true,
   "toc_window_display": true
  },
  "varInspector": {
   "cols": {
    "lenName": 16,
    "lenType": 16,
    "lenVar": 40
   },
   "kernels_config": {
    "python": {
     "delete_cmd_postfix": "",
     "delete_cmd_prefix": "del ",
     "library": "var_list.py",
     "varRefreshCmd": "print(var_dic_list())"
    },
    "r": {
     "delete_cmd_postfix": ") ",
     "delete_cmd_prefix": "rm(",
     "library": "var_list.r",
     "varRefreshCmd": "cat(var_dic_list()) "
    }
   },
   "types_to_exclude": [
    "module",
    "function",
    "builtin_function_or_method",
    "instance",
    "_Feature"
   ],
   "window_display": false
  }
 },
 "nbformat": 4,
 "nbformat_minor": 5
}
