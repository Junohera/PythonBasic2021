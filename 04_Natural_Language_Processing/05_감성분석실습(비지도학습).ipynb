{
 "cells": [
  {
   "cell_type": "markdown",
   "id": "welcome-korean",
   "metadata": {},
   "source": [
    "### 비지도학습 기반 감성 분석 소개\n",
    "#### SentiWordNet 을 이용한 Sentiment Analysis\n",
    "- WordNet Synset과 SentiWordNet SentiSynset 클래스의 이해"
   ]
  },
  {
   "cell_type": "code",
   "execution_count": 43,
   "id": "romance-thursday",
   "metadata": {
    "ExecuteTime": {
     "end_time": "2021-03-23T08:31:01.180635Z",
     "start_time": "2021-03-23T08:31:01.168645Z"
    }
   },
   "outputs": [],
   "source": [
    "from nltk.corpus import wordnet as wn"
   ]
  },
  {
   "cell_type": "code",
   "execution_count": 44,
   "id": "minute-reunion",
   "metadata": {
    "ExecuteTime": {
     "end_time": "2021-03-23T08:31:01.195636Z",
     "start_time": "2021-03-23T08:31:01.182635Z"
    }
   },
   "outputs": [
    {
     "name": "stdout",
     "output_type": "stream",
     "text": [
      "synsets() 반환 type :  <class 'list'>\n",
      "synsets() 반환 값 갯수 :  10\n",
      "synsets() 반환 값 :  [Synset('function.n.01'), Synset('function.n.02'), Synset('function.n.03'), Synset('function.n.04'), Synset('function.n.05'), Synset('affair.n.03'), Synset('routine.n.03'), Synset('function.v.01'), Synset('serve.v.01'), Synset('officiate.v.02')]\n"
     ]
    }
   ],
   "source": [
    "term = 'function'\n",
    "# 'sun' 라는 단어로 wordnet의 synsets(단어의 의미와 구성 및 품사등을 저장하고 있는 객체) 생성.\n",
    "synsets = wn.synsets(term)\n",
    "print('synsets() 반환 type : ', type(synsets))\n",
    "print('synsets() 반환 값 갯수 : ', len(synsets))\n",
    "print('synsets() 반환 값 : ', synsets)"
   ]
  },
  {
   "cell_type": "code",
   "execution_count": 45,
   "id": "consolidated-avatar",
   "metadata": {
    "ExecuteTime": {
     "end_time": "2021-03-23T08:31:01.240539Z",
     "start_time": "2021-03-23T08:31:01.198636Z"
    }
   },
   "outputs": [
    {
     "name": "stdout",
     "output_type": "stream",
     "text": [
      "##### Synset 이름 :  function.n.01 #####\n",
      "POS :  noun.relation\n",
      "Definition :  (mathematics) a mathematical relation such that each element of a given set (the domain of the function) is associated with an element of another set (the range of the function)\n",
      "Lemmas:  ['function', 'mathematical_function', 'single-valued_function', 'map', 'mapping']\n",
      "##### Synset 이름 :  function.n.02 #####\n",
      "POS :  noun.attribute\n",
      "Definition :  what something is used for\n",
      "Lemmas:  ['function', 'purpose', 'role', 'use']\n",
      "##### Synset 이름 :  function.n.03 #####\n",
      "POS :  noun.act\n",
      "Definition :  the actions and activities assigned to or required or expected of a person or group\n",
      "Lemmas:  ['function', 'office', 'part', 'role']\n",
      "##### Synset 이름 :  function.n.04 #####\n",
      "POS :  noun.relation\n",
      "Definition :  a relation such that one thing is dependent on another\n",
      "Lemmas:  ['function']\n",
      "##### Synset 이름 :  function.n.05 #####\n",
      "POS :  noun.group\n",
      "Definition :  a formal or official social gathering or ceremony\n",
      "Lemmas:  ['function']\n",
      "##### Synset 이름 :  affair.n.03 #####\n",
      "POS :  noun.event\n",
      "Definition :  a vaguely specified social event\n",
      "Lemmas:  ['affair', 'occasion', 'social_occasion', 'function', 'social_function']\n",
      "##### Synset 이름 :  routine.n.03 #####\n",
      "POS :  noun.communication\n",
      "Definition :  a set sequence of steps, part of larger computer program\n",
      "Lemmas:  ['routine', 'subroutine', 'subprogram', 'procedure', 'function']\n",
      "##### Synset 이름 :  function.v.01 #####\n",
      "POS :  verb.contact\n",
      "Definition :  perform as expected when applied\n",
      "Lemmas:  ['function', 'work', 'operate', 'go', 'run']\n",
      "##### Synset 이름 :  serve.v.01 #####\n",
      "POS :  verb.stative\n",
      "Definition :  serve a purpose, role, or function\n",
      "Lemmas:  ['serve', 'function']\n",
      "##### Synset 이름 :  officiate.v.02 #####\n",
      "POS :  verb.competition\n",
      "Definition :  perform duties attached to a particular office or place or function\n",
      "Lemmas:  ['officiate', 'function']\n"
     ]
    }
   ],
   "source": [
    "for synset in synsets :\n",
    "    print('##### Synset 이름 : ', synset.name(), '#####')\n",
    "    print('POS : ', synset.lexname())\n",
    "    print('Definition : ', synset.definition())\n",
    "    print('Lemmas: ', synset.lemma_names())"
   ]
  },
  {
   "cell_type": "code",
   "execution_count": 46,
   "id": "arranged-produce",
   "metadata": {
    "ExecuteTime": {
     "end_time": "2021-03-23T08:31:01.255750Z",
     "start_time": "2021-03-23T08:31:01.243741Z"
    }
   },
   "outputs": [
    {
     "name": "stdout",
     "output_type": "stream",
     "text": [
      "##### Synset 이름 :  tiger.n.01 #####\n",
      "POS :  noun.person\n",
      "Definition :  a fierce or audacious person\n",
      "Lemmas:  ['tiger']\n",
      "##### Synset 이름 :  tiger.n.02 #####\n",
      "POS :  noun.animal\n",
      "Definition :  large feline of forests in most of Asia having a tawny coat with black stripes; endangered\n",
      "Lemmas:  ['tiger', 'Panthera_tigris']\n"
     ]
    }
   ],
   "source": [
    "term = 'tiger'\n",
    "synsets = wn.synsets(term)\n",
    "for synset in synsets :\n",
    "    print('##### Synset 이름 : ', synset.name(), '#####')\n",
    "    print('POS : ', synset.lexname())\n",
    "    print('Definition : ', synset.definition())\n",
    "    print('Lemmas: ', synset.lemma_names())"
   ]
  },
  {
   "cell_type": "code",
   "execution_count": 47,
   "id": "actual-fantasy",
   "metadata": {
    "ExecuteTime": {
     "end_time": "2021-03-23T08:31:01.271740Z",
     "start_time": "2021-03-23T08:31:01.258759Z"
    }
   },
   "outputs": [
    {
     "name": "stdout",
     "output_type": "stream",
     "text": [
      "a tall perennial woody plant having a main trunk and branches forming a distinct elevated crown; includes both gymnosperms and angiosperms\n",
      "\n",
      "large feline of forests in most of Asia having a tawny coat with black stripes; endangered\n"
     ]
    }
   ],
   "source": [
    "# synset 객체를 단어별로 생성합니다\n",
    "tree = wn.synset('tree.n.01')\n",
    "lion = wn.synset('lion.n.01')\n",
    "tiger = wn.synset('tiger.n.02')\n",
    "cat = wn.synset('cat.n.01')\n",
    "dog = wn.synset('dog.n.01')\n",
    "print(tree.definition())\n",
    "print()\n",
    "print(tiger.definition())"
   ]
  },
  {
   "cell_type": "code",
   "execution_count": 48,
   "id": "knowing-domestic",
   "metadata": {
    "ExecuteTime": {
     "end_time": "2021-03-23T08:31:01.286740Z",
     "start_time": "2021-03-23T08:31:01.273738Z"
    }
   },
   "outputs": [
    {
     "name": "stdout",
     "output_type": "stream",
     "text": [
      "tree.n.01\n"
     ]
    }
   ],
   "source": [
    "print(tree.name())"
   ]
  },
  {
   "cell_type": "code",
   "execution_count": 49,
   "id": "western-court",
   "metadata": {
    "ExecuteTime": {
     "end_time": "2021-03-23T08:31:01.302739Z",
     "start_time": "2021-03-23T08:31:01.288739Z"
    }
   },
   "outputs": [
    {
     "name": "stdout",
     "output_type": "stream",
     "text": [
      "tree\n"
     ]
    }
   ],
   "source": [
    "print(tree.name().split('.')[0])"
   ]
  },
  {
   "cell_type": "code",
   "execution_count": 50,
   "id": "comic-douglas",
   "metadata": {
    "ExecuteTime": {
     "end_time": "2021-03-23T08:31:01.318750Z",
     "start_time": "2021-03-23T08:31:01.304742Z"
    }
   },
   "outputs": [
    {
     "name": "stdout",
     "output_type": "stream",
     "text": [
      "['tree', 'lion', 'tiger', 'cat', 'dog']\n"
     ]
    }
   ],
   "source": [
    "entities = [tree, lion, tiger, cat, dog]\n",
    "entity_names = [entity.name().split('.')[0] for entity in entities]\n",
    "print(entity_names)"
   ]
  },
  {
   "cell_type": "code",
   "execution_count": 51,
   "id": "crude-intent",
   "metadata": {
    "ExecuteTime": {
     "end_time": "2021-03-23T08:31:01.333746Z",
     "start_time": "2021-03-23T08:31:01.321739Z"
    }
   },
   "outputs": [
    {
     "name": "stdout",
     "output_type": "stream",
     "text": [
      "0.07142857142857142\n"
     ]
    }
   ],
   "source": [
    "print(entities[0].path_similarity(entities[1], 2))"
   ]
  },
  {
   "cell_type": "code",
   "execution_count": 52,
   "id": "floral-candle",
   "metadata": {
    "ExecuteTime": {
     "end_time": "2021-03-23T08:31:01.349736Z",
     "start_time": "2021-03-23T08:31:01.336737Z"
    }
   },
   "outputs": [
    {
     "name": "stdout",
     "output_type": "stream",
     "text": [
      "0.25\n"
     ]
    }
   ],
   "source": [
    "print(entities[2].path_similarity(entities[3], 2))"
   ]
  },
  {
   "cell_type": "code",
   "execution_count": 53,
   "id": "sophisticated-medicine",
   "metadata": {
    "ExecuteTime": {
     "end_time": "2021-03-23T08:31:01.364736Z",
     "start_time": "2021-03-23T08:31:01.351736Z"
    }
   },
   "outputs": [
    {
     "name": "stdout",
     "output_type": "stream",
     "text": [
      "0.2\n"
     ]
    }
   ],
   "source": [
    "print(entities[3].path_similarity(entities[4], 2))"
   ]
  },
  {
   "cell_type": "code",
   "execution_count": 54,
   "id": "committed-reach",
   "metadata": {
    "ExecuteTime": {
     "end_time": "2021-03-23T08:31:01.380737Z",
     "start_time": "2021-03-23T08:31:01.366746Z"
    }
   },
   "outputs": [
    {
     "name": "stdout",
     "output_type": "stream",
     "text": [
      "[[1.0, 0.07, 0.07, 0.08, 0.12], [0.07, 1.0, 0.33, 0.25, 0.17], [0.07, 0.33, 1.0, 0.25, 0.17], [0.08, 0.25, 0.25, 1.0, 0.2], [0.12, 0.17, 0.17, 0.2, 1.0]]\n"
     ]
    }
   ],
   "source": [
    "# entities[0]으로 나머지 전체 데이터와 유사도 측정 : 결과가 리스트\n",
    "# entities[1]으로 나머지 전체 데이터와 유사도 측정 : 결과가 리스트\n",
    "# entities[2]으로 나머지 전체 데이터와 유사도 측정 : 결과가 리스트\n",
    "# entities[3]으로 나머지 전체 데이터와 유사도 측정 : 결과가 리스트\n",
    "# entities[4]으로 나머지 전체 데이터와 유사도 측정 : 결과가 리스트\n",
    "# 결과 리스트들을 별도의 리스트에 append -> 2차원 \n",
    "\n",
    "similarities = []\n",
    "for entity in entities :\n",
    "    similarity = [round(entity.path_similarity(nestedEntity), 2) for nestedEntity in entities]\n",
    "    similarities.append(similarity)\n",
    "print(similarities)"
   ]
  },
  {
   "cell_type": "code",
   "execution_count": 55,
   "id": "devoted-springfield",
   "metadata": {
    "ExecuteTime": {
     "end_time": "2021-03-23T08:31:01.396735Z",
     "start_time": "2021-03-23T08:31:01.383735Z"
    }
   },
   "outputs": [
    {
     "data": {
      "text/html": [
       "<div>\n",
       "<style scoped>\n",
       "    .dataframe tbody tr th:only-of-type {\n",
       "        vertical-align: middle;\n",
       "    }\n",
       "\n",
       "    .dataframe tbody tr th {\n",
       "        vertical-align: top;\n",
       "    }\n",
       "\n",
       "    .dataframe thead th {\n",
       "        text-align: right;\n",
       "    }\n",
       "</style>\n",
       "<table border=\"1\" class=\"dataframe\">\n",
       "  <thead>\n",
       "    <tr style=\"text-align: right;\">\n",
       "      <th></th>\n",
       "      <th>tree</th>\n",
       "      <th>lion</th>\n",
       "      <th>tiger</th>\n",
       "      <th>cat</th>\n",
       "      <th>dog</th>\n",
       "    </tr>\n",
       "  </thead>\n",
       "  <tbody>\n",
       "    <tr>\n",
       "      <th>tree</th>\n",
       "      <td>1.00</td>\n",
       "      <td>0.07</td>\n",
       "      <td>0.07</td>\n",
       "      <td>0.08</td>\n",
       "      <td>0.12</td>\n",
       "    </tr>\n",
       "    <tr>\n",
       "      <th>lion</th>\n",
       "      <td>0.07</td>\n",
       "      <td>1.00</td>\n",
       "      <td>0.33</td>\n",
       "      <td>0.25</td>\n",
       "      <td>0.17</td>\n",
       "    </tr>\n",
       "    <tr>\n",
       "      <th>tiger</th>\n",
       "      <td>0.07</td>\n",
       "      <td>0.33</td>\n",
       "      <td>1.00</td>\n",
       "      <td>0.25</td>\n",
       "      <td>0.17</td>\n",
       "    </tr>\n",
       "    <tr>\n",
       "      <th>cat</th>\n",
       "      <td>0.08</td>\n",
       "      <td>0.25</td>\n",
       "      <td>0.25</td>\n",
       "      <td>1.00</td>\n",
       "      <td>0.20</td>\n",
       "    </tr>\n",
       "    <tr>\n",
       "      <th>dog</th>\n",
       "      <td>0.12</td>\n",
       "      <td>0.17</td>\n",
       "      <td>0.17</td>\n",
       "      <td>0.20</td>\n",
       "      <td>1.00</td>\n",
       "    </tr>\n",
       "  </tbody>\n",
       "</table>\n",
       "</div>"
      ],
      "text/plain": [
       "       tree  lion  tiger   cat   dog\n",
       "tree   1.00  0.07   0.07  0.08  0.12\n",
       "lion   0.07  1.00   0.33  0.25  0.17\n",
       "tiger  0.07  0.33   1.00  0.25  0.17\n",
       "cat    0.08  0.25   0.25  1.00  0.20\n",
       "dog    0.12  0.17   0.17  0.20  1.00"
      ]
     },
     "execution_count": 55,
     "metadata": {},
     "output_type": "execute_result"
    }
   ],
   "source": [
    "import pandas as pd\n",
    "similarity_df = pd.DataFrame(similarities, columns=entity_names, index=entity_names)\n",
    "similarity_df"
   ]
  },
  {
   "cell_type": "code",
   "execution_count": null,
   "id": "secure-thickness",
   "metadata": {},
   "outputs": [],
   "source": []
  },
  {
   "cell_type": "code",
   "execution_count": null,
   "id": "sunrise-church",
   "metadata": {},
   "outputs": [],
   "source": []
  },
  {
   "cell_type": "code",
   "execution_count": null,
   "id": "focal-independence",
   "metadata": {},
   "outputs": [],
   "source": []
  },
  {
   "cell_type": "code",
   "execution_count": null,
   "id": "smoking-firmware",
   "metadata": {},
   "outputs": [],
   "source": []
  },
  {
   "cell_type": "code",
   "execution_count": null,
   "id": "resident-steering",
   "metadata": {},
   "outputs": [],
   "source": []
  },
  {
   "cell_type": "code",
   "execution_count": null,
   "id": "operational-fireplace",
   "metadata": {},
   "outputs": [],
   "source": []
  },
  {
   "cell_type": "code",
   "execution_count": null,
   "id": "naughty-lounge",
   "metadata": {},
   "outputs": [],
   "source": []
  },
  {
   "cell_type": "code",
   "execution_count": null,
   "id": "freelance-bacon",
   "metadata": {},
   "outputs": [],
   "source": []
  },
  {
   "cell_type": "code",
   "execution_count": 57,
   "id": "figured-assumption",
   "metadata": {
    "ExecuteTime": {
     "end_time": "2021-03-23T08:31:01.428736Z",
     "start_time": "2021-03-23T08:31:01.414735Z"
    }
   },
   "outputs": [],
   "source": [
    "def vader_polarity(review, threshold=0.1):\n",
    "    analyzer = SentimentIntensityAnalyzer()\n",
    "    scores = analyzer.polarity_scores(review)\n",
    "    \n",
    "    # compound 값에 기반하여 threshold 입력값보다 크면 1, 그렇지않으면 0을 반환\n",
    "    agg_score = scores['compound']\n",
    "    final_sentiment = 1 if agg_score >= threshold else 0\n",
    "    return final_sentiment"
   ]
  },
  {
   "cell_type": "code",
   "execution_count": 58,
   "id": "political-threshold",
   "metadata": {
    "ExecuteTime": {
     "end_time": "2021-03-23T08:31:01.460734Z",
     "start_time": "2021-03-23T08:31:01.431734Z"
    }
   },
   "outputs": [
    {
     "ename": "NameError",
     "evalue": "name 'review_df' is not defined",
     "output_type": "error",
     "traceback": [
      "\u001b[1;31m---------------------------------------------------------------------------\u001b[0m",
      "\u001b[1;31mNameError\u001b[0m                                 Traceback (most recent call last)",
      "\u001b[1;32m<ipython-input-58-733d7e140e21>\u001b[0m in \u001b[0;36m<module>\u001b[1;34m\u001b[0m\n\u001b[1;32m----> 1\u001b[1;33m \u001b[0mreview_df\u001b[0m\u001b[1;33m[\u001b[0m\u001b[1;34m'vader_preds'\u001b[0m\u001b[1;33m]\u001b[0m \u001b[1;33m=\u001b[0m \u001b[0mreview_df\u001b[0m\u001b[1;33m[\u001b[0m\u001b[1;34m'review'\u001b[0m\u001b[1;33m]\u001b[0m\u001b[1;33m.\u001b[0m\u001b[0mapply\u001b[0m\u001b[1;33m(\u001b[0m\u001b[1;32mlambda\u001b[0m \u001b[0mx\u001b[0m \u001b[1;33m:\u001b[0m \u001b[0mvader_polarity\u001b[0m\u001b[1;33m(\u001b[0m\u001b[0mx\u001b[0m\u001b[1;33m,\u001b[0m \u001b[1;36m0.1\u001b[0m\u001b[1;33m)\u001b[0m\u001b[1;33m)\u001b[0m\u001b[1;33m\u001b[0m\u001b[1;33m\u001b[0m\u001b[0m\n\u001b[0m\u001b[0;32m      2\u001b[0m \u001b[0my_target\u001b[0m \u001b[1;33m=\u001b[0m \u001b[0mreview_df\u001b[0m\u001b[1;33m[\u001b[0m\u001b[1;34m'sentiment'\u001b[0m\u001b[1;33m]\u001b[0m\u001b[1;33m.\u001b[0m\u001b[0mvalues\u001b[0m\u001b[1;33m\u001b[0m\u001b[1;33m\u001b[0m\u001b[0m\n\u001b[0;32m      3\u001b[0m \u001b[0mvader_preds\u001b[0m \u001b[1;33m=\u001b[0m \u001b[0mreview_df\u001b[0m\u001b[1;33m[\u001b[0m\u001b[1;34m'vader_preds'\u001b[0m\u001b[1;33m]\u001b[0m\u001b[1;33m.\u001b[0m\u001b[0mvalues\u001b[0m\u001b[1;33m\u001b[0m\u001b[1;33m\u001b[0m\u001b[0m\n",
      "\u001b[1;31mNameError\u001b[0m: name 'review_df' is not defined"
     ]
    }
   ],
   "source": [
    "review_df['vader_preds'] = review_df['review'].apply(lambda x : vader_polarity(x, 0.1))\n",
    "y_target = review_df['sentiment'].values\n",
    "vader_preds = review_df['vader_preds'].values"
   ]
  },
  {
   "cell_type": "code",
   "execution_count": null,
   "id": "advance-agreement",
   "metadata": {
    "ExecuteTime": {
     "end_time": "2021-03-23T08:31:01.463734Z",
     "start_time": "2021-03-23T08:31:01.177Z"
    }
   },
   "outputs": [],
   "source": [
    "print('#### VADER 예측 성능 평가 ####')\n",
    "from sklearn.metrics import accuracy_score, confusion_matrix, precision_score\n",
    "from sklearn.metrics import recall_score, f1_score, roc_auc_score\n",
    "print(confusion_matrix(y_target, vader_preds))\n",
    "print(\"정확도 : \", accuracy_score(y_target, vader_preds))\n",
    "print(\"정밀도 : \", precision_score(y_target, vader_preds))\n",
    "print(\"재현율 : \", recall_score(y_target, vader_preds))"
   ]
  }
 ],
 "metadata": {
  "hide_input": false,
  "kernelspec": {
   "display_name": "Python 3",
   "language": "python",
   "name": "python3"
  },
  "language_info": {
   "codemirror_mode": {
    "name": "ipython",
    "version": 3
   },
   "file_extension": ".py",
   "mimetype": "text/x-python",
   "name": "python",
   "nbconvert_exporter": "python",
   "pygments_lexer": "ipython3",
   "version": "3.8.5"
  },
  "toc": {
   "base_numbering": 1,
   "nav_menu": {},
   "number_sections": true,
   "sideBar": true,
   "skip_h1_title": false,
   "title_cell": "Table of Contents",
   "title_sidebar": "Contents",
   "toc_cell": false,
   "toc_position": {},
   "toc_section_display": true,
   "toc_window_display": true
  },
  "varInspector": {
   "cols": {
    "lenName": 16,
    "lenType": 16,
    "lenVar": 40
   },
   "kernels_config": {
    "python": {
     "delete_cmd_postfix": "",
     "delete_cmd_prefix": "del ",
     "library": "var_list.py",
     "varRefreshCmd": "print(var_dic_list())"
    },
    "r": {
     "delete_cmd_postfix": ") ",
     "delete_cmd_prefix": "rm(",
     "library": "var_list.r",
     "varRefreshCmd": "cat(var_dic_list()) "
    }
   },
   "types_to_exclude": [
    "module",
    "function",
    "builtin_function_or_method",
    "instance",
    "_Feature"
   ],
   "window_display": false
  }
 },
 "nbformat": 4,
 "nbformat_minor": 5
}
