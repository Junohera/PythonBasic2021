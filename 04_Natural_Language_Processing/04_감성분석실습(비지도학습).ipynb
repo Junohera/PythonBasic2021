{
 "cells": [
  {
   "cell_type": "markdown",
   "id": "welcome-korean",
   "metadata": {},
   "source": [
    "### 비지도학습 기반 감성 분석 소개\n",
    "#### SentiWordNet 을 이용한 Sentiment Analysis\n",
    "- WordNet Synset과 SentiWordNet SentiSynset 클래스의 이해"
   ]
  },
  {
   "cell_type": "code",
   "execution_count": 27,
   "id": "romance-thursday",
   "metadata": {
    "ExecuteTime": {
     "end_time": "2021-03-24T00:39:36.796757Z",
     "start_time": "2021-03-24T00:39:36.790766Z"
    }
   },
   "outputs": [],
   "source": [
    "from nltk.corpus import wordnet as wn"
   ]
  },
  {
   "cell_type": "code",
   "execution_count": 28,
   "id": "minute-reunion",
   "metadata": {
    "ExecuteTime": {
     "end_time": "2021-03-24T00:39:36.812755Z",
     "start_time": "2021-03-24T00:39:36.799756Z"
    }
   },
   "outputs": [
    {
     "name": "stdout",
     "output_type": "stream",
     "text": [
      "synsets() 반환 type :  <class 'list'>\n",
      "synsets() 반환 값 갯수 :  10\n",
      "synsets() 반환 값 :  [Synset('function.n.01'), Synset('function.n.02'), Synset('function.n.03'), Synset('function.n.04'), Synset('function.n.05'), Synset('affair.n.03'), Synset('routine.n.03'), Synset('function.v.01'), Synset('serve.v.01'), Synset('officiate.v.02')]\n"
     ]
    }
   ],
   "source": [
    "term = 'function'\n",
    "# 'sun' 라는 단어로 wordnet의 synsets(단어의 의미와 구성 및 품사등을 저장하고 있는 객체) 생성.\n",
    "synsets = wn.synsets(term)\n",
    "print('synsets() 반환 type : ', type(synsets))\n",
    "print('synsets() 반환 값 갯수 : ', len(synsets))\n",
    "print('synsets() 반환 값 : ', synsets)"
   ]
  },
  {
   "cell_type": "code",
   "execution_count": 29,
   "id": "consolidated-avatar",
   "metadata": {
    "ExecuteTime": {
     "end_time": "2021-03-24T00:39:36.844768Z",
     "start_time": "2021-03-24T00:39:36.815756Z"
    }
   },
   "outputs": [
    {
     "name": "stdout",
     "output_type": "stream",
     "text": [
      "##### Synset 이름 :  function.n.01 #####\n",
      "POS :  noun.relation\n",
      "Definition :  (mathematics) a mathematical relation such that each element of a given set (the domain of the function) is associated with an element of another set (the range of the function)\n",
      "Lemmas:  ['function', 'mathematical_function', 'single-valued_function', 'map', 'mapping']\n",
      "##### Synset 이름 :  function.n.02 #####\n",
      "POS :  noun.attribute\n",
      "Definition :  what something is used for\n",
      "Lemmas:  ['function', 'purpose', 'role', 'use']\n",
      "##### Synset 이름 :  function.n.03 #####\n",
      "POS :  noun.act\n",
      "Definition :  the actions and activities assigned to or required or expected of a person or group\n",
      "Lemmas:  ['function', 'office', 'part', 'role']\n",
      "##### Synset 이름 :  function.n.04 #####\n",
      "POS :  noun.relation\n",
      "Definition :  a relation such that one thing is dependent on another\n",
      "Lemmas:  ['function']\n",
      "##### Synset 이름 :  function.n.05 #####\n",
      "POS :  noun.group\n",
      "Definition :  a formal or official social gathering or ceremony\n",
      "Lemmas:  ['function']\n",
      "##### Synset 이름 :  affair.n.03 #####\n",
      "POS :  noun.event\n",
      "Definition :  a vaguely specified social event\n",
      "Lemmas:  ['affair', 'occasion', 'social_occasion', 'function', 'social_function']\n",
      "##### Synset 이름 :  routine.n.03 #####\n",
      "POS :  noun.communication\n",
      "Definition :  a set sequence of steps, part of larger computer program\n",
      "Lemmas:  ['routine', 'subroutine', 'subprogram', 'procedure', 'function']\n",
      "##### Synset 이름 :  function.v.01 #####\n",
      "POS :  verb.contact\n",
      "Definition :  perform as expected when applied\n",
      "Lemmas:  ['function', 'work', 'operate', 'go', 'run']\n",
      "##### Synset 이름 :  serve.v.01 #####\n",
      "POS :  verb.stative\n",
      "Definition :  serve a purpose, role, or function\n",
      "Lemmas:  ['serve', 'function']\n",
      "##### Synset 이름 :  officiate.v.02 #####\n",
      "POS :  verb.competition\n",
      "Definition :  perform duties attached to a particular office or place or function\n",
      "Lemmas:  ['officiate', 'function']\n"
     ]
    }
   ],
   "source": [
    "for synset in synsets :\n",
    "    print('##### Synset 이름 : ', synset.name(), '#####')\n",
    "    print('POS : ', synset.lexname())\n",
    "    print('Definition : ', synset.definition())\n",
    "    print('Lemmas: ', synset.lemma_names())"
   ]
  },
  {
   "cell_type": "code",
   "execution_count": 30,
   "id": "arranged-produce",
   "metadata": {
    "ExecuteTime": {
     "end_time": "2021-03-24T00:39:36.860764Z",
     "start_time": "2021-03-24T00:39:36.846754Z"
    }
   },
   "outputs": [
    {
     "name": "stdout",
     "output_type": "stream",
     "text": [
      "##### Synset 이름 :  tiger.n.01 #####\n",
      "POS :  noun.person\n",
      "Definition :  a fierce or audacious person\n",
      "Lemmas:  ['tiger']\n",
      "##### Synset 이름 :  tiger.n.02 #####\n",
      "POS :  noun.animal\n",
      "Definition :  large feline of forests in most of Asia having a tawny coat with black stripes; endangered\n",
      "Lemmas:  ['tiger', 'Panthera_tigris']\n"
     ]
    }
   ],
   "source": [
    "term = 'tiger'\n",
    "synsets = wn.synsets(term)\n",
    "for synset in synsets :\n",
    "    print('##### Synset 이름 : ', synset.name(), '#####')\n",
    "    print('POS : ', synset.lexname())\n",
    "    print('Definition : ', synset.definition())\n",
    "    print('Lemmas: ', synset.lemma_names())"
   ]
  },
  {
   "cell_type": "code",
   "execution_count": 31,
   "id": "actual-fantasy",
   "metadata": {
    "ExecuteTime": {
     "end_time": "2021-03-24T00:39:36.876770Z",
     "start_time": "2021-03-24T00:39:36.862763Z"
    }
   },
   "outputs": [
    {
     "name": "stdout",
     "output_type": "stream",
     "text": [
      "a tall perennial woody plant having a main trunk and branches forming a distinct elevated crown; includes both gymnosperms and angiosperms\n",
      "\n",
      "large feline of forests in most of Asia having a tawny coat with black stripes; endangered\n"
     ]
    }
   ],
   "source": [
    "# synset 객체를 단어별로 생성합니다\n",
    "tree = wn.synset('tree.n.01')\n",
    "lion = wn.synset('lion.n.01')\n",
    "tiger = wn.synset('tiger.n.02')\n",
    "cat = wn.synset('cat.n.01')\n",
    "dog = wn.synset('dog.n.01')\n",
    "print(tree.definition())\n",
    "print()\n",
    "print(tiger.definition())"
   ]
  },
  {
   "cell_type": "code",
   "execution_count": 32,
   "id": "knowing-domestic",
   "metadata": {
    "ExecuteTime": {
     "end_time": "2021-03-24T00:39:36.892763Z",
     "start_time": "2021-03-24T00:39:36.879756Z"
    }
   },
   "outputs": [
    {
     "name": "stdout",
     "output_type": "stream",
     "text": [
      "tree.n.01\n"
     ]
    }
   ],
   "source": [
    "print(tree.name())"
   ]
  },
  {
   "cell_type": "code",
   "execution_count": 33,
   "id": "western-court",
   "metadata": {
    "ExecuteTime": {
     "end_time": "2021-03-24T00:39:36.908762Z",
     "start_time": "2021-03-24T00:39:36.894755Z"
    }
   },
   "outputs": [
    {
     "name": "stdout",
     "output_type": "stream",
     "text": [
      "tree\n"
     ]
    }
   ],
   "source": [
    "print(tree.name().split('.')[0])"
   ]
  },
  {
   "cell_type": "code",
   "execution_count": 34,
   "id": "comic-douglas",
   "metadata": {
    "ExecuteTime": {
     "end_time": "2021-03-24T00:39:36.923752Z",
     "start_time": "2021-03-24T00:39:36.910752Z"
    }
   },
   "outputs": [
    {
     "name": "stdout",
     "output_type": "stream",
     "text": [
      "['tree', 'lion', 'tiger', 'cat', 'dog']\n"
     ]
    }
   ],
   "source": [
    "entities = [tree, lion, tiger, cat, dog]\n",
    "entity_names = [entity.name().split('.')[0] for entity in entities]\n",
    "print(entity_names)"
   ]
  },
  {
   "cell_type": "code",
   "execution_count": 35,
   "id": "crude-intent",
   "metadata": {
    "ExecuteTime": {
     "end_time": "2021-03-24T00:39:37.002806Z",
     "start_time": "2021-03-24T00:39:36.925752Z"
    }
   },
   "outputs": [
    {
     "name": "stdout",
     "output_type": "stream",
     "text": [
      "0.07142857142857142\n"
     ]
    }
   ],
   "source": [
    "print(entities[0].path_similarity(entities[1], 2))"
   ]
  },
  {
   "cell_type": "code",
   "execution_count": 36,
   "id": "floral-candle",
   "metadata": {
    "ExecuteTime": {
     "end_time": "2021-03-24T00:39:37.018805Z",
     "start_time": "2021-03-24T00:39:37.004806Z"
    }
   },
   "outputs": [
    {
     "name": "stdout",
     "output_type": "stream",
     "text": [
      "0.25\n"
     ]
    }
   ],
   "source": [
    "print(entities[2].path_similarity(entities[3], 2))"
   ]
  },
  {
   "cell_type": "code",
   "execution_count": 37,
   "id": "sophisticated-medicine",
   "metadata": {
    "ExecuteTime": {
     "end_time": "2021-03-24T00:39:37.034806Z",
     "start_time": "2021-03-24T00:39:37.020805Z"
    }
   },
   "outputs": [
    {
     "name": "stdout",
     "output_type": "stream",
     "text": [
      "0.2\n"
     ]
    }
   ],
   "source": [
    "print(entities[3].path_similarity(entities[4], 2))"
   ]
  },
  {
   "cell_type": "code",
   "execution_count": 38,
   "id": "committed-reach",
   "metadata": {
    "ExecuteTime": {
     "end_time": "2021-03-24T00:39:37.050804Z",
     "start_time": "2021-03-24T00:39:37.036805Z"
    }
   },
   "outputs": [
    {
     "name": "stdout",
     "output_type": "stream",
     "text": [
      "[[1.0, 0.07, 0.07, 0.08, 0.12], [0.07, 1.0, 0.33, 0.25, 0.17], [0.07, 0.33, 1.0, 0.25, 0.17], [0.08, 0.25, 0.25, 1.0, 0.2], [0.12, 0.17, 0.17, 0.2, 1.0]]\n"
     ]
    }
   ],
   "source": [
    "# entities[0]으로 나머지 전체 데이터와 유사도 측정 : 결과가 리스트\n",
    "# entities[1]으로 나머지 전체 데이터와 유사도 측정 : 결과가 리스트\n",
    "# entities[2]으로 나머지 전체 데이터와 유사도 측정 : 결과가 리스트\n",
    "# entities[3]으로 나머지 전체 데이터와 유사도 측정 : 결과가 리스트\n",
    "# entities[4]으로 나머지 전체 데이터와 유사도 측정 : 결과가 리스트\n",
    "# 결과 리스트들을 별도의 리스트에 append -> 2차원 \n",
    "\n",
    "similarities = []\n",
    "for entity in entities :\n",
    "    similarity = [round(entity.path_similarity(nestedEntity), 2) for nestedEntity in entities]\n",
    "    similarities.append(similarity)\n",
    "print(similarities)"
   ]
  },
  {
   "cell_type": "code",
   "execution_count": 39,
   "id": "devoted-springfield",
   "metadata": {
    "ExecuteTime": {
     "end_time": "2021-03-24T00:39:37.066804Z",
     "start_time": "2021-03-24T00:39:37.052805Z"
    }
   },
   "outputs": [
    {
     "data": {
      "text/html": [
       "<div>\n",
       "<style scoped>\n",
       "    .dataframe tbody tr th:only-of-type {\n",
       "        vertical-align: middle;\n",
       "    }\n",
       "\n",
       "    .dataframe tbody tr th {\n",
       "        vertical-align: top;\n",
       "    }\n",
       "\n",
       "    .dataframe thead th {\n",
       "        text-align: right;\n",
       "    }\n",
       "</style>\n",
       "<table border=\"1\" class=\"dataframe\">\n",
       "  <thead>\n",
       "    <tr style=\"text-align: right;\">\n",
       "      <th></th>\n",
       "      <th>tree</th>\n",
       "      <th>lion</th>\n",
       "      <th>tiger</th>\n",
       "      <th>cat</th>\n",
       "      <th>dog</th>\n",
       "    </tr>\n",
       "  </thead>\n",
       "  <tbody>\n",
       "    <tr>\n",
       "      <th>tree</th>\n",
       "      <td>1.00</td>\n",
       "      <td>0.07</td>\n",
       "      <td>0.07</td>\n",
       "      <td>0.08</td>\n",
       "      <td>0.12</td>\n",
       "    </tr>\n",
       "    <tr>\n",
       "      <th>lion</th>\n",
       "      <td>0.07</td>\n",
       "      <td>1.00</td>\n",
       "      <td>0.33</td>\n",
       "      <td>0.25</td>\n",
       "      <td>0.17</td>\n",
       "    </tr>\n",
       "    <tr>\n",
       "      <th>tiger</th>\n",
       "      <td>0.07</td>\n",
       "      <td>0.33</td>\n",
       "      <td>1.00</td>\n",
       "      <td>0.25</td>\n",
       "      <td>0.17</td>\n",
       "    </tr>\n",
       "    <tr>\n",
       "      <th>cat</th>\n",
       "      <td>0.08</td>\n",
       "      <td>0.25</td>\n",
       "      <td>0.25</td>\n",
       "      <td>1.00</td>\n",
       "      <td>0.20</td>\n",
       "    </tr>\n",
       "    <tr>\n",
       "      <th>dog</th>\n",
       "      <td>0.12</td>\n",
       "      <td>0.17</td>\n",
       "      <td>0.17</td>\n",
       "      <td>0.20</td>\n",
       "      <td>1.00</td>\n",
       "    </tr>\n",
       "  </tbody>\n",
       "</table>\n",
       "</div>"
      ],
      "text/plain": [
       "       tree  lion  tiger   cat   dog\n",
       "tree   1.00  0.07   0.07  0.08  0.12\n",
       "lion   0.07  1.00   0.33  0.25  0.17\n",
       "tiger  0.07  0.33   1.00  0.25  0.17\n",
       "cat    0.08  0.25   0.25  1.00  0.20\n",
       "dog    0.12  0.17   0.17  0.20  1.00"
      ]
     },
     "execution_count": 39,
     "metadata": {},
     "output_type": "execute_result"
    }
   ],
   "source": [
    "import pandas as pd\n",
    "similarity_df = pd.DataFrame(similarities, columns=entity_names, index=entity_names)\n",
    "similarity_df"
   ]
  },
  {
   "cell_type": "code",
   "execution_count": 40,
   "id": "portable-niagara",
   "metadata": {
    "ExecuteTime": {
     "end_time": "2021-03-24T00:39:37.082803Z",
     "start_time": "2021-03-24T00:39:37.068804Z"
    }
   },
   "outputs": [],
   "source": [
    "import nltk\n",
    "from nltk.corpus import sentiwordnet as swn"
   ]
  },
  {
   "cell_type": "code",
   "execution_count": 41,
   "id": "prime-nightlife",
   "metadata": {
    "ExecuteTime": {
     "end_time": "2021-03-24T00:39:37.098804Z",
     "start_time": "2021-03-24T00:39:37.083804Z"
    }
   },
   "outputs": [
    {
     "name": "stdout",
     "output_type": "stream",
     "text": [
      "father 긍정감성 지수:  0.0\n",
      "father 부정감성 지수:  0.0\n",
      "father 객관성 지수:  1.0\n",
      "\n",
      "fabulous 긍정감성 지수:  0.875\n",
      "fabulous 부정감성 지수:  0.125\n",
      "fabulous 객관성 지수:  0.0\n"
     ]
    }
   ],
   "source": [
    "father = swn.senti_synset('father.n.01')\n",
    "print('father 긍정감성 지수: ', father.pos_score())\n",
    "print('father 부정감성 지수: ', father.neg_score())\n",
    "print('father 객관성 지수: ', father.obj_score())\n",
    "print()\n",
    "fabulous = swn.senti_synset('fabulous.a.01')\n",
    "print('fabulous 긍정감성 지수: ',fabulous.pos_score())\n",
    "print('fabulous 부정감성 지수: ',fabulous.neg_score())\n",
    "print('fabulous 객관성 지수: ',fabulous.obj_score())"
   ]
  },
  {
   "cell_type": "code",
   "execution_count": 42,
   "id": "french-research",
   "metadata": {
    "ExecuteTime": {
     "end_time": "2021-03-24T00:39:37.114802Z",
     "start_time": "2021-03-24T00:39:37.100805Z"
    }
   },
   "outputs": [],
   "source": [
    "from nltk.stem import WordNetLemmatizer\n",
    "from nltk.corpus import sentiwordnet as swn\n",
    "from nltk import sent_tokenize, word_tokenize, pos_tag\n",
    "# pos_tag : 입력 단어에  세부품사를 추출하는 모듈\n",
    "from nltk.corpus import wordnet as wn"
   ]
  },
  {
   "cell_type": "code",
   "execution_count": 43,
   "id": "missing-termination",
   "metadata": {
    "ExecuteTime": {
     "end_time": "2021-03-24T00:39:39.576169Z",
     "start_time": "2021-03-24T00:39:37.116802Z"
    }
   },
   "outputs": [],
   "source": [
    "import pandas as pd\n",
    "import re\n",
    "review_df = pd.read_csv('./labeledTrainData.tsv', header=0, sep='\\t', quoting = 3)\n",
    "review_df['review'] = review_df['review'].str.replace('<br />', ' ')\n",
    "review_df['review'] = review_df['review'].apply(lambda x:re.sub('[^a-zA-Z]',' ',x) )"
   ]
  },
  {
   "cell_type": "code",
   "execution_count": 44,
   "id": "weird-excellence",
   "metadata": {
    "ExecuteTime": {
     "end_time": "2021-03-24T00:39:39.607883Z",
     "start_time": "2021-03-24T00:39:39.577171Z"
    }
   },
   "outputs": [],
   "source": [
    "from sklearn.model_selection import train_test_split\n",
    "class_df = review_df['sentiment']  # target 분리\n",
    "feature_df = review_df.drop(['id','sentiment'], axis=1, inplace=False)\n",
    "X_train, X_test, y_train, y_test= train_test_split(feature_df, class_df, test_size=0.3, random_state=156)"
   ]
  },
  {
   "cell_type": "code",
   "execution_count": 45,
   "id": "caroline-variance",
   "metadata": {
    "ExecuteTime": {
     "end_time": "2021-03-24T00:39:39.623888Z",
     "start_time": "2021-03-24T00:39:39.609873Z"
    }
   },
   "outputs": [],
   "source": [
    "import warnings\n",
    "warnings.filterwarnings('ignore')"
   ]
  },
  {
   "cell_type": "code",
   "execution_count": 46,
   "id": "narrow-laser",
   "metadata": {
    "ExecuteTime": {
     "end_time": "2021-03-24T00:39:39.639888Z",
     "start_time": "2021-03-24T00:39:39.625878Z"
    }
   },
   "outputs": [],
   "source": [
    "# 품사태그를 전달 받아서 해당 품사객체를 리턴하는 함수 제작\n",
    "def penn_to_wn(tag):\n",
    "    if tag.startswith('J'):   # 형용사\n",
    "        return wn.ADJ\n",
    "    elif tag.startswith('N'):  # 명사\n",
    "        return wn.NOUN\n",
    "    elif tag.startswith('R'):  # 부사\n",
    "        return wn.ADV\n",
    "    elif tag.startswith('V'):   # 동사\n",
    "        return wn.VERB\n",
    "    return "
   ]
  },
  {
   "cell_type": "code",
   "execution_count": 47,
   "id": "concrete-ethics",
   "metadata": {
    "ExecuteTime": {
     "end_time": "2021-03-24T00:39:39.655904Z",
     "start_time": "2021-03-24T00:39:39.641878Z"
    }
   },
   "outputs": [],
   "source": [
    "# 문장을 전달인수로 받고, 부정감성지수와 긍정감성지수의 연산으로 결정된\n",
    "# 0 또는 1을 리턴하는 함수 제작\n",
    "def swn_polarity(text):   # text 에는 문장이 전달 : review_df['review'][0]\n",
    "    # 0 또는 1 의 값을 결정할 감성지수를 저장할 변수 생성 & 초기화\n",
    "    sentiment = 0.0\n",
    "    tokens_count = 0\n",
    "    \n",
    "    # 단어의 어원(표준형)을 찾아줄 객체 생성\n",
    "    lemmatizer = WordNetLemmatizer()\n",
    "    \n",
    "    # 전달된 text 를 문장별로 분리\n",
    "    raw_sentences = sent_tokenize(text)\n",
    "    \n",
    "    for rs in raw_sentences:\n",
    "        ts = pos_tag( word_tokenize(rs) )\n",
    "        for word, tag in ts:\n",
    "            wn_tag = penn_to_wn(tag)\n",
    "            if wn_tag not in (wn.NOUN , wn.ADJ, wn.ADV):\n",
    "                continue # 명사 형용사 동사 아니면 다음단어 : 필요없는 품사제외\n",
    "            # 단어의 어근(표준형) 추출\n",
    "            lemma = lemmatizer.lemmatize(word, pos=wn_tag)    \n",
    "            # 어근을 추출한 단어와 WordNet 기반 품사 태깅을 입력해 Synset 객체를 생성. \n",
    "            synsets = wn.synsets(lemma , pos=wn_tag)\n",
    "            if not synsets:  # 생성한 synset 리스트가 비었으면 다음\n",
    "                continue\n",
    "            # sentiwordnet의 감성 단어 분석으로 감성 synset 추출\n",
    "            # 모든 단어에 대해 긍정 감성 지수는 +로 \n",
    "            # 부정 감성 지수는 -로 합산해 감성 지수 계산. \n",
    "            synset = synsets[0]\n",
    "            swn_synset = swn.senti_synset(synset.name())\n",
    "            sentiment += (swn_synset.pos_score() - swn_synset.neg_score())           \n",
    "            tokens_count += 1\n",
    "    if not tokens_count:\n",
    "        return 0\n",
    "    # 총 score가 0 이상일 경우 긍정(Positive) 1, 그렇지 않을 경우 부정(Negative) 0 \n",
    "    if sentiment >= 0 :\n",
    "        return 1\n",
    "    return 0"
   ]
  },
  {
   "cell_type": "markdown",
   "id": "continuing-machinery",
   "metadata": {},
   "source": [
    "- NNP: 단수 고유명사\n",
    "- VB: 동사\n",
    "- VBP: 동사 현재형\n",
    "- TO: to 전치사\n",
    "- NN: 명사(단수형 혹은 집합형)\n",
    "- DT: 관형사\n",
    "- RB : 부사"
   ]
  },
  {
   "cell_type": "code",
   "execution_count": 48,
   "id": "meaningful-sample",
   "metadata": {
    "ExecuteTime": {
     "end_time": "2021-03-24T00:44:18.217606Z",
     "start_time": "2021-03-24T00:39:39.657905Z"
    }
   },
   "outputs": [],
   "source": [
    "review_df['preds'] = review_df['review'].apply( lambda x : swn_polarity(x) )"
   ]
  },
  {
   "cell_type": "code",
   "execution_count": 49,
   "id": "pursuant-tracy",
   "metadata": {
    "ExecuteTime": {
     "end_time": "2021-03-24T00:44:18.233600Z",
     "start_time": "2021-03-24T00:44:18.219591Z"
    }
   },
   "outputs": [],
   "source": [
    "y_target = review_df['sentiment'].values   # 실제값\n",
    "preds = review_df['preds'].values   # 예측값"
   ]
  },
  {
   "cell_type": "code",
   "execution_count": 50,
   "id": "south-detection",
   "metadata": {
    "ExecuteTime": {
     "end_time": "2021-03-24T00:44:18.280308Z",
     "start_time": "2021-03-24T00:44:18.235589Z"
    }
   },
   "outputs": [
    {
     "name": "stdout",
     "output_type": "stream",
     "text": [
      "오차행렬:\n",
      "[[7668 4832]\n",
      " [3636 8864]]\n",
      "정확도: 0.66128\n",
      "정밀도: 0.647196261682243\n",
      "재현율: 0.70912\n"
     ]
    }
   ],
   "source": [
    "from sklearn.metrics import accuracy_score, confusion_matrix, precision_score \n",
    "from sklearn.metrics import recall_score, f1_score, roc_auc_score\n",
    "\n",
    "print(\"오차행렬:\")\n",
    "print(confusion_matrix( y_target, preds))\n",
    "print(\"정확도:\", accuracy_score(y_target , preds))\n",
    "print(\"정밀도:\", precision_score(y_target , preds))\n",
    "print(\"재현율:\", recall_score(y_target, preds))"
   ]
  },
  {
   "cell_type": "code",
   "execution_count": null,
   "id": "handy-galaxy",
   "metadata": {},
   "outputs": [],
   "source": []
  },
  {
   "cell_type": "code",
   "execution_count": null,
   "id": "turkish-appearance",
   "metadata": {},
   "outputs": [],
   "source": []
  },
  {
   "cell_type": "code",
   "execution_count": 51,
   "id": "assigned-jackson",
   "metadata": {
    "ExecuteTime": {
     "end_time": "2021-03-24T00:44:18.295559Z",
     "start_time": "2021-03-24T00:44:18.282281Z"
    }
   },
   "outputs": [],
   "source": [
    "from nltk.sentiment.vader import SentimentIntensityAnalyzer"
   ]
  },
  {
   "cell_type": "code",
   "execution_count": 52,
   "id": "quick-poetry",
   "metadata": {
    "ExecuteTime": {
     "end_time": "2021-03-24T00:44:18.342925Z",
     "start_time": "2021-03-24T00:44:18.296568Z"
    }
   },
   "outputs": [
    {
     "name": "stdout",
     "output_type": "stream",
     "text": [
      "{'neg': 0.061, 'neu': 0.866, 'pos': 0.072, 'compound': 0.4893}\n"
     ]
    }
   ],
   "source": [
    "senti_analyzer = SentimentIntensityAnalyzer()\n",
    "senti_scores = senti_analyzer.polarity_scores(review_df['review'][3])\n",
    "print(senti_scores)"
   ]
  },
  {
   "cell_type": "code",
   "execution_count": 53,
   "id": "figured-assumption",
   "metadata": {
    "ExecuteTime": {
     "end_time": "2021-03-24T00:44:18.358087Z",
     "start_time": "2021-03-24T00:44:18.347187Z"
    }
   },
   "outputs": [],
   "source": [
    "def vader_polarity(review, threshold=0.1):\n",
    "    analyzer = SentimentIntensityAnalyzer()\n",
    "    scores = analyzer.polarity_scores(review)\n",
    "    \n",
    "    # compound 값에 기반하여 threshold 입력값보다 크면 1, 그렇지않으면 0을 반환\n",
    "    agg_score = scores['compound']\n",
    "    final_sentiment = 1 if agg_score >= threshold else 0\n",
    "    return final_sentiment"
   ]
  },
  {
   "cell_type": "code",
   "execution_count": 54,
   "id": "checked-trunk",
   "metadata": {
    "ExecuteTime": {
     "end_time": "2021-03-24T00:48:00.839385Z",
     "start_time": "2021-03-24T00:44:18.361089Z"
    }
   },
   "outputs": [],
   "source": [
    "review_df['vader_preds'] = review_df['review'].apply(lambda x : vader_polarity(x, 0.1))\n",
    "y_target = review_df['sentiment'].values\n",
    "vader_preds = review_df['vader_preds'].values"
   ]
  },
  {
   "cell_type": "code",
   "execution_count": 55,
   "id": "loose-business",
   "metadata": {
    "ExecuteTime": {
     "end_time": "2021-03-24T00:48:00.886354Z",
     "start_time": "2021-03-24T00:48:00.841359Z"
    }
   },
   "outputs": [
    {
     "name": "stdout",
     "output_type": "stream",
     "text": [
      "#### VADER 예측 성능 평가 ####\n",
      "[[ 6729  5771]\n",
      " [ 1858 10642]]\n",
      "정확도 :  0.69484\n",
      "정밀도 :  0.6483884725522452\n",
      "재현율 :  0.85136\n"
     ]
    }
   ],
   "source": [
    "print('#### VADER 예측 성능 평가 ####')\n",
    "from sklearn.metrics import accuracy_score, confusion_matrix, precision_score\n",
    "from sklearn.metrics import recall_score, f1_score, roc_auc_score\n",
    "print(confusion_matrix(y_target, vader_preds))\n",
    "print(\"정확도 : \", accuracy_score(y_target, vader_preds))\n",
    "print(\"정밀도 : \", precision_score(y_target, vader_preds))\n",
    "print(\"재현율 : \", recall_score(y_target, vader_preds))"
   ]
  }
 ],
 "metadata": {
  "hide_input": false,
  "kernelspec": {
   "display_name": "Python 3",
   "language": "python",
   "name": "python3"
  },
  "language_info": {
   "codemirror_mode": {
    "name": "ipython",
    "version": 3
   },
   "file_extension": ".py",
   "mimetype": "text/x-python",
   "name": "python",
   "nbconvert_exporter": "python",
   "pygments_lexer": "ipython3",
   "version": "3.8.5"
  },
  "toc": {
   "base_numbering": 1,
   "nav_menu": {},
   "number_sections": true,
   "sideBar": true,
   "skip_h1_title": false,
   "title_cell": "Table of Contents",
   "title_sidebar": "Contents",
   "toc_cell": false,
   "toc_position": {
    "height": "829px",
    "left": "42px",
    "top": "47px",
    "width": "383.594px"
   },
   "toc_section_display": true,
   "toc_window_display": false
  },
  "varInspector": {
   "cols": {
    "lenName": 16,
    "lenType": 16,
    "lenVar": 40
   },
   "kernels_config": {
    "python": {
     "delete_cmd_postfix": "",
     "delete_cmd_prefix": "del ",
     "library": "var_list.py",
     "varRefreshCmd": "print(var_dic_list())"
    },
    "r": {
     "delete_cmd_postfix": ") ",
     "delete_cmd_prefix": "rm(",
     "library": "var_list.r",
     "varRefreshCmd": "cat(var_dic_list()) "
    }
   },
   "types_to_exclude": [
    "module",
    "function",
    "builtin_function_or_method",
    "instance",
    "_Feature"
   ],
   "window_display": false
  }
 },
 "nbformat": 4,
 "nbformat_minor": 5
}
