{
 "cells": [
  {
   "cell_type": "markdown",
   "id": "amateur-clarity",
   "metadata": {},
   "source": [
    "- 코사인 유사도 반환 함수 생성"
   ]
  },
  {
   "cell_type": "code",
   "execution_count": 1,
   "id": "reported-viking",
   "metadata": {
    "ExecuteTime": {
     "end_time": "2021-03-24T05:59:43.212317Z",
     "start_time": "2021-03-24T05:59:43.195315Z"
    }
   },
   "outputs": [],
   "source": [
    "import numpy as np\n",
    "def cos_similarity(v1, v2) :\n",
    "    dot_product = np.dot(v1, v2) # 행렬의 내적\n",
    "    # 각 행렬(v1, v2)을 제곱하고 모두 더한 값의 제곱근 계산후 둘을 곱합니다.\n",
    "    l2_norm = (np.sqrt(sum(np.square(v1))) * np.sqrt(sum(np.square(v2))))\n",
    "    \n",
    "    # 위 두 연산의 결과로 유사도를 최종 계산합니다.\n",
    "    similarity = dot_product / l2_norm\n",
    "    return similarity"
   ]
  },
  {
   "cell_type": "markdown",
   "id": "meaningful-vessel",
   "metadata": {},
   "source": [
    "### TF-IDF 벡터화 후 코사인 유사도 비교"
   ]
  },
  {
   "cell_type": "code",
   "execution_count": 2,
   "id": "supported-somerset",
   "metadata": {
    "ExecuteTime": {
     "end_time": "2021-03-24T06:02:09.375712Z",
     "start_time": "2021-03-24T06:02:09.361723Z"
    }
   },
   "outputs": [],
   "source": [
    "from sklearn.feature_extraction.text import TfidfVectorizer\n",
    "\n",
    "doc_list = [\n",
    "    'if you take the blue pill, the story ends',\n",
    "    'if you take the red pill, you stay in Winderland',\n",
    "    'if you take the red pill, i show you how deep the rabbit hole goes'\n",
    "]"
   ]
  },
  {
   "cell_type": "code",
   "execution_count": 3,
   "id": "final-interpretation",
   "metadata": {
    "ExecuteTime": {
     "end_time": "2021-03-24T06:03:19.334706Z",
     "start_time": "2021-03-24T06:03:19.323707Z"
    }
   },
   "outputs": [
    {
     "name": "stdout",
     "output_type": "stream",
     "text": [
      "(3, 18)\n",
      "  (0, 2)\t0.41556360057939173\n",
      "  (0, 13)\t0.41556360057939173\n",
      "  (0, 8)\t0.24543855687841593\n",
      "  (0, 0)\t0.41556360057939173\n",
      "  (0, 15)\t0.49087711375683185\n",
      "  (0, 14)\t0.24543855687841593\n",
      "  (0, 17)\t0.24543855687841593\n",
      "  (0, 6)\t0.24543855687841593\n",
      "  (1, 16)\t0.39624495215024286\n",
      "  (1, 7)\t0.39624495215024286\n",
      "  (1, 12)\t0.39624495215024286\n",
      "  (1, 10)\t0.3013544995034864\n",
      "  (1, 8)\t0.2340286519091622\n",
      "  (1, 15)\t0.2340286519091622\n",
      "  (1, 14)\t0.2340286519091622\n",
      "  (1, 17)\t0.4680573038183244\n",
      "  (1, 6)\t0.2340286519091622\n",
      "  (2, 3)\t0.3098560092999078\n",
      "  (2, 4)\t0.3098560092999078\n",
      "  (2, 9)\t0.3098560092999078\n",
      "  (2, 1)\t0.3098560092999078\n",
      "  (2, 5)\t0.3098560092999078\n",
      "  (2, 11)\t0.3098560092999078\n",
      "  (2, 10)\t0.23565348175165166\n",
      "  (2, 8)\t0.1830059506093466\n",
      "  (2, 15)\t0.3660119012186932\n",
      "  (2, 14)\t0.1830059506093466\n",
      "  (2, 17)\t0.3660119012186932\n",
      "  (2, 6)\t0.1830059506093466\n"
     ]
    }
   ],
   "source": [
    "tfidf_vect_simple = TfidfVectorizer()\n",
    "feature_vect_simple = tfidf_vect_simple.fit_transform(doc_list)\n",
    "print(feature_vect_simple.shape)\n",
    "print(feature_vect_simple)"
   ]
  },
  {
   "cell_type": "code",
   "execution_count": null,
   "id": "negative-mambo",
   "metadata": {},
   "outputs": [],
   "source": []
  }
 ],
 "metadata": {
  "hide_input": false,
  "kernelspec": {
   "display_name": "Python 3",
   "language": "python",
   "name": "python3"
  },
  "language_info": {
   "codemirror_mode": {
    "name": "ipython",
    "version": 3
   },
   "file_extension": ".py",
   "mimetype": "text/x-python",
   "name": "python",
   "nbconvert_exporter": "python",
   "pygments_lexer": "ipython3",
   "version": "3.8.5"
  },
  "toc": {
   "base_numbering": 1,
   "nav_menu": {},
   "number_sections": true,
   "sideBar": true,
   "skip_h1_title": false,
   "title_cell": "Table of Contents",
   "title_sidebar": "Contents",
   "toc_cell": false,
   "toc_position": {},
   "toc_section_display": true,
   "toc_window_display": true
  },
  "varInspector": {
   "cols": {
    "lenName": 16,
    "lenType": 16,
    "lenVar": 40
   },
   "kernels_config": {
    "python": {
     "delete_cmd_postfix": "",
     "delete_cmd_prefix": "del ",
     "library": "var_list.py",
     "varRefreshCmd": "print(var_dic_list())"
    },
    "r": {
     "delete_cmd_postfix": ") ",
     "delete_cmd_prefix": "rm(",
     "library": "var_list.r",
     "varRefreshCmd": "cat(var_dic_list()) "
    }
   },
   "types_to_exclude": [
    "module",
    "function",
    "builtin_function_or_method",
    "instance",
    "_Feature"
   ],
   "window_display": false
  }
 },
 "nbformat": 4,
 "nbformat_minor": 5
}
